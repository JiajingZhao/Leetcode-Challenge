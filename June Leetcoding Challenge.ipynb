{
 "cells": [
  {
   "cell_type": "code",
   "execution_count": 1,
   "metadata": {},
   "outputs": [],
   "source": [
    "from IPython.core.interactiveshell import InteractiveShell\n",
    "InteractiveShell.ast_node_interactivity = \"all\""
   ]
  },
  {
   "cell_type": "markdown",
   "metadata": {},
   "source": [
    "# 1. Invert Binary Tree - Invert a binary tree\n",
    "\n",
    "### Idea:\n",
    "- top - down: search\n",
    "- bottom - up: invert"
   ]
  },
  {
   "cell_type": "code",
   "execution_count": null,
   "metadata": {},
   "outputs": [],
   "source": [
    "# Definition for a binary tree node.\n",
    "# class TreeNode:\n",
    "#     def __init__(self, val=0, left=None, right=None):\n",
    "#         self.val = val\n",
    "#         self.left = left\n",
    "#         self.right = right\n",
    "class Solution:\n",
    "    def invertTree(self, root: TreeNode) -> TreeNode:\n",
    "        if not root:\n",
    "            return root\n",
    "        root.left, root.right = self.invertTree(root.right), self.invertTree(root.left)\n",
    "        return root"
   ]
  },
  {
   "cell_type": "code",
   "execution_count": null,
   "metadata": {},
   "outputs": [],
   "source": [
    "# Definition for a binary tree node.\n",
    "# class TreeNode:\n",
    "#     def __init__(self, val=0, left=None, right=None):\n",
    "#         self.val = val\n",
    "#         self.left = left\n",
    "#         self.right = right\n",
    "class Solution:\n",
    "    def invertTree(self, root: TreeNode) -> TreeNode:\n",
    "        if not root:\n",
    "            return root\n",
    "        temp = root.left\n",
    "        root.left = self.invertTree(root.right)\n",
    "        root.right = self.invertTree(temp)\n",
    "        return root"
   ]
  },
  {
   "cell_type": "markdown",
   "metadata": {},
   "source": [
    "# 2. Delete Node in a Linked List\n",
    "\n",
    "Write a function to delete a node (except the tail) in a singly linked list, given only access to that node.  \n",
    "Given linked list -- head = [4,5,1,9], which looks like following:\n",
    "\n",
    "Example 1:  \n",
    "Input: head = [4,5,1,9], node = 5  \n",
    "Output: [4,1,9]  \n",
    "Explanation: You are given the second node with value 5, the linked list should become 4 -> 1 -> 9 after calling your function.\n",
    "\n",
    "Example 2:  \n",
    "Input: head = [4,5,1,9], node = 1  \n",
    "Output: [4,5,9]  \n",
    "Explanation: You are given the third node with value 1, the linked list should become 4 -> 5 -> 9 after calling your function.\n",
    "\n",
    "### Idea\n",
    "- 一般删除一个节点是通过上一个节点来操作.\n",
    "- 现在只给了当前节点，那么只能将后一节点的值赋给当前节点，将后一节点删掉，则相当于删掉了“当前节点”。"
   ]
  },
  {
   "cell_type": "code",
   "execution_count": null,
   "metadata": {},
   "outputs": [],
   "source": [
    "# Definition for singly-linked list.\n",
    "# class ListNode:\n",
    "#     def __init__(self, x):\n",
    "#         self.val = x\n",
    "#         self.next = None\n",
    "\n",
    "class Solution:\n",
    "    def deleteNode(self, node):\n",
    "        \"\"\"\n",
    "        :type node: ListNode\n",
    "        :rtype: void Do not return anything, modify node in-place instead.\n",
    "        \"\"\"\n",
    "        node.val = node.next.val\n",
    "        node.next = node.next.next"
   ]
  },
  {
   "cell_type": "markdown",
   "metadata": {},
   "source": [
    "#  3. Two City Scheduling\n",
    "\n",
    "There are 2N people a company is planning to interview. The cost of flying the i-th person to city A is costs[i][0], and the cost of flying the i-th person to city B is costs[i][1].  \n",
    "Return the minimum cost to fly every person to a city such that exactly N people arrive in each city.\n",
    "\n",
    "Example 1:  \n",
    "Input: [[10,20],[30,200],[400,50],[30,20]]  \n",
    "Output: 110  \n",
    "Explanation:     \n",
    "The first person goes to city A for a cost of 10. \n",
    "The second person goes to city A for a cost of 30.  \n",
    "The third person goes to city B for a cost of 50.  \n",
    "The fourth person goes to city B for a cost of 20.\n",
    "\n",
    "The total minimum cost is 10 + 30 + 50 + 20 = 110 to have half the people interviewing in each city.\n",
    "\n",
    "### Idea:\n",
    "- 比较去a城和b城的差值，差值负得越多，说明去a城比去b城越划算，正得越多则反之。\n",
    "- 排序，前N//2个，去a城，其他去b城。"
   ]
  },
  {
   "cell_type": "code",
   "execution_count": 32,
   "metadata": {},
   "outputs": [
    {
     "data": {
      "text/plain": [
       "110"
      ]
     },
     "execution_count": 32,
     "metadata": {},
     "output_type": "execute_result"
    }
   ],
   "source": [
    "def twoCitySchedCost(costs) -> int:\n",
    "    N = len(costs)\n",
    "    diff_AB = [ cost[0]-cost[1] for cost in costs] #A-B\n",
    "    indices =  sorted(range(0,N), key=lambda k:diff[k])\n",
    "    result = 0\n",
    "    for i in range(N//2):\n",
    "        result += costs[indices[i]][0]\n",
    "    for i in range(N//2,N):\n",
    "        result += costs[indices[i]][1]\n",
    "    return result    \n",
    "\n",
    "costs = [[10,20],[30,200],[400,50],[30,20]] \n",
    "twoCitySchedCost(costs)"
   ]
  },
  {
   "cell_type": "markdown",
   "metadata": {},
   "source": [
    "# 4. Reverse String\n",
    "\n",
    "Write a function that reverses a string. The input string is given as an array of characters char[].  \n",
    "Do not allocate extra space for another array, you must do this **by modifying the input array in-place with O(1) extra memory**.  \n",
    "You may assume all the characters consist of printable ascii characters.\n",
    "\n",
    "Example 1:  \n",
    "Input: [\"h\",\"e\",\"l\",\"l\",\"o\"]  \n",
    "Output: [\"o\",\"l\",\"l\",\"e\",\"h\"]  \n",
    "\n",
    "Example 2:  \n",
    "Input: [\"H\",\"a\",\"n\",\"n\",\"a\",\"h\"]  \n",
    "Output: [\"h\",\"a\",\"n\",\"n\",\"a\",\"H\"]  \n",
    "\n",
    "Hide Hint 1: The entire logic for reversing a string is based on using the opposite directional two-pointer approach!"
   ]
  },
  {
   "cell_type": "code",
   "execution_count": 5,
   "metadata": {},
   "outputs": [
    {
     "data": {
      "text/plain": [
       "['o', 'l', 'l', 'e', 'h']"
      ]
     },
     "execution_count": 5,
     "metadata": {},
     "output_type": "execute_result"
    }
   ],
   "source": [
    "def reverseString(s) -> None:\n",
    "    for i in range(len(s)//2):\n",
    "        s[i], s[-i-1] = s[-i-1], s[i]\n",
    "    return s\n",
    "\n",
    "s =  [\"h\",\"e\",\"l\",\"l\",\"o\"]\n",
    "reverseString(s)"
   ]
  },
  {
   "cell_type": "markdown",
   "metadata": {},
   "source": [
    "# 5. Random Pick with Weight - 528\n",
    "\n",
    "Given an array w of positive integers, where w[i] describes the weight of index i, write a function pickIndex which randomly picks an index in proportion to its weight.\n",
    "\n",
    "Note:  \n",
    "1 <= w.length <= 10000  \n",
    "1 <= w[i] <= 10^5  \n",
    "pickIndex will be called at most 10000 times.  \n",
    "\n",
    "Example 1:  \n",
    "Input:   \n",
    "[\"Solution\",\"pickIndex\"]  \n",
    "[[[1]],[]]  \n",
    "Output: [null,0]\n",
    "\n",
    "Example 2:  \n",
    "Input:   \n",
    "[\"Solution\",\"pickIndex\",\"pickIndex\",\"pickIndex\",\"pickIndex\",\"pickIndex\"]\n",
    "[[[1,3]],[],[],[],[],[]]  \n",
    "Output: [null,0,1,1,1,0]  \n",
    "Explanation of Input Syntax:    \n",
    "The input is two lists:    \n",
    "the subroutines called and their arguments. Solution's constructor has one argument,   \n",
    "the array w. pickIndex has no arguments. Arguments are always wrapped with a list, even if there aren't any.\n",
    "\n",
    "题目大意：\n",
    "要求按照权重挑选索引。比如[1,99]中，有1%的概率挑选到索引0，有99%的概率挑选到索引1.\n",
    "\n",
    "### Idea:\n",
    "- 把概率分布函数转化为累计概率分布函数。然后通过随机数，进行二分查找。\n",
    "- 比如，输入是[1,2,3,4]，那么概率分布是[1/10, 2/10, 3/10, 4/10, 5/10]，累积概率分布是[1/10, 3/10, 6/10, 10/10].总和是10。如果我们产生一个随机数，在1~10之中，然后判断这个数字在哪个区间中就能得到对应的索引。对于输入[1,2,3,4]，计算出来的preSum是[1,3,6,10]，然后随机选一个s， rand() % 10,可以随机出范围 [0, 9],随机到 0 则为第一个点，随机到 1，2，3 则为第二个点，随机到 4，5,6 则为第三个点，所以我们随机出一个数字x后，然后再累加和数组中查找第一个大于随机数x的数字，使用二分查找法可以找到第一个大于随机数x的数字的坐标."
   ]
  },
  {
   "cell_type": "code",
   "execution_count": null,
   "metadata": {},
   "outputs": [],
   "source": [
    "class Solution:\n",
    "\n",
    "    def __init__(self, w: List[int]):\n",
    "        self.preSum = [0] * len(w)  #define preSum - cdf\n",
    "        self.preSum[0] = w[0]\n",
    "        for i in range(1, len(w)):\n",
    "            self.preSum[i] = self.preSum[i - 1] + w[i] \n",
    "\n",
    "\n",
    "    def pickIndex(self) -> int:\n",
    "        total = self.preSum[-1]\n",
    "        rand = random.randint(0, total - 1)\n",
    "        left, right = 0, len(self.preSum) - 1\n",
    "        while left <= right:\n",
    "            mid = (left + right) // 2\n",
    "            if rand >= self.preSum[mid]:\n",
    "                left = mid + 1\n",
    "            else:\n",
    "                right = mid - 1\n",
    "        if rand < self.preSum[left]:\n",
    "            return left\n",
    "        return right\n",
    "    \n",
    "# Your Solution object will be instantiated and called as such:\n",
    "# obj = Solution(w)\n",
    "# param_1 = obj.pickIndex()"
   ]
  },
  {
   "cell_type": "markdown",
   "metadata": {},
   "source": [
    "# 6. Queue Reconstruction by Height - 406\n",
    "\n",
    "Suppose you have a random list of people standing in a queue. Each person is described by a pair of integers (h, k), where h is the height of the person and k is the number of people in front of this person who have a height greater than or equal to h. Write an algorithm to reconstruct the queue.\n",
    "\n",
    "Note:\n",
    "The number of people is less than 1,100.\n",
    "\n",
    "Example  \n",
    "Input:\n",
    "[[7,0], [4,4], [7,1], [5,0], [6,1], [5,2]]    \n",
    "Output:\n",
    "[[5,0], [7,0], [5,2], [6,1], [4,4], [7,1]]\n",
    "\n",
    "Hide Hint #1  \n",
    "What can you say about the position of the shortest person?\n",
    "If the position of the shortest person is i, how many people would be in front of the shortest person?  \n",
    "Hide Hint #2  \n",
    "Once you fix the position of the shortest person, what can you say about the position of the second shortest person?\n",
    "\n",
    "### Idea:\n",
    "reconstruction of the queue to satisfy the k from ech person [h,k]\n",
    "- 1. ranking according to the height descending, if same height, according to \"k\" ascending. **2 conditions sorting**\n",
    "- 2. for loop to insert it to the k-th position."
   ]
  },
  {
   "cell_type": "code",
   "execution_count": 30,
   "metadata": {},
   "outputs": [
    {
     "data": {
      "text/plain": [
       "[[7, 0], [5, 0], [7, 1], [6, 1], [4, 4], [5, 2]]"
      ]
     },
     "execution_count": 30,
     "metadata": {},
     "output_type": "execute_result"
    }
   ],
   "source": [
    "def reconstructQueue(people):\n",
    "    people.sort(key=lambda x:(-x[0],x[1]),reverse=True)\n",
    "    result = []\n",
    "    for person in people:\n",
    "        result.insert(person[1],person)\n",
    "    return result\n",
    "\n",
    "people = [[7,0], [4,4], [7,1], [5,0], [6,1], [5,2]]\n",
    "reconstructQueue(people)"
   ]
  }
 ],
 "metadata": {
  "kernelspec": {
   "display_name": "Python 3",
   "language": "python",
   "name": "python3"
  },
  "language_info": {
   "codemirror_mode": {
    "name": "ipython",
    "version": 3
   },
   "file_extension": ".py",
   "mimetype": "text/x-python",
   "name": "python",
   "nbconvert_exporter": "python",
   "pygments_lexer": "ipython3",
   "version": "3.6.9"
  }
 },
 "nbformat": 4,
 "nbformat_minor": 2
}

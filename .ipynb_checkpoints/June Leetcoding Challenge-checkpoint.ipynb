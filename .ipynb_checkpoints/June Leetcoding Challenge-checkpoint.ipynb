{
 "cells": [
  {
   "cell_type": "code",
   "execution_count": 1,
   "metadata": {},
   "outputs": [],
   "source": [
    "from IPython.core.interactiveshell import InteractiveShell\n",
    "InteractiveShell.ast_node_interactivity = \"all\""
   ]
  },
  {
   "cell_type": "markdown",
   "metadata": {},
   "source": [
    "# 1. Invert Binary Tree - Invert a binary tree\n",
    "\n",
    "### Idea:\n",
    "- top - down: search\n",
    "- bottom - up: invert"
   ]
  },
  {
   "cell_type": "code",
   "execution_count": null,
   "metadata": {},
   "outputs": [],
   "source": [
    "# Definition for a binary tree node.\n",
    "# class TreeNode:\n",
    "#     def __init__(self, val=0, left=None, right=None):\n",
    "#         self.val = val\n",
    "#         self.left = left\n",
    "#         self.right = right\n",
    "class Solution:\n",
    "    def invertTree(self, root: TreeNode) -> TreeNode:\n",
    "        if not root:\n",
    "            return root\n",
    "        root.left, root.right = self.invertTree(root.right), self.invertTree(root.left)\n",
    "        return root"
   ]
  },
  {
   "cell_type": "code",
   "execution_count": null,
   "metadata": {},
   "outputs": [],
   "source": [
    "# Definition for a binary tree node.\n",
    "# class TreeNode:\n",
    "#     def __init__(self, val=0, left=None, right=None):\n",
    "#         self.val = val\n",
    "#         self.left = left\n",
    "#         self.right = right\n",
    "class Solution:\n",
    "    def invertTree(self, root: TreeNode) -> TreeNode:\n",
    "        if not root:\n",
    "            return root\n",
    "        temp = root.left\n",
    "        root.left = self.invertTree(root.right)\n",
    "        root.right = self.invertTree(temp)\n",
    "        return root"
   ]
  },
  {
   "cell_type": "markdown",
   "metadata": {},
   "source": [
    "# 2. Delete Node in a Linked List\n",
    "\n",
    "Write a function to delete a node (except the tail) in a singly linked list, given only access to that node.  \n",
    "Given linked list -- head = [4,5,1,9], which looks like following:\n",
    "\n",
    "Example 1:  \n",
    "Input: head = [4,5,1,9], node = 5  \n",
    "Output: [4,1,9]  \n",
    "Explanation: You are given the second node with value 5, the linked list should become 4 -> 1 -> 9 after calling your function.\n",
    "\n",
    "Example 2:  \n",
    "Input: head = [4,5,1,9], node = 1  \n",
    "Output: [4,5,9]  \n",
    "Explanation: You are given the third node with value 1, the linked list should become 4 -> 5 -> 9 after calling your function.\n",
    "\n",
    "### Idea\n",
    "- 一般删除一个节点是通过上一个节点来操作.\n",
    "- 现在只给了当前节点，那么只能将后一节点的值赋给当前节点，将后一节点删掉，则相当于删掉了“当前节点”。"
   ]
  },
  {
   "cell_type": "code",
   "execution_count": null,
   "metadata": {},
   "outputs": [],
   "source": [
    "# Definition for singly-linked list.\n",
    "# class ListNode:\n",
    "#     def __init__(self, x):\n",
    "#         self.val = x\n",
    "#         self.next = None\n",
    "\n",
    "class Solution:\n",
    "    def deleteNode(self, node):\n",
    "        \"\"\"\n",
    "        :type node: ListNode\n",
    "        :rtype: void Do not return anything, modify node in-place instead.\n",
    "        \"\"\"\n",
    "        node.val = node.next.val\n",
    "        node.next = node.next.next"
   ]
  },
  {
   "cell_type": "markdown",
   "metadata": {},
   "source": [
    "#  3. Two City Scheduling\n",
    "\n",
    "There are 2N people a company is planning to interview. The cost of flying the i-th person to city A is costs[i][0], and the cost of flying the i-th person to city B is costs[i][1].  \n",
    "Return the minimum cost to fly every person to a city such that exactly N people arrive in each city.\n",
    "\n",
    "Example 1:  \n",
    "Input: [[10,20],[30,200],[400,50],[30,20]]  \n",
    "Output: 110  \n",
    "Explanation:     \n",
    "The first person goes to city A for a cost of 10. \n",
    "The second person goes to city A for a cost of 30.  \n",
    "The third person goes to city B for a cost of 50.  \n",
    "The fourth person goes to city B for a cost of 20.\n",
    "\n",
    "The total minimum cost is 10 + 30 + 50 + 20 = 110 to have half the people interviewing in each city.\n",
    "\n",
    "### Idea:\n",
    "- 比较去a城和b城的差值，差值负得越多，说明去a城比去b城越划算，正得越多则反之。\n",
    "- 排序，前N//2个，去a城，其他去b城。"
   ]
  },
  {
   "cell_type": "code",
   "execution_count": 32,
   "metadata": {},
   "outputs": [
    {
     "data": {
      "text/plain": [
       "110"
      ]
     },
     "execution_count": 32,
     "metadata": {},
     "output_type": "execute_result"
    }
   ],
   "source": [
    "def twoCitySchedCost(costs) -> int:\n",
    "    N = len(costs)\n",
    "    diff_AB = [ cost[0]-cost[1] for cost in costs] #A-B\n",
    "    indices =  sorted(range(0,N), key=lambda k:diff[k])\n",
    "    result = 0\n",
    "    for i in range(N//2):\n",
    "        result += costs[indices[i]][0]\n",
    "    for i in range(N//2,N):\n",
    "        result += costs[indices[i]][1]\n",
    "    return result    \n",
    "\n",
    "costs = [[10,20],[30,200],[400,50],[30,20]] \n",
    "twoCitySchedCost(costs)"
   ]
  },
  {
   "cell_type": "markdown",
   "metadata": {},
   "source": [
    "# 4. Reverse String\n",
    "\n",
    "Write a function that reverses a string. The input string is given as an array of characters char[].  \n",
    "Do not allocate extra space for another array, you must do this **by modifying the input array in-place with O(1) extra memory**.  \n",
    "You may assume all the characters consist of printable ascii characters.\n",
    "\n",
    "Example 1:  \n",
    "Input: [\"h\",\"e\",\"l\",\"l\",\"o\"]  \n",
    "Output: [\"o\",\"l\",\"l\",\"e\",\"h\"]  \n",
    "\n",
    "Example 2:  \n",
    "Input: [\"H\",\"a\",\"n\",\"n\",\"a\",\"h\"]  \n",
    "Output: [\"h\",\"a\",\"n\",\"n\",\"a\",\"H\"]  \n",
    "\n",
    "Hide Hint 1: The entire logic for reversing a string is based on using the opposite directional two-pointer approach!"
   ]
  },
  {
   "cell_type": "code",
   "execution_count": 5,
   "metadata": {},
   "outputs": [
    {
     "data": {
      "text/plain": [
       "['o', 'l', 'l', 'e', 'h']"
      ]
     },
     "execution_count": 5,
     "metadata": {},
     "output_type": "execute_result"
    }
   ],
   "source": [
    "def reverseString(s) -> None:\n",
    "    for i in range(len(s)//2):\n",
    "        s[i], s[-i-1] = s[-i-1], s[i]\n",
    "    return s\n",
    "\n",
    "s =  [\"h\",\"e\",\"l\",\"l\",\"o\"]\n",
    "reverseString(s)"
   ]
  },
  {
   "cell_type": "markdown",
   "metadata": {},
   "source": [
    "# 5. Random Pick with Weight - 528\n",
    "\n",
    "Given an array w of positive integers, where w[i] describes the weight of index i, write a function pickIndex which randomly picks an index in proportion to its weight.\n",
    "\n",
    "Note:  \n",
    "1 <= w.length <= 10000  \n",
    "1 <= w[i] <= 10^5  \n",
    "pickIndex will be called at most 10000 times.  \n",
    "\n",
    "Example 1:  \n",
    "Input:   \n",
    "[\"Solution\",\"pickIndex\"]  \n",
    "[[[1]],[]]  \n",
    "Output: [null,0]\n",
    "\n",
    "Example 2:  \n",
    "Input:   \n",
    "[\"Solution\",\"pickIndex\",\"pickIndex\",\"pickIndex\",\"pickIndex\",\"pickIndex\"]\n",
    "[[[1,3]],[],[],[],[],[]]  \n",
    "Output: [null,0,1,1,1,0]  \n",
    "Explanation of Input Syntax:    \n",
    "The input is two lists:    \n",
    "the subroutines called and their arguments. Solution's constructor has one argument,   \n",
    "the array w. pickIndex has no arguments. Arguments are always wrapped with a list, even if there aren't any.\n",
    "\n",
    "题目大意：\n",
    "要求按照权重挑选索引。比如[1,99]中，有1%的概率挑选到索引0，有99%的概率挑选到索引1.\n",
    "\n",
    "### Idea:\n",
    "- 把概率分布函数转化为累计概率分布函数。然后通过随机数，进行二分查找。\n",
    "- 比如，输入是[1,2,3,4]，那么概率分布是[1/10, 2/10, 3/10, 4/10, 5/10]，累积概率分布是[1/10, 3/10, 6/10, 10/10].总和是10。如果我们产生一个随机数，在1~10之中，然后判断这个数字在哪个区间中就能得到对应的索引。对于输入[1,2,3,4]，计算出来的preSum是[1,3,6,10]，然后随机选一个s， rand() % 10,可以随机出范围 [0, 9],随机到 0 则为第一个点，随机到 1，2，3 则为第二个点，随机到 4，5,6 则为第三个点，所以我们随机出一个数字x后，然后再累加和数组中查找第一个大于随机数x的数字，使用二分查找法可以找到第一个大于随机数x的数字的坐标."
   ]
  },
  {
   "cell_type": "code",
   "execution_count": null,
   "metadata": {},
   "outputs": [],
   "source": [
    "class Solution:\n",
    "\n",
    "    def __init__(self, w: List[int]):\n",
    "        self.preSum = [0] * len(w)  #define preSum - cdf\n",
    "        self.preSum[0] = w[0]\n",
    "        for i in range(1, len(w)):\n",
    "            self.preSum[i] = self.preSum[i - 1] + w[i] \n",
    "\n",
    "\n",
    "    def pickIndex(self) -> int:\n",
    "        total = self.preSum[-1]\n",
    "        rand = random.randint(0, total - 1)\n",
    "        left, right = 0, len(self.preSum) - 1\n",
    "        while left <= right:\n",
    "            mid = (left + right) // 2\n",
    "            if rand >= self.preSum[mid]:\n",
    "                left = mid + 1\n",
    "            else:\n",
    "                right = mid - 1\n",
    "        if rand < self.preSum[left]:\n",
    "            return left\n",
    "        return right\n",
    "    \n",
    "# Your Solution object will be instantiated and called as such:\n",
    "# obj = Solution(w)\n",
    "# param_1 = obj.pickIndex()"
   ]
  },
  {
   "cell_type": "markdown",
   "metadata": {},
   "source": [
    "# 6. Queue Reconstruction by Height - 406\n",
    "\n",
    "Suppose you have a random list of people standing in a queue. Each person is described by a pair of integers (h, k), where h is the height of the person and k is the number of people in front of this person who have a height greater than or equal to h. Write an algorithm to reconstruct the queue.\n",
    "\n",
    "Note:\n",
    "The number of people is less than 1,100.\n",
    "\n",
    "Example  \n",
    "Input:\n",
    "[[7,0], [4,4], [7,1], [5,0], [6,1], [5,2]]    \n",
    "Output:\n",
    "[[5,0], [7,0], [5,2], [6,1], [4,4], [7,1]]\n",
    "\n",
    "Hide Hint #1  \n",
    "What can you say about the position of the shortest person?\n",
    "If the position of the shortest person is i, how many people would be in front of the shortest person?  \n",
    "Hide Hint #2  \n",
    "Once you fix the position of the shortest person, what can you say about the position of the second shortest person?\n",
    "\n",
    "### Idea:\n",
    "reconstruction of the queue to satisfy the k from ech person [h,k]\n",
    "- 1. ranking according to the height descending, if same height, according to \"k\" ascending. **2 conditions sorting**\n",
    "- 2. for loop to insert it to the k-th position."
   ]
  },
  {
   "cell_type": "code",
   "execution_count": 30,
   "metadata": {},
   "outputs": [
    {
     "data": {
      "text/plain": [
       "[[7, 0], [5, 0], [7, 1], [6, 1], [4, 4], [5, 2]]"
      ]
     },
     "execution_count": 30,
     "metadata": {},
     "output_type": "execute_result"
    }
   ],
   "source": [
    "def reconstructQueue(people):\n",
    "    people.sort(key=lambda x:(-x[0],x[1]),reverse=True)\n",
    "    result = []\n",
    "    for person in people:\n",
    "        result.insert(person[1],person)\n",
    "    return result\n",
    "\n",
    "people = [[7,0], [4,4], [7,1], [5,0], [6,1], [5,2]]\n",
    "reconstructQueue(people)"
   ]
  },
  {
   "cell_type": "markdown",
   "metadata": {},
   "source": [
    "# 7. Coin Change 2 - DP\n",
    "\n",
    "You are given coins of different denominations and a total amount of money. Write a function to compute the number of combinations that make up that amount. You may assume that you have infinite number of each kind of coin.\n",
    "\n",
    "Example 1:  \n",
    "Input: amount = 5, coins = [1, 2, 5]  \n",
    "Output: 4  \n",
    "Explanation: there are four ways to make up the amount:  \n",
    "5=5  \n",
    "5=2+2+1  \n",
    "5=2+1+1+1  \n",
    "5=1+1+1+1+1 \n",
    "\n",
    "Example 2:  \n",
    "Input: amount = 3, coins = [2]  \n",
    "Output: 0  \n",
    "Explanation: the amount of 3 cannot be made up just with coins of 2. \n",
    "\n",
    "Example 3:  \n",
    "Input: amount = 10, coins = [10]   \n",
    "Output: 1  \n",
    " \n",
    "Note:   \n",
    "You can assume that  \n",
    "0 <= amount <= 5000\n",
    "1 <= coin <= 5000  \n",
    "the number of coins is less than 500  \n",
    "the answer is guaranteed to fit into signed 32-bit integer  \n",
    "\n",
    "### Idea:\n",
    "- muti-dimensional compress to 1d dp matrix \n",
    "- dp[i]: how many ways to make up amount i using first 1/2/3 coins.(accumulate)\n",
    "- col: 0,1,2,3,4,5: amount\n",
    "- row: types of coins"
   ]
  },
  {
   "cell_type": "code",
   "execution_count": 31,
   "metadata": {},
   "outputs": [
    {
     "data": {
      "image/jpeg": "[encoded data removed]",
      "text/plain": [
       "<IPython.core.display.Image object>"
      ]
     },
     "execution_count": 31,
     "metadata": {
      "image/jpeg": {
       "height": 500,
       "width": 400
      }
     },
     "output_type": "execute_result"
    }
   ],
   "source": [
    "from IPython.display import Image\n",
    "Image(filename = 'June7.jpg', width=400, height=500)"
   ]
  },
  {
   "cell_type": "code",
   "execution_count": 25,
   "metadata": {},
   "outputs": [],
   "source": [
    "def change(amount: int, coins) -> int:\n",
    "    dp = [0] * (amount + 1)\n",
    "    dp[0] = 1\n",
    "    for coin in coins:\n",
    "        for i in range(1, amount + 1):\n",
    "            if coin <= i:\n",
    "                dp[i] += dp[i - coin]\n",
    "                print(\"coin:\",coin,\"i:\",i,dp)\n",
    "    return dp[amount]"
   ]
  },
  {
   "cell_type": "code",
   "execution_count": 26,
   "metadata": {
    "scrolled": true
   },
   "outputs": [
    {
     "name": "stdout",
     "output_type": "stream",
     "text": [
      "[1, 0, 0, 0, 0, 0]\n",
      "coin: 1 i: 1 [1, 1, 0, 0, 0, 0]\n",
      "coin: 1 i: 2 [1, 1, 1, 0, 0, 0]\n",
      "coin: 1 i: 3 [1, 1, 1, 1, 0, 0]\n",
      "coin: 1 i: 4 [1, 1, 1, 1, 1, 0]\n",
      "coin: 1 i: 5 [1, 1, 1, 1, 1, 1]\n",
      "coin: 2 i: 2 [1, 1, 2, 1, 1, 1]\n",
      "coin: 2 i: 3 [1, 1, 2, 2, 1, 1]\n",
      "coin: 2 i: 4 [1, 1, 2, 2, 3, 1]\n",
      "coin: 2 i: 5 [1, 1, 2, 2, 3, 3]\n",
      "coin: 5 i: 5 [1, 1, 2, 2, 3, 4]\n"
     ]
    },
    {
     "data": {
      "text/plain": [
       "4"
      ]
     },
     "execution_count": 26,
     "metadata": {},
     "output_type": "execute_result"
    }
   ],
   "source": [
    "amount = 5\n",
    "coins = [1, 2, 5]\n",
    "change(amount, coins)"
   ]
  },
  {
   "cell_type": "markdown",
   "metadata": {},
   "source": [
    "# 8. Power of Two\n",
    "\n",
    "Given an integer, write a function to determine if it is a power of two.\n",
    "\n",
    "Example 1:  \n",
    "Input: 1  \n",
    "Output: true   \n",
    "Explanation: 2^0 = 1\n",
    "\n",
    "Example 2:  \n",
    "Input: 16  \n",
    "Output: true  \n",
    "Explanation: 24 = 16\n",
    "\n",
    "Example 3:  \n",
    "Input: 218  \n",
    "Output: false\n",
    "\n",
    "### Idea\n",
    "- Binary Search - Time Exceeding XXX\n",
    "- Solution 1 - while loop - n/2"
   ]
  },
  {
   "cell_type": "code",
   "execution_count": 15,
   "metadata": {},
   "outputs": [
    {
     "data": {
      "text/plain": [
       "True"
      ]
     },
     "execution_count": 15,
     "metadata": {},
     "output_type": "execute_result"
    },
    {
     "data": {
      "text/plain": [
       "True"
      ]
     },
     "execution_count": 15,
     "metadata": {},
     "output_type": "execute_result"
    },
    {
     "data": {
      "text/plain": [
       "False"
      ]
     },
     "execution_count": 15,
     "metadata": {},
     "output_type": "execute_result"
    }
   ],
   "source": [
    "def isPowerOfTwo(n: int) -> bool:\n",
    "    while n > 1:\n",
    "        n /= 2\n",
    "    return n==1\n",
    "\n",
    "isPowerOfTwo(1)\n",
    "isPowerOfTwo(16)\n",
    "isPowerOfTwo(218)"
   ]
  },
  {
   "cell_type": "markdown",
   "metadata": {},
   "source": [
    "### Solution 2 \n",
    "- utilize **n&(n-1)**\"\n",
    "- n&(n-1)==0，n的最高有效位为1，其余位为0。因此，n的值是2的某次方。所以，(n&(n-1))==0检查n是否为2的某次方（或者检查n是否为0）"
   ]
  },
  {
   "cell_type": "code",
   "execution_count": 18,
   "metadata": {},
   "outputs": [
    {
     "data": {
      "text/plain": [
       "True"
      ]
     },
     "execution_count": 18,
     "metadata": {},
     "output_type": "execute_result"
    },
    {
     "data": {
      "text/plain": [
       "True"
      ]
     },
     "execution_count": 18,
     "metadata": {},
     "output_type": "execute_result"
    },
    {
     "data": {
      "text/plain": [
       "False"
      ]
     },
     "execution_count": 18,
     "metadata": {},
     "output_type": "execute_result"
    }
   ],
   "source": [
    "def isPowerOfTwo(n: int) -> bool:\n",
    "    return n > 0 and not (n & n-1)\n",
    "isPowerOfTwo(1)\n",
    "isPowerOfTwo(16)\n",
    "isPowerOfTwo(218)"
   ]
  },
  {
   "cell_type": "markdown",
   "metadata": {},
   "source": [
    "# 9. Is Subsequence\n",
    "\n",
    "Given a string s and a string t, check if s is subsequence of t.  \n",
    "A subsequence of a string is a new string which is formed from the original string by deleting some (can be none) of the characters without disturbing the relative positions of the remaining characters. (ie, \"ace\" is a subsequence of \"abcde\" while \"aec\" is not).\n",
    "\n",
    "Follow up:\n",
    "If there are lots of incoming S, say S1, S2, ... , Sk where k >= 1B, and you want to check one by one to see if T has its subsequence. In this scenario, how would you change your code?\n",
    "\n",
    "Credits:\n",
    "Special thanks to @pbrother for adding this problem and creating all test cases.\n",
    "\n",
    "Example 1:  \n",
    "Input: s = \"abc\", t = \"ahbgdc\"  \n",
    "Output: true  \n",
    "\n",
    "Example 2: \n",
    "Input: s = \"axc\", t = \"ahbgdc\"  \n",
    "Output: false\n",
    "\n",
    "Constraints:  \n",
    "0 <= s.length <= 100  \n",
    "0 <= t.length <= 10^4  \n",
    "Both strings consists only of lowercase characters\n",
    "\n",
    "### Idea:\n",
    "- 2 pointers + while loop\n",
    "- when equal,count+=1,2 pointers move to next char\n",
    "- when not, pointer of t move one step, keep searching\n",
    "- return count == len(s),means all chars in str s can found in str t in order"
   ]
  },
  {
   "cell_type": "code",
   "execution_count": 11,
   "metadata": {},
   "outputs": [],
   "source": [
    " def isSubsequence(s: str, t: str) -> bool:\n",
    "        if not s or s == t:\n",
    "            return True\n",
    "        if not t:\n",
    "            return False\n",
    "        \n",
    "        count = 0\n",
    "        i, j = 0, 0\n",
    "        while i<len(s) and j < len(t):\n",
    "            if s[i] == t[j]:\n",
    "                count += 1\n",
    "                i += 1\n",
    "                j += 1\n",
    "        \n",
    "            else: \n",
    "                j += 1\n",
    "        return count == len(s)"
   ]
  },
  {
   "cell_type": "code",
   "execution_count": 12,
   "metadata": {},
   "outputs": [
    {
     "data": {
      "text/plain": [
       "True"
      ]
     },
     "execution_count": 12,
     "metadata": {},
     "output_type": "execute_result"
    }
   ],
   "source": [
    "s = \"abc\" \n",
    "t = \"ahbgdc\"\n",
    "isSubsequence(s,t)"
   ]
  },
  {
   "cell_type": "markdown",
   "metadata": {},
   "source": [
    "# 10. Search Insert Position\n",
    "\n",
    "Given a sorted array and a target value, return the index if the target is found. If not, return the index where it would be if it were inserted in order. \n",
    "You may assume no duplicates in the array.\n",
    "\n",
    "Example 1:  \n",
    "Input: [1,3,5,6], 5  \n",
    "Output: 2  \n",
    "    \n",
    "Example 2:  \n",
    "Input: [1,3,5,6], 2  \n",
    "Output: 1\n",
    "    \n",
    "Example 3:  \n",
    "Input: [1,3,5,6], 7  \n",
    "Output: 4\n",
    "    \n",
    "Example 4:  \n",
    "Input: [1,3,5,6], 0  \n",
    "Output: 0"
   ]
  },
  {
   "cell_type": "code",
   "execution_count": 19,
   "metadata": {},
   "outputs": [],
   "source": [
    "def searchInsert(nums, target) -> int:\n",
    "    if target > nums[-1]:\n",
    "        return len(nums)\n",
    "    for i in range(len(nums)):\n",
    "        if nums[i] >= target:\n",
    "            return i "
   ]
  },
  {
   "cell_type": "code",
   "execution_count": 20,
   "metadata": {},
   "outputs": [
    {
     "data": {
      "text/plain": [
       "2"
      ]
     },
     "execution_count": 20,
     "metadata": {},
     "output_type": "execute_result"
    },
    {
     "data": {
      "text/plain": [
       "1"
      ]
     },
     "execution_count": 20,
     "metadata": {},
     "output_type": "execute_result"
    },
    {
     "data": {
      "text/plain": [
       "4"
      ]
     },
     "execution_count": 20,
     "metadata": {},
     "output_type": "execute_result"
    },
    {
     "data": {
      "text/plain": [
       "0"
      ]
     },
     "execution_count": 20,
     "metadata": {},
     "output_type": "execute_result"
    }
   ],
   "source": [
    "nums = [1,3,5,6]\n",
    "target = 5\n",
    "searchInsert(nums, target)\n",
    "target = 2\n",
    "searchInsert(nums, target)\n",
    "target = 7\n",
    "searchInsert(nums, target)\n",
    "target = 0\n",
    "searchInsert(nums, target)"
   ]
  },
  {
   "cell_type": "markdown",
   "metadata": {},
   "source": [
    "#  Sort Colors\n",
    "\n",
    "Given an array with n objects colored red, white or blue, sort them in-place so that objects of the same color are adjacent, with the colors in the order red, white and blue.  \n",
    "Here, we will use the integers 0, 1, and 2 to represent the color red, white, and blue respectively.  \n",
    "Note: You are not suppose to use the library's sort function for this problem.\n",
    "\n",
    "Example:  \n",
    "Input: [2,0,2,1,1,0]  \n",
    "Output: [0,0,1,1,2,2]  \n",
    "Follow up:  \n",
    "A rather straight forward solution is a two-pass algorithm using counting sort.  \n",
    "First, iterate the array counting number of 0's, 1's, and 2's, then overwrite array with total number of 0's, then 1's and followed by 2's.  \n",
    "Could you come up with a one-pass algorithm using only constant space?"
   ]
  },
  {
   "cell_type": "code",
   "execution_count": 12,
   "metadata": {},
   "outputs": [],
   "source": [
    "def sortColors(nums) -> None:\n",
    "    p, q = 0, 0\n",
    "    k = len(nums)-1\n",
    "    while q<=k:\n",
    "        if p<=q and nums[q]==0:\n",
    "            nums[p],nums[q] = nums[q],nums[p]\n",
    "            p += 1\n",
    "            print(nums,p,q,k)\n",
    "        elif p<=k and nums[p]==2:\n",
    "            nums[p],nums[k] = nums[k],nums[p]\n",
    "            k -= 1\n",
    "            print(nums,p,q,k)\n",
    "        else:\n",
    "            q += 1\n",
    "            print(nums,p,q,k)\n",
    "    return nums   "
   ]
  },
  {
   "cell_type": "code",
   "execution_count": 13,
   "metadata": {},
   "outputs": [
    {
     "name": "stdout",
     "output_type": "stream",
     "text": [
      "[0, 0, 2, 1, 1, 2] 0 0 4\n",
      "[0, 0, 2, 1, 1, 2] 1 0 4\n",
      "[0, 0, 2, 1, 1, 2] 1 1 4\n",
      "[0, 0, 2, 1, 1, 2] 2 1 4\n",
      "[0, 0, 1, 1, 2, 2] 2 1 3\n",
      "[0, 0, 1, 1, 2, 2] 2 2 3\n",
      "[0, 0, 1, 1, 2, 2] 2 3 3\n",
      "[0, 0, 1, 1, 2, 2] 2 4 3\n"
     ]
    },
    {
     "data": {
      "text/plain": [
       "[0, 0, 1, 1, 2, 2]"
      ]
     },
     "execution_count": 13,
     "metadata": {},
     "output_type": "execute_result"
    }
   ],
   "source": [
    "nums = [2,0,2,1,1,0]\n",
    "sortColors(nums)"
   ]
  },
  {
   "cell_type": "markdown",
   "metadata": {},
   "source": [
    "# 12. Insert Delete GetRandom O(1)\n",
    "\n",
    "Design a data structure that supports all following operations in average O(1) time.  \n",
    "insert(val): Inserts an item val to the set if not already present.  \n",
    "remove(val): Removes an item val from the set if present.  \n",
    "getRandom: Returns a random element from current set of elements. Each element must have the same probability of being returned.\n",
    "\n",
    "Example:   \n",
    "// Init an empty set.  \n",
    "RandomizedSet randomSet = new RandomizedSet();  \n",
    "\n",
    "// Inserts 1 to the set. Returns true as 1 was inserted successfully.  \n",
    "randomSet.insert(1);\n",
    "\n",
    "// Returns false as 2 does not exist in the set.  \n",
    "randomSet.remove(2);\n",
    "\n",
    "// Inserts 2 to the set, returns true. Set now contains [1,2].  \n",
    "randomSet.insert(2);\n",
    "\n",
    "// getRandom should return either 1 or 2 randomly.  \n",
    "randomSet.getRandom();\n",
    "\n",
    "// Removes 1 from the set, returns true. Set now contains [2].  \n",
    "randomSet.remove(1);\n",
    "\n",
    "// 2 was already in the set, so return false.  \n",
    "randomSet.insert(2);\n",
    "\n",
    "// Since 2 is the only number in the set, getRandom always return 2. \n",
    "randomSet.getRandom();\n",
    "\n",
    "### dict + list"
   ]
  },
  {
   "cell_type": "code",
   "execution_count": null,
   "metadata": {},
   "outputs": [],
   "source": [
    "class RandomizedSet:\n",
    "\n",
    "    def __init__(self):\n",
    "        \"\"\"\n",
    "        Initialize your data structure here.\n",
    "        \"\"\"\n",
    "        self.set = set()\n",
    "        self.size = 0\n",
    "        \n",
    "    def insert(self, val: int) -> bool:\n",
    "        \"\"\"\n",
    "        Inserts a value to the set. Returns true if the set did not already contain the specified element.\n",
    "        \"\"\"\n",
    "        if val in self.set:\n",
    "            self.set.add(val)\n",
    "            self.size += 1\n",
    "            return True\n",
    "        return False\n",
    "\n",
    "    def remove(self, val: int) -> bool:\n",
    "        \"\"\"\n",
    "        Removes a value from the set. Returns true if the set contained the specified element.\n",
    "        \"\"\"\n",
    "        if val in self.set:\n",
    "            self.set.remove(val)\n",
    "            self.size -= 1\n",
    "            return True\n",
    "        return False\n",
    "        \n",
    "\n",
    "    def getRandom(self) -> int:\n",
    "        \"\"\"\n",
    "        Get a random element from the set.\n",
    "        \"\"\"\n",
    "        return list(self.set)[random.randit(0,self.size-1)]\n",
    "        # return random.choice(self.set)\n",
    "\n",
    "# Your RandomizedSet object will be instantiated and called as such:\n",
    "# obj = RandomizedSet()\n",
    "# param_1 = obj.insert(val)\n",
    "# param_2 = obj.remove(val)\n",
    "# param_3 = obj.getRandom()"
   ]
  },
  {
   "cell_type": "code",
   "execution_count": null,
   "metadata": {},
   "outputs": [],
   "source": [
    "class RandomizedSet:\n",
    "\n",
    "    def __init__(self):\n",
    "        self.dict = {}\n",
    "        self.list = []\n",
    "        \n",
    "\n",
    "    def insert(self, val: int) -> bool:\n",
    "        if val in self.index:\n",
    "            return False\n",
    "        self.list.append(val)\n",
    "        self.dict[val] = len(self.list) - 1\n",
    "        return True\n",
    "        \n",
    "\n",
    "    def remove(self, val: int) -> bool:\n",
    "        if val not in self.dict:\n",
    "            return False\n",
    "        i = self.dict[val]\n",
    "        self.list[i] = self.list[-1]\n",
    "        self.dict[self.list[i]] = i\n",
    "        del self.list[-1]\n",
    "        del self.dict[val]\n",
    "        return True\n",
    "        \n",
    "\n",
    "    def getRandom(self) -> int:\n",
    "        return random.choice(self.list)\n",
    "        \n",
    "\n",
    "\n",
    "# Your RandomizedSet object will be instantiated and called as such:\n",
    "# obj = RandomizedSet()\n",
    "# param_1 = obj.insert(val)\n",
    "# param_2 = obj.remove(val)\n",
    "# param_3 = obj.getRandom()"
   ]
  }
 ],
 "metadata": {
  "kernelspec": {
   "display_name": "Python 3",
   "language": "python",
   "name": "python3"
  },
  "language_info": {
   "codemirror_mode": {
    "name": "ipython",
    "version": 3
   },
   "file_extension": ".py",
   "mimetype": "text/x-python",
   "name": "python",
   "nbconvert_exporter": "python",
   "pygments_lexer": "ipython3",
   "version": "3.6.9"
  }
 },
 "nbformat": 4,
 "nbformat_minor": 2
}

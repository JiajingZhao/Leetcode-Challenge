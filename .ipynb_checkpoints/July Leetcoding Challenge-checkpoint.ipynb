{
 "cells": [
  {
   "cell_type": "code",
   "execution_count": 1,
   "metadata": {},
   "outputs": [],
   "source": [
    "from IPython.core.interactiveshell import InteractiveShell\n",
    "InteractiveShell.ast_node_interactivity = \"all\""
   ]
  },
  {
   "cell_type": "markdown",
   "metadata": {},
   "source": [
    "# 1. Arranging Coins\n",
    "\n",
    "You have a total of n coins that you want to form in a staircase shape, where every k-th row must have exactly k coins. \n",
    "Given n, find the total number of full staircase rows that can be formed.  \n",
    "n is a non-negative integer and fits within the range of a 32-bit signed integer.\n",
    "\n",
    "Example 1:  \n",
    "n = 5  \n",
    "The coins can form the following rows:  \n",
    "¤  \n",
    "¤ ¤  \n",
    "¤ ¤    \n",
    "Because the 3rd row is incomplete, we return 2.  \n",
    "\n",
    "Example 2:  \n",
    "n = 8    \n",
    "The coins can form the following rows:  \n",
    "¤  \n",
    "¤ ¤  \n",
    "¤ ¤ ¤  \n",
    "¤ ¤    \n",
    "Because the 4th row is incomplete, we return 3.\n",
    "\n",
    "### Idea:\n",
    "1. Binary Search"
   ]
  },
  {
   "cell_type": "code",
   "execution_count": 36,
   "metadata": {},
   "outputs": [
    {
     "data": {
      "text/plain": [
       "2"
      ]
     },
     "execution_count": 36,
     "metadata": {},
     "output_type": "execute_result"
    },
    {
     "data": {
      "text/plain": [
       "1"
      ]
     },
     "execution_count": 36,
     "metadata": {},
     "output_type": "execute_result"
    }
   ],
   "source": [
    "def arrangeCoins(n: int) -> int:\n",
    "    k = 0\n",
    "    while k*(k+1)/2 <= n:\n",
    "        k += 1\n",
    "    return k-1\n",
    "\n",
    "def arrangeCoins2(n: int) -> int:    \n",
    "    l, r = 0, n\n",
    "    while l <= r:\n",
    "        m = (l + r) // 2\n",
    "        if m * (m + 1) / 2 > n:\n",
    "            r = m - 1\n",
    "        else:\n",
    "            l = m + 1\n",
    "    return r\n",
    "\n",
    "def arrangeCoins3(n: int) -> int:    \n",
    "    l, r = 0, n\n",
    "    while l <= r:\n",
    "        m = (l + r) // 2\n",
    "        if m * (m + 1) / 2 < n:\n",
    "            l = m + 1\n",
    "        else:\n",
    "            r = m - 1\n",
    "    return l - 1\n",
    "    \n",
    "arrangeCoins3(n=5)\n",
    "arrangeCoins3(n=2)"
   ]
  },
  {
   "cell_type": "markdown",
   "metadata": {},
   "source": [
    "# 2. Binary Tree Level Order Traversal II\n",
    "\n",
    "Given a binary tree, return the bottom-up level order traversal of its nodes' values. (ie, from left to right, level by level from leaf to root).\n",
    "\n",
    "For example:\n",
    "Given binary tree [3,9,20,null,null,15,7],\n",
    "return its bottom-up level order traversal as:\n",
    "[\n",
    "  [15,7],\n",
    "  [9,20],\n",
    "  [3]\n",
    "]"
   ]
  },
  {
   "cell_type": "code",
   "execution_count": null,
   "metadata": {},
   "outputs": [],
   "source": [
    "# Definition for a binary tree node.\n",
    "# class TreeNode:\n",
    "#     def __init__(self, val=0, left=None, right=None):\n",
    "#         self.val = val\n",
    "#         self.left = left\n",
    "#         self.right = right\n",
    "class Solution:\n",
    "    def levelOrderBottom(self, root: TreeNode) -> List[List[int]]:\n",
    "        if not root:\n",
    "            return []\n",
    "        curr, result = [root],[]\n",
    "        \n",
    "        while curr:\n",
    "            next_level,vals = [],[]\n",
    "            for node in curr:\n",
    "                vals.append(node.val)\n",
    "            if node.left:\n",
    "                next_level.append(node.left)\n",
    "            if node.right:\n",
    "                next_level.append(node.right)\n",
    "            result.append(vals)\n",
    "            curr = next_level\n",
    "        return result[::-1]"
   ]
  }
 ],
 "metadata": {
  "kernelspec": {
   "display_name": "Python 3",
   "language": "python",
   "name": "python3"
  },
  "language_info": {
   "codemirror_mode": {
    "name": "ipython",
    "version": 3
   },
   "file_extension": ".py",
   "mimetype": "text/x-python",
   "name": "python",
   "nbconvert_exporter": "python",
   "pygments_lexer": "ipython3",
   "version": "3.6.9"
  }
 },
 "nbformat": 4,
 "nbformat_minor": 2
}

{
 "cells": [
  {
   "cell_type": "markdown",
   "metadata": {},
   "source": [
    "# 15. Maximum Sum Circular Subarray -- Kadane's algorithm -- cope with finding  maximum sum subarray）"
   ]
  },
  {
   "cell_type": "markdown",
   "metadata": {},
   "source": [
    "Given a circular array C of integers represented by A, find the maximum possible sum of a non-empty subarray of C.\n",
    "\n",
    "Here, a circular array means the end of the array connects to the beginning of the array.  (Formally, C[i] = A[i] when 0 <= i < A.length, and C[i+A.length] = C[i] when i >= 0.)\n",
    "\n",
    "Also, a subarray may only include each element of the fixed buffer A at most once.  (Formally, for a subarray C[i], C[i+1], ..., C[j], there does not exist i <= k1, k2 <= j with k1 % A.length = k2 % A.length.)\n",
    "\n",
    "Example 1:  \n",
    "Input: [1,-2,3,-2]  \n",
    "Output: 3  \n",
    "Explanation: Subarray [3] has maximum sum 3\n",
    "\n",
    "Example 2:   \n",
    "Input: [5,-3,5]  \n",
    "Output: 10  \n",
    "Explanation: Subarray [5,5] has maximum sum 5 + 5 = 10\n",
    "\n",
    "Example 3:  \n",
    "Input: [3,-1,2,-1]  \n",
    "Output: 4  \n",
    "Explanation: Subarray [2,-1,3] has maximum sum 2 + (-1) + 3 = 4  \n",
    "\n",
    "Example 4:  \n",
    "Input: [3,-2,2,-3]  \n",
    "Output: 3  \n",
    "Explanation: Subarray [3] and [3,-2,2] both have maximum sum 3   \n",
    "\n",
    "Example 5:  \n",
    "Input: [-2,-3,-1]  \n",
    "Output: -1  \n",
    "Explanation: Subarray [-1] has maximum sum -1"
   ]
  },
  {
   "cell_type": "markdown",
   "metadata": {},
   "source": [
    "- 对比两种情况\n",
    "    - 1.正常形式，maximal subarray sum\n",
    "        - 数组中的某一段子数组\n",
    "    - 2. 首尾相连\n",
    "        - 思路：（数组和） 减 （最小的子数组）\n",
    "    - corner case：假如数组中全是负数，那么最大的数组和就是数组的最大值"
   ]
  },
  {
   "cell_type": "code",
   "execution_count": 29,
   "metadata": {},
   "outputs": [],
   "source": [
    "def maxSubarraySumCircular(A) -> int:\n",
    "    if all(t<0 for t in A): \n",
    "        return max(A)\n",
    "    ma_, mi_=float('-inf'),float('inf')\n",
    "    ma, mi = float('-inf'),float('inf')\n",
    "    s = su = 0\n",
    "    for i in A:\n",
    "        s += i\n",
    "        ma_ = max(ma_,s)\n",
    "        mi_ = min(mi_,s)\n",
    "        ma = max(ma,s-mi_)\n",
    "        mi = min(mi,s-ma_)\n",
    "        su += i\n",
    "        #print(\"i:\",i,\"s:\",s,\"ma_:\",ma_,\"mi_:\",mi_,\"ma:\",ma,\"mi:\",mi,\"su:\",su)\n",
    "    return max(ma,su-mi)"
   ]
  },
  {
   "cell_type": "code",
   "execution_count": 30,
   "metadata": {},
   "outputs": [
    {
     "data": {
      "text/plain": [
       "10"
      ]
     },
     "execution_count": 30,
     "metadata": {},
     "output_type": "execute_result"
    }
   ],
   "source": [
    "maxSubarraySumCircular([5,-3,5])"
   ]
  }
 ],
 "metadata": {
  "kernelspec": {
   "display_name": "Python 3",
   "language": "python",
   "name": "python3"
  },
  "language_info": {
   "codemirror_mode": {
    "name": "ipython",
    "version": 3
   },
   "file_extension": ".py",
   "mimetype": "text/x-python",
   "name": "python",
   "nbconvert_exporter": "python",
   "pygments_lexer": "ipython3",
   "version": "3.6.9"
  }
 },
 "nbformat": 4,
 "nbformat_minor": 2
}

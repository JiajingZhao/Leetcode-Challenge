{
 "cells": [
  {
   "cell_type": "markdown",
   "metadata": {},
   "source": [
    "# 1. First Bad Version"
   ]
  },
  {
   "cell_type": "markdown",
   "metadata": {},
   "source": [
    "You are a product manager and currently leading a team to develop a new product.   Unfortunately, the latest version of your product fails the quality check. Since each version is developed based on the previous version, all the versions after a bad version are also bad.  \n",
    "\n",
    "Suppose you have n versions [1, 2, ..., n] and you want to find out the first bad one, which causes all the following ones to be bad.  \n",
    "\n",
    "You are given an API bool isBadVersion(version) which will return whether version is bad. Implement a function to find the first bad version. You should minimize the number of calls to the API.  \n",
    "\n",
    "Example:\n",
    "\n",
    "Given n = 5, and version = 4 is the first bad version.  \n",
    "\n",
    "call isBadVersion(3) -> false  \n",
    "call isBadVersion(5) -> true  \n",
    "call isBadVersion(4) -> true  \n",
    "\n",
    "Then 4 is the first bad version."
   ]
  },
  {
   "cell_type": "code",
   "execution_count": null,
   "metadata": {},
   "outputs": [],
   "source": [
    "def firstBadVersion(self, n):\n",
    "    \"\"\"\n",
    "    :type n: int\n",
    "    :rtype: int\n",
    "    \"\"\"\n",
    "    l = 1\n",
    "    r = n\n",
    "    while l <= r:\n",
    "        mid = (l+r)//2\n",
    "        if isBadVersion(mid):\n",
    "            r = mid - 1\n",
    "        else:\n",
    "            l = mid + 1\n",
    "    return l"
   ]
  },
  {
   "cell_type": "markdown",
   "metadata": {},
   "source": [
    "# 2.  Jewels and Stones"
   ]
  },
  {
   "cell_type": "markdown",
   "metadata": {},
   "source": [
    "You're given strings J representing the types of stones that are jewels, and S representing the stones you have.  Each character in S is a type of stone you have.  You want to know how many of the stones you have are also jewels.\n",
    "\n",
    "The letters in J are guaranteed distinct, and all characters in J and S are letters. Letters are case sensitive, so \"a\" is considered a different type of stone from \"A\".\n",
    "\n",
    "Example 1:  \n",
    "Input: J = \"aA\", S = \"aAAbbbb\"   \n",
    "Output: 3  \n",
    "\n",
    "Example 2:  \n",
    "Input: J = \"z\", S = \"ZZ\"  \n",
    "Output: 0"
   ]
  },
  {
   "cell_type": "markdown",
   "metadata": {},
   "source": [
    "**My Solution--violent search**"
   ]
  },
  {
   "cell_type": "code",
   "execution_count": 20,
   "metadata": {},
   "outputs": [],
   "source": [
    "def numJewelsInStones(J, S) -> int:\n",
    "    count = 0\n",
    "    for s in S:\n",
    "        for j in J:\n",
    "            if s == j :\n",
    "                count += 1\n",
    "    return count"
   ]
  },
  {
   "cell_type": "code",
   "execution_count": 33,
   "metadata": {},
   "outputs": [],
   "source": [
    "def numJewelsInStones2(J, S) -> int:\n",
    "    return sum(s in J for s in S)\n",
    "#a in b\n",
    "#if found element \"a\" in sequence b, return True, else False"
   ]
  },
  {
   "cell_type": "code",
   "execution_count": 35,
   "metadata": {},
   "outputs": [],
   "source": [
    "def numJewelsInStones3(J, S) -> int:\n",
    "    return sum(map(J.count, S))\n",
    "#python: string.count(str, begin=0, end=len(string)) return the times of str shows up in string\n",
    "#map(function, iterable, ...)"
   ]
  },
  {
   "cell_type": "code",
   "execution_count": 41,
   "metadata": {},
   "outputs": [
    {
     "data": {
      "text/plain": [
       "3"
      ]
     },
     "execution_count": 41,
     "metadata": {},
     "output_type": "execute_result"
    }
   ],
   "source": [
    "J = \"aA\"\n",
    "S = \"aAAbbbb\"\n",
    "numJewelsInStones3(J,S)"
   ]
  },
  {
   "cell_type": "markdown",
   "metadata": {},
   "source": [
    "# 3. Ransom Note"
   ]
  },
  {
   "cell_type": "markdown",
   "metadata": {},
   "source": [
    "Given an arbitrary ransom note string and another string containing letters from all the magazines, write a function that will return true if the ransom note can be constructed from the magazines ; otherwise, it will return false.\n",
    "\n",
    "Each letter in the magazine string can only be used once in your ransom note.  \n",
    "\n",
    "Note:  \n",
    "You may assume that both strings contain only lowercase letters.  \n",
    "\n",
    "canConstruct(\"a\", \"b\") -> false  \n",
    "canConstruct(\"aa\", \"ab\") -> false  \n",
    "canConstruct(\"aa\", \"aab\") -> true"
   ]
  },
  {
   "cell_type": "code",
   "execution_count": 23,
   "metadata": {},
   "outputs": [],
   "source": [
    "def canConstruct(ransomNote, magazine) -> bool:\n",
    "    if not ransomNote:\n",
    "        return True\n",
    "\n",
    "    for i in set(ransomNote): #avoid repeatation\n",
    "        if ransomNote.count(i) >  magazine.count(i):\n",
    "            return False\n",
    "    return True"
   ]
  },
  {
   "cell_type": "code",
   "execution_count": 24,
   "metadata": {},
   "outputs": [
    {
     "data": {
      "text/plain": [
       "False"
      ]
     },
     "execution_count": 24,
     "metadata": {},
     "output_type": "execute_result"
    }
   ],
   "source": [
    "ransomNote = \"fihjjjjei\"\n",
    "magazine = \"hjibagacbhadfaefdjaeaebgi\"\n",
    "canConstruct(ransomNote, magazine)        "
   ]
  },
  {
   "cell_type": "markdown",
   "metadata": {},
   "source": [
    "# 4. Number Complement"
   ]
  },
  {
   "cell_type": "markdown",
   "metadata": {},
   "source": [
    "Given a positive integer, output its complement number. The complement strategy is to flip the bits of its binary representation.\n",
    "\n",
    " \n",
    "\n",
    "Example 1:\n",
    "\n",
    "Input: 5  \n",
    "Output: 2  \n",
    "Explanation: The binary representation of 5 is 101 (no leading zero bits), and its complement is 010. So you need to output 2.  \n",
    "  \n",
    "\n",
    "Example 2:\n",
    "\n",
    "Input: 1  \n",
    "Output: 0  \n",
    "Explanation: The binary representation of 1 is 1 (no leading zero bits), and its complement is 0. So you need to output 0.\n",
    " "
   ]
  },
  {
   "cell_type": "markdown",
   "metadata": {},
   "source": [
    "**Solution1--XOR each bit**"
   ]
  },
  {
   "cell_type": "code",
   "execution_count": 30,
   "metadata": {},
   "outputs": [],
   "source": [
    "def findComplement(num) -> int:\n",
    "    i = 1\n",
    "    while i <= num:\n",
    "        num ^= i\n",
    "        i <<= 1\n",
    "    return num\n",
    "#XOR ^ -> 5^1^2^4 -> 0101^0001^0010^0100\n",
    "\n",
    "# Runtime: 32 ms\n",
    "# Memory Usage: 13.7 MB"
   ]
  },
  {
   "cell_type": "markdown",
   "metadata": {},
   "source": [
    "**Solution2--Create mask code**"
   ]
  },
  {
   "cell_type": "code",
   "execution_count": 37,
   "metadata": {},
   "outputs": [],
   "source": [
    "def findComplement2(num):\n",
    "    n=num\n",
    "    mask=1\n",
    "    while(n>0):\n",
    "        mask=mask<<1\n",
    "        n=n>>1\n",
    "    return (mask-1)^num"
   ]
  },
  {
   "cell_type": "markdown",
   "metadata": {},
   "source": [
    "**Solution3-- len(bin(num))-2 >> full bits 1 - num >> result**"
   ]
  },
  {
   "cell_type": "code",
   "execution_count": 40,
   "metadata": {},
   "outputs": [],
   "source": [
    "def findComplement3(num):\n",
    "    return num ^ 2 ** (len(bin(num))-2) - 1 #len(bin(num))-2 --- bits without 0 in front of list \n",
    "#Runtime: 28 ms\n",
    "#Memory Usage: 13.8 MB"
   ]
  },
  {
   "cell_type": "code",
   "execution_count": 48,
   "metadata": {},
   "outputs": [
    {
     "name": "stdout",
     "output_type": "stream",
     "text": [
      "2\n",
      "0\n"
     ]
    },
    {
     "data": {
      "text/plain": [
       "'0b101'"
      ]
     },
     "execution_count": 48,
     "metadata": {},
     "output_type": "execute_result"
    }
   ],
   "source": [
    "print(findComplement3(5))\n",
    "print(findComplement3(1))\n",
    "bin(5)"
   ]
  },
  {
   "cell_type": "markdown",
   "metadata": {},
   "source": [
    "# 5. First Unique Character in a String"
   ]
  },
  {
   "cell_type": "markdown",
   "metadata": {},
   "source": [
    "Given a string, find the first non-repeating character in it and return it's index. If it doesn't exist, return -1.  \n",
    "\n",
    "Examples:  \n",
    "s = \"leetcode\"  \n",
    "return 0.  \n",
    "\n",
    "s = \"loveleetcode\",  \n",
    "return 2.  \n",
    "\n",
    "Note: You may assume the string contain only lowercase letters."
   ]
  },
  {
   "cell_type": "markdown",
   "metadata": {},
   "source": [
    "**My Solution -- Violent Search**"
   ]
  },
  {
   "cell_type": "code",
   "execution_count": 33,
   "metadata": {},
   "outputs": [],
   "source": [
    "def firstUniqChar(s) -> int:\n",
    "    for i in s:\n",
    "        if s.count(i)==1:\n",
    "            return s.find(i)\n",
    "    return -1"
   ]
  },
  {
   "cell_type": "code",
   "execution_count": 43,
   "metadata": {},
   "outputs": [],
   "source": [
    "def firstUniqChar2(s) -> int:\n",
    "    for i in range(len(s)):\n",
    "        if s.count(s[i])==1:\n",
    "            return i\n",
    "    return -1"
   ]
  },
  {
   "cell_type": "markdown",
   "metadata": {},
   "source": [
    "**Solution3 - Use collections.defaultdict, trannversal in s, append every index to element**"
   ]
  },
  {
   "cell_type": "code",
   "execution_count": 91,
   "metadata": {},
   "outputs": [],
   "source": [
    "def firstUniqChar3(s) -> int:\n",
    "    from collections import defaultdict\n",
    "    d = defaultdict(list)\n",
    "    for i in range(len(s)):\n",
    "        d[s[i]].append(i)\n",
    "    for j in d:\n",
    "        if len(d[j])==1: #letter have only 1 index ,return it\n",
    "            return d[j][0]\n",
    "    return -1"
   ]
  },
  {
   "cell_type": "markdown",
   "metadata": {},
   "source": [
    "**Solution4 - Use collections.Counter, count num of each letter. tranversal in s, return its index if count=1**"
   ]
  },
  {
   "cell_type": "code",
   "execution_count": 97,
   "metadata": {},
   "outputs": [],
   "source": [
    "def firstUniqChar4(s) -> int:\n",
    "    from collections import Counter \n",
    "    d = Counter(s)\n",
    "    for i in range(len(s)):\n",
    "        if d[s[i]] == 1:\n",
    "            return i\n",
    "    return -1"
   ]
  },
  {
   "cell_type": "markdown",
   "metadata": {},
   "source": [
    "**Solution5 - base on Solution4, enumerate >> (index,every letter)**"
   ]
  },
  {
   "cell_type": "code",
   "execution_count": 107,
   "metadata": {},
   "outputs": [],
   "source": [
    "def firstUniqChar5(s) -> int:\n",
    "    from collections import Counter\n",
    "    d = Counter(s)\n",
    "    for i,j in enumerate(s):\n",
    "        if d[j]==1:\n",
    "            return i\n",
    "    return -1"
   ]
  },
  {
   "cell_type": "code",
   "execution_count": 111,
   "metadata": {},
   "outputs": [
    {
     "name": "stdout",
     "output_type": "stream",
     "text": [
      "Counter({'e': 3, 'l': 1, 't': 1, 'c': 1, 'o': 1, 'd': 1})\n"
     ]
    },
    {
     "data": {
      "text/plain": [
       "0"
      ]
     },
     "execution_count": 111,
     "metadata": {},
     "output_type": "execute_result"
    }
   ],
   "source": [
    "s = \"leetcode\"\n",
    "firstUniqChar5(s)"
   ]
  },
  {
   "cell_type": "markdown",
   "metadata": {},
   "source": [
    "# 6. Majority Element"
   ]
  },
  {
   "cell_type": "markdown",
   "metadata": {},
   "source": [
    "Given an array of size n, find the majority element. The majority element is the element that appears more than ⌊ n/2 ⌋ times.    \n",
    "You may assume that the array is non-empty and the majority element always exist in the array.  \n",
    "\n",
    "Example 1:  \n",
    "Input: [3,2,3]  \n",
    "Output: 3  \n",
    "\n",
    "Example 2:  \n",
    "Input: [2,2,1,1,1,2,2]  \n",
    "Output: 2"
   ]
  },
  {
   "cell_type": "markdown",
   "metadata": {},
   "source": [
    "**MY SOLUTION - collections.Counter+Hash, totally master this method!!!**"
   ]
  },
  {
   "cell_type": "code",
   "execution_count": 12,
   "metadata": {},
   "outputs": [],
   "source": [
    "def majorityElement(nums) -> int:\n",
    "    from collections import Counter \n",
    "    d = Counter(nums)\n",
    "    for num in nums:\n",
    "        if d[num] > len(nums)/2:\n",
    "            return num\n",
    "# Runtime: 160 ms\n",
    "# Memory Usage: 15.2 MB"
   ]
  },
  {
   "cell_type": "code",
   "execution_count": 25,
   "metadata": {},
   "outputs": [],
   "source": [
    "def majorityElement2(nums) -> int:\n",
    "    d = dict()\n",
    "    for i in range(len(nums)):\n",
    "        if nums[i] not in d:\n",
    "            d[nums[i]] = 1\n",
    "        else:\n",
    "            d[nums[i]] += 1\n",
    "        if d[nums[i]] > len(nums)/2:\n",
    "            return nums[i] \n",
    "# Runtime: 192 ms\n",
    "# Memory Usage: 15.2 MB"
   ]
  },
  {
   "cell_type": "code",
   "execution_count": 26,
   "metadata": {},
   "outputs": [
    {
     "data": {
      "text/plain": [
       "2"
      ]
     },
     "execution_count": 26,
     "metadata": {},
     "output_type": "execute_result"
    }
   ],
   "source": [
    "nums1 = [3,2,3]\n",
    "nums2 = [2,2,1,1,1,2,2]\n",
    "majorityElement2(nums2)"
   ]
  },
  {
   "cell_type": "markdown",
   "metadata": {},
   "source": [
    "# 7. Cousins in Binary Tree"
   ]
  },
  {
   "cell_type": "markdown",
   "metadata": {},
   "source": [
    "In a binary tree, the root node is at depth 0, and children of each depth k node are at depth k+1.  \n",
    "Two nodes of a binary tree are cousins if they have the same depth, but have different parents.  \n",
    "We are given the root of a binary tree with unique values, and the values x and y of two different nodes in the tree.  \n",
    "Return true if and only if the nodes corresponding to the values x and y are cousins."
   ]
  },
  {
   "cell_type": "code",
   "execution_count": 11,
   "metadata": {},
   "outputs": [
    {
     "data": {
      "image/jpeg": "[encoded data removed]",
      "text/plain": [
       "<IPython.core.display.Image object>"
      ]
     },
     "execution_count": 11,
     "metadata": {
      "image/jpeg": {
       "height": 120,
       "width": 120
      }
     },
     "output_type": "execute_result"
    }
   ],
   "source": [
    "from IPython.display import Image\n",
    "Image(filename = '.\\Cousins in Binary Tree_Example1.jpg', width=120, height=120)"
   ]
  },
  {
   "cell_type": "markdown",
   "metadata": {},
   "source": [
    "Input: root = [1,2,3,4], x = 4, y = 3  \n",
    "Output: false"
   ]
  },
  {
   "cell_type": "markdown",
   "metadata": {},
   "source": [
    "**DFS**"
   ]
  },
  {
   "cell_type": "code",
   "execution_count": null,
   "metadata": {},
   "outputs": [],
   "source": [
    "# Definition for a binary tree node.\n",
    "# class TreeNode:\n",
    "#     def __init__(self, val=0, left=None, right=None):\n",
    "#         self.val = val\n",
    "#         self.left = left\n",
    "#         self.right = right\n",
    "class Solution:\n",
    "    def isCousins(self, root: TreeNode, x: int, y: int) -> bool:\n",
    "        from collections import defaultdict\n",
    "        self.d = collections.defaultdict(tuple) #record parent and depth of each node\n",
    "        self.dfs(root,None,0) #initialization\n",
    "        px,dx = self.d[x]\n",
    "        py,dy = self.d[y]\n",
    "        return px==py and dx==dy\n",
    "        \n",
    "    def dfs(self,root,parent,depth):\n",
    "        if not root: return\n",
    "        self.d[root.val] = (parent,depth)\n",
    "        self.dfs(root.left,root,depth+1)\n",
    "        self.dfs(root.right,root,depth+1)       "
   ]
  },
  {
   "cell_type": "markdown",
   "metadata": {},
   "source": [
    "**BFS**"
   ]
  },
  {
   "cell_type": "code",
   "execution_count": null,
   "metadata": {},
   "outputs": [],
   "source": [
    "# Definition for a binary tree node.\n",
    "# class TreeNode:\n",
    "#     def __init__(self, val=0, left=None, right=None):\n",
    "#         self.val = val\n",
    "#         self.left = left\n",
    "#         self.right = right\n",
    "class Solution:\n",
    "    def isCousins(self, root: TreeNode, x: int, y: int) -> bool:\n",
    "        import collections\n",
    "        m = collections.defaultdict(tuple)\n",
    "        q = collections.deque()\n",
    "        q.append((root, None))\n",
    "        depth = 0\n",
    "        while q:\n",
    "            for i in range(len(q)):\n",
    "                node, p = q.popleft()\n",
    "                if not node: continue\n",
    "                m[node.val] = (p, depth)\n",
    "                q.append((node.left, node))\n",
    "                q.append((node.right, node))\n",
    "            depth += 1\n",
    "        px, dx = m[x]\n",
    "        py, dy = m[y]\n",
    "        return dx == dy and px != py"
   ]
  }
 ],
 "metadata": {
  "kernelspec": {
   "display_name": "Python 3",
   "language": "python",
   "name": "python3"
  },
  "language_info": {
   "codemirror_mode": {
    "name": "ipython",
    "version": 3
   },
   "file_extension": ".py",
   "mimetype": "text/x-python",
   "name": "python",
   "nbconvert_exporter": "python",
   "pygments_lexer": "ipython3",
   "version": "3.6.9"
  }
 },
 "nbformat": 4,
 "nbformat_minor": 2
}

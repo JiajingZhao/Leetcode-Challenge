{
 "cells": [
  {
   "cell_type": "code",
   "execution_count": 1,
   "metadata": {},
   "outputs": [],
   "source": [
    "from IPython.core.interactiveshell import InteractiveShell\n",
    "InteractiveShell.ast_node_interactivity = \"all\""
   ]
  },
  {
   "cell_type": "markdown",
   "metadata": {},
   "source": [
    "# 1. Arranging Coins\n",
    "\n",
    "You have a total of n coins that you want to form in a staircase shape, where every k-th row must have exactly k coins. \n",
    "Given n, find the total number of full staircase rows that can be formed.  \n",
    "n is a non-negative integer and fits within the range of a 32-bit signed integer.\n",
    "\n",
    "Example 1:  \n",
    "n = 5  \n",
    "The coins can form the following rows:  \n",
    "¤  \n",
    "¤ ¤  \n",
    "¤ ¤    \n",
    "Because the 3rd row is incomplete, we return 2.  \n",
    "\n",
    "Example 2:  \n",
    "n = 8    \n",
    "The coins can form the following rows:  \n",
    "¤  \n",
    "¤ ¤  \n",
    "¤ ¤ ¤  \n",
    "¤ ¤    \n",
    "Because the 4th row is incomplete, we return 3.\n",
    "\n",
    "### Idea:\n",
    "1. Binary Search"
   ]
  },
  {
   "cell_type": "code",
   "execution_count": 36,
   "metadata": {},
   "outputs": [
    {
     "data": {
      "text/plain": [
       "2"
      ]
     },
     "execution_count": 36,
     "metadata": {},
     "output_type": "execute_result"
    },
    {
     "data": {
      "text/plain": [
       "1"
      ]
     },
     "execution_count": 36,
     "metadata": {},
     "output_type": "execute_result"
    }
   ],
   "source": [
    "def arrangeCoins(n: int) -> int:\n",
    "    k = 0\n",
    "    while k*(k+1)/2 <= n:\n",
    "        k += 1\n",
    "    return k-1\n",
    "\n",
    "def arrangeCoins2(n: int) -> int:    \n",
    "    l, r = 0, n\n",
    "    while l <= r:\n",
    "        m = (l + r) // 2\n",
    "        if m * (m + 1) / 2 > n:\n",
    "            r = m - 1\n",
    "        else:\n",
    "            l = m + 1\n",
    "    return r\n",
    "\n",
    "def arrangeCoins3(n: int) -> int:    \n",
    "    l, r = 0, n\n",
    "    while l <= r:\n",
    "        m = (l + r) // 2\n",
    "        if m * (m + 1) / 2 < n:\n",
    "            l = m + 1\n",
    "        else:\n",
    "            r = m - 1\n",
    "    return l - 1\n",
    "    \n",
    "arrangeCoins3(n=5)\n",
    "arrangeCoins3(n=2)"
   ]
  },
  {
   "cell_type": "markdown",
   "metadata": {},
   "source": [
    "# 2. Binary Tree Level Order Traversal II\n",
    "\n",
    "Given a binary tree, return the bottom-up level order traversal of its nodes' values. (ie, from left to right, level by level from leaf to root).\n",
    "\n",
    "For example:\n",
    "Given binary tree [3,9,20,null,null,15,7],\n",
    "return its bottom-up level order traversal as:\n",
    "[\n",
    "  [15,7],\n",
    "  [9,20],\n",
    "  [3]\n",
    "]"
   ]
  },
  {
   "cell_type": "code",
   "execution_count": null,
   "metadata": {},
   "outputs": [],
   "source": [
    "# Definition for a binary tree node.\n",
    "# class TreeNode:\n",
    "#     def __init__(self, val=0, left=None, right=None):\n",
    "#         self.val = val\n",
    "#         self.left = left\n",
    "#         self.right = right\n",
    "class Solution:\n",
    "    def levelOrderBottom(self, root: TreeNode) -> List[List[int]]:\n",
    "        if not root:\n",
    "            return []\n",
    "        curr, result = [root],[]\n",
    "        \n",
    "        while curr:\n",
    "            next_level,vals = [],[]\n",
    "            for node in curr:\n",
    "                vals.append(node.val)\n",
    "            if node.left:\n",
    "                next_level.append(node.left)\n",
    "            if node.right:\n",
    "                next_level.append(node.right)\n",
    "            result.append(vals)\n",
    "            curr = next_level\n",
    "        return result[::-1]"
   ]
  },
  {
   "cell_type": "markdown",
   "metadata": {},
   "source": [
    "# 3. Prison Cells After N Days\n",
    "\n",
    "There are 8 prison cells in a row, and each cell is either occupied or vacant.  \n",
    "Each day, whether the cell is occupied or vacant changes according to the following rules:  \n",
    "If a cell has two adjacent neighbors that are both occupied or both vacant, then the cell becomes occupied.\n",
    "Otherwise, it becomes vacant.\n",
    "(Note that because the prison is a row, the first and the last cells in the row can't have two adjacent neighbors.)  \n",
    "We describe the current state of the prison in the following way: cells[i] == 1 if the i-th cell is occupied, else cells[i] == 0.  \n",
    "Given the initial state of the prison, return the state of the prison after N days (and N such changes described above.)\n",
    "\n",
    "Example 1:  \n",
    "Input: cells = [0,1,0,1,1,0,0,1], N = 7  \n",
    "Output: [0,0,1,1,0,0,0,0]  \n",
    "Explanation:   \n",
    "The following table summarizes the state of the prison on each day:  \n",
    "Day 0: [0, 1, 0, 1, 1, 0, 0, 1]  \n",
    "Day 1: [0, 1, 1, 0, 0, 0, 0, 0]  \n",
    "Day 2: [0, 0, 0, 0, 1, 1, 1, 0]  \n",
    "Day 3: [0, 1, 1, 0, 0, 1, 0, 0]  \n",
    "Day 4: [0, 0, 0, 0, 0, 1, 0, 0]  \n",
    "Day 5: [0, 1, 1, 1, 0, 1, 0, 0]  \n",
    "Day 6: [0, 0, 1, 0, 1, 1, 0, 0]  \n",
    "Day 7: [0, 0, 1, 1, 0, 0, 0, 0]  \n",
    "\n",
    "Example 2:  \n",
    "Input: cells = [1,0,0,1,0,0,1,0], N = 1000000000  \n",
    "Output: [0,0,1,1,1,1,1,0]  \n",
    " \n",
    "Note:  \n",
    "cells.length == 8  \n",
    "cells[i] is in {0, 1}  \n",
    "\n",
    "### Idea: - find the cycling period = 14\n",
    "- cells[0],cells[-1] = 0\n",
    "- "
   ]
  },
  {
   "cell_type": "code",
   "execution_count": 27,
   "metadata": {},
   "outputs": [
    {
     "data": {
      "text/plain": [
       "[0, 0, 1, 1, 0, 0, 0, 0]"
      ]
     },
     "execution_count": 27,
     "metadata": {},
     "output_type": "execute_result"
    },
    {
     "data": {
      "text/plain": [
       "[0, 0, 1, 1, 1, 1, 1, 0]"
      ]
     },
     "execution_count": 27,
     "metadata": {},
     "output_type": "execute_result"
    }
   ],
   "source": [
    "def prisonAfterNDays(cells, N):\n",
    "    N %= 14\n",
    "    if N == 0:\n",
    "        N == 14\n",
    "    count = 0\n",
    "    while count < N:\n",
    "        newcell = [0] * 8\n",
    "        for i in range(1,len(cells)-1):\n",
    "            if cells[i-1] == cells[i+1]:\n",
    "                newcell[i] = 1\n",
    "            else:\n",
    "                newcell[i] = 0\n",
    "        cells = newcell\n",
    "        count += 1\n",
    "    return cells\n",
    "\n",
    "cells = [0,1,0,1,1,0,0,1];N = 7  \n",
    "prisonAfterNDays(cells, N)"
   ]
  },
  {
   "cell_type": "code",
   "execution_count": 34,
   "metadata": {},
   "outputs": [
    {
     "name": "stdout",
     "output_type": "stream",
     "text": [
      "[0, 0, 0, 1, 0, 0, 1, 0] 999999999\n",
      "[0, 1, 0, 1, 0, 0, 1, 0] 999999998\n",
      "[0, 1, 1, 1, 0, 0, 1, 0] 999999997\n",
      "[0, 0, 1, 0, 0, 0, 1, 0] 999999996\n",
      "[0, 0, 1, 0, 1, 0, 1, 0] 999999995\n",
      "[0, 0, 1, 1, 1, 1, 1, 0] 999999994\n",
      "[0, 0, 0, 1, 1, 1, 0, 0] 999999993\n",
      "[0, 1, 0, 0, 1, 0, 0, 0] 999999992\n",
      "[0, 1, 0, 0, 1, 0, 1, 0] 999999991\n",
      "[0, 1, 0, 0, 1, 1, 1, 0] 999999990\n",
      "[0, 1, 0, 0, 0, 1, 0, 0] 999999989\n",
      "[0, 1, 0, 1, 0, 1, 0, 0] 999999988\n",
      "[0, 1, 1, 1, 1, 1, 0, 0] 999999987\n",
      "[0, 0, 1, 1, 1, 0, 0, 0] 999999986\n",
      "[[0, 0, 0, 1, 0, 0, 1, 0], [0, 1, 0, 1, 0, 0, 1, 0], [0, 1, 1, 1, 0, 0, 1, 0], [0, 0, 1, 0, 0, 0, 1, 0], [0, 0, 1, 0, 1, 0, 1, 0], [0, 0, 1, 1, 1, 1, 1, 0], [0, 0, 0, 1, 1, 1, 0, 0], [0, 1, 0, 0, 1, 0, 0, 0], [0, 1, 0, 0, 1, 0, 1, 0], [0, 1, 0, 0, 1, 1, 1, 0], [0, 1, 0, 0, 0, 1, 0, 0], [0, 1, 0, 1, 0, 1, 0, 0], [0, 1, 1, 1, 1, 1, 0, 0], [0, 0, 1, 1, 1, 0, 0, 0]]\n"
     ]
    },
    {
     "data": {
      "text/plain": [
       "[0, 0, 1, 1, 1, 1, 1, 0]"
      ]
     },
     "execution_count": 34,
     "metadata": {},
     "output_type": "execute_result"
    }
   ],
   "source": [
    "def prisonAfterNDays(cells, N):\n",
    "    ls_all=[]\n",
    "    while N:\n",
    "        temp_arr=[0]\n",
    "        #print(step_num)\n",
    "        for i in range(len(cells)-2):\n",
    "            if cells[i]==cells[i+2]:\n",
    "                temp_arr.append(1)\n",
    "            else:\n",
    "                temp_arr.append(0)\n",
    "        temp_arr.append(0)\n",
    "        if temp_arr in ls_all:\n",
    "            break\n",
    "        else:\n",
    "            ls_all.append(temp_arr)\n",
    "        N-=1\n",
    "        print(temp_arr,N)\n",
    "        cells=temp_arr\n",
    "    print(ls_all)\n",
    "    return ls_all[N %len(ls_all)-1]\n",
    "\n",
    "cells = [1,0,0,1,0,0,1,0]; N = 1000000000 \n",
    "prisonAfterNDays(cells, N)"
   ]
  },
  {
   "cell_type": "code",
   "execution_count": null,
   "metadata": {},
   "outputs": [],
   "source": []
  }
 ],
 "metadata": {
  "kernelspec": {
   "display_name": "Python 3",
   "language": "python",
   "name": "python3"
  },
  "language_info": {
   "codemirror_mode": {
    "name": "ipython",
    "version": 3
   },
   "file_extension": ".py",
   "mimetype": "text/x-python",
   "name": "python",
   "nbconvert_exporter": "python",
   "pygments_lexer": "ipython3",
   "version": "3.6.9"
  }
 },
 "nbformat": 4,
 "nbformat_minor": 2
}

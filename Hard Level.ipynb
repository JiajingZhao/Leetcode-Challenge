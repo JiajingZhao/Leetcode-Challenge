{
 "cells": [
  {
   "cell_type": "code",
   "execution_count": 1,
   "metadata": {},
   "outputs": [],
   "source": [
    "from IPython.core.interactiveshell import InteractiveShell\n",
    "InteractiveShell.ast_node_interactivity = \"all\""
   ]
  },
  {
   "cell_type": "markdown",
   "metadata": {},
   "source": [
    "# 1537. Get the Maximum Score\n",
    "\n",
    "You are given two sorted arrays of distinct integers nums1 and nums2.  \n",
    "\n",
    "A valid path is defined as follows:  有效路径遍历的规则：  \n",
    "Choose array nums1 or nums2 to traverse (from index-0). 从index为0的nums1或nums2开始遍历，  \n",
    "Traverse the current array from left to right. 从左向右，  \n",
    "If you are reading any value that is present in nums1 and nums2 you are allowed to change your path to the other array. (Only one repeated value is considered in the valid path). 如果遇到相同数值节点，可以改变路径，  \n",
    "Score is defined as the sum of uniques values in a valid path.   \n",
    "Return the maximum score you can obtain of all possible valid paths. 最终valid path的元素是unique，返回valid path的sum    \n",
    "Since the answer may be too large, return it modulo 10^9 + 7. 如果结果非常大，则返回10^9 + 7\n",
    "\n",
    "Example 1:  \n",
    "Input: nums1 = [2,4,5,8,10], nums2 = [4,6,8,9]  \n",
    "Output: 30  \n",
    "Explanation: Valid paths:  \n",
    "[2,4,5,8,10], [2,4,5,8,9], [2,4,6,8,9], [2,4,6,8,10],  (starting from nums1)  \n",
    "[4,6,8,9], [4,5,8,10], [4,5,8,9], [4,6,8,10]    (starting from nums2)  \n",
    "The maximum is obtained with the path in green [2,4,6,8,10].  \n",
    "\n",
    "Example 2:  \n",
    "Input: nums1 = [1,3,5,7,9], nums2 = [3,5,100]  \n",
    "Output: 109  \n",
    "Explanation: Maximum sum is obtained with the path [1,3,5,100].  \n",
    "\n",
    "Example 3:  \n",
    "Input: nums1 = [1,2,3,4,5], nums2 = [6,7,8,9,10]  \n",
    "Output: 40  \n",
    "Explanation: There are no common elements between nums1 and nums2.  \n",
    "Maximum sum is obtained with the path [6,7,8,9,10].  \n",
    "\n",
    "Example 4:  \n",
    "Input: nums1 = [1,4,5,8,9,11,19], nums2 = [2,3,4,11,12]  \n",
    "Output: 61\n",
    " \n",
    "Constraints:  \n",
    "1 <= nums1.length <= 10^5  \n",
    "1 <= nums2.length <= 10^5  \n",
    "1 <= nums1[i], nums2[i] <= 10^7  \n",
    "nums1 and nums2 are strictly increasing. \n",
    "\n",
    "### Idea:\n",
    "- before meeting the common num (smaller than the common num), we keep moving forward in one path and sum. "
   ]
  },
  {
   "cell_type": "code",
   "execution_count": 14,
   "metadata": {},
   "outputs": [
    {
     "name": "stdout",
     "output_type": "stream",
     "text": [
      "1 0 1\n",
      "4 4 4\n",
      "9 9 9\n",
      "16 9 16\n",
      "25 9 25\n",
      "25 109 109\n"
     ]
    },
    {
     "data": {
      "text/plain": [
       "109"
      ]
     },
     "execution_count": 14,
     "metadata": {},
     "output_type": "execute_result"
    }
   ],
   "source": [
    "def maxSum(nums1, nums2) -> int:\n",
    "    \n",
    "    i,j,m,n = 0,0,len(nums1),len(nums2) # define the boudary\n",
    "    a, b , mod = 0, 0, 10**9+7 # temporay variable\n",
    "    \n",
    "    while i<m or j<n:\n",
    "        #senario 1, to keep add num as most, and when another path ends, keep addition \n",
    "        if i < m and (j == n or nums1[i] < nums2[j]): \n",
    "            a += nums1[i]\n",
    "            i += 1\n",
    "           \n",
    "        #senario 2\n",
    "        elif j < n and (i == m or nums1[i] > nums2[j]):\n",
    "            b += nums2[j]\n",
    "            j += 1\n",
    "       \n",
    "        # common num, choose the largest path before it + add the current common num, and donot forget update the index\n",
    "        else:\n",
    "            a = b = max(a,b) + nums1[i]\n",
    "            i += 1\n",
    "            j += 1\n",
    "        print(a,b,max(a,b))\n",
    "    return max(a,b) % mod #min(max(a,b),mod)\n",
    "            \n",
    "nums1 = [1,3,5,7,9]; nums2 = [3,5,100]           \n",
    "maxSum(nums1, nums2)          "
   ]
  }
 ],
 "metadata": {
  "kernelspec": {
   "display_name": "Python 3",
   "language": "python",
   "name": "python3"
  },
  "language_info": {
   "codemirror_mode": {
    "name": "ipython",
    "version": 3
   },
   "file_extension": ".py",
   "mimetype": "text/x-python",
   "name": "python",
   "nbconvert_exporter": "python",
   "pygments_lexer": "ipython3",
   "version": "3.6.9"
  }
 },
 "nbformat": 4,
 "nbformat_minor": 2
}

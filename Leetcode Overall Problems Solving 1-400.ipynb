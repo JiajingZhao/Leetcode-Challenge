{
 "cells": [
  {
   "cell_type": "code",
   "execution_count": 1,
   "metadata": {},
   "outputs": [],
   "source": [
    "from IPython.core.interactiveshell import InteractiveShell\n",
    "InteractiveShell.ast_node_interactivity = \"all\" "
   ]
  },
  {
   "cell_type": "markdown",
   "metadata": {},
   "source": [
    "# 1. Two Sum  "
   ]
  },
  {
   "cell_type": "markdown",
   "metadata": {},
   "source": [
    "Given an array of integers, return indices of the two numbers such that they add up to a specific target.  \n",
    "You may assume that each input would have exactly one solution, and you may not use the same element twice. \n",
    "Example:    \n",
    "Given nums = [2, 7, 11, 15], target = 9,  \n",
    "Because nums[0] + nums[1] = 2 + 7 = 9,  \n",
    "return [0, 1]."
   ]
  },
  {
   "cell_type": "markdown",
   "metadata": {},
   "source": [
    "**Solution1— two for loop**"
   ]
  },
  {
   "cell_type": "code",
   "execution_count": 6,
   "metadata": {},
   "outputs": [],
   "source": [
    "def twoSum(nums, target):\n",
    "    for i in range(len(nums)):\n",
    "        for j in range(i+1,len(nums)):\n",
    "            if nums[i]+nums[j]==target:\n",
    "                return i,j"
   ]
  },
  {
   "cell_type": "markdown",
   "metadata": {},
   "source": [
    "**Solution2— dict() store (target-val) and index**"
   ]
  },
  {
   "cell_type": "code",
   "execution_count": 55,
   "metadata": {},
   "outputs": [],
   "source": [
    "def twoSum2(nums, target):\n",
    "    d = dict()\n",
    "    for i,num in enumerate(nums):\n",
    "        if num in d:\n",
    "            return [d[num],i]\n",
    "        else:\n",
    "            d[target-num] = i"
   ]
  },
  {
   "cell_type": "code",
   "execution_count": null,
   "metadata": {},
   "outputs": [],
   "source": [
    "nums = [2, 7, 11, 15]\n",
    "target = 9\n",
    "twoSum2(nums, target)"
   ]
  },
  {
   "cell_type": "markdown",
   "metadata": {},
   "source": [
    "# 2. Add Two Numbers\n",
    "\n",
    "You are given two non-empty linked lists representing two non-negative integers. The digits are stored in reverse order and each of their nodes contain a single digit. Add the two numbers and return it as a linked list.\n",
    "\n",
    "You may assume the two numbers do not contain any leading zero, except the number 0 itself.\n",
    "\n",
    "Example: \n",
    "Input: (2 -> 4 -> 3) + (5 -> 6 -> 4)  \n",
    "Output: 7 -> 0 -> 8  \n",
    "Explanation: 342 + 465 = 807.\n",
    "\n",
    "### Idea:\n",
    "\n",
    "- initialize carry, dummy,p\n",
    "- while loop l1 and l2\n",
    "    - consider carry，sum//10 >> carry, sum%10 >> curr digit\n",
    "    - update p,l1,l2\n",
    "- if l1 longer or ..\n",
    "- at last, if carry = 1, add it."
   ]
  },
  {
   "cell_type": "code",
   "execution_count": null,
   "metadata": {},
   "outputs": [],
   "source": [
    "# Definition for singly-linked list.\n",
    "# class ListNode:\n",
    "#     def __init__(self, val=0, next=None):\n",
    "#         self.val = val\n",
    "#         self.next = next\n",
    "def addTwoNumbers(self, l1: ListNode, l2: ListNode) -> ListNode:\n",
    "    if not l1:\n",
    "        return l2\n",
    "    if not l2:\n",
    "        return l1\n",
    "    \n",
    "    # initialize node ,carry\n",
    "    carry = 0\n",
    "    p = dummy = ListNode(0)\n",
    "    \n",
    "    while l1 and l2:\n",
    "        p.next = ListNode((l1.val + l2.val + carry)%10)\n",
    "        carry = (l1.val + l2.val + carry)//10\n",
    "        l1 = l1.next\n",
    "        l2 = l2.next\n",
    "        p = p.next\n",
    "    if l2:\n",
    "        while l2:\n",
    "            p.next = ListNode((l2.val + carry) % 10)\n",
    "            carry = (l2.val + carry) // 10\n",
    "            l2 = l2.next\n",
    "            p = p.next\n",
    "    if l1:\n",
    "        while l1:\n",
    "            p.next = ListNode((l1.val + carry) % 10)\n",
    "            carry = (l1.val + carry) // 10\n",
    "            l1 = l1.next\n",
    "            p = p.next\n",
    "    if carry == 1:\n",
    "        p.next = ListNode(1)\n",
    "    return dummy.next"
   ]
  },
  {
   "cell_type": "markdown",
   "metadata": {},
   "source": [
    "# 3. Longest Substring Without Repeating Characters\n",
    "\n",
    "Given a string, find the length of the longest substring without repeating characters.\n",
    "\n",
    "Example 1:  \n",
    "Input: \"abcabcbb\"  \n",
    "Output: 3   \n",
    "Explanation: The answer is \"abc\", with the length of 3. \n",
    "\n",
    "Example 2:  \n",
    "Input: \"bbbbb\"  \n",
    "Output: 1  \n",
    "Explanation: The answer is \"b\", with the length of 1.\n",
    "\n",
    "Example 3:  \n",
    "Input: \"pwwkew\"  \n",
    "Output: 3  \n",
    "Explanation: The answer is \"wke\", with the length of 3.   \n",
    "Note that the answer must be a substring, \"pwke\" is a subsequence and not a substring.\n",
    "\n",
    "# Idea: \n",
    "- dict\n",
    "- traversal in str\n",
    "    - if char showed before, count from there, \n",
    "    - count, record the max"
   ]
  },
  {
   "cell_type": "code",
   "execution_count": 32,
   "metadata": {},
   "outputs": [],
   "source": [
    "def lengthOfLongestSubstring(s: str) -> int:\n",
    "    if len(s) == 1:\n",
    "        return 1\n",
    "    start = -1\n",
    "    max = 0\n",
    "    d = {}\n",
    "    \n",
    "    for i in range(len(s)):\n",
    "        if s[i] in d and d[s[i]]>start:\n",
    "            start = d[s[i]]\n",
    "            d[s[i]] = i\n",
    "            print(d,i,start)\n",
    "            \n",
    "        else: \n",
    "            d[s[i]] = i\n",
    "            if i  - start > max:\n",
    "                max = i - start\n",
    "            print(d,i,start)\n",
    "    return max          "
   ]
  },
  {
   "cell_type": "code",
   "execution_count": 33,
   "metadata": {},
   "outputs": [
    {
     "name": "stdout",
     "output_type": "stream",
     "text": [
      "{'a': 0} 0 -1\n",
      "{'a': 0, 'u': 1} 1 -1\n"
     ]
    },
    {
     "data": {
      "text/plain": [
       "2"
      ]
     },
     "execution_count": 33,
     "metadata": {},
     "output_type": "execute_result"
    },
    {
     "name": "stdout",
     "output_type": "stream",
     "text": [
      "{'p': 0} 0 -1\n",
      "{'p': 0, 'w': 1} 1 -1\n",
      "{'p': 0, 'w': 2} 2 1\n",
      "{'p': 0, 'w': 2, 'k': 3} 3 1\n",
      "{'p': 0, 'w': 2, 'k': 3, 'e': 4} 4 1\n",
      "{'p': 0, 'w': 5, 'k': 3, 'e': 4} 5 2\n"
     ]
    },
    {
     "data": {
      "text/plain": [
       "3"
      ]
     },
     "execution_count": 33,
     "metadata": {},
     "output_type": "execute_result"
    },
    {
     "name": "stdout",
     "output_type": "stream",
     "text": [
      "{'b': 0} 0 -1\n",
      "{'b': 1} 1 0\n",
      "{'b': 2} 2 1\n",
      "{'b': 3} 3 2\n",
      "{'b': 4} 4 3\n"
     ]
    },
    {
     "data": {
      "text/plain": [
       "1"
      ]
     },
     "execution_count": 33,
     "metadata": {},
     "output_type": "execute_result"
    },
    {
     "name": "stdout",
     "output_type": "stream",
     "text": [
      "{'d': 0} 0 -1\n",
      "{'d': 0, 'v': 1} 1 -1\n",
      "{'d': 2, 'v': 1} 2 0\n",
      "{'d': 2, 'v': 1, 'f': 3} 3 0\n"
     ]
    },
    {
     "data": {
      "text/plain": [
       "3"
      ]
     },
     "execution_count": 33,
     "metadata": {},
     "output_type": "execute_result"
    }
   ],
   "source": [
    "s = \"au\"\n",
    "lengthOfLongestSubstring(s)\n",
    "s = \"pwwkew\"\n",
    "lengthOfLongestSubstring(s)\n",
    "s = \"bbbbb\"\n",
    "lengthOfLongestSubstring(s)\n",
    "s = \"dvdf\"\n",
    "lengthOfLongestSubstring(s)"
   ]
  },
  {
   "cell_type": "markdown",
   "metadata": {},
   "source": [
    "# 5. Longest Palindromic Substring !!! - DP\n",
    "\n",
    "Given a string s, find the longest palindromic substring in s. You may assume that the maximum length of s is 1000.\n",
    "\n",
    "Example 1:\n",
    "Input: \"babad\"  \n",
    "Output: \"bab\"  \n",
    "Note: \"aba\" is also a valid answer.\n",
    "\n",
    "Example 2:  \n",
    "Input: \"cbbd\"  \n",
    "Output: \"bb\"\n",
    "\n",
    "### Idea:  1. aba 2.abba\n",
    "- main func : \n",
    "    - traversal each point in str\n",
    "    - helper func\n",
    "    - update the longest Palindrome of 2 ways above\n",
    "- helper func: 向两边扩展 while loop, return qualfied Palindrome"
   ]
  },
  {
   "cell_type": "code",
   "execution_count": 93,
   "metadata": {},
   "outputs": [],
   "source": [
    "def longestPalindrome(s: str) -> str:\n",
    "    # initialize, traversal each point in str,getgetlongestPalindrome\n",
    "    # consider 2 cases 1. aba 2. abba\n",
    "    Palindrome = \"\"\n",
    "    for i in range(len(s)):\n",
    "        res1 = getlongestPalindrome(s,i,i)\n",
    "        if len(res1) > len(Palindrome):\n",
    "            Palindrome = res1\n",
    "\n",
    "        res2 = getlongestPalindrome(s,i,i+1)\n",
    "        if len(res2) > len(Palindrome):\n",
    "            Palindrome = res2\n",
    "    return Palindrome   \n",
    "\n",
    "def getlongestPalindrome(s,l,r):\n",
    "    while l >= 0 and r < len(s) and s[l]==s[r]:\n",
    "        l -= 1\n",
    "        r += 1\n",
    "    return s[l+1:r]  "
   ]
  },
  {
   "cell_type": "code",
   "execution_count": 95,
   "metadata": {},
   "outputs": [
    {
     "data": {
      "text/plain": [
       "'bab'"
      ]
     },
     "execution_count": 95,
     "metadata": {},
     "output_type": "execute_result"
    }
   ],
   "source": [
    "longestPalindrome(s=\"babad\")"
   ]
  },
  {
   "cell_type": "markdown",
   "metadata": {},
   "source": [
    "# 7. Reverse Integer"
   ]
  },
  {
   "cell_type": "markdown",
   "metadata": {},
   "source": [
    "Given a 32-bit signed integer, reverse digits of an integer.\n",
    "\n",
    "Example 1:  \n",
    "Input: 123  \n",
    "Output: 321\n",
    "\n",
    "Example 2:  \n",
    "Input: -123  \n",
    "Output: -321  \n",
    "\n",
    "Example 3:  \n",
    "Input: 120  \n",
    "Output: 21  \n",
    "\n",
    "Note:  \n",
    "Assume we are dealing with an environment which could only store integers within the 32-bit signed integer range: [−2^31,  2^31 − 1]. For the purpose of this problem, assume that your function returns 0 when the reversed integer overflows."
   ]
  },
  {
   "cell_type": "code",
   "execution_count": 81,
   "metadata": {},
   "outputs": [],
   "source": [
    "def reverse(x: int) -> int:\n",
    "    x = int(str(x)[::-1]) if x >= 0 else - int(str(-x)[::-1])\n",
    "    return x if x < 2**31 and x >= -2**31 else 0"
   ]
  },
  {
   "cell_type": "code",
   "execution_count": 83,
   "metadata": {},
   "outputs": [
    {
     "data": {
      "text/plain": [
       "-321"
      ]
     },
     "execution_count": 83,
     "metadata": {},
     "output_type": "execute_result"
    }
   ],
   "source": [
    "x = -123\n",
    "reverse(x)"
   ]
  },
  {
   "cell_type": "markdown",
   "metadata": {},
   "source": [
    "# 8. String to Integer (atoi)\n",
    "\n",
    "Implement atoi which converts a string to an integer.\n",
    "\n",
    "The function first discards as many whitespace characters as necessary until the first non-whitespace character is found. Then, starting from this character, takes an optional initial plus or minus sign followed by as many numerical digits as possible, and interprets them as a numerical value.\n",
    "\n",
    "The string can contain additional characters after those that form the integral number, which are ignored and have no effect on the behavior of this function.\n",
    "\n",
    "If the first sequence of non-whitespace characters in str is not a valid integral number, or if no such sequence exists because either str is empty or it contains only whitespace characters, no conversion is performed.\n",
    "\n",
    "If no valid conversion could be performed, a zero value is returned.\n",
    "\n",
    "Note:  \n",
    "Only the space character ' ' is considered as whitespace character.\n",
    "Assume we are dealing with an environment which could only store integers within the 32-bit signed integer range: [−231,  231 − 1]. If the numerical value is out of the range of representable values, INT_MAX (231 − 1) or INT_MIN (−231) is returned.\n",
    "\n",
    "Example 1:  \n",
    "Input: \"42\"  \n",
    "Output: 42  \n",
    "\n",
    "Example 2:  \n",
    "Input: \"   -42\"  \n",
    "Output: -42  \n",
    "Explanation: The first non-whitespace character is '-', which is the minus sign.Then take as many numerical digits as possible, which gets 42.\n",
    "\n",
    "Example 3:  \n",
    "Input: \"4193 with words\"  \n",
    "Output: 4193  \n",
    "Explanation: Conversion stops at digit '3' as the next character is not a numerical digit.\n",
    "\n",
    "Example 4:   \n",
    "Input: \"words and 987\"  \n",
    "Output: 0  \n",
    "Explanation: The first non-whitespace character is 'w', which is not a numerical digit or a +/- sign. Therefore no valid conversion could be performed.\n",
    "\n",
    "Example 5:  \n",
    "Input: \"-91283472332\"  \n",
    "Output: -2147483648  \n",
    "Explanation: The number \"-91283472332\" is out of the range of a 32-bit signed integer.Thefore INT_MIN (−231) is returned.\n",
    "\n",
    "### Idea\n",
    "\n",
    "1. str.strip([chars])\n",
    "strip():Remove the specified characters at the beginning and end of the string (defaults to spaces or newlines) or character sequences\n",
    "- starting with space \" \"\n",
    "    - 1st non-sapce : num/ +/- √\n",
    "    - 1st non-sapce : not num/ +/-, return 0\n",
    "    \n",
    "2. re.match(pattern, string, flags=0)\n",
    "re.match 尝试从字符串的起始位置匹配一个模式，如果不是起始位置匹配成功的话，match()就返回none。"
   ]
  },
  {
   "cell_type": "code",
   "execution_count": 96,
   "metadata": {},
   "outputs": [],
   "source": [
    "def myAtoi(str: str) -> int:\n",
    "    import re\n",
    "    stripS = str.strip() #bye space!\n",
    "    \n",
    "    if stripS == \"\" or stripS == \"-\" or stripS == \"+\":\n",
    "        return 0\n",
    "    s1 = re.match('[^\\d]+',(stripS.lstrip(\"-\")).lstrip(\"+\"))\n",
    "    \n",
    "    if s1 != None:\n",
    "        return 0\n",
    "    else:\n",
    "        s1 = re.search('\\-*\\*+\\d+',stripS).group()\n",
    "        \n",
    "    if s1[0:2] == \"--\" or s1[0:2] == \"-+\" or s1[0:2] == \"++\":\n",
    "        return 0\n",
    "    \n",
    "    result = int(s1)\n",
    "    if result > 0:\n",
    "        return 2147483647 if result > 2147483647 else result\n",
    "    else:\n",
    "        return -2147483648 if result < -2147483648 else result"
   ]
  },
  {
   "cell_type": "code",
   "execution_count": 101,
   "metadata": {},
   "outputs": [],
   "source": [
    "def myAtoi(str: str) -> int:\n",
    "    str = str.lstrip() # 用于截掉字符串左边的空格或指定字符\n",
    "    if str == '':      # 空string，返回None\n",
    "        return 0\n",
    "    flag = None       \n",
    "    \n",
    "    if str[0] == '+':  #flag 1：+\n",
    "        flag = 1\n",
    "        str = str[1:]\n",
    "    elif str[0] == '-':#flag 0：-\n",
    "        flag = 0\n",
    "        str = str[1:]\n",
    "        \n",
    "    list = []\n",
    "    for c in str:\n",
    "        try:\n",
    "            if int(c) != 0 or list != []: #filter num, 如果是字母或其他不是数字，break\n",
    "                list.append(c)\n",
    "            if len(list) > 10:\n",
    "                break\n",
    "        except:\n",
    "            break\n",
    "    if list == []:\n",
    "        return 0\n",
    "    num = int(''.join(list))\n",
    "    num = (0 - num) if flag == 0 else num\n",
    "    return min(max(-2147483648, num), 2147483647)"
   ]
  },
  {
   "cell_type": "code",
   "execution_count": 102,
   "metadata": {},
   "outputs": [
    {
     "data": {
      "text/plain": [
       "4193"
      ]
     },
     "execution_count": 102,
     "metadata": {},
     "output_type": "execute_result"
    },
    {
     "data": {
      "text/plain": [
       "0"
      ]
     },
     "execution_count": 102,
     "metadata": {},
     "output_type": "execute_result"
    },
    {
     "data": {
      "text/plain": [
       "-2147483648"
      ]
     },
     "execution_count": 102,
     "metadata": {},
     "output_type": "execute_result"
    }
   ],
   "source": [
    "str =  \"4193 with words\"\n",
    "myAtoi(str)\n",
    "str = \"words and 987\"\n",
    "myAtoi(str)\n",
    "str = \"-91283472332\"  \n",
    "myAtoi(str)"
   ]
  },
  {
   "cell_type": "markdown",
   "metadata": {},
   "source": [
    "# 9. Palindrome Number"
   ]
  },
  {
   "cell_type": "markdown",
   "metadata": {},
   "source": [
    "Determine whether an integer is a palindrome. An integer is a palindrome when it reads the same backward as forward.\n",
    "\n",
    "Example 1:  \n",
    "Input: 121  \n",
    "Output: true\n",
    "\n",
    "Example 2:  \n",
    "Input: -121    \n",
    "Output: false   \n",
    "Explanation: From left to right, it reads -121. From right to left, it becomes 121-. Therefore it is not a palindrome.\n",
    "\n",
    "Example 3:  \n",
    "Input: 10   \n",
    "Output: false  \n",
    "Explanation: Reads 01 from right to left. Therefore it is not a palindrome.\n",
    "\n",
    "Follow up:  \n",
    "Coud you solve it without converting the integer to a string?"
   ]
  },
  {
   "cell_type": "code",
   "execution_count": 15,
   "metadata": {},
   "outputs": [
    {
     "data": {
      "text/plain": [
       "True"
      ]
     },
     "execution_count": 15,
     "metadata": {},
     "output_type": "execute_result"
    }
   ],
   "source": [
    "def isPalindrome(x) -> bool:\n",
    "    if x < 0:\n",
    "        return False\n",
    "    return int(str(x)[::-1]) == x\n",
    "\n",
    "x = 121\n",
    "isPalindrome(121)"
   ]
  },
  {
   "cell_type": "markdown",
   "metadata": {},
   "source": [
    "# 11. Container With Most Water"
   ]
  },
  {
   "cell_type": "markdown",
   "metadata": {},
   "source": [
    "Given n non-negative integers a1, a2, ..., an , where each represents a point at coordinate (i, ai). n vertical lines are drawn such that the two endpoints of line i is at (i, ai) and (i, 0). Find two lines, which together with x-axis forms a container, such that the container contains the most water.\n",
    "\n",
    "Note: You may not slant the container and n is at least 2.\n",
    "\n",
    "Example:  \n",
    "Input: [1,8,6,2,5,4,8,3,7]  \n",
    "Output: 49"
   ]
  },
  {
   "cell_type": "code",
   "execution_count": 156,
   "metadata": {},
   "outputs": [],
   "source": [
    "# Time Limit Exceeded\n",
    "def maxArea(height) -> int:\n",
    "    max_area = 0\n",
    "    for i in range(len(height)):\n",
    "        for j in range(i+1,len(height)):\n",
    "            area = abs(j-i)*(min(height[i],height[j]))\n",
    "            max_area = max(area,max_area)\n",
    "    return max_area"
   ]
  },
  {
   "cell_type": "code",
   "execution_count": 160,
   "metadata": {},
   "outputs": [],
   "source": [
    "def maxArea2(height) -> int:\n",
    "    left,right = 0,len(height)-1\n",
    "    result = 0\n",
    "    while left < right:\n",
    "        water = min(height[left],height[right])*(right-left)\n",
    "        if water > result:\n",
    "            result = water\n",
    "        if height[left] < height[right]:\n",
    "            left += 1\n",
    "        else:\n",
    "            right -= 1\n",
    "    return result"
   ]
  },
  {
   "cell_type": "code",
   "execution_count": 161,
   "metadata": {},
   "outputs": [
    {
     "data": {
      "text/plain": [
       "49"
      ]
     },
     "execution_count": 161,
     "metadata": {},
     "output_type": "execute_result"
    }
   ],
   "source": [
    "height = [1,8,6,2,5,4,8,3,7]\n",
    "maxArea(height)"
   ]
  },
  {
   "cell_type": "markdown",
   "metadata": {},
   "source": [
    "# 12. Integer to Roman\n",
    "\n",
    "Roman numerals are represented by seven different symbols: I, V, X, L, C, D and M.  \n",
    "Symbol       Value\n",
    "I             1\n",
    "V             5\n",
    "X             10\n",
    "L             50\n",
    "C             100\n",
    "D             500\n",
    "M             1000\n",
    "For example, two is written as II in Roman numeral, just two one's added together. Twelve is written as, XII, which is simply X + II. The number twenty seven is written as XXVII, which is XX + V + II.\n",
    "\n",
    "Roman numerals are usually written largest to smallest from left to right. However, the numeral for four is not IIII. Instead, the number four is written as IV. Because the one is before the five we subtract it making four. The same principle applies to the number nine, which is written as IX. There are six instances where subtraction is used:\n",
    "\n",
    "I can be placed before V (5) and X (10) to make 4 and 9.   \n",
    "X can be placed before L (50) and C (100) to make 40 and 90.   \n",
    "C can be placed before D (500) and M (1000) to make 400 and 900.  \n",
    "Given an integer, convert it to a roman numeral. Input is guaranteed to be within the range from 1 to 3999.\n",
    "\n",
    "Example 1:  \n",
    "Input: 3  \n",
    "Output: \"III\"  \n",
    "\n",
    "Example 2:  \n",
    "Input: 4  \n",
    "Output: \"IV\" \n",
    "\n",
    "Example 3:  \n",
    "Input: 9  \n",
    "Output: \"IX\"  \n",
    "\n",
    "Example 4:  \n",
    "Input: 58  \n",
    "Output: \"LVIII\"  \n",
    "Explanation: L = 50, V = 5, III = 3. \n",
    "\n",
    "Example 5:  \n",
    "Input: 1994  \n",
    "Output: \"MCMXCIV\"  \n",
    "Explanation: M = 1000, CM = 900, XC = 90 and IV = 4.\n",
    "\n",
    "### Idea\n",
    "- firstly, sort the values and numerals in a descending order\n",
    "- while loop"
   ]
  },
  {
   "cell_type": "code",
   "execution_count": 59,
   "metadata": {
    "scrolled": false
   },
   "outputs": [
    {
     "data": {
      "text/plain": [
       "'XX'"
      ]
     },
     "execution_count": 59,
     "metadata": {},
     "output_type": "execute_result"
    }
   ],
   "source": [
    "def intToRoman(num) -> str:\n",
    "    values = [1000,900,500,400,100,90,50,40,10,9,5,4,1]\n",
    "    numerals = ['M','CM','D','CD','C','XC','L','XL','X','IX','V','IV','I']\n",
    "    result = ''\n",
    "\n",
    "    for i in range(len(values)):\n",
    "        while num >= values[i]:\n",
    "            result += numerals[i]\n",
    "            num -= values[i]\n",
    "    return result\n",
    "num = 20\n",
    "intToRoman(num)"
   ]
  },
  {
   "cell_type": "markdown",
   "metadata": {},
   "source": [
    "# 13. Roman to Integer"
   ]
  },
  {
   "cell_type": "markdown",
   "metadata": {},
   "source": [
    "Roman numerals are represented by seven different symbols: I, V, X, L, C, D and M.\n",
    "    \n",
    "Symbol       Value\n",
    "I             1\n",
    "V             5\n",
    "X             10\n",
    "L             50\n",
    "C             100\n",
    "D             500\n",
    "M             1000\n",
    "For example, two is written as II in Roman numeral, just two one's added together. Twelve is written as, XII, which is simply X + II. The number twenty seven is written as XXVII, which is XX + V + II.\n",
    "\n",
    "Roman numerals are usually written largest to smallest from left to right. However, the numeral for four is not IIII. Instead, the number four is written as IV. Because the one is before the five we subtract it making four. The same principle applies to the number nine, which is written as IX. There are six instances where subtraction is used:\n",
    "\n",
    "I can be placed before V (5) and X (10) to make 4 and 9.   \n",
    "X can be placed before L (50) and C (100) to make 40 and 90.   \n",
    "C can be placed before D (500) and M (1000) to make 400 and 900.  \n",
    "Given a roman numeral, convert it to an integer. Input is guaranteed to be within the range from 1 to 3999.  \n",
    "\n",
    "Example 1:  \n",
    "Input: \"III\"  \n",
    "Output: 3\n",
    "    \n",
    "Example 2:  \n",
    "Input: \"IV\"  \n",
    "Output: 4  \n",
    "    \n",
    "Example 3:  \n",
    "Input: \"IX\"  \n",
    "Output: 9  \n",
    "    \n",
    "Example 4:  \n",
    "Input: \"LVIII\"  \n",
    "Output: 58  \n",
    "Explanation: L = 50, V= 5, III = 3.  \n",
    "    \n",
    "Example 5:  \n",
    "Input: \"MCMXCIV\"  \n",
    "Output: 1994  \n",
    "Explanation: M = 1000, CM = 900, XC = 90 and IV = 4."
   ]
  },
  {
   "cell_type": "code",
   "execution_count": 34,
   "metadata": {},
   "outputs": [
    {
     "data": {
      "text/plain": [
       "1994"
      ]
     },
     "execution_count": 34,
     "metadata": {},
     "output_type": "execute_result"
    }
   ],
   "source": [
    "def romanToInt(s) -> int:\n",
    "    res = 0\n",
    "    d = {\"I\":1,\"V\":5,\"X\":10,\"L\":50,\"C\":100,\"D\":500,\"M\":1000}    \n",
    "    for i in range(len(s)-1):\n",
    "        if d[s[i]]<d[s[i+1]]: #if small value stands before big val,\"-\", else \"+\"\n",
    "            res -= d[s[i]]\n",
    "        else:\n",
    "            res += d[s[i]]\n",
    "    return res + d[s[-1]]    #just plus the val of last letter, i only figure out this way to deal with loop out of range\n",
    "\n",
    "s1 = \"III\" \n",
    "s2 = \"IV\"\n",
    "s3 = \"IX\"\n",
    "s4 = \"LVIII\"\n",
    "s5 = \"MCMXCIV\"\n",
    "\n",
    "romanToInt(s5)"
   ]
  },
  {
   "cell_type": "markdown",
   "metadata": {},
   "source": [
    "# 14. Longest Common Prefix"
   ]
  },
  {
   "cell_type": "markdown",
   "metadata": {},
   "source": [
    "Write a function to find the longest common prefix string amongst an array of strings.  \n",
    "If there is no common prefix, return an empty string \"\".  \n",
    "\n",
    "Example 1:  \n",
    "Input: [\"flower\",\"flow\",\"flight\"]  \n",
    "Output: \"fl\"\n",
    "\n",
    "Example 2:   \n",
    "Input: [\"dog\",\"racecar\",\"car\"]  \n",
    "Output: \"\"   \n",
    "Explanation: There is no common prefix among the input strings.  \n",
    "Note: All given inputs are in lowercase letters a-z."
   ]
  },
  {
   "cell_type": "code",
   "execution_count": 41,
   "metadata": {},
   "outputs": [],
   "source": [
    "def longestCommonPrefix(strs) -> str:\n",
    "    if len(strs) == 0: return ''\n",
    "    for l in range(len(strs[0])): #traversal every letter of first str \n",
    "        c = strs[0][l]\n",
    "        for i in range(1,len(strs)): #traversal other strs, make comparison\n",
    "            if l >= len(strs[i]) or c != strs[i][l]:                 \n",
    "                return strs[0][:l]\n",
    "    return strs[0] #e.g. [\"\",\"\"]"
   ]
  },
  {
   "cell_type": "code",
   "execution_count": 46,
   "metadata": {},
   "outputs": [
    {
     "name": "stdout",
     "output_type": "stream",
     "text": [
      "fl\n",
      "\n"
     ]
    }
   ],
   "source": [
    "strs = [\"flower\",\"flow\",\"flight\"]\n",
    "strs2 = [\"dog\",\"racecar\",\"car\"]\n",
    "longestCommonPrefix(strs)\n",
    "longestCommonPrefix(strs2)"
   ]
  },
  {
   "cell_type": "markdown",
   "metadata": {},
   "source": [
    "# 15. 3Sum -- Medium"
   ]
  },
  {
   "cell_type": "markdown",
   "metadata": {},
   "source": [
    "Given an array nums of n integers, are there elements a, b, c in nums such that a + b + c = 0?   \n",
    "Find all unique triplets in the array which gives the sum of zero.\n",
    "\n",
    "Note:  The solution set must not contain duplicate triplets.\n",
    "\n",
    "Example:  \n",
    "Given array nums = [-1, 0, 1, 2, -1, -4],  \n",
    "A solution set is:    \n",
    "[[-1, 0, 1],  \n",
    " [-1, -1, 2]]"
   ]
  },
  {
   "cell_type": "markdown",
   "metadata": {},
   "source": [
    "## idea \n",
    "- sort()\n",
    "- for loop i\n",
    "    - sum of 3 smallest nums > 0 --> break\n",
    "    - nums[i] + 2 biggest nums < 0 --> get rid of very first num --> continue, right shift\n",
    "    - repeat nums --> continue\n",
    "    - fix i\n",
    "        - while loop: approach from both sides l,r"
   ]
  },
  {
   "cell_type": "code",
   "execution_count": 36,
   "metadata": {},
   "outputs": [],
   "source": [
    "def threeSum(nums):\n",
    "    n = len(nums)\n",
    "    result = []\n",
    "    nums.sort()\n",
    "\n",
    "    for i in range(n-2):\n",
    "        if nums[i] + nums[i+1] + nums[i+2] > 0: \n",
    "            break\n",
    "        if nums[i] + nums[n-2] + nums[n-1] < 0:\n",
    "            continue\n",
    "        if 0 < i and nums[i] == nums[i-1]:\n",
    "            continue\n",
    "            \n",
    "        l,r = i+1,n-1 #boundary\n",
    "        \n",
    "        while l < r:\n",
    "            tmp = nums[i] + nums[l] + nums[r]\n",
    "            if tmp == 0:\n",
    "                result.append([nums[i],nums[l],nums[r]])\n",
    "                while l+1 < r and nums[l] == nums[l+1]:\n",
    "                    l += 1\n",
    "                l += 1\n",
    "                while l < r-1 and nums[r] == nums[r-1]:\n",
    "                    r -= 1\n",
    "                r -= 1\n",
    "            elif tmp < 0:\n",
    "                l += 1 \n",
    "            else:\n",
    "                r -= 1\n",
    "    return result"
   ]
  },
  {
   "cell_type": "code",
   "execution_count": 39,
   "metadata": {},
   "outputs": [
    {
     "data": {
      "text/plain": [
       "[-4, -1, -1, 0, 1, 2]"
      ]
     },
     "execution_count": 39,
     "metadata": {},
     "output_type": "execute_result"
    },
    {
     "data": {
      "text/plain": [
       "[[-1, -1, 2], [-1, 0, 1]]"
      ]
     },
     "execution_count": 39,
     "metadata": {},
     "output_type": "execute_result"
    }
   ],
   "source": [
    "nums = [-1, 0, 1, 2, -1, -4]\n",
    "nums.sort()\n",
    "nums\n",
    "threeSum(nums)"
   ]
  },
  {
   "cell_type": "markdown",
   "metadata": {},
   "source": [
    "# 16. 3Sum Closest"
   ]
  },
  {
   "cell_type": "markdown",
   "metadata": {},
   "source": [
    "Given an array nums of n integers and an integer target, find three integers in nums such that the sum is closest to target. Return the sum of the three integers. You may assume that each input would have exactly one solution.\n",
    "\n",
    "Example:  \n",
    "Given array nums = [-1, 2, 1, -4], and target = 1.  \n",
    "The sum that is closest to the target is 2. (-1 + 2 + 1 = 2)."
   ]
  },
  {
   "cell_type": "markdown",
   "metadata": {},
   "source": [
    "## Idea\n",
    "- sort()\n",
    "- initialization\n",
    "- for loop, approach from 2 sides, [i,l,r]\n",
    "- avoid repeating"
   ]
  },
  {
   "cell_type": "code",
   "execution_count": 43,
   "metadata": {},
   "outputs": [],
   "source": [
    "def threeSumClosest(nums,target: int) -> int:\n",
    "    nums.sort()\n",
    "    result = nums[0]+nums[1]+nums[len(nums)-1]\n",
    "    for i in range(len(nums)-2):\n",
    "        if i > 0 and nums[i]==nums[i-1]:\n",
    "            continue\n",
    "        l = i + 1\n",
    "        r = len(nums) - 1\n",
    "        while l < r:\n",
    "            val = nums[i]+nums[l]+nums[r] \n",
    "            if abs(val - target) < abs(result-target):\n",
    "                result = val\n",
    "            if val == target:\n",
    "                return target\n",
    "            elif val < target:\n",
    "                l += 1\n",
    "            else:\n",
    "                r -= 1\n",
    "    return result"
   ]
  },
  {
   "cell_type": "code",
   "execution_count": 49,
   "metadata": {},
   "outputs": [
    {
     "data": {
      "text/plain": [
       "2"
      ]
     },
     "execution_count": 49,
     "metadata": {},
     "output_type": "execute_result"
    }
   ],
   "source": [
    "nums = [-1, 2, 1, -4]\n",
    "target = 1\n",
    "threeSumClosest(nums,target)"
   ]
  },
  {
   "cell_type": "markdown",
   "metadata": {},
   "source": [
    "# 17. Letter Combinations of a Phone Number\n",
    "\n",
    "Given a string containing digits from 2-9 inclusive, return all possible letter combinations that the number could represent.  \n",
    "A mapping of digit to letters (just like on the telephone buttons) is given below. Note that 1 does not map to any letters.\n",
    "\n",
    "Example:\n",
    "Input: \"23\"  \n",
    "Output: [\"ad\", \"ae\", \"af\", \"bd\", \"be\", \"bf\", \"cd\", \"ce\", \"cf\"].  \n",
    "\n",
    "Note:  \n",
    "Although the above answer is in lexicographical order, your answer could be in any order you want.\n",
    "\n",
    "### Idea:\n",
    "- for loop 1: digits\n",
    "- for loop 2: each char in digits\n",
    "- for loop 3: result = fetch match, need a tmp_list => output"
   ]
  },
  {
   "cell_type": "code",
   "execution_count": 78,
   "metadata": {},
   "outputs": [
    {
     "data": {
      "text/plain": [
       "['ad', 'bd', 'cd', 'ae', 'be', 'ce', 'af', 'bf', 'cf']"
      ]
     },
     "execution_count": 78,
     "metadata": {},
     "output_type": "execute_result"
    }
   ],
   "source": [
    "def letterCombinations(digits):\n",
    "    if len(digits) == 0:\n",
    "        return []\n",
    "    d = {\n",
    "        0:\"0\",\n",
    "        1:\"1\",\n",
    "        2:\"abc\",\n",
    "        3:\"def\",\n",
    "        4:\"ghi\",\n",
    "        5:\"jkl\",\n",
    "        6:\"mno\",\n",
    "        7:\"pqrs\",\n",
    "        8:\"tuv\",\n",
    "        9:\"wxyz\"\n",
    "    }\n",
    "    result = ['']\n",
    "    for digit in digits:\n",
    "        tmp_list = []\n",
    "        for ch in d[int(digit)]:\n",
    "            for str in result:\n",
    "                tmp_list.append(str + ch)\n",
    "                print(tmp_list)\n",
    "        result = tmp_list\n",
    "    return result\n",
    "\n",
    "digits = \"23\" \n",
    "letterCombinations(digits)"
   ]
  },
  {
   "cell_type": "markdown",
   "metadata": {},
   "source": [
    "# 18. 4Sum\n",
    "\n",
    "Given an array nums of n integers and an integer target, are there elements a, b, c, and d in nums such that a + b + c + d = target? Find all unique quadruplets in the array which gives the sum of target.\n",
    "\n",
    "Note:The solution set must not contain duplicate quadruplets.\n",
    "\n",
    "Example:  \n",
    "Given array nums = [1, 0, -1, 0, -2, 2], and target = 0.  \n",
    "A solution set is:  \n",
    "[[-1,  0, 0, 1],  \n",
    "  [-2, -1, 1, 2],  \n",
    "  [-2,  0, 0, 2]]\n",
    " \n",
    " ### Idea:\n",
    " 1. 2pointers + remain\n",
    " 2. nums[i] + 3sum problem"
   ]
  },
  {
   "cell_type": "code",
   "execution_count": 6,
   "metadata": {},
   "outputs": [
    {
     "data": {
      "text/plain": [
       "[[-2, -1, 1, 2], [-2, 0, 0, 2], [-1, 0, 0, 1]]"
      ]
     },
     "execution_count": 6,
     "metadata": {},
     "output_type": "execute_result"
    }
   ],
   "source": [
    "def fourSum(nums, target: int):\n",
    "    nums.sort()\n",
    "    N = len(nums)\n",
    "    res = []\n",
    "    i = 0\n",
    "    while i < N-3:\n",
    "        j = i + 1\n",
    "        while j < N-2:\n",
    "            k = j + 1\n",
    "            l = N - 1\n",
    "            remain = target - nums[i] - nums[j]\n",
    "            while k < l:\n",
    "                if nums[k] + nums[l] > remain:\n",
    "                    l -= 1\n",
    "                elif nums[k] + nums[l] < remain:\n",
    "                    k += 1\n",
    "                else:\n",
    "                    res.append([nums[i],nums[j],nums[k],nums[l]])\n",
    "                    while k < l and nums[k] == nums[k+1]:\n",
    "                        k += 1\n",
    "                    while k < l and nums[l] == nums[l-1]:\n",
    "                        l -= 1\n",
    "                    k += 1\n",
    "                    l -= 1\n",
    "            while j < N - 2 and nums[j] == nums[j+1]:\n",
    "                j += 1\n",
    "            j += 1\n",
    "        while i < N - 3 and nums[i] == nums[i+1]:\n",
    "            i += 1\n",
    "        i += 1\n",
    "    return res\n",
    "\n",
    "nums = [1, 0, -1, 0, -2, 2]\n",
    "fourSum(nums, target=0)"
   ]
  },
  {
   "cell_type": "markdown",
   "metadata": {},
   "source": [
    "# 20. Valid Parentheses -- stack FIFO apply to offset  and matching"
   ]
  },
  {
   "cell_type": "markdown",
   "metadata": {},
   "source": [
    "Given a string containing just the characters '(', ')', '{', '}', '[' and ']', determine if the input string is valid.  \n",
    "An input string is valid if:  \n",
    "Open brackets must be closed by the same type of brackets.  \n",
    "Open brackets must be closed in the correct order.   \n",
    "Note that an empty string is also considered valid.  \n",
    "  \n",
    "Example 1:  \n",
    "Input: \"()\"  \n",
    "Output: true  \n",
    "    \n",
    "Example 2:  \n",
    "Input: \"()[]{}\"  \n",
    "Output: true  \n",
    "    \n",
    "Example 3:  \n",
    "Input: \"(]\"  \n",
    "Output: false  \n",
    "    \n",
    "Example 4:  \n",
    "Input: \"([)]\"  \n",
    "Output: false  \n",
    "    \n",
    "Example 5: \n",
    "Input: \"{[]}\"  \n",
    "Output: true  "
   ]
  },
  {
   "cell_type": "code",
   "execution_count": 98,
   "metadata": {},
   "outputs": [],
   "source": [
    "def isValid(s) -> bool:\n",
    "    if len(s) == 0: # case1: empty string is valid\n",
    "        return True\n",
    "    d = {\")\": \"(\", \"}\": \"{\", \"]\": \"[\"}\n",
    "    stack = [None]\n",
    "    for i in s:\n",
    "        if i in d and d[i] == stack[-1]: #如果是反括号，前括号刚好在stack的栈顶，pop()。后出现的，需要先消掉，解决顺序问题。\n",
    "            stack.pop()\n",
    "        else: \n",
    "            stack.append(i)\n",
    "    return len(stack)==1"
   ]
  },
  {
   "cell_type": "code",
   "execution_count": 99,
   "metadata": {},
   "outputs": [
    {
     "data": {
      "text/plain": [
       "True"
      ]
     },
     "execution_count": 99,
     "metadata": {},
     "output_type": "execute_result"
    }
   ],
   "source": [
    "s =  \"()[]{}\"\n",
    "isValid(s)"
   ]
  },
  {
   "cell_type": "markdown",
   "metadata": {},
   "source": [
    "# 21. Merge Two Sorted Lists -- Linked List -- Recursion"
   ]
  },
  {
   "cell_type": "markdown",
   "metadata": {},
   "source": [
    "Merge two sorted linked lists and return it as a new list. The new list should be made by splicing together the nodes of the first two lists.\n",
    "\n",
    "Example:  \n",
    "Input: 1->2->4, 1->3->4  \n",
    "Output: 1->1->2->3->4->4  "
   ]
  },
  {
   "cell_type": "code",
   "execution_count": 46,
   "metadata": {},
   "outputs": [],
   "source": [
    "# Definition for singly-linked list.\n",
    "# class ListNode:\n",
    "#     def __init__(self, val=0, next=None):\n",
    "#         self.val = val\n",
    "#         self.next = next\n",
    "def mergeTwoLists(self,l1,l2):\n",
    "    if not l1:\n",
    "        return l2\n",
    "    if not l2:\n",
    "        return l1\n",
    "    if l1.val < l2.val: #based on smaller first num of 2 linked list, recursion,comparison, insert smaller num one by one\n",
    "        l1.next = self.mergeTwoLists(l1.next,l2)\n",
    "        return l1\n",
    "    else:\n",
    "        l2.next = self.mergeTwoLists(l1,l2.next)\n",
    "        return l2"
   ]
  },
  {
   "cell_type": "code",
   "execution_count": null,
   "metadata": {},
   "outputs": [],
   "source": [
    "def mergeTwoLists(self,l1,l2):\n",
    "    curr = dummy = ListNode(0) # dummy - virtual node - ListNode(0), update curr.\n",
    "    while l1 and l2:\n",
    "        if l1.val < l2.val:\n",
    "            curr.next = l1 #add the smaller one\n",
    "            l1 = l1.next   #update the l1\n",
    "        else:\n",
    "            curr.next = l2\n",
    "            l2 = l2.next\n",
    "        curr = curr.next \n",
    "    curr.next = l1 or l2 #extend the rest of the langer list l1 or l2\n",
    "    return dummy.next"
   ]
  },
  {
   "cell_type": "markdown",
   "metadata": {},
   "source": [
    "# 22. Generate Parentheses\n",
    "Given n pairs of parentheses, write a function to generate all combinations of well-formed parentheses.  \n",
    "For example, given n = 3, a solution set is:  \n",
    "[\n",
    "  \"((()))\",  \n",
    "  \"(()())\",  \n",
    "  \"(())()\",  \n",
    "  \"()(())\",  \n",
    "  \"()()()\" ]\n",
    "  \n",
    "### idea - recursion\n",
    "- len(\"(\") >len(\")\")  + \"(\" or \")\"\n",
    "- len(\"(\") = len(\")\") + \"(\""
   ]
  },
  {
   "cell_type": "code",
   "execution_count": 108,
   "metadata": {},
   "outputs": [
    {
     "data": {
      "image/png": "[encoded data removed]",
      "text/plain": [
       "<IPython.core.display.Image object>"
      ]
     },
     "execution_count": 108,
     "metadata": {
      "image/png": {
       "height": 500,
       "width": 400
      }
     },
     "output_type": "execute_result"
    }
   ],
   "source": [
    "from IPython.display import Image\n",
    "Image(filename = '22.png', width=400, height=500)"
   ]
  },
  {
   "cell_type": "code",
   "execution_count": null,
   "metadata": {},
   "outputs": [],
   "source": [
    "def generateParenthesis(self,n):\n",
    "    if n == 0:\n",
    "        return []\n",
    "    \n",
    "    result = []\n",
    "    self.helper(n,n.'',result)\n",
    "    return result\n",
    "\n",
    "def helper(self,l,r,item,result):\n",
    "    if r < l:                    #left_) < left_(  -->>  cur_) < cur_( , not satisfiy, not append\n",
    "        return\n",
    "    if l == 0 and r == 0:       # no left Parenthesis, append\n",
    "        result.append(item)\n",
    "    if l > 0:                   # ( left\n",
    "        self.helper(l-1,r,item+'(',result)\n",
    "    if r > 0:                   # ) left\n",
    "        self.helper(l,r-1,item+')',result)"
   ]
  },
  {
   "cell_type": "markdown",
   "metadata": {},
   "source": [
    "# 24. Swap Nodes in Pairs\n",
    "\n",
    "Given a linked list, swap every two adjacent nodes and return its head.    \n",
    "You may not modify the values in the list's nodes, only nodes itself may be changed.\n",
    "\n",
    "Example:  \n",
    "Given 1->2->3->4->5->6, you should return the list as 2->1->4->3->6->5.\n",
    "\n",
    "### Idea: 3 pointers - swap+replace+insertion\n",
    "- p = head = 1\n",
    "- new_start = p.next, for return result\n",
    "- while loop:\n",
    "    - q = p.next = 2, temp = q.next = 3 | p=1 > q=2 > temp=3\n",
    "    - swap1 from front to back: q=2 > p=1 > temp=3\n",
    "    - if not temp or not temp.next:\n",
    "        - p.next > temp, break \n",
    "    - swap2: q=2 > p=1 > temp.next=4> temp=3\n",
    "    - update p = temp = 3\n",
    "    - q = p.next = 5, temp = q.next = 6, q=2 > p=1 > temp.next=4> p=temp=3 > q=5 > temp=6\n",
    "    - if not temp or not temp.next:\n",
    "        - p.next > temp, break,  new_start > q=2 > p=1 > temp.next=4> p=temp=3  > temp=6 > q=5     "
   ]
  },
  {
   "cell_type": "code",
   "execution_count": null,
   "metadata": {},
   "outputs": [],
   "source": [
    "def swapPairs(self, head: ListNode) -> ListNode:\n",
    "    if not head or not head.next:\n",
    "        return head\n",
    "    \n",
    "    p = head\n",
    "    new_start = p.next\n",
    "    while(True):\n",
    "        q = p.next\n",
    "        temp = q.text\n",
    "        \n",
    "        q.next = p\n",
    "        if not temp or not temp.next:\n",
    "            p.next = temp\n",
    "            break\n",
    "        p.next = temp.next\n",
    "        p = temp\n",
    "    return new_start"
   ]
  },
  {
   "cell_type": "markdown",
   "metadata": {},
   "source": [
    "### Solution 2 \n",
    "- 3 pointers for swap, replace, update\n",
    "- while loop\n",
    "    - pre > head=1 > temp=2 > 3 > 4\n",
    "    - swap from back to front: pre > temp=2 > head=1 > 3\n",
    "    - update pre and head"
   ]
  },
  {
   "cell_type": "code",
   "execution_count": null,
   "metadata": {},
   "outputs": [],
   "source": [
    "# Definition for singly-linked list.\n",
    "# class ListNode:\n",
    "#     def __init__(self, val=0, next=None):\n",
    "#         self.val = val\n",
    "#         self.next = next\n",
    "class Solution:\n",
    "    def swapPairs(self, head: ListNode) -> ListNode:\n",
    "        if not head or not head.next:\n",
    "            return head\n",
    "        pre = new_head = ListNode(0)\n",
    "        while head and head.next:\n",
    "            temp = head.next\n",
    "            head.next = temp.next\n",
    "            temp.next = head\n",
    "            pre.next = temp\n",
    "            \n",
    "            #update\n",
    "            pre = head\n",
    "            head = head.next\n",
    "        return new_head.next"
   ]
  },
  {
   "cell_type": "markdown",
   "metadata": {},
   "source": [
    "# 26. Remove Duplicates from Sorted Array - Easy - Array"
   ]
  },
  {
   "cell_type": "markdown",
   "metadata": {},
   "source": [
    "Given a sorted array nums, remove the duplicates in-place such that each element appear only once and return the new length.\n",
    "\n",
    "Do not allocate extra space for another array, you must do this by modifying the input array in-place with O(1) extra memory.\n",
    "\n",
    "Example 1:  \n",
    "Given nums = [1,1,2],  \n",
    "Your function should return length = 2, with the first two elements of nums being 1 and 2 respectively.  \n",
    "It doesn't matter what you leave beyond the returned length.\n",
    "\n",
    "Example 2:  \n",
    "Given nums = [0,0,1,1,1,2,2,3,3,4],  \n",
    "Your function should return length = 5, with the first five elements of nums being modified to 0, 1, 2, 3, and 4 respectively.  \n",
    "It doesn't matter what values are set beyond the returned length.\n",
    "\n",
    "Clarification:  \n",
    "Confused why the returned value is an integer but your answer is an array?  \n",
    "Note that the input array is passed in by reference, which means modification to the input array will be known to the caller as well.  \n",
    "\n",
    "Internally you can think of this:\n",
    "// nums is passed in by reference. (i.e., without making a copy)  \n",
    "int len = removeDuplicates(nums);   \n",
    "// any modification to nums in your function would be known by the caller.  \n",
    "// using the length returned by your function, it prints the first len elements.  \n",
    "for (int i = 0; i < len; i++) {  \n",
    "    print(nums[i]);  \n",
    "}  "
   ]
  },
  {
   "cell_type": "code",
   "execution_count": 17,
   "metadata": {},
   "outputs": [],
   "source": [
    "def removeDuplicates(nums) -> int:\n",
    "    nums[:]=sorted(list(set(nums)))"
   ]
  },
  {
   "cell_type": "code",
   "execution_count": 14,
   "metadata": {},
   "outputs": [],
   "source": [
    "def removeDuplicates(nums) -> int:\n",
    "    if not nums:\n",
    "        return 0\n",
    "    count = 0\n",
    "    for i in range(len(nums)):\n",
    "        if nums[count] != nums[i]:\n",
    "            count += 1\n",
    "            nums[count] = nums[i]\n",
    "    return count+1  "
   ]
  },
  {
   "cell_type": "code",
   "execution_count": 19,
   "metadata": {},
   "outputs": [
    {
     "name": "stdout",
     "output_type": "stream",
     "text": [
      "None\n"
     ]
    }
   ],
   "source": [
    "nums = [0,0,1,1,1,2,2,3,3,4]\n",
    "removeDuplicates(nums)"
   ]
  },
  {
   "cell_type": "markdown",
   "metadata": {},
   "source": [
    "# 27. Remove Element"
   ]
  },
  {
   "cell_type": "markdown",
   "metadata": {},
   "source": [
    "Given an array nums and a value val, remove all instances of that value in-place and return the new length.\n",
    "\n",
    "Do not allocate extra space for another array, you must do this by modifying the input array in-place with O(1) extra memory.\n",
    "\n",
    "The order of elements can be changed. It doesn't matter what you leave beyond the new length.\n",
    "\n",
    "Example 1:  \n",
    "Given nums = [3,2,2,3], val = 3,  \n",
    "Your function should return length = 2, with the first two elements of nums being 2.  \n",
    "It doesn't matter what you leave beyond the returned length.\n",
    "\n",
    "Example 2:  \n",
    "Given nums = [0,1,2,2,3,0,4,2], val = 2,  \n",
    "Your function should return length = 5, with the first five elements of nums containing 0, 1, 3, 0, and 4."
   ]
  },
  {
   "cell_type": "code",
   "execution_count": 21,
   "metadata": {},
   "outputs": [],
   "source": [
    "def removeElement(nums, val: int) -> int:\n",
    "    i,last = 0, len(nums)-1\n",
    "    while i <= last:\n",
    "        if nums[i] == val:\n",
    "            nums[i],nums[last] = nums[last],nums[i]\n",
    "            last -= 1\n",
    "        else:\n",
    "            i += 1\n",
    "    return last + 1\n",
    "\n",
    "'''\n",
    "e.g. nums = [3,2,2,3],val=3, i=0, last=3\n",
    "round 1: nums[0]==val,swap [3,2,2,3] last-1=2\n",
    "round 2: nums[0]==val,swap [2,2,3,3] last-1=1\n",
    "round 3: nums[0]!=val,     [2,2,3,3] i+1=1\n",
    "round 4: nums[1]!=val,     [2,2,3,3] i+1=2, break while loop\n",
    "round 5: return last+1\n",
    "'''"
   ]
  },
  {
   "cell_type": "markdown",
   "metadata": {},
   "source": [
    "# 28. Implement strStr()\n",
    "\n",
    "Implement strStr().  \n",
    "Return the index of the first occurrence of needle in haystack, or -1 if needle is not part of haystack.\n",
    "\n",
    "Example 1:  \n",
    "Input: haystack = \"hello\", needle = \"ll\"  \n",
    "Output: 2\n",
    "\n",
    "Example 2:  \n",
    "Input: haystack = \"aaaaa\", needle = \"bba\"  \n",
    "Output: -1  \n",
    "\n",
    "Clarification:  \n",
    "What should we return when needle is an empty string? This is a great question to ask during an interview.  \n",
    "For the purpose of this problem, we will return 0 when needle is an empty string. This is consistent to C's strstr() and Java's indexOf().\n",
    "\n",
    "### my solution"
   ]
  },
  {
   "cell_type": "code",
   "execution_count": 110,
   "metadata": {},
   "outputs": [],
   "source": [
    "def strStr(haystack: str, needle: str) -> int:\n",
    "    if not needle:\n",
    "        return 0\n",
    "\n",
    "    for i in range(len(haystack)-len(needle)+1):  # !!!!\n",
    "        if haystack[i] == needle[0]: # or straight forward, remove this condition\n",
    "            if haystack[i:i+len(needle)] == needle:\n",
    "                return i \n",
    "    return -1"
   ]
  },
  {
   "cell_type": "code",
   "execution_count": 112,
   "metadata": {},
   "outputs": [
    {
     "data": {
      "text/plain": [
       "2"
      ]
     },
     "execution_count": 112,
     "metadata": {},
     "output_type": "execute_result"
    },
    {
     "data": {
      "text/plain": [
       "-1"
      ]
     },
     "execution_count": 112,
     "metadata": {},
     "output_type": "execute_result"
    }
   ],
   "source": [
    "haystack = \"hello\"\n",
    "needle = \"ll\"\n",
    "strStr(haystack,needle)\n",
    "haystack = \"aaaaa\" \n",
    "needle = \"bba\"\n",
    "strStr(haystack,needle)"
   ]
  },
  {
   "cell_type": "markdown",
   "metadata": {},
   "source": [
    "# 21. Next Permutation\n",
    "\n",
    "Implement next permutation, which rearranges numbers into the lexicographically next greater permutation of numbers.  \n",
    "If such arrangement is not possible, it must rearrange it as the lowest possible order (ie, sorted in ascending order).    \n",
    "The replacement must be in-place and use only constant extra memory.    \n",
    "Here are some examples. Inputs are in the left-hand column and its corresponding outputs are in the right-hand column.  \n",
    "1,2,3 → 1,3,2  \n",
    "3,2,1 → 1,2,3  \n",
    "1,1,5 → 1,5,1 \n",
    "\n",
    "### Idea\n",
    "- 规律有些难找，先找到从后向前数，第一个降序的位置，再把这个降序数字和后面第一个比它大的位置交换，最后将这个降序数字后的重新进行排序。"
   ]
  },
  {
   "cell_type": "code",
   "execution_count": 2,
   "metadata": {},
   "outputs": [],
   "source": [
    "def nextPermutation(nums) -> None:\n",
    "    start = len(nums)-2\n",
    "    end = len(nums) - 1\n",
    "    while start >= 0 and nums[start] >= nums[start+1]:\n",
    "        start -= 1\n",
    "    while end >= 0 and nums[start] >= nums[end]:\n",
    "        end -= 1\n",
    "    nums[start], nums[end] = nums[end], nums[start]\n",
    "    nums[start+1:] = sorted(nums[start+1:])\n",
    "        "
   ]
  },
  {
   "cell_type": "markdown",
   "metadata": {},
   "source": [
    "# 35. Search Insert Position -- Take advantage of what we know -- sorted array"
   ]
  },
  {
   "cell_type": "markdown",
   "metadata": {},
   "source": [
    "Given a sorted array and a target value, return the index if the target is found. If not, return the index where it would be if it were inserted in order.\n",
    "\n",
    "You may assume no duplicates in the array.\n",
    "\n",
    "Example 1:  \n",
    "Input: [1,3,5,6], 5  \n",
    "Output: 2\n",
    "\n",
    "Example 2:  \n",
    "Input: [1,3,5,6], 2  \n",
    "Output: 1  \n",
    "\n",
    "Example 3:  \n",
    "Input: [1,3,5,6], 7  \n",
    "Output: 4  \n",
    "\n",
    "Example 4:  \n",
    "Input: [1,3,5,6], 0  \n",
    "Output: 0"
   ]
  },
  {
   "cell_type": "code",
   "execution_count": 48,
   "metadata": {},
   "outputs": [],
   "source": [
    " def searchInsert(nums, target) -> int:\n",
    "        if target > nums[-1]:\n",
    "            return len(nums)\n",
    "\n",
    "        for i in range(len(nums)):\n",
    "            if nums[i] >= target:\n",
    "                return i"
   ]
  },
  {
   "cell_type": "code",
   "execution_count": 49,
   "metadata": {},
   "outputs": [
    {
     "data": {
      "text/plain": [
       "1"
      ]
     },
     "execution_count": 49,
     "metadata": {},
     "output_type": "execute_result"
    }
   ],
   "source": [
    "nums = [1,3]\n",
    "target = 2\n",
    "searchInsert(nums,target)"
   ]
  },
  {
   "cell_type": "markdown",
   "metadata": {},
   "source": [
    "# 36. Valid Sudoku\n",
    "\n",
    "Determine if a 9x9 Sudoku board is valid. Only the filled cells need to be validated according to the following rules:\n",
    "\n",
    "Each row must contain the digits 1-9 without repetition.\n",
    "Each column must contain the digits 1-9 without repetition.\n",
    "Each of the 9 3x3 sub-boxes of the grid must contain the digits 1-9 without repetition.\n",
    "\n",
    "The Sudoku board could be partially filled, where empty cells are filled with the character '.'.\n",
    "\n",
    "Example 1:  \n",
    "Input:  \n",
    "[\n",
    "  [\"5\",\"3\",\".\",\".\",\"7\",\".\",\".\",\".\",\".\"],  \n",
    "  [\"6\",\".\",\".\",\"1\",\"9\",\"5\",\".\",\".\",\".\"],  \n",
    "  [\".\",\"9\",\"8\",\".\",\".\",\".\",\".\",\"6\",\".\"],  \n",
    "  [\"8\",\".\",\".\",\".\",\"6\",\".\",\".\",\".\",\"3\"],  \n",
    "  [\"4\",\".\",\".\",\"8\",\".\",\"3\",\".\",\".\",\"1\"],  \n",
    "  [\"7\",\".\",\".\",\".\",\"2\",\".\",\".\",\".\",\"6\"],  \n",
    "  [\".\",\"6\",\".\",\".\",\".\",\".\",\"2\",\"8\",\".\"],  \n",
    "  [\".\",\".\",\".\",\"4\",\"1\",\"9\",\".\",\".\",\"5\"],  \n",
    "  [\".\",\".\",\".\",\".\",\"8\",\".\",\".\",\"7\",\"9\"]]   \n",
    "Output: true  \n",
    "\n",
    "Example 2:  \n",
    "Input:  \n",
    "[\n",
    "  [\"8\",\"3\",\".\",\".\",\"7\",\".\",\".\",\".\",\".\"],  \n",
    "  [\"6\",\".\",\".\",\"1\",\"9\",\"5\",\".\",\".\",\".\"],  \n",
    "  [\".\",\"9\",\"8\",\".\",\".\",\".\",\".\",\"6\",\".\"],  \n",
    "  [\"8\",\".\",\".\",\".\",\"6\",\".\",\".\",\".\",\"3\"],  \n",
    "  [\"4\",\".\",\".\",\"8\",\".\",\"3\",\".\",\".\",\"1\"],  \n",
    "  [\"7\",\".\",\".\",\".\",\"2\",\".\",\".\",\".\",\"6\"],  \n",
    "  [\".\",\"6\",\".\",\".\",\".\",\".\",\"2\",\"8\",\".\"],  \n",
    "  [\".\",\".\",\".\",\"4\",\"1\",\"9\",\".\",\".\",\"5\"],  \n",
    "  [\".\",\".\",\".\",\".\",\"8\",\".\",\".\",\"7\",\"9\"]]  \n",
    "Output: false  \n",
    "Explanation: Same as Example 1, except with the 5 in the top left corner being modified to 8. Since there are two 8's in the top left 3x3 sub-box, it is invalid.\n",
    "Note:  \n",
    "A Sudoku board (partially filled) could be valid but is not necessarily solvable.  \n",
    "Only the filled cells need to be validated according to the mentioned rules.  \n",
    "The given board contain only digits 1-9 and the character '.'.  \n",
    "The given board size is always 9x9."
   ]
  },
  {
   "cell_type": "code",
   "execution_count": 2,
   "metadata": {},
   "outputs": [],
   "source": [
    "def isValidSudoku(board) -> bool:\n",
    "    return self.row_isvalid(board) and self.col_isvalid(board) and self.square_isvalid(board)\n",
    "\n",
    "def row_isvalid(self,board):\n",
    "    for row in board:\n",
    "        if not self.unit_isvalid(row):\n",
    "            return False\n",
    "    return True\n",
    "\n",
    "def col_isvalid(self,board):\n",
    "    for col in zip(*board):\n",
    "        if not self.unit_isvalid(col):\n",
    "            return False\n",
    "    return True\n",
    "\n",
    "def square_isvalid(self,board):\n",
    "    for i in (0,3,6):\n",
    "        for j in (0,3,6):\n",
    "            square = [board[x][y] for x in range(i,i+3) for y in range(j,j+3)]\n",
    "            if not self.unit_isvalid(square):\n",
    "                return False\n",
    "    return True\n",
    "\n",
    "def unit_isvalid(self,unit):\n",
    "    unit = [i for i in unit if i != '.']\n",
    "    return len(unit) == len(set(unit))"
   ]
  },
  {
   "cell_type": "code",
   "execution_count": 1,
   "metadata": {},
   "outputs": [
    {
     "name": "stdout",
     "output_type": "stream",
     "text": [
      "('8', '6', '.', '8', '4', '7', '.', '.', '.')\n",
      "('3', '.', '9', '.', '.', '.', '6', '.', '.')\n",
      "('.', '.', '8', '.', '.', '.', '.', '.', '.')\n",
      "('.', '1', '.', '.', '8', '.', '.', '4', '.')\n",
      "('7', '9', '.', '6', '.', '2', '.', '1', '8')\n",
      "('.', '5', '.', '.', '3', '.', '.', '9', '.')\n",
      "('.', '.', '.', '.', '.', '.', '2', '.', '.')\n",
      "('.', '.', '6', '.', '.', '.', '8', '.', '7')\n",
      "('.', '.', '.', '3', '1', '6', '.', '5', '9')\n"
     ]
    }
   ],
   "source": [
    "board = [\n",
    "  [\"8\",\"3\",\".\",\".\",\"7\",\".\",\".\",\".\",\".\"],\n",
    "  [\"6\",\".\",\".\",\"1\",\"9\",\"5\",\".\",\".\",\".\"],\n",
    "  [\".\",\"9\",\"8\",\".\",\".\",\".\",\".\",\"6\",\".\"],\n",
    "  [\"8\",\".\",\".\",\".\",\"6\",\".\",\".\",\".\",\"3\"],\n",
    "  [\"4\",\".\",\".\",\"8\",\".\",\"3\",\".\",\".\",\"1\"],\n",
    "  [\"7\",\".\",\".\",\".\",\"2\",\".\",\".\",\".\",\"6\"],\n",
    "  [\".\",\"6\",\".\",\".\",\".\",\".\",\"2\",\"8\",\".\"],\n",
    "  [\".\",\".\",\".\",\"4\",\"1\",\"9\",\".\",\".\",\"5\"],\n",
    "  [\".\",\".\",\".\",\".\",\"8\",\".\",\".\",\"7\",\"9\"]\n",
    "]\n",
    "for col in zip(*board):\n",
    "    print(col)"
   ]
  },
  {
   "cell_type": "markdown",
   "metadata": {},
   "source": [
    "# 38. Count and Say\n",
    "The count-and-say sequence is the sequence of integers with the first five terms as following:  \n",
    "\n",
    "1.     1  \n",
    "2.     11  \n",
    "3.     21  \n",
    "4.     1211  \n",
    "5.     111221  \n",
    "1 is read off as \"one 1\" or 11.  \n",
    "11 is read off as \"two 1s\" or 21.  \n",
    "21 is read off as \"one 2, then one 1\" or 1211.  \n",
    "\n",
    "Given an integer n where 1 ≤ n ≤ 30, generate the nth term of the count-and-say sequence. You can do so recursively, in other words from the previous member read off the digits, counting the number of digits in groups of the same digit. \n",
    "\n",
    "Note: Each term of the sequence of integers will be represented as a string.\n",
    "\n",
    "Example 1:  \n",
    "Input: 1  \n",
    "Output: \"1\"  \n",
    "Explanation: This is the base case.  \n",
    "\n",
    "Example 2:  \n",
    "Input: 4  \n",
    "Output: \"1211\"  \n",
    "Explanation: For n = 3 the term was \"21\" in which we have two groups \"2\" and \"1\", \"2\" can be read as \"12\" which means frequency = 1 and value = 2, the same way \"1\" is read as \"11\", so the answer is the concatenation of \"12\" and \"11\" which is \"1211\"."
   ]
  },
  {
   "cell_type": "code",
   "execution_count": null,
   "metadata": {},
   "outputs": [],
   "source": [
    "def countAndSay(self,n) -> str:\n",
    "    seq = \"1\" #initialization\n",
    "    for _ in range(n-1):\n",
    "        seq = self.getNext(seq)\n",
    "    return seq\n",
    "\n",
    "def getNext(self,seq):\n",
    "    i, next_seq = 0, \"\"\n",
    "    while i < len(seq): # count each char\n",
    "        count = 1 \n",
    "        while i < len(seq)-1 and seq[i] == seq[i+1]: # recount when different char\n",
    "            count += 1\n",
    "            i += 1\n",
    "        next_seq += str(count) + seq[i]\n",
    "        i += 1\n",
    "    return next_seq        "
   ]
  },
  {
   "cell_type": "markdown",
   "metadata": {},
   "source": [
    "# 46. Permutations - recursion\n",
    "\n",
    "Given a collection of distinct integers, return all possible permutations.  \n",
    "Example:  \n",
    "Input: [1,2,3]  \n",
    "Output:  \n",
    "[\n",
    "  [1,2,3],\n",
    "  [1,3,2],\n",
    "  [2,1,3],\n",
    "  [2,3,1],\n",
    "  [3,1,2],\n",
    "  [3,2,1]\n",
    "]"
   ]
  },
  {
   "cell_type": "code",
   "execution_count": null,
   "metadata": {},
   "outputs": [],
   "source": [
    "def permute(nums):\n",
    "    if len(nums) <= 1:\n",
    "        return [nums]\n",
    "    \n",
    "    answer = []\n",
    "    for i,num in enumerate(nums):\n",
    "        n = nums[:i] + nums[i+1:]\n",
    "        for y in self.permute(n):\n",
    "            answer.append([num] + y)\n",
    "    return answer\n",
    "\n",
    "nums = [1,2,3]\n",
    "permute(nums)"
   ]
  },
  {
   "cell_type": "markdown",
   "metadata": {},
   "source": [
    "# 48. Rotate Image\n",
    "\n",
    "You are given an n x n 2D matrix representing an image.  \n",
    "Rotate the image by 90 degrees (clockwise).  \n",
    "Note: You have to rotate the image in-place, which means you have to modify the input 2D matrix directly. DO NOT allocate another 2D matrix and do the rotation.\n",
    "\n",
    "Example 1:  \n",
    "Given input matrix =   \n",
    "[  [1,2,3],  \n",
    "  [4,5,6],  \n",
    "  [7,8,9]  ],  \n",
    "rotate the input matrix in-place such that it becomes:  \n",
    "[  [7,4,1],  \n",
    "  [8,5,2],  \n",
    "  [9,6,3]  ]  \n",
    "  \n",
    "Example 2:  \n",
    "Given input matrix =  \n",
    "[  [ 5, 1, 9,11],  \n",
    "  [ 2, 4, 8,10],  \n",
    "  [13, 3, 6, 7],  \n",
    "  [15,14,12,16]  ],   \n",
    "rotate the input matrix in-place such that it becomes:  \n",
    "[  [15,13, 2, 5],  \n",
    "  [14, 3, 4, 1],  \n",
    "  [12, 6, 8, 9],  \n",
    "  [16, 7,10,11]  ]"
   ]
  },
  {
   "cell_type": "markdown",
   "metadata": {},
   "source": [
    "### Solution - upper left partition\n",
    "- now_row = original_col\n",
    "- now_col = len - original_row"
   ]
  },
  {
   "cell_type": "code",
   "execution_count": 135,
   "metadata": {},
   "outputs": [],
   "source": [
    "def rotate(matrix) -> None:\n",
    "    \"\"\"\n",
    "    Do not return anything, modify matrix in-place instead.\n",
    "    \"\"\"\n",
    "    m = len(matrix) \n",
    "    n = m -1\n",
    "    for i in range(m//2):\n",
    "        for j in range(i,n-i):\n",
    "            tmp = matrix[i][j]\n",
    "            matrix[i][j] = matrix[n-j][i]\n",
    "            matrix[n-j][i] = matrix[n-i][n-j]\n",
    "            matrix[n-i][n-j] = matrix[j][n-i]\n",
    "            matrix[j][n-i] = tmp              \n",
    "    return matrix"
   ]
  },
  {
   "cell_type": "code",
   "execution_count": 136,
   "metadata": {},
   "outputs": [
    {
     "data": {
      "text/plain": [
       "[[7, 4, 1], [8, 5, 2], [9, 6, 3]]"
      ]
     },
     "execution_count": 136,
     "metadata": {},
     "output_type": "execute_result"
    }
   ],
   "source": [
    "matrix = [ [1,2,3],\n",
    "           [4,5,6],\n",
    "           [7,8,9] ]\n",
    "rotate(matrix)"
   ]
  },
  {
   "cell_type": "markdown",
   "metadata": {},
   "source": [
    "# 49. Group Anagrams\n",
    "\n",
    "Given an array of strings, group anagrams together.   \n",
    "Example:  \n",
    "Input: [\"eat\", \"tea\", \"tan\", \"ate\", \"nat\", \"bat\"],  \n",
    "Output:  \n",
    "[\n",
    "  [\"ate\",\"eat\",\"tea\"],  \n",
    "  [\"nat\",\"tan\"],  \n",
    "  [\"bat\"] ]  \n",
    "Note:    \n",
    "All inputs will be in lowercase.  \n",
    "The order of your output does not matter.\n",
    "\n",
    "### Solution:\n",
    "- straight forward\n",
    "- dict\n",
    "- d.keys() >> \"\".join(sorted(str))"
   ]
  },
  {
   "cell_type": "code",
   "execution_count": 58,
   "metadata": {},
   "outputs": [],
   "source": [
    "def groupAnagrams(strs):\n",
    "    d = {}\n",
    "    if len(strs) < 1:\n",
    "        return strs\n",
    "    \n",
    "    for str_ in strs:\n",
    "        sortstr = \"\".join(sorted(str_))\n",
    "        if sortstr in d:\n",
    "            d[sortstr].append(str_)\n",
    "        else:\n",
    "            d[sortstr] = [str_]\n",
    "    return d.values()"
   ]
  },
  {
   "cell_type": "code",
   "execution_count": 59,
   "metadata": {},
   "outputs": [
    {
     "data": {
      "text/plain": [
       "dict_values([['eat', 'tea', 'ate'], ['tan', 'nat'], ['bat']])"
      ]
     },
     "execution_count": 59,
     "metadata": {},
     "output_type": "execute_result"
    }
   ],
   "source": [
    "strs = [\"eat\", \"tea\", \"tan\", \"ate\", \"nat\", \"bat\"]\n",
    "groupAnagrams(strs)"
   ]
  },
  {
   "cell_type": "markdown",
   "metadata": {},
   "source": [
    "# 54. Spiral Matrix\n",
    "\n",
    "Given a matrix of m x n elements (m rows, n columns), **return all elements of the matrix in spiral order.**\n",
    "\n",
    "Example 1:  \n",
    "Input:  \n",
    "[  [ 1, 2, 3 ],   \n",
    "  [ 4, 5, 6 ],   \n",
    "  [ 7, 8, 9 ] ]  \n",
    "Output: [1,2,3,6,9,8,7,4,5]\n",
    "    \n",
    "Example 2:  \n",
    "Input:   \n",
    "[  [1, 2, 3, 4],    \n",
    "  [5, 6, 7, 8],  \n",
    "  [9,10,11,12] ]  \n",
    "Output: [1,2,3,4,8,12,11,10,9,5,6,7]"
   ]
  },
  {
   "cell_type": "code",
   "execution_count": null,
   "metadata": {},
   "outputs": [],
   "source": [
    "def spiralOrder(self,matrix):\n",
    "    row = len(matrix)\n",
    "    if row == 0 or len(matrix[0]) == 0:\n",
    "        return []\n",
    "    col = len(matrix[0])\n",
    "    res = matrix[0]\n",
    "    if row > 1:\n",
    "        for i in range(1,row):\n",
    "            res.append(matrix[i][col-1])\n",
    "        for j in range(col-2,-1,-1):\n",
    "            res.append(matrix[row-1][j])\n",
    "        if col > 1:\n",
    "            for i in range(row-2,0,-1):\n",
    "                res.append(matrix[i][0])\n",
    "\n",
    "    M = []\n",
    "    for k in range(1,row-1):\n",
    "        t = matrix[k][1:-1]\n",
    "        M.append(t)\n",
    "    return res + self.spiralOrder(M)                         "
   ]
  },
  {
   "cell_type": "markdown",
   "metadata": {},
   "source": [
    "# 56. Merge Intervals\n",
    "\n",
    "Given a collection of intervals, merge all overlapping intervals.\n",
    "\n",
    "Example 1:  \n",
    "Input: [[1,3],[2,6],[8,10],[15,18]]  \n",
    "Output: [[1,6],[8,10],[15,18]]  \n",
    "Explanation: Since intervals [1,3] and [2,6] overlaps, merge them into [1,6].\n",
    "\n",
    "Example 2:  \n",
    "Input: [[1,4],[4,5]]  \n",
    "Output: [[1,5]]  \n",
    "Explanation: Intervals [1,4] and [4,5] are considered overlapping.  \n",
    "NOTE: input types have been changed on April 15, 2019. Please reset to default code definition to get new method signature.\n",
    "\n",
    "### Idea\n",
    "- sorting on starting of each interval\n",
    "- compare 2 objects: result[-1] and each interval in intervals\n",
    "- judge whether merge or not (there is a gap between 2 intervals)"
   ]
  },
  {
   "cell_type": "code",
   "execution_count": null,
   "metadata": {},
   "outputs": [],
   "source": [
    "def merge(intervals):\n",
    "    intervals.sort(key=lambda x:x[0]) #sorting based on lambda func\n",
    "    result = []\n",
    "    \n",
    "    i = 0\n",
    "    while i < len(intervals):\n",
    "        cur_start = intervals[i][0]\n",
    "        cur_end = intervals[i][1]\n",
    "        if result:\n",
    "            prev_start,prev_end = result[-1]\n",
    "            hi = min(prev_end,cur_end)\n",
    "            lo = max(prev_start,cur_start)\n",
    "            \n",
    "            if lo <= hi: \n",
    "                if cur_end > prev_end:\n",
    "                    result[-1][1] = cur_end\n",
    "            else: #gap, cannot merge\n",
    "                result.append(intervals[i])\n",
    "        else:\n",
    "            result.append(intervals[i])\n",
    "        i += 1\n",
    "    return result\n",
    "\n",
    "intervals = [[2,4],[1,6]]\n",
    "merge(intervals)"
   ]
  },
  {
   "cell_type": "markdown",
   "metadata": {},
   "source": [
    "\n",
    "# 58. Length of Last Word\n",
    "\n",
    "Given a string s consists of upper/lower-case alphabets and empty space characters ' ', return the length of last word (last word means the last appearing word if we loop from left to right) in the string.  \n",
    "If the last word does not exist, return 0.\n",
    "\n",
    "Note: A word is defined as a maximal substring consisting of non-space characters only.\n",
    "\n",
    "Example:   \n",
    "Input: \"Hello World\"  \n",
    "Output: 5 \n",
    "\n",
    "### Idea:\n",
    "1. split()\n",
    "2. count, Local_count. consider special case: 'Hello '"
   ]
  },
  {
   "cell_type": "code",
   "execution_count": 16,
   "metadata": {},
   "outputs": [],
   "source": [
    "def lengthOfLastWord(s: str) -> int:\n",
    "    new = s.split()\n",
    "    print(new)\n",
    "    return len(new[-1]) if len(new)>0 else 0"
   ]
  },
  {
   "cell_type": "code",
   "execution_count": 17,
   "metadata": {},
   "outputs": [],
   "source": [
    "def lengthOfLastWord2(s: str) -> int:\n",
    "    count = 0\n",
    "    Local_count = 0 # \"a \"\n",
    "    \n",
    "    for i in range(len(s)):\n",
    "        if s[i] == ' ': # 1. end 2. following a new word\n",
    "            Local_count = 0\n",
    "        else:\n",
    "            Local_count += 1\n",
    "            count = Local_count\n",
    "    return count"
   ]
  },
  {
   "cell_type": "code",
   "execution_count": 18,
   "metadata": {},
   "outputs": [
    {
     "data": {
      "text/plain": [
       "5"
      ]
     },
     "execution_count": 18,
     "metadata": {},
     "output_type": "execute_result"
    }
   ],
   "source": [
    "s = \"Hello World\"\n",
    "lengthOfLastWord(s)"
   ]
  },
  {
   "cell_type": "markdown",
   "metadata": {},
   "source": [
    "# 59. Spiral Matrix II - 54. Spiral Matrix I\n",
    "\n",
    "Given a positive integer n, generate a square matrix filled with elements from 1 to n² in spiral order.  \n",
    "Example:  \n",
    "Input: 3\n",
    "Output:  \n",
    "[[ 1, 2, 3 ],  \n",
    " [ 8, 9, 4 ],  \n",
    " [ 7, 6, 5 ]]  \n",
    "\n",
    "### Idea\n",
    "- initial matrix, row/col number\n",
    "- findout the rule, while loop\n",
    "    - for loop each edge in spiral order"
   ]
  },
  {
   "cell_type": "code",
   "execution_count": null,
   "metadata": {},
   "outputs": [],
   "source": [
    "def generateMatrix(n: int):\n",
    "    matrix = [[0] * n for _ in range(n)]\n",
    "    \n",
    "    rowBegin = 0\n",
    "    rowEnd = n-1\n",
    "    colBegin = 0\n",
    "    colEnd = n-1\n",
    "    number = 1\n",
    "    \n",
    "    while rowBegin <= rowEnd and colBegin <= colEnd:\n",
    "        for j in range(colBegin,colEnd+1): # 1st row\n",
    "            matrix[rowBegin][j] = number \n",
    "            number += 1\n",
    "        rowBegin += 1\n",
    "        \n",
    "        for i in range(rowBegin,rowEnd+1):\n",
    "            matrix[i][colEnd] = number\n",
    "            number += 1\n",
    "        colEnd -= 1\n",
    "        \n",
    "        if colEnd >= colBegin:\n",
    "            for j in range(colEnd,colBegin-1,-1):\n",
    "                matrix[rowEnd][j] = number\n",
    "                number += 1\n",
    "            rowEnd -= 1\n",
    "            \n",
    "        if colEnd >= colBegin:\n",
    "            for i in range(rowEnd,rowBegin-1,-1):\n",
    "                matrix[i][colBegin] = number\n",
    "                number += 1\n",
    "            colBegin += 1\n",
    "    return matrix   \n",
    "n = 3\n",
    "generateMatrix(n)"
   ]
  },
  {
   "cell_type": "markdown",
   "metadata": {},
   "source": [
    "# 61. Rotate List\n",
    "\n",
    "Given a linked list, rotate the list to the right by k places, where k is non-negative.\n",
    "\n",
    "Example 1:  \n",
    "Input: 1->2->3->4->5->NULL, k = 2  \n",
    "Output: 4->5->1->2->3->NULL  \n",
    "Explanation:  \n",
    "rotate 1 steps to the right: 5->1->2->3->4->NULL  \n",
    "rotate 2 steps to the right: 4->5->1->2->3->\n",
    "    \n",
    "Example 2:  \n",
    "Input: 0->1->2->NULL, k = 4  \n",
    "Output: 2->0->1->NULL  \n",
    "Explanation:  \n",
    "rotate 1 steps to the right: 2->0->1->NULL  \n",
    "rotate 2 steps to the right: 1->2->0->NULL  \n",
    "rotate 3 steps to the right: 0->1->2->NULL  \n",
    "rotate 4 steps to the right: 2->0->1->NULL\n",
    "\n",
    "### Idea:\n",
    "- case1: linked list is empty or only have one element, return head\n",
    "- case2: K is multiple len(linked list),reutrn head\n",
    "- case3: mod/reminder != 0 (1->2->3->4->5->NULL,k=2,4->5->1->2->3->NULL)\n",
    "    - p1:head=1, p2: the last of new list=3\n",
    "    - while loop, p1:the last of new list=3, p2=end=5\n",
    "    - define a new node p1=3 > output=4 > None\n",
    "    -  output=3 > None > output=4-5 > head 1-2-3"
   ]
  },
  {
   "cell_type": "code",
   "execution_count": null,
   "metadata": {},
   "outputs": [],
   "source": [
    "def rotateRight(self, head: ListNode, k: int) -> ListNode:\n",
    "    if not head or not head.next:\n",
    "        return head\n",
    "    # len of head list\n",
    "    n = 0\n",
    "    p = head\n",
    "    while p:\n",
    "        n += 1\n",
    "        p = p.next\n",
    "        \n",
    "    k = k % n\n",
    "    if k == 0:\n",
    "        return head\n",
    "    \n",
    "    # find new start of list \n",
    "    p1, p2 = head, head\n",
    "    for i in range(k):\n",
    "        p2 = p2.next\n",
    "    \n",
    "    while p2 and p2.next:\n",
    "        p1 = p1.next\n",
    "        p2 = p2.next\n",
    "        \n",
    "    output = p1.next\n",
    "    p1.next = None\n",
    "    p2.next = head\n",
    "    \n",
    "    return output"
   ]
  },
  {
   "cell_type": "markdown",
   "metadata": {},
   "source": [
    "# 66. Plus One"
   ]
  },
  {
   "cell_type": "markdown",
   "metadata": {},
   "source": [
    "Given a non-empty array of digits representing a non-negative integer, plus one to the integer.\n",
    "\n",
    "The digits are stored such that the most significant digit is at the head of the list, and each element in the array contain a single digit.\n",
    "\n",
    "You may assume the integer does not contain any leading zero, except the number 0 itself.\n",
    "\n",
    "Example 1:  \n",
    "Input: [1,2,3]  \n",
    "Output: [1,2,4]  \n",
    "Explanation: The array represents the integer 123.\n",
    "\n",
    "Example 2:  \n",
    "Input: [4,3,2,1]  \n",
    "Output: [4,3,2,2]  \n",
    "Explanation: The array represents the integer 4321."
   ]
  },
  {
   "cell_type": "code",
   "execution_count": 79,
   "metadata": {},
   "outputs": [],
   "source": [
    "def plusOne(digits):\n",
    "    for i in reversed(range(len(digits))):\n",
    "        if digits[i]==9:\n",
    "            digits[i]=0\n",
    "        else:\n",
    "            digits[i] += 1\n",
    "            return digits\n",
    "    digits[0] = 1\n",
    "    digits.append(0)\n",
    "    return digits"
   ]
  },
  {
   "cell_type": "code",
   "execution_count": 82,
   "metadata": {},
   "outputs": [
    {
     "data": {
      "text/plain": [
       "[8, 9]"
      ]
     },
     "execution_count": 82,
     "metadata": {},
     "output_type": "execute_result"
    }
   ],
   "source": [
    "def plusOne2(digits):\n",
    "    sum=0\n",
    "    for i in digits:\n",
    "        sum=sum*10+i\n",
    "    return [int(j) for j in str(sum+1)]\n",
    "\n",
    "plusOne(digits=[8,8])"
   ]
  },
  {
   "cell_type": "markdown",
   "metadata": {},
   "source": [
    "# 67. Add Binary"
   ]
  },
  {
   "cell_type": "markdown",
   "metadata": {},
   "source": [
    "Given two binary strings, return their sum (also a binary string).  \n",
    "The input strings are both non-empty and contains only characters 1 or 0.  \n",
    "\n",
    "Example 1:  \n",
    "Input: a = \"11\", b = \"1\"  \n",
    "Output: \"100\"  \n",
    "    \n",
    "Example 2:  \n",
    "Input: a = \"1010\", b = \"1011\"  \n",
    "Output: \"10101\"  \n",
    "\n",
    "Constraints:  \n",
    "Each string consists only of '0' or '1' characters.  \n",
    "1 <= a.length, b.length <= 10^4  \n",
    "Each string is either \"0\" or doesn't contain any leading zero.\n",
    "\n",
    "### Idea:\n",
    "- read from right to left\n",
    "- sum of each position in a and b, **sum//2, sum%2 >> carry, val**"
   ]
  },
  {
   "cell_type": "code",
   "execution_count": 27,
   "metadata": {},
   "outputs": [],
   "source": [
    " def addBinary(a: str, b: str) -> str:\n",
    "        result, carry, val = \"\", 0, 0 # carry 进位\n",
    "        for i in range(max(len(a),len(b))):\n",
    "            val = carry \n",
    "            if i < len(a):\n",
    "                val += int(a[-(i+1)])  # the last i-th num in a\n",
    "            if i < len(b):\n",
    "                val += int(b[-(i+1)])  # the last i-th num in b\n",
    "            carry, val = val//2, val%2 # sum=1, carry,val = 0,1 \\ sum = 2, carry,val = 1,0\n",
    "            result += str(val)\n",
    "        if carry:\n",
    "            result += str(1)\n",
    "        return result[::-1]   "
   ]
  },
  {
   "cell_type": "code",
   "execution_count": 28,
   "metadata": {},
   "outputs": [
    {
     "data": {
      "text/plain": [
       "'100'"
      ]
     },
     "execution_count": 28,
     "metadata": {},
     "output_type": "execute_result"
    },
    {
     "data": {
      "text/plain": [
       "'10101'"
      ]
     },
     "execution_count": 28,
     "metadata": {},
     "output_type": "execute_result"
    }
   ],
   "source": [
    "a = \"11\" \n",
    "b = \"1\"\n",
    "addBinary(a,b)\n",
    "a = \"1010\"\n",
    "b = \"1011\"\n",
    "addBinary(a,b)"
   ]
  },
  {
   "cell_type": "markdown",
   "metadata": {},
   "source": [
    "# 69. Sqrt(x) - Binary Search\n",
    "\n",
    "Implement int sqrt(int x).  \n",
    "Compute and return the square root of x, where x is guaranteed to be a non-negative integer.  \n",
    "Since the return type is an integer, the decimal digits are truncated and only the integer part of the result is returned.\n",
    "\n",
    "Example 1:  \n",
    "Input: 4  \n",
    "Output: 2  \n",
    "\n",
    "Example 2:  \n",
    "Input: 8  \n",
    "Output: 2  \n",
    "Explanation: The square root of 8 is 2.82842..., and since the decimal part is truncated, 2 is returned.\n",
    "\n",
    "### My Solution - Brute-force Binary Search"
   ]
  },
  {
   "cell_type": "code",
   "execution_count": null,
   "metadata": {},
   "outputs": [],
   "source": [
    "def mySqrt(x: int) -> int:\n",
    "    if x < 2:\n",
    "        return x\n",
    "    \n",
    "    left, right = 1, x//2\n",
    "    while left <= right:\n",
    "        mid = (left+right)//2\n",
    "        if mid**2 <= x and (mid+1)**2 > x:\n",
    "            return mid  \n",
    "        elif mid**2 < x:\n",
    "            left = mid + 1\n",
    "        elif mid**2 > x and (mid+1)**2 > x:\n",
    "            right = mid -1\n",
    "mySqrt(x=1)\n",
    "\n",
    "def mySqrt2(x: int) -> int:\n",
    "    return int(x**0.5)        "
   ]
  },
  {
   "cell_type": "markdown",
   "metadata": {},
   "source": [
    "### Best Solution"
   ]
  },
  {
   "cell_type": "code",
   "execution_count": null,
   "metadata": {},
   "outputs": [],
   "source": [
    "def mySqrt(x: int) -> int:\n",
    "    if x < 2:\n",
    "        return x\n",
    "    \n",
    "    left, right = 1, x//2\n",
    "    while left <= right:\n",
    "        mid = left + (right-left)//2 #缩进方法！！！\n",
    "        if mid > x/mid:\n",
    "            right = mid -1 \n",
    "        else:\n",
    "            left = mid + 1\n",
    "    return left -1 "
   ]
  },
  {
   "cell_type": "markdown",
   "metadata": {},
   "source": [
    "# 70. Climbing Stairs\n",
    "\n",
    "You are climbing a stair case. It takes n steps to reach to the top.  \n",
    "Each time you can either climb 1 or 2 steps. In how many distinct ways can you climb to the top?  \n",
    "Note: Given n will be a positive integer.\n",
    "\n",
    "Example 1:  \n",
    "Input: 2  \n",
    "Output: 2  \n",
    "Explanation: There are two ways to climb to the top.  \n",
    "1. 1 step + 1 step  \n",
    "2. 2 steps\n",
    "\n",
    "Example 2:  \n",
    "Input: 3   \n",
    "Output: 3  \n",
    "Explanation: There are three ways to climb to the top.  \n",
    "1. 1 step + 1 step + 1 step  \n",
    "2. 1 step + 2 steps  \n",
    "3. 2 steps + 1 step\n",
    "\n",
    "### Idea1: **Fibonacci sequence**\n",
    "- find the rule\n",
    "- n = 1: 1\n",
    "- n = 2: 1\n",
    "- n = 3: 2\n",
    "- n = 4: 3\n",
    "- n = 5: 8\n",
    "- ...\n",
    "\n",
    "### Idea 2: DP\n",
    "- 对于n(n>=3)n(n>=3)n(n>=3)个台阶,可以先爬到第n−1n-1n−1个台阶，然后再爬一个台阶，或者先爬到n−2n-2n−2个台阶，然后爬两个台阶.\n",
    "- 因此有：dp[n]=dp[n−2]+dp[n−1]dp[n] = dp[n-2] + dp[n-1]dp[n]=dp[n−2]+dp[n−1]"
   ]
  },
  {
   "cell_type": "code",
   "execution_count": 22,
   "metadata": {},
   "outputs": [
    {
     "data": {
      "text/plain": [
       "8"
      ]
     },
     "execution_count": 22,
     "metadata": {},
     "output_type": "execute_result"
    },
    {
     "data": {
      "text/plain": [
       "8"
      ]
     },
     "execution_count": 22,
     "metadata": {},
     "output_type": "execute_result"
    }
   ],
   "source": [
    "def climbStairs1(n) -> int:\n",
    "    prev, curr = 0, 1\n",
    "    for i in range(n):\n",
    "        prev,curr = curr, prev + curr\n",
    "    return curr\n",
    "\n",
    "def climbStairs2(n) -> int:\n",
    "    dp = [0]*(n+1)\n",
    "    dp[0] = 1\n",
    "    dp[1] = 1\n",
    "    for i in range(2,n+1):\n",
    "        dp[i] = dp[i-1]+dp[i-2]\n",
    "    return dp[n]\n",
    "\n",
    "climbStairs1(5)\n",
    "climbStairs2(5)"
   ]
  },
  {
   "cell_type": "markdown",
   "metadata": {},
   "source": [
    "# 71. Simplify Path\n",
    "\n",
    "Given an absolute path for a file (Unix-style), simplify it. Or in other words, convert it to the canonical path.  \n",
    "In a UNIX-style file system, a period . refers to the current directory. Furthermore, a double period .. moves the directory up a level.\n",
    "\n",
    "Note that the returned canonical path must always begin with a slash /, and there must be only a single slash / between two directory names. The last directory name (if it exists) must not end with a trailing /. Also, the canonical path must be the shortest string representing the absolute path.\n",
    "\n",
    "Example 1:  \n",
    "Input: \"/home/\"  \n",
    "Output: \"/home\"  \n",
    "Explanation: Note that there is no trailing slash after the last directory name.\n",
    "\n",
    "Example 2:  \n",
    "Input: \"/../\"  \n",
    "Output: \"/\"  \n",
    "Explanation: Going one level up from the root directory is a no-op, as the root level is the highest level you can go.\n",
    "\n",
    "Example 3:  \n",
    "Input: \"/home//foo/\"  \n",
    "Output: \"/home/foo\"  \n",
    "Explanation: In the canonical path, multiple consecutive slashes are replaced by a single one.\n",
    "\n",
    "Example 4:  \n",
    "Input: \"/a/./b/../../c/\"  \n",
    "Output: \"/c\"  \n",
    "\n",
    "Example 5:  \n",
    "Input: \"/a/../../b/../c//.//\"  \n",
    "Output: \"/c\"\n",
    "\n",
    "Example 6:  \n",
    "Input: \"/a//b////c/d//././/..\"  \n",
    "Output: \"/a/b/c\"\n",
    "\n",
    "### Idea:\n",
    "- start with /, but not end with /\n",
    "- .current level,\n",
    "- .. up a level"
   ]
  },
  {
   "cell_type": "code",
   "execution_count": 68,
   "metadata": {},
   "outputs": [],
   "source": [
    "def simplifyPath(path: str) -> str:\n",
    "    result = []\n",
    "    path_list = path.split('/')\n",
    "    for p in path_list:\n",
    "        if p: \n",
    "            if p == \"..\":\n",
    "                if result:\n",
    "                    result.pop()\n",
    "            elif p == \".\":\n",
    "                    continue\n",
    "            else:\n",
    "                    result.append(p)\n",
    "    res = '/' + '/'.join(result)\n",
    "    return res"
   ]
  },
  {
   "cell_type": "code",
   "execution_count": 69,
   "metadata": {},
   "outputs": [
    {
     "data": {
      "text/plain": [
       "['', 'a', '', 'b', '', '', '', 'c', 'd', '', '.', '.', '', '..']"
      ]
     },
     "execution_count": 69,
     "metadata": {},
     "output_type": "execute_result"
    },
    {
     "data": {
      "text/plain": [
       "'/a/b/c'"
      ]
     },
     "execution_count": 69,
     "metadata": {},
     "output_type": "execute_result"
    }
   ],
   "source": [
    "path =  \"/a//b////c/d//././/..\"\n",
    "path.split(\"/\")\n",
    "simplifyPath(path)"
   ]
  },
  {
   "cell_type": "markdown",
   "metadata": {},
   "source": [
    "# 73. Set Matrix Zeroes\n",
    "\n",
    "Given a m x n matrix, if an element is 0, set its entire row and column to 0. Do it in-place.  \n",
    "Example 1:  \n",
    "Input:   \n",
    "[[1,1,1],  \n",
    " [1,0,1],  \n",
    " [1,1,1]]  \n",
    "Output:   \n",
    "[[1,0,1],  \n",
    " [0,0,0],  \n",
    " [1,0,1]]  \n",
    " \n",
    "Example 2:  \n",
    "Input:   \n",
    "[[0,1,2,0],  \n",
    " [3,4,5,2],  \n",
    " [1,3,1,5]]  \n",
    " \n",
    "Output:   \n",
    "[[0,0,0,0],  \n",
    " [0,4,5,0],  \n",
    " [0,3,1,0]]  \n",
    " \n",
    "Follow up:  \n",
    "A straight forward solution using O(mn) space is probably a bad idea.  \n",
    "A simple improvement uses O(m + n) space, but still not the best solution.  \n",
    "Could you devise a constant space solution?\n",
    "\n",
    "### My Solution - record all 0s' row and col. for loop to replace it.\n",
    "Runtime: 128 ms, faster than 96.11% of Python3 online submissions for Set Matrix Zeroes.  \n",
    "Memory Usage: 14.1 MB, less than 5.13% of Python3 online submissions for Set Matrix Zeroes."
   ]
  },
  {
   "cell_type": "code",
   "execution_count": null,
   "metadata": {},
   "outputs": [],
   "source": [
    "Given a m x n matrix, if an element is 0, set its entire row and column to 0. Do it in-place.  \n",
    "Example 1:  \n",
    "Input:   \n",
    "[[1,1,1],  \n",
    " [1,0,1],  \n",
    " [1,1,1]]  \n",
    "Output:   \n",
    "[[1,0,1],  \n",
    " [0,0,0],  \n",
    " [1,0,1]]  \n",
    " \n",
    "Example 2:  \n",
    "Input:   \n",
    "[[0,1,2,0],  \n",
    " [3,4,5,2],  \n",
    " [1,3,1,5]]  \n",
    " \n",
    "Output:   \n",
    "[[0,0,0,0],  \n",
    " [0,4,5,0],  \n",
    " [0,3,1,0]]  \n",
    " \n",
    "Follow up:  \n",
    "A straight forward solution using O(mn) space is probably a bad idea.  \n",
    "A simple improvement uses O(m + n) space, but still not the best solution.  \n",
    "Could you devise a constant space solution?\n",
    "\n",
    "### My Solution - record all 0s' row and col. for loop to replace it.\n",
    "Runtime: 128 ms, faster than 96.11% of Python3 online submissions for Set Matrix Zeroes.  \n",
    "Memory Usage: 14.1 MB, less than 5.13% of Python3 online submissions for Set Matrix Zeroes."
   ]
  },
  {
   "cell_type": "markdown",
   "metadata": {},
   "source": [
    "# 75. Sort Colors\n",
    "\n",
    "Given an array with n objects colored red, white or blue, sort them **in-place** so that objects of the same color are adjacent, with the colors in the order red, white and blue.\n",
    "\n",
    "Here, we will use the integers 0, 1, and 2 to represent the color red, white, and blue respectively.\n",
    "\n",
    "Note: You are not suppose to use the library's sort function for this problem.\n",
    "\n",
    "Example:  \n",
    "Input: [2,0,2,1,1,0]  \n",
    "Output: [0,0,1,1,2,2]  \n",
    "\n",
    "Follow up:  \n",
    "A rather straight forward solution is a two-pass algorithm using counting sort.\n",
    "First, iterate the array counting number of 0's, 1's, and 2's, then overwrite array with total number of 0's, then 1's and followed by 2's.\n",
    "Could you come up with a one-pass algorithm using only constant space?\n",
    "\n",
    "### Idea: Sorting - 3 pointers\n",
    "- p,q,k = 0,0, len(nums)-1\n",
    "- p,q nums[q] = 0, swap\n",
    "- q,k nums[q] = 2, swap"
   ]
  },
  {
   "cell_type": "code",
   "execution_count": null,
   "metadata": {},
   "outputs": [],
   "source": [
    "def sortColors(nums):\n",
    "    \"\"\"\n",
    "    Do not return anything, modify nums in-place instead.\n",
    "    \"\"\"\n",
    "    p,q = 0,0\n",
    "    k = len(nums)-1\n",
    "    while q <= k:\n",
    "        if p < q and nums[q] == 0:\n",
    "            nums[p],nums[q] = nums[q],nums[p]\n",
    "            p += 1\n",
    "        elif  nums[q] == 2:\n",
    "            nums[q],nums[k] = nums[k],nums[q]\n",
    "            k -= 1\n",
    "        else:\n",
    "            q += 1\n",
    "    return nums\n",
    "\n",
    "nums =  [2,0,2,1,1,0]\n",
    "sortColors(nums)"
   ]
  },
  {
   "cell_type": "markdown",
   "metadata": {},
   "source": [
    "# 79. Word Search\n",
    "\n",
    "Given a 2D board and a word, find if the word exists in the grid.  \n",
    "The word can be constructed from letters of sequentially adjacent cell, where \"adjacent\" cells are those horizontally or vertically neighboring. The same letter cell may not be used more than once.  \n",
    "\n",
    "Example:  \n",
    "board =  \n",
    "[\n",
    "  ['A','B','C','E'],  \n",
    "  ['S','F','C','S'],  \n",
    "  ['A','D','E','E']  ]  \n",
    "\n",
    "Given word = \"ABCCED\", return true.   \n",
    "Given word = \"SEE\", return true.  \n",
    "Given word = \"ABCB\", return false.  \n",
    "\n",
    "Constraints:  \n",
    "board and word consists only of lowercase and uppercase English letters.  \n",
    "1 <= board.length <= 200  \n",
    "1 <= board[i].length <= 200  \n",
    "1 <= word.length <= 10^3  \n",
    "\n",
    "### Idea: Backtracking, DFS\n",
    "\n",
    "- main func (find starting point, 2 for loop: row+col)\n",
    "- dfs func (help going deep into board to find whether there is a sequence or not)\n",
    "- notice: mark the position we have passed before"
   ]
  },
  {
   "cell_type": "code",
   "execution_count": null,
   "metadata": {},
   "outputs": [],
   "source": [
    "def exist(self,board, word: str) -> bool:\n",
    "    for i in range(len(board)):\n",
    "        for j in range(len(board[0])):\n",
    "            if self.helper(board,i,j,word,wordIndex=0):\n",
    "                return True \n",
    "    return False\n",
    "\n",
    "# DFS\n",
    "def helper(self,board,i,j,word,wordIndex):\n",
    "    if wordIndex == len(word):\n",
    "        return True\n",
    "    if i < 0 or i >= len(board) or j < 0 or j >= len(board[0]) or word[wordIndex] != board[i][j]:\n",
    "        return False\n",
    "\n",
    "    board[i][j] = '#'\n",
    "\n",
    "    found = self.helper(board,i+1,j,word,wordIndex+1) \\\n",
    "         or self.helper(board,i-1,j,word,wordIndex+1) \\\n",
    "         or self.helper(board,i,j+1,word,wordIndex+1) \\\n",
    "         or self.helper(board,i,j-1,word,wordIndex+1)\n",
    "\n",
    "    board[i][j] = word[wordIndex]\n",
    "    return found \n",
    "\n",
    "board = [ ['A','B','C','E'],\n",
    "          ['S','F','C','S'],\n",
    "          ['A','D','E','E'] ]\n",
    "word = \"ABCCED\""
   ]
  },
  {
   "cell_type": "markdown",
   "metadata": {},
   "source": [
    "# 83. Remove Duplicates from Sorted List\n",
    "\n",
    "Given a sorted linked list, delete all duplicates such that each element appear only once.\n",
    "\n",
    "Example 1:  \n",
    "Input: 1->1->2  \n",
    "Output: 1->2  \n",
    "\n",
    "Example 2:  \n",
    "Input: 1->1->2->3->3  \n",
    "Output: 1->2->3"
   ]
  },
  {
   "cell_type": "code",
   "execution_count": null,
   "metadata": {},
   "outputs": [],
   "source": [
    "# Definition for singly-linked list.\n",
    "# class ListNode:\n",
    "#     def __init__(self, val=0, next=None):\n",
    "#         self.val = val\n",
    "#         self.next = next\n",
    "class Solution:\n",
    "    def deleteDuplicates(self, head: ListNode) -> ListNode:\n",
    "        curr = head # curr: 1st pointer,动态指针\n",
    "        while curr:\n",
    "            runner = curr.next\n",
    "            while runner and runner.val == curr.val: # 2nd pointer, while loop until find the different num.\n",
    "                runner = runner.next\n",
    "            curr.next = runner # update curr \n",
    "            curr = curr.next\n",
    "        return head"
   ]
  },
  {
   "cell_type": "markdown",
   "metadata": {},
   "source": [
    "# 88. Merge Sorted Array"
   ]
  },
  {
   "cell_type": "markdown",
   "metadata": {},
   "source": [
    "Given two sorted integer arrays nums1 and nums2, merge nums2 into nums1 as one sorted array.\n",
    "\n",
    "Note:  \n",
    "The number of elements initialized in nums1 and nums2 are m and n respectively.  \n",
    "You may assume that nums1 has enough space (size that is greater or equal to m + n) to hold additional elements from nums2.  \n",
    "\n",
    "Example:  \n",
    "Input:\n",
    "nums1 = [1,2,3,0,0,0], m = 3  \n",
    "nums2 = [2,5,6],     n = 3  \n",
    "Output: [1,2,2,3,5,6]"
   ]
  },
  {
   "cell_type": "markdown",
   "metadata": {},
   "source": [
    "## Idea -- from tail to head compare\n",
    "- condition: nums1 and nums2 are both sorted array\n",
    "- compare largest nums in nums1 and nums2, -> nums1[m-1] and nums2[n-1]\n",
    "    - if nums2[n-1] bigger, move it to its corresponding place in nums1\n",
    "    - if nums1[m-1] bigger, swap and set 0\n",
    "- notice cases: \n",
    "    -  when m==0 and n>0, insert it on the head of nums1\n",
    "    -  when n==0 and m>0, already right answer"
   ]
  },
  {
   "cell_type": "code",
   "execution_count": null,
   "metadata": {},
   "outputs": [],
   "source": [
    "def merge(nums1, m: int, nums2, n: int) -> None:\n",
    "    \"\"\"\n",
    "    Do not return anything, modify nums1 in-place instead.\n",
    "    \"\"\"\n",
    "    while m>0 and n>0:\n",
    "        if nums1[m-1] < nums2[n-1]:\n",
    "            nums1[m+n-1] = nums2[n-1]\n",
    "            n -= 1\n",
    "        else:\n",
    "            nums1[m+n-1],nums1[m-1] = nums1[m-1],0\n",
    "            m -= 1\n",
    "    if m==0 and n>0:\n",
    "        nums1[:n] = nums2[:n]"
   ]
  },
  {
   "cell_type": "markdown",
   "metadata": {},
   "source": [
    "# 98. Validate Binary Search Tree\n",
    "\n",
    "Given a binary tree, determine if it is a valid binary search tree (BST).  \n",
    "Assume a BST is defined as follows:  \n",
    "The left subtree of a node contains only nodes with keys less than the node's key.  \n",
    "The right subtree of a node contains only nodes with keys greater than the node's key.  \n",
    "Both the left and right subtrees must also be binary search trees.  \n",
    "\n",
    "Example 1:    \n",
    "Input: [2,1,3]  \n",
    "Output: true  \n",
    "\n",
    "Example 2:  \n",
    "Input: [5,1,4,null,null,3,6]  \n",
    "Output: false  \n",
    "Explanation: The root node's value is 5 but its right child's value is 4.\n",
    "\n",
    "### Idea:\n",
    "- BTS: root.left.val <= root.val < root.right.val\n",
    "- helper function\n",
    "    - satidfying global min and max\n",
    "    - make sure: root.left.val <= root.val < root.right.val"
   ]
  },
  {
   "cell_type": "code",
   "execution_count": null,
   "metadata": {},
   "outputs": [],
   "source": [
    "# Definition for a binary tree node.\n",
    "# class TreeNode:\n",
    "#     def __init__(self, val=0, left=None, right=None):\n",
    "#         self.val = val\n",
    "#         self.left = left\n",
    "#         self.right = right\n",
    "class Solution:\n",
    "    def isValidBST(self, root: TreeNode) -> bool:\n",
    "        return self.valid(root,float('-inf'),float('inf'))\n",
    "    \n",
    "    def valid(self,root,min,max):\n",
    "        if not root:\n",
    "            return True\n",
    "        if root.val >= max or root.val <= min:\n",
    "            return False\n",
    "        return self.valid(root.left,min,root.val) and self.valid(root.right,root.val,max)"
   ]
  },
  {
   "cell_type": "markdown",
   "metadata": {},
   "source": [
    "# 100. Same Tree\n",
    "\n",
    "Given two binary trees, write a function to check if they are the same or not.  \n",
    "Two binary trees are considered the same if they are structurally identical and the nodes have the same value.\n",
    "\n",
    "### Idea:\n",
    "- 如果p，q都为空 >> True\n",
    "- 如果p，q都存在，\n",
    "    - 1.比较 p.val和q.val\n",
    "    - 2.比较p.left和q.left，递归（节点本身，left children，right children）\n",
    "    - 3.比较p.right和q.right，递归"
   ]
  },
  {
   "cell_type": "code",
   "execution_count": 5,
   "metadata": {},
   "outputs": [
    {
     "data": {
      "image/jpeg": "[encoded data removed]",
      "text/plain": [
       "<IPython.core.display.Image object>"
      ]
     },
     "execution_count": 5,
     "metadata": {
      "image/jpeg": {
       "height": 50,
       "width": 150
      }
     },
     "output_type": "execute_result"
    }
   ],
   "source": [
    "from IPython.display import Image\n",
    "Image(filename = '100.jpg', width=150, height=50)"
   ]
  },
  {
   "cell_type": "code",
   "execution_count": null,
   "metadata": {},
   "outputs": [],
   "source": [
    "# Definition for a binary tree node.\n",
    "# class TreeNode:\n",
    "#     def __init__(self, val=0, left=None, right=None):\n",
    "#         self.val = val\n",
    "#         self.left = left\n",
    "#         self.right = right\n",
    "class Solution:\n",
    "    def isSameTree(self, p: TreeNode, q: TreeNode) -> bool:\n",
    "        if not p and not q:\n",
    "            return True\n",
    "        if p and q:\n",
    "            return p.val==q.val and self.isSameTree(p.left,q.left) and self.isSameTree(p.right,q.right)"
   ]
  },
  {
   "cell_type": "markdown",
   "metadata": {},
   "source": [
    "# 101. Symmetric Tree\n",
    "\n",
    "Given a binary tree, check whether it is a mirror of itself (ie, symmetric around its center).  \n",
    "For example, this binary tree [1,2,2,3,4,4,3] is symmetric  \n",
    "But the following [1,2,2,null,3,null,3] is not\n",
    "\n",
    "### Idea:\n",
    "- 需要辅助函数，isSymmetricRecursion来判断\n",
    "    - 辅助函数\n",
    "        - 判断左右节点都不存在 >> True\n",
    "        - 判断只存在一个节点,或者两节点值不相同 >> False\n",
    "        - 判断两节点都存在且值相同，继续递归辅助函数判断 该左节点的左节点和右节点的右节点，该左节点的右节点和右节点的左节点    "
   ]
  },
  {
   "cell_type": "code",
   "execution_count": null,
   "metadata": {},
   "outputs": [],
   "source": [
    "# Definition for a binary tree node.\n",
    "# class TreeNode:\n",
    "#     def __init__(self, val=0, left=None, right=None):\n",
    "#         self.val = val\n",
    "#         self.left = left\n",
    "#         self.right = right\n",
    "class Solution:\n",
    "    def isSymmetric(self, root: TreeNode) -> bool:\n",
    "        if not root:\n",
    "            return True\n",
    "        return self.isSymmetricRecursion(root.left,root.right)\n",
    "    \n",
    "    def isSymmetricRecursion(self,left,right):\n",
    "        if not left and not right:\n",
    "            return True\n",
    "        if not left or not right or left.val!=right.val:\n",
    "            return False\n",
    "        return self.isSymmetricRecursion(left.left,right.right) and self.isSymmetricRecursion(left.right,right.left)"
   ]
  },
  {
   "cell_type": "markdown",
   "metadata": {},
   "source": [
    "# 104. Maximum Depth of Binary Tree\n",
    "\n",
    "Given a binary tree, find its maximum depth.  \n",
    "The maximum depth is the number of nodes along the longest path from the root node down to the farthest leaf node.  \n",
    "Note: A leaf is a node with no children.\n",
    "\n",
    "Example:  \n",
    "Given binary tree [3,9,20,null,null,15,7],  \n",
    "return its depth = 3.\n",
    "\n",
    "### Idea:\n",
    "- 左子树和右子树最大深度 + root：1\n",
    "- 递归：每一层只要有左子节点或右子节点就+1"
   ]
  },
  {
   "cell_type": "code",
   "execution_count": null,
   "metadata": {},
   "outputs": [],
   "source": [
    "# Definition for a binary tree node.\n",
    "# class TreeNode:\n",
    "#     def __init__(self, val=0, left=None, right=None):\n",
    "#         self.val = val\n",
    "#         self.left = left\n",
    "#         self.right = right\n",
    "class Solution:\n",
    "    def maxDepth(self, root: TreeNode) -> int:\n",
    "        if not root:\n",
    "            return 0\n",
    "        else:\n",
    "            return max(self.maxDepth(root.left),self.maxDepth(root.right))+1 "
   ]
  },
  {
   "cell_type": "markdown",
   "metadata": {},
   "source": [
    "# 105. Construct Binary Tree from Preorder and Inorder Traversal\n",
    "\n",
    "Given preorder and inorder traversal of a tree, construct the binary tree.  \n",
    "Note: You may assume that duplicates do not exist in the tree.  \n",
    "\n",
    "For example, given  \n",
    "preorder = [3,9,20,15,7]  \n",
    "inorder = [9,3,15,20,7]  \n",
    "Return the binary tree\n",
    "\n",
    "### Idea\n",
    "- pre-order: root > root.left > root.right | 1st: root                 | find the next level root - recurrsion \n",
    "- in-order: root.left > root > root.right  | partition root left/right subtree | recurrsion "
   ]
  },
  {
   "cell_type": "code",
   "execution_count": null,
   "metadata": {},
   "outputs": [],
   "source": [
    "# Definition for a binary tree node.\n",
    "# class TreeNode:\n",
    "#     def __init__(self, val=0, left=None, right=None):\n",
    "#         self.val = val\n",
    "#         self.left = left\n",
    "#         self.right = right\n",
    "class Solution:\n",
    "    def buildTree(self, preorder: List[int], inorder: List[int]) -> TreeNode:\n",
    "        \n",
    "        #stop recursion condition\n",
    "        if not preorder or not inorder:\n",
    "            return None\n",
    "        \n",
    "        # find root\n",
    "        rootvalue = preorder[0]\n",
    "        root = TreeNode(rootvalue)\n",
    "        \n",
    "        #find root index, partition left/right subtree -> recursion\n",
    "        inorderIndex = inorder.index(rootvalue)\n",
    "        \n",
    "        root.left = self.buildTree(preorder[1:inorderIndex+1], inorder[:inorderIndex])\n",
    "        root.right = self.buildTree(preorder[inorderIndex+1:], inorder[inorderIndex+1:])\n",
    "        \n",
    "        return root        "
   ]
  },
  {
   "cell_type": "markdown",
   "metadata": {},
   "source": [
    "# 107. Binary Tree Level Order Traversal II\n",
    "\n",
    "Given a binary tree, return the bottom-up level order traversal of its nodes' values. (ie, from left to right, level by level from leaf to root).  \n",
    "For example:   \n",
    "Given binary tree [3,9,20,null,null,15,7],  \n",
    "return its bottom-up level order traversal as:  \n",
    "[\n",
    "  [15,7],  \n",
    "  [9,20],  \n",
    "  [3]  ]\n",
    "  \n",
    "### Idea:\n",
    "- curr: current level, intialization -> root\n",
    "- while loop, curr\n",
    "    - vals: nodes of current level\n",
    "    - next_level: left and right of nodes\n",
    "    - update curr = next_level"
   ]
  },
  {
   "cell_type": "code",
   "execution_count": null,
   "metadata": {},
   "outputs": [],
   "source": [
    "# Definition for a binary tree node.\n",
    "# class TreeNode:\n",
    "#     def __init__(self, val=0, left=None, right=None):\n",
    "#         self.val = val\n",
    "#         self.left = left\n",
    "#         self.right = right\n",
    "class Solution:\n",
    "    def levelOrderBottom(self, root: TreeNode) -> List[List[int]]:\n",
    "        if not root:\n",
    "            return []\n",
    "        result,curr = [], [root]\n",
    "        while curr:\n",
    "            next_level, vals = [], []\n",
    "            for node in curr:\n",
    "                vals.append(node.val)\n",
    "                if node.left:\n",
    "                    next_level.append(node.left)\n",
    "                if node.right:\n",
    "                    next_level.append(node.right)\n",
    "            curr = next_level\n",
    "            result.append(vals)\n",
    "        return result[::1]"
   ]
  },
  {
   "cell_type": "markdown",
   "metadata": {},
   "source": [
    "# 108. Convert Sorted Array to Binary Search Tree - Recursion\n",
    "\n",
    "Given an array where elements are sorted in ascending order, convert it to a height balanced BST.  \n",
    "For this problem, a height-balanced binary tree is defined as a binary tree in which the depth of the two subtrees of every node never differ by more than 1.\n",
    "\n",
    "Example:  \n",
    "Given the sorted array: [-10,-3,0,5,9],  \n",
    "One possible answer is: [0,-3,9,-10,null,5], which represents the following height balanced BST:\n",
    "\n",
    "### Idea:\n",
    "- height-balanced binary tree: the depth of the two subtrees of every node never differ by more than 1\n",
    "- helper function:\n",
    "    - recursion, find the mid node, left part is left-subtree, right part is right-subtree."
   ]
  },
  {
   "cell_type": "code",
   "execution_count": null,
   "metadata": {},
   "outputs": [],
   "source": [
    "# Definition for a binary tree node.\n",
    "# class TreeNode:\n",
    "#     def __init__(self, val=0, left=None, right=None):\n",
    "#         self.val = val\n",
    "#         self.left = left\n",
    "#         self.right = right\n",
    "class Solution:\n",
    "    def sortedArrayToBST(self, nums: List[int]) -> TreeNode:\n",
    "        \n",
    "        def to_bst(nums,start,end):\n",
    "            if start > end:\n",
    "                return None\n",
    "            mid = (start + end)//2\n",
    "            node = TreeNode(nums[mid])\n",
    "            node.left = to_bst(nums,start,mid-1)\n",
    "            node.right = to_bst(nums,mid+1,end)\n",
    "            return node # 把node.left，node.right与subtree相连，linked list\n",
    "        return to_bst(nums,0,len(nums)-1)"
   ]
  },
  {
   "cell_type": "markdown",
   "metadata": {},
   "source": [
    "# 110. Balanced Binary Tree\n",
    "\n",
    "Given a binary tree, determine if it is height-balanced.  \n",
    "For this problem, **a height-balanced binary tree is defined as:  \n",
    "a binary tree in which the left and right subtrees of every node differ in height by no more than 1.**\n",
    "\n",
    "Example 1:  \n",
    "Given the following tree [3,9,20,null,null,15,7]:  \n",
    "Return true.\n",
    "\n",
    "Example 2:  \n",
    "Given the following tree [1,2,2,3,3,null,null,4,4]:  \n",
    "Return false.\n",
    "\n",
    "### Idea:\n",
    "- main function\n",
    "    - helper function - getHeight(root)\n",
    "        - determine every node satisfying the condition, if not, return -1\n",
    "            - left_height >=0 and right_height >= 0 and abs()<=1\n",
    "        - return height\n",
    "    - return root_height >= 0"
   ]
  },
  {
   "cell_type": "code",
   "execution_count": null,
   "metadata": {},
   "outputs": [],
   "source": [
    "# Definition for a binary tree node.\n",
    "# class TreeNode:\n",
    "#     def __init__(self, val=0, left=None, right=None):\n",
    "#         self.val = val\n",
    "#         self.left = left\n",
    "#         self.right = right\n",
    "class Solution:\n",
    "    def isBalanced(self, root: TreeNode) -> bool:\n",
    "        def getHeight(root):\n",
    "            if not root:\n",
    "                return 0\n",
    "            left_height, right_height = getHeight(root.left),getHeight(root.right)\n",
    "            if left_height < 0 or right_height < 0 or abs(left_height-right_height) > 1:\n",
    "                return -1\n",
    "            return max(left_height,right_height)+1\n",
    "        return getHeight >= 0"
   ]
  },
  {
   "cell_type": "markdown",
   "metadata": {},
   "source": [
    "# 111. Minimum Depth of Binary Tree\n",
    "\n",
    "Given a binary tree, find its minimum depth.  \n",
    "The minimum depth is the number of nodes along the shortest path from the root node down to the nearest leaf node.    \n",
    "Note: A leaf is a node with no children.\n",
    "\n",
    "Example:  \n",
    "Given binary tree [3,9,20,null,null,15,7],  \n",
    "return its minimum depth = 2.\n",
    "\n",
    "### Idea:\n",
    "- same as maximum Depth problem\n",
    "- but notice: [0,null,1] >> minDepth=2  *最小深度是从根节点到最近叶子节点的最短路径上的节点数量*\n",
    "    - if not root.left:  return self.minDepth(root.right)+1\n",
    "    - if not root.right: return self.minDepth(root.left)+1"
   ]
  },
  {
   "cell_type": "code",
   "execution_count": null,
   "metadata": {},
   "outputs": [],
   "source": [
    "# Definition for a binary tree node.\n",
    "# class TreeNode:\n",
    "#     def __init__(self, val=0, left=None, right=None):\n",
    "#         self.val = val\n",
    "#         self.left = left\n",
    "#         self.right = right\n",
    "class Solution:\n",
    "    def minDepth(self, root: TreeNode) -> int:\n",
    "        if not root:\n",
    "            return 0\n",
    "        if not root.left:\n",
    "            return self.minDepth(root.right)+1\n",
    "        if not root.right:\n",
    "            return self.minDepth(root.left)+1\n",
    "\n",
    "        return min(self.minDepth(root.left), self.minDepth(root.right))+1"
   ]
  },
  {
   "cell_type": "markdown",
   "metadata": {},
   "source": [
    "# 112. Path Sum\n",
    "\n",
    "Given a binary tree and a sum, determine if the tree has a root-to-leaf path such that adding up all the values along the path equals the given sum.  \n",
    "Note: A leaf is a node with no children.\n",
    "\n",
    "Example:  \n",
    "Given the below binary tree and sum = 22,  \n",
    "      5  \n",
    "     / \\  \n",
    "    4   8  \n",
    "   /   / \\  \n",
    "  11  13  4  \n",
    " /  \\      \\  \n",
    "7    2      1  \n",
    "return true, as there exist a root-to-leaf path 5->4->11->2 which sum is 22.\n",
    "\n",
    "### Idea:\n",
    "- case1: if root uodate to leaf and leaf.val != updated sum >> False\n",
    "- case2: if root update to leaf and leaf.val == updated sum >> True\n",
    "- case3: other cases, root.left or root.right, sum-root.val >> recursion and update sum"
   ]
  },
  {
   "cell_type": "code",
   "execution_count": null,
   "metadata": {},
   "outputs": [],
   "source": [
    "# Definition for a binary tree node.\n",
    "# class TreeNode:\n",
    "#     def __init__(self, val=0, left=None, right=None):\n",
    "#         self.val = val\n",
    "#         self.left = left\n",
    "#         self.right = right\n",
    "class Solution:\n",
    "    def hasPathSum(self, root: TreeNode, sum: int) -> bool:\n",
    "        if not root:\n",
    "            return False\n",
    "        if not root.left and not root.right and sum = root.val:\n",
    "            return True\n",
    "        else:\n",
    "            return self.hasPathSum(root.left,sum-root.val) or self.hasPathSum(root.right,sum-root.val)"
   ]
  },
  {
   "cell_type": "markdown",
   "metadata": {},
   "source": [
    "# 116. Populating Next Right Pointers in Each Node\n",
    "\n",
    "You are given a perfect binary tree where all leaves are on the same level, and every parent has two children. The binary tree has the following definition:  \n",
    "struct Node {  \n",
    "  int val;  \n",
    "  Node *left;  \n",
    "  Node *right;  \n",
    "  Node *next;\n",
    "} \n",
    "Populate each next pointer to point to its next right node. If there is no next right node, the next pointer should be set to NULL.  \n",
    "Initially, all next pointers are set to NULL.\n",
    "\n",
    "Follow up:  \n",
    "You may only use constant extra space.  \n",
    "Recursive approach is fine, you may assume implicit stack space does not count as extra space for this problem.\n",
    " \n",
    "Example 1:  \n",
    "Input: root = [1,2,3,4,5,6,7]  \n",
    "Output: [1,#,2,3,#,4,5,6,7,#]  \n",
    "Explanation: Given the above perfect binary tree (Figure A), your function should populate each next pointer to point to its next right node, just like in Figure B. The serialized output is in level order as connected by the next pointers, with '#' signifying the end of each level.\n",
    " \n",
    "Constraints:  \n",
    "The number of nodes in the given tree is less than 4096.  \n",
    "-1000 <= node.val <= 1000\n",
    "\n",
    "\n",
    "### Idea: -- Recursive Approach\n",
    "- case1: find node, node.left.next=node.right >> 2-3, 4-5, 6-7\n",
    "- case 2: if node.next, node.right.next = node.next.left >> 5-6 \n",
    "- case 3: if node.next, keep null"
   ]
  },
  {
   "cell_type": "code",
   "execution_count": null,
   "metadata": {},
   "outputs": [],
   "source": [
    "\"\"\"\n",
    "# Definition for a Node.\n",
    "class Node:\n",
    "    def __init__(self, val: int = 0, left: 'Node' = None, right: 'Node' = None, next: 'Node' = None):\n",
    "        self.val = val\n",
    "        self.left = left\n",
    "        self.right = right\n",
    "        self.next = next\n",
    "\"\"\"\n",
    "\n",
    "class Solution:\n",
    "    def connect(self, root: 'Node') -> 'Node':\n",
    "        if root and root.left and root.right: #not leaf node\n",
    "            root.left.next = root.right\n",
    "            if root.next:\n",
    "                root.right.next = root.next.left\n",
    "            self.connect(root.left)\n",
    "            self.connect(root.right)\n",
    "        return root #return updated root"
   ]
  },
  {
   "cell_type": "markdown",
   "metadata": {},
   "source": [
    "# 118. Pascal's Triangle"
   ]
  },
  {
   "cell_type": "markdown",
   "metadata": {},
   "source": [
    "### Idea\n",
    "- for loop every row (i-th)\n",
    "- for loop every num (i+1 nums) of each row \n",
    "    - if the first and last index, num = 1\n",
    "    - else sum of 2 nums of the last row "
   ]
  },
  {
   "cell_type": "code",
   "execution_count": 2,
   "metadata": {},
   "outputs": [],
   "source": [
    "def generate(numRows: int):\n",
    "    result = []\n",
    "    for i in range(numRows):\n",
    "        result.append([])\n",
    "        for j in range(i+1):\n",
    "            if j in (0,i):\n",
    "                result[i].append(1)\n",
    "            else:\n",
    "                result[i].append(result[i-1][j-1]+result[i-1][j])\n",
    "    return result                "
   ]
  },
  {
   "cell_type": "code",
   "execution_count": 3,
   "metadata": {},
   "outputs": [
    {
     "data": {
      "text/plain": [
       "[[1], [1, 1], [1, 2, 1], [1, 3, 3, 1], [1, 4, 6, 4, 1]]"
      ]
     },
     "execution_count": 3,
     "metadata": {},
     "output_type": "execute_result"
    }
   ],
   "source": [
    "generate(numRows=5)"
   ]
  },
  {
   "cell_type": "markdown",
   "metadata": {},
   "source": [
    "# 119. Pascal's Triangle II"
   ]
  },
  {
   "cell_type": "markdown",
   "metadata": {},
   "source": [
    "Given a non-negative index k where k ≤ 33, return the kth index row of the Pascal's triangle.  \n",
    "Note that the row index starts from 0."
   ]
  },
  {
   "cell_type": "markdown",
   "metadata": {},
   "source": [
    "## Idea\n",
    "- set the result format\n",
    "- traversal every row\n",
    "- traversal every num in each row, backwards sum"
   ]
  },
  {
   "cell_type": "code",
   "execution_count": 11,
   "metadata": {},
   "outputs": [],
   "source": [
    "def getRow(rowIndex: int):\n",
    "    result = [1] + [0]*rowIndex\n",
    "    for i in range(rowIndex):\n",
    "        result[0] = 1\n",
    "        for j in range(i+1,0,-1):\n",
    "            result[j] = result[j] + result[j-1]\n",
    "            print(\"i:\",i,\"j:\",j,result)\n",
    "    return result"
   ]
  },
  {
   "cell_type": "code",
   "execution_count": 12,
   "metadata": {},
   "outputs": [
    {
     "name": "stdout",
     "output_type": "stream",
     "text": [
      "i: 0 j: 1 [1, 1, 0, 0]\n",
      "i: 1 j: 2 [1, 1, 1, 0]\n",
      "i: 1 j: 1 [1, 2, 1, 0]\n",
      "i: 2 j: 3 [1, 2, 1, 1]\n",
      "i: 2 j: 2 [1, 2, 3, 1]\n",
      "i: 2 j: 1 [1, 3, 3, 1]\n"
     ]
    },
    {
     "data": {
      "text/plain": [
       "[1, 3, 3, 1]"
      ]
     },
     "execution_count": 12,
     "metadata": {},
     "output_type": "execute_result"
    }
   ],
   "source": [
    "getRow(rowIndex=3)"
   ]
  },
  {
   "cell_type": "markdown",
   "metadata": {},
   "source": [
    "# 121. Best Time to Buy and Sell Stock    "
   ]
  },
  {
   "cell_type": "markdown",
   "metadata": {},
   "source": [
    "Say you have an array for which the ith element is the price of a given stock on day i.\n",
    "\n",
    "If you were only permitted to complete at most one transaction (i.e., buy one and sell one share of the stock), design an algorithm to find the maximum profit.\n",
    "\n",
    "Note that you cannot sell a stock before you buy one.\n",
    "\n",
    "Example 1:  \n",
    "Input: [7,1,5,3,6,4]   \n",
    "Output: 5  \n",
    "Explanation: Buy on day 2 (price = 1) and sell on day 5 (price = 6), profit = 6-1 = 5.\n",
    "         Not 7-1 = 6, as selling price needs to be larger than buying price.\n",
    "\n",
    "Example 2:  \n",
    "Input: [7,6,4,3,1]  \n",
    "Output: 0  \n",
    "Explanation: In this case, no transaction is done, i.e. max profit = 0."
   ]
  },
  {
   "cell_type": "code",
   "execution_count": 1,
   "metadata": {},
   "outputs": [],
   "source": [
    "def maxProfit(prices) -> int:\n",
    "    max_profit,min_price = 0, float('inf')\n",
    "    for price in prices:\n",
    "        min_price = min(min_price,price)\n",
    "        max_profit = max(max_profit,price-min_price)\n",
    "    return max(0,max_profit)"
   ]
  },
  {
   "cell_type": "code",
   "execution_count": 27,
   "metadata": {},
   "outputs": [
    {
     "name": "stdout",
     "output_type": "stream",
     "text": [
      "7 7 0\n",
      "1 1 0\n",
      "5 1 4\n",
      "3 1 4\n",
      "6 1 5\n",
      "4 1 5\n"
     ]
    },
    {
     "data": {
      "text/plain": [
       "5"
      ]
     },
     "execution_count": 27,
     "metadata": {},
     "output_type": "execute_result"
    }
   ],
   "source": [
    "prices = [7,1,5,3,6,4]\n",
    "maxProfit(prices)"
   ]
  },
  {
   "cell_type": "markdown",
   "metadata": {},
   "source": [
    "# 125. Valid Palindrome - 有效回文 - 正向反向是否相同\n",
    "\n",
    "Given a string, determine if it is a palindrome, considering only alphanumeric characters and ignoring cases.  \n",
    "Note: For the purpose of this problem, we define empty string as valid palindrome.\n",
    "\n",
    "Example 1:  \n",
    "Input: \"A man, a plan, a canal: Panama\"  \n",
    "Output: true  \n",
    "    \n",
    "Example 2:  \n",
    "Input: \"race a car\"  \n",
    "Output: false\n",
    "\n",
    "### Idea:\n",
    "- 2 pointers\n",
    "- judge whether it is a num or alpha\n",
    "- there is no diff between lowercase and uppercase in this question"
   ]
  },
  {
   "cell_type": "code",
   "execution_count": 113,
   "metadata": {},
   "outputs": [],
   "source": [
    "def isPalindrome(s: str) -> bool:\n",
    "    \n",
    "    if not str:\n",
    "        return True\n",
    "    i, j = 0, len(s)-1\n",
    "    while i < j:\n",
    "        while i < j and not s[i].isalnum():\n",
    "            i += 1\n",
    "        while i < j and not s[j].isalnum():\n",
    "            j -= 1\n",
    "        if s[i].lower() != s[j].lower():\n",
    "            return False\n",
    "        i += 1\n",
    "        j -= 1\n",
    "    return True"
   ]
  },
  {
   "cell_type": "code",
   "execution_count": 116,
   "metadata": {},
   "outputs": [
    {
     "data": {
      "text/plain": [
       "True"
      ]
     },
     "execution_count": 116,
     "metadata": {},
     "output_type": "execute_result"
    },
    {
     "data": {
      "text/plain": [
       "False"
      ]
     },
     "execution_count": 116,
     "metadata": {},
     "output_type": "execute_result"
    }
   ],
   "source": [
    "s = \"A man, a plan, a canal: Panama\"\n",
    "isPalindrome(s)\n",
    "s = \"race a car\"\n",
    "isPalindrome(s)"
   ]
  },
  {
   "cell_type": "markdown",
   "metadata": {},
   "source": [
    "# 134. Gas Station\n",
    "\n",
    "There are N gas stations along a circular route, where the amount of gas at station i is gas[i].  \n",
    "You have a car with an unlimited gas tank and it costs cost[i] of gas to travel from station i to its next station (i+1). You begin the journey with an empty tank at one of the gas stations.  \n",
    "Return the starting gas station's index if you can travel around the circuit once in the clockwise direction, otherwise return -1.\n",
    "\n",
    "Note:  \n",
    "If there exists a solution, it is guaranteed to be unique.  \n",
    "Both input arrays are non-empty and have the same length.  \n",
    "Each element in the input arrays is a non-negative integer.\n",
    "\n",
    "Example 1:  \n",
    "Input:   \n",
    "gas  = [1,2,3,4,5]  \n",
    "cost = [3,4,5,1,2]    \n",
    "Output: 3\n",
    "\n",
    "Explanation:  \n",
    "Start at station 3 (index 3) and fill up with 4 unit of gas. Your tank = 0 + 4 = 4  \n",
    "Travel to station 4. Your tank = 4 - 1 + 5 = 8  \n",
    "Travel to station 0. Your tank = 8 - 2 + 1 = 7   \n",
    "Travel to station 1. Your tank = 7 - 3 + 2 = 6  \n",
    "Travel to station 2. Your tank = 6 - 4 + 3 = 5  \n",
    "Travel to station 3. The cost is 5. Your gas is just enough to travel back to station 3.  \n",
    "Therefore, return 3 as the starting index.\n",
    "\n",
    "Example 2:  \n",
    "Input:   \n",
    "gas  = [2,3,4]  \n",
    "cost = [3,4,3]    \n",
    "Output: -1\n",
    "\n",
    "Explanation:  \n",
    "You can't start at station 0 or 1, as there is not enough gas to travel to the next station.  \n",
    "Let's start at station 2 and fill up with 4 unit of gas. Your tank = 0 + 4 = 4  \n",
    "Travel to station 0. Your tank = 4 - 3 + 2 = 3  \n",
    "Travel to station 1. Your tank = 3 - 3 + 3 = 3  \n",
    "You cannot travel back to station 2, as it requires 4 unit of gas but you only have 3.  \n",
    "Therefore, you can't travel around the circuit once no matter where you start.\n",
    "\n",
    "### My solution:"
   ]
  },
  {
   "cell_type": "code",
   "execution_count": 33,
   "metadata": {},
   "outputs": [
    {
     "data": {
      "text/plain": [
       "3"
      ]
     },
     "execution_count": 33,
     "metadata": {},
     "output_type": "execute_result"
    },
    {
     "data": {
      "text/plain": [
       "4"
      ]
     },
     "execution_count": 33,
     "metadata": {},
     "output_type": "execute_result"
    }
   ],
   "source": [
    "def canCompleteCircuit(gas, cost) -> int:\n",
    "    \n",
    "    def circle(gas,cost):\n",
    "        tank = 0\n",
    "        for j in range(len(gas)):\n",
    "            tank += gas[j]\n",
    "            tank -= cost[j]\n",
    "            if tank < 0:\n",
    "                return False\n",
    "        return True\n",
    "    \n",
    "    for i in range(len(gas)):\n",
    "        tmp1 = gas\n",
    "        tmp2 = cost\n",
    "        gas1 = tmp1[i:]+tmp1[:i]\n",
    "        cost1 = tmp2[i:]+tmp2[:i]\n",
    "        if circle(gas1,cost1) == True:\n",
    "            return i\n",
    "    return -1\n",
    "                \n",
    "gas = [1,2,3,4,5]\n",
    "cost = [3,4,5,1,2]            \n",
    "canCompleteCircuit(gas, cost)\n",
    "gas = [5,1,2,3,4]\n",
    "cost = [4,4,1,5,1]           \n",
    "canCompleteCircuit(gas, cost)"
   ]
  },
  {
   "cell_type": "code",
   "execution_count": 50,
   "metadata": {},
   "outputs": [
    {
     "name": "stdout",
     "output_type": "stream",
     "text": [
      "0 1 0\n",
      "1 2 0\n",
      "2 3 0\n"
     ]
    },
    {
     "data": {
      "text/plain": [
       "3"
      ]
     },
     "execution_count": 50,
     "metadata": {},
     "output_type": "execute_result"
    }
   ],
   "source": [
    "def canCompleteCircuit(gas, cost) -> int:\n",
    "    if sum(gas) < sum(cost):\n",
    "        return -1\n",
    "\n",
    "    start, remain = 0, 0\n",
    "    for i in range(len(gas)):\n",
    "        if gas[i]+remain<cost[i]:\n",
    "            start = i+1\n",
    "            remain = 0\n",
    "            print(i,start,remain)\n",
    "        else:\n",
    "            remain += gas[i]-cost[i]\n",
    "    return start\n",
    "gas = [1,2,3,4,5]\n",
    "cost = [3,4,5,1,2]            \n",
    "canCompleteCircuit(gas, cost)"
   ]
  },
  {
   "cell_type": "markdown",
   "metadata": {},
   "source": [
    "### 136. Single Number - XOR\n",
    "\n",
    "Given a non-empty array of integers, every element appears twice except for one. Find that single one.    \n",
    "Note: Your algorithm should have a linear runtime complexity. Could you implement it without using extra memory?\n",
    "\n",
    "Example 1:  \n",
    "Input: [2,2,1]  \n",
    "Output: 1\n",
    "\n",
    "Example 2:  \n",
    "Input: [4,1,2,1,2]  \n",
    "Output: 4"
   ]
  },
  {
   "cell_type": "code",
   "execution_count": null,
   "metadata": {},
   "outputs": [],
   "source": [
    "def singleNumber(nums) -> int:\n",
    "        r = 0\n",
    "        for i in nums:\n",
    "            r ^= i\n",
    "        return r    "
   ]
  },
  {
   "cell_type": "markdown",
   "metadata": {},
   "source": [
    "# 141. Linked List Cycle\n",
    "\n",
    "Given a linked list, determine if it has a cycle in it.  \n",
    "To represent a cycle in the given linked list, we use an integer pos which represents the position (0-indexed) in the linked list where tail connects to. If pos is -1, then there is no cycle in the linked list \n",
    "\n",
    "Example 1:  \n",
    "Input: head = [3,2,0,-4], pos = 1  \n",
    "Output: true  \n",
    "Explanation: There is a cycle in the linked list, where tail connects to the second node.\n",
    "\n",
    "Example 2:  \n",
    "Input: head = [1,2], pos = 0  \n",
    "Output: true  \n",
    "Explanation: There is a cycle in the linked list, where tail connects to the first node.\n",
    "\n",
    "Example 3:  \n",
    "Input: head = [1], pos = -1  \n",
    "Output: false  \n",
    "Explanation: There is no cycle in the linked list.\n",
    "\n",
    "### idea: 2pointers: 1 fast + 1 slow, if they will meet - cycle. "
   ]
  },
  {
   "cell_type": "code",
   "execution_count": null,
   "metadata": {},
   "outputs": [],
   "source": [
    "def hasCycle(self, head: ListNode) -> bool:\n",
    "    fast, slow = head, head\n",
    "    while fast and fast.next:\n",
    "        fast, slow = fast.next.next, slow.next\n",
    "        if fast == slow:\n",
    "            return True\n",
    "    return False"
   ]
  },
  {
   "cell_type": "markdown",
   "metadata": {},
   "source": [
    "# 151. Reverse Words in a String\n",
    "\n",
    "Given an input string, reverse the string word by word.  \n",
    "\n",
    "Example 1:   \n",
    "Input: \"the sky is blue\"  \n",
    "Output: \"blue is sky the\"\n",
    "\n",
    "Example 2:    \n",
    "Input: \"  hello world!  \"  \n",
    "Output: \"world! hello\"  \n",
    "Explanation: Your reversed string should not contain leading or trailing spaces.\n",
    "\n",
    "Example 3:  \n",
    "Input: \"a good   example\"  \n",
    "Output: \"example good a\"  \n",
    "Explanation: You need to reduce multiple spaces between two words to a single space in the reversed string.\n",
    " \n",
    "Note:  \n",
    "A word is defined as a sequence of non-space characters.  \n",
    "Input string may contain leading or trailing spaces. However, your reversed string should not contain leading or trailing spaces.  \n",
    "You need to reduce multiple spaces between two words to a single space in the reversed string.\n",
    "\n",
    "Follow up:  \n",
    "For C programmers, try to solve it in-place in O(1) extra space.\n",
    "\n",
    "### My solution - reversed(s.split())"
   ]
  },
  {
   "cell_type": "code",
   "execution_count": 55,
   "metadata": {},
   "outputs": [],
   "source": [
    "def reverseWords(s) -> str:\n",
    "    t = \"\"\n",
    "    for i in reversed(s.split()):\n",
    "        t += i + ' '\n",
    "    return t[:-1]"
   ]
  },
  {
   "cell_type": "code",
   "execution_count": 67,
   "metadata": {},
   "outputs": [],
   "source": [
    "def reverseWords(s:str) -> str:\n",
    "    if s == \"\":\n",
    "        return s\n",
    "    ls = s.split()\n",
    "    \n",
    "    if ls == []:\n",
    "        return \"\"\n",
    "    result = \"\"\n",
    "    for i in range(0,len(ls)-1):\n",
    "        result += ls[len(ls)-i-1] + \" \"\n",
    "    result += ls[0]\n",
    "    return result"
   ]
  },
  {
   "cell_type": "code",
   "execution_count": 68,
   "metadata": {},
   "outputs": [
    {
     "data": {
      "text/plain": [
       "'blue is sky the'"
      ]
     },
     "execution_count": 68,
     "metadata": {},
     "output_type": "execute_result"
    },
    {
     "data": {
      "text/plain": [
       "'example good a'"
      ]
     },
     "execution_count": 68,
     "metadata": {},
     "output_type": "execute_result"
    },
    {
     "data": {
      "text/plain": [
       "'world! hello'"
      ]
     },
     "execution_count": 68,
     "metadata": {},
     "output_type": "execute_result"
    }
   ],
   "source": [
    "s = \"the sky is blue\"\n",
    "reverseWords(s)\n",
    "s = \"a good example\"\n",
    "reverseWords(s)\n",
    "s = \" hello world! \"\n",
    "reverseWords(s)"
   ]
  },
  {
   "cell_type": "markdown",
   "metadata": {},
   "source": [
    "# 153. Find Minimum in Rotated Sorted Array -- Array, Binary Search\n",
    "\n",
    "Suppose an array sorted in ascending order is rotated at some pivot unknown to you beforehand.  \n",
    "(i.e.,  [0,1,2,4,5,6,7] might become  [4,5,6,7,0,1,2]).\n",
    "\n",
    "Find the minimum element.  \n",
    "You may assume no duplicate exists in the array.\n",
    "\n",
    "Example 1:  \n",
    "Input: [3,4,5,1,2]   \n",
    "Output: 1 \n",
    "\n",
    "Example 2:  \n",
    "Input: [4,5,6,7,0,1,2]  \n",
    "Output: 0\n",
    "\n",
    "### My Solution\n",
    "- special case: len(nums) == 1\n",
    "- if nums[mid] > nums[end] >> left is sorted  >> move right to find the trough of the nums\n",
    "-              else  >> right is sorted >> move left"
   ]
  },
  {
   "cell_type": "code",
   "execution_count": 5,
   "metadata": {},
   "outputs": [],
   "source": [
    "def findMin(nums) -> int:\n",
    "\n",
    "    if len(nums) == 1:\n",
    "        return nums[0]\n",
    "\n",
    "    start, end = 0,len(nums)-1\n",
    "    while start <= end:\n",
    "        mid = (start + end)//2\n",
    "\n",
    "        if nums[mid] > nums[end]:\n",
    "            if nums[mid] > nums[mid+1]:\n",
    "                return nums[mid+1]\n",
    "            start = mid + 1\n",
    "        else:\n",
    "            if nums[mid] < nums[mid-1]:\n",
    "                return nums[mid]\n",
    "            end = mid - 1    "
   ]
  },
  {
   "cell_type": "code",
   "execution_count": 18,
   "metadata": {},
   "outputs": [],
   "source": [
    "### Solution 2\n",
    "def findMin2(nums) -> int:\n",
    "    if nums == []:\n",
    "        return\n",
    "    left,right = 0,len(nums)-1\n",
    "    result = nums[0]\n",
    "    \n",
    "    while left <= right:\n",
    "        mid = (left+right)//2\n",
    "        if nums[mid] >= nums[left]:\n",
    "            result = min(result,nums[left])\n",
    "            left = mid + 1\n",
    "        else:\n",
    "            result = min(result,nums[mid])\n",
    "            right = mid -1"
   ]
  },
  {
   "cell_type": "code",
   "execution_count": 19,
   "metadata": {},
   "outputs": [
    {
     "name": "stdout",
     "output_type": "stream",
     "text": [
      "677 ns ± 106 ns per loop (mean ± std. dev. of 7 runs, 1000000 loops each)\n",
      "1.67 µs ± 93.4 ns per loop (mean ± std. dev. of 7 runs, 1000000 loops each)\n"
     ]
    }
   ],
   "source": [
    "nums = [3,4,5,1,2]\n",
    "%timeit findMin(nums)\n",
    "%timeit findMin2(nums)"
   ]
  },
  {
   "cell_type": "markdown",
   "metadata": {},
   "source": [
    "# 160. Intersection of Two Linked Lists\n",
    "\n",
    "### Idea: 2 pointers: p1,p2\n",
    "- p1空，继续B，p2空，继续A，直到重合 >> 返回 intersection\n",
    "- 或者链表都结束为 None >> 返回 None "
   ]
  },
  {
   "cell_type": "code",
   "execution_count": 5,
   "metadata": {},
   "outputs": [],
   "source": [
    "def getIntersectionNode(headA, headB):\n",
    "    p1, p2 = headA, headB\n",
    "    while p1 != p2:\n",
    "        if not p1:\n",
    "            p1 = headB\n",
    "        else:\n",
    "            p1 = p1.next\n",
    "        if not p2:\n",
    "            p2 = headA\n",
    "        else:\n",
    "            p2 = p2.next\n",
    "    return p2"
   ]
  },
  {
   "cell_type": "markdown",
   "metadata": {},
   "source": [
    "# 162. Find Peak Element\n",
    "\n",
    "A peak element is an element that is greater than its neighbors.  \n",
    "Given an input array nums, where nums[i] ≠ nums[i+1], find a peak element and return its index.  \n",
    "The array may contain multiple peaks, in that case return the index to any one of the peaks is fine.  \n",
    "You may imagine that nums[-1] = nums[n] = -∞.\n",
    "\n",
    "Example 1:  \n",
    "Input: nums = [1,2,3,1]  \n",
    "Output: 2  \n",
    "Explanation: 3 is a peak element and your function should return the index number 2.\n",
    "\n",
    "Example 2:  \n",
    "Input: nums = [1,2,1,3,5,6,4]  \n",
    "Output: 1 or 5   \n",
    "Explanation: Your function can return either index number 1 where the peak element is 2, or index number 5 where the peak element is 6.\n",
    "\n",
    "### Brute-Force "
   ]
  },
  {
   "cell_type": "code",
   "execution_count": 48,
   "metadata": {},
   "outputs": [],
   "source": [
    "def findPeakElement(nums) -> int:\n",
    "    length = len(nums)\n",
    "    for i in range(1,length-1):\n",
    "        if nums[i-1]<nums[i] and nums[i]>nums[i+1]:\n",
    "            return i\n",
    "    return [0,length-1][nums[0]<nums[length-1]]"
   ]
  },
  {
   "cell_type": "markdown",
   "metadata": {},
   "source": [
    "### Binary Search"
   ]
  },
  {
   "cell_type": "code",
   "execution_count": 46,
   "metadata": {},
   "outputs": [],
   "source": [
    "def findPeakElement2(nums) -> int:\n",
    "    left,right = 0,len(nums)-1 \n",
    "    while left < right:\n",
    "        mid = (left+right)//2\n",
    "        if nums[mid] < nums[mid+1]: #ascending\n",
    "            left = mid + 1            \n",
    "        else:\n",
    "            right = mid #descending\n",
    "    return left"
   ]
  },
  {
   "cell_type": "code",
   "execution_count": 47,
   "metadata": {},
   "outputs": [
    {
     "data": {
      "text/plain": [
       "5"
      ]
     },
     "execution_count": 47,
     "metadata": {},
     "output_type": "execute_result"
    }
   ],
   "source": [
    "nums = [1,2,1,3,5,6,4]\n",
    "findPeakElement2(nums)"
   ]
  },
  {
   "cell_type": "markdown",
   "metadata": {},
   "source": [
    "# 165. Compare Version Numbers\n",
    "  \n",
    "Compare two version numbers version1 and version2.  \n",
    "If version1 > version2 return 1; if version1 < version2 return -1;otherwise return 0.  \n",
    "\n",
    "You may assume that the version strings are non-empty and contain only digits and the . character.  \n",
    "The . character does not represent a decimal point and is used to separate number sequences.  \n",
    "For instance, 2.5 is not \"two and a half\" or \"half way to version three\", it is the fifth second-level revision of the second first-level revision.  \n",
    "You may assume the default revision number for each level of a version number to be 0. For example, version number 3.4 has a revision number of 3 and 4 for its first and second level revision number. Its third and fourth level revision number are both 0.\n",
    "\n",
    "Example 1:  \n",
    "Input: version1 = \"0.1\", version2 = \"1.1\"  \n",
    "Output: -1\n",
    "\n",
    "Example 2:  \n",
    "Input: version1 = \"1.0.1\", version2 = \"1\"  \n",
    "Output: 1 \n",
    "\n",
    "Example 3:  \n",
    "Input: version1 = \"7.5.2.4\", version2 = \"7.5.3\"  \n",
    "Output: -1 \n",
    "\n",
    "Example 4:  \n",
    "Input: version1 = \"1.01\", version2 = \"1.001\"  \n",
    "Output: 0  \n",
    "Explanation: Ignoring leading zeroes, both “01” and “001\" represent the same number “1”\n",
    "Example 5:\n",
    "\n",
    "Input: version1 = \"1.0\", version2 = \"1.0.0\"\n",
    "Output: 0\n",
    "Explanation: The first version number does not have a third level revision number, which means its third level revision number is default to \"0\"\n",
    "\n",
    "Note:  \n",
    "Version strings are composed of numeric strings separated by dots . and this numeric strings may have leading zeroes.  \n",
    "Version strings do not start or end with dots, and they will not be two consecutive dots.\n",
    "\n",
    "### My Solution \n",
    "- 长度不同，补位 e.g.1和1.1\n",
    "- 其他遍历比较int值"
   ]
  },
  {
   "cell_type": "code",
   "execution_count": 110,
   "metadata": {},
   "outputs": [],
   "source": [
    "def compareVersion(version1: str, version2: str) -> int:\n",
    "    '''\n",
    "    If version1 > version2 \n",
    "        return 1; \n",
    "    if version1 < version2 \n",
    "        return -1;\n",
    "    otherwise return 0.\n",
    "    '''\n",
    "    v1 = version1.split('.')\n",
    "    v2 = version2.split('.')\n",
    "    len_diff = len(v1) - len(v2)\n",
    "    if len_diff > 0:\n",
    "        v2 += '0'*len_diff\n",
    "    elif len_diff < 0:\n",
    "        v1 +='0'*(-len_diff)\n",
    "    for i in range(min(len(v1),len(v2))):\n",
    "        if not v1[i]:\n",
    "            v1[i] = '0'\n",
    "        if not v2[i]:\n",
    "            v2[i] = '0'\n",
    "        if int(v1[i]) > int(v2[i]):\n",
    "            return 1\n",
    "        elif int(v1[i]) < int(v2[i]):\n",
    "            return -1\n",
    "    return 0"
   ]
  },
  {
   "cell_type": "code",
   "execution_count": 111,
   "metadata": {},
   "outputs": [
    {
     "data": {
      "text/plain": [
       "-1"
      ]
     },
     "execution_count": 111,
     "metadata": {},
     "output_type": "execute_result"
    },
    {
     "data": {
      "text/plain": [
       "1"
      ]
     },
     "execution_count": 111,
     "metadata": {},
     "output_type": "execute_result"
    },
    {
     "data": {
      "text/plain": [
       "-1"
      ]
     },
     "execution_count": 111,
     "metadata": {},
     "output_type": "execute_result"
    },
    {
     "data": {
      "text/plain": [
       "0"
      ]
     },
     "execution_count": 111,
     "metadata": {},
     "output_type": "execute_result"
    },
    {
     "data": {
      "text/plain": [
       "-1"
      ]
     },
     "execution_count": 111,
     "metadata": {},
     "output_type": "execute_result"
    }
   ],
   "source": [
    "version1 = \"0.1\"\n",
    "version2 = \"1.1\"\n",
    "compareVersion(version1, version2)\n",
    "version1 = \"1.0.1\"\n",
    "version2 = \"1\"\n",
    "compareVersion(version1, version2)\n",
    "version1 = \"7.5.2.4\"\n",
    "version2 = \"7.5.3\"\n",
    "compareVersion(version1, version2)\n",
    "version1 = \"1.01\"\n",
    "version2 = \"1.001\"\n",
    "compareVersion(version1, version2)\n",
    "version1 = \"1.\"\n",
    "version2 = \"1.1\"\n",
    "v1 = version1.split('.')\n",
    "v2 = version2.split('.')\n",
    "compareVersion(version1, version2)"
   ]
  },
  {
   "cell_type": "markdown",
   "metadata": {},
   "source": [
    "# 166. Fraction to Recurring Decimal\n",
    "\n",
    "Given two integers representing the numerator and denominator of a fraction, return the fraction in string format.  \n",
    "If the fractional part is repeating, enclose the repeating part in parentheses.  \n",
    "\n",
    "Example 1:  \n",
    "Input: numerator = 1, denominator = 2  \n",
    "Output: \"0.5\"  \n",
    "\n",
    "Example 2:  \n",
    "Input: numerator = 2, denominator = 1  \n",
    "Output: \"2\" \n",
    "\n",
    "Example 3:  \n",
    "Input: numerator = 2, denominator = 3  \n",
    "Output: \"0.(6)\"\n",
    "\n",
    "### Idea:\n",
    "- consder negative sign '-'\n",
    "- only integer \n",
    "- non-repeating part\n",
    "- repeating part: loopDict,loopStr"
   ]
  },
  {
   "cell_type": "code",
   "execution_count": 12,
   "metadata": {},
   "outputs": [],
   "source": [
    "def fractionToDecimal(numerator: int, denominator: int) -> str:\n",
    "    # numerator/denominator: -+,+-,--\n",
    "    #nagativeFlag\n",
    "    negativFlag = numerator * denominator < 0\n",
    "    numerator = abs(numerator)\n",
    "    denominator = abs(denominator)\n",
    "    \n",
    "    numlist = []\n",
    "    cnt = 0\n",
    "    loopDict = [] # find whether it is repeating or not\n",
    "    loopStr = None # store the repeating fractional part\n",
    "    \n",
    "    while True:\n",
    "        numlist.append(str(numerator//denominator)) #store integer\n",
    "        cnt += 1 #times until finding the repeating num\n",
    "        numerator = 10 * (numerator%denominator) \n",
    "        if numerator == 0: # exact division\n",
    "            break \n",
    "        loc = loopDict.get(numerator) # if repeatinf numerator, so repeating result.\n",
    "        if loc:\n",
    "            loopStr = ''.join(numlist[loc:cnt])\n",
    "            break\n",
    "        loopDict[numerator] = cnt\n",
    "    ans = numlist[0] # integer part\n",
    "    if len(numlist)>1:\n",
    "        ans += '.'\n",
    "    if loopStr:\n",
    "        ans += \"\".join(numlist[1:len(numlist)-len(loopStr)]) + '(' + loopStr + ')'\n",
    "    else:\n",
    "        ans += \"\".join(numlist[1:])\n",
    "    if negativeFlag:\n",
    "        ans = '-' + ans\n",
    "    return ans\n",
    "    \n",
    "        "
   ]
  },
  {
   "cell_type": "markdown",
   "metadata": {},
   "source": [
    "# 167. Two Sum II - Input array is sorted\n",
    "\n",
    "Given an array of integers that is already sorted in ascending order, find two numbers such that they add up to a specific target number.  \n",
    "The function twoSum should return indices of the two numbers such that they add up to the target, where index1 must be less than index2.\n",
    "\n",
    "Note:  \n",
    "Your returned answers (both index1 and index2) are not zero-based.\n",
    "You may assume that each input would have exactly one solution and you may not use the same element twice.\n",
    "\n",
    "Example:  \n",
    "Input: numbers = [2,7,11,15], target = 9  \n",
    "Output: [1,2]  \n",
    "Explanation: The sum of 2 and 7 is 9. Therefore index1 = 1, index2 = 2.\n",
    "\n",
    "### My Solution -- same as Two Sum I -- dictionary"
   ]
  },
  {
   "cell_type": "code",
   "execution_count": 51,
   "metadata": {},
   "outputs": [],
   "source": [
    "def twoSum(numbers, target):\n",
    "    d = {}\n",
    "    for i in range(len(numbers)):\n",
    "        if numbers[i] in d:\n",
    "            return d[numbers[i]]+1,i+1\n",
    "        else:\n",
    "            d[target-numbers[i]] = i"
   ]
  },
  {
   "cell_type": "markdown",
   "metadata": {},
   "source": [
    "### Solution2 -- Binary Search"
   ]
  },
  {
   "cell_type": "code",
   "execution_count": 65,
   "metadata": {},
   "outputs": [],
   "source": [
    "def twoSum2(numbers, target):\n",
    "    start = 0\n",
    "    end = len(numbers)-1\n",
    "    sum = 0\n",
    "    \n",
    "    while start != end:\n",
    "        sum = numbers[start] + numbers[end]\n",
    "        if sum > target:\n",
    "            end -= 1\n",
    "        elif sum < target:\n",
    "            start += 1\n",
    "        else:\n",
    "            return (start+1, end+1)\n",
    "numbers = [2,7,11,15]\n",
    "target = 9\n",
    "twoSum2(numbers, target)"
   ]
  },
  {
   "cell_type": "markdown",
   "metadata": {},
   "source": [
    "# 168. Excel Sheet Column Title\n",
    "\n",
    "Given a positive integer, return its corresponding column title as appear in an Excel sheet.  \n",
    "For example:  \n",
    "    1 -> A  \n",
    "    2 -> B  \n",
    "    3 -> C  \n",
    "    ...  \n",
    "    26 -> Z  \n",
    "    27 -> AA  \n",
    "    28 -> AB   \n",
    "    ...  \n",
    "Example 1:  \n",
    "Input: 1  \n",
    "Output: \"A\" \n",
    "\n",
    "Example 2:  \n",
    "Input: 28  \n",
    "Output: \"AB\"  \n",
    "\n",
    "Example 3:  \n",
    "Input: 701  \n",
    "Output: \"ZY\"  "
   ]
  },
  {
   "cell_type": "code",
   "execution_count": 27,
   "metadata": {},
   "outputs": [
    {
     "data": {
      "text/plain": [
       "'ZY'"
      ]
     },
     "execution_count": 27,
     "metadata": {},
     "output_type": "execute_result"
    }
   ],
   "source": [
    "def convertToTitle(n: int) -> str:\n",
    "    res = \"\"\n",
    "    while n:\n",
    "        res += chr((n-1)%26 + ord('A'))\n",
    "        n = (n-1) // 26\n",
    "    return res[::-1] #take mod firstly, so reverse result at last\n",
    "\n",
    "convertToTitle(n=701)"
   ]
  },
  {
   "cell_type": "markdown",
   "metadata": {},
   "source": [
    "# 169. Majority Element\n",
    "\n",
    "Given an array of size n, find the majority element. The majority element is the element that appears more than ⌊ n/2 ⌋ times.  \n",
    "You may assume that the array is non-empty and the majority element always exist in the array.\n",
    "\n",
    "Example 1:  \n",
    "Input: [3,2,3]  \n",
    "Output: 3  \n",
    "\n",
    "Example 2:  \n",
    "Input: [2,2,1,1,1,2,2]  \n",
    "Output: 2 \n",
    "\n",
    "### My Solution -- collections.Counter"
   ]
  },
  {
   "cell_type": "code",
   "execution_count": null,
   "metadata": {},
   "outputs": [],
   "source": [
    "def majorityElement(nums) -> int:\n",
    "    from collections import Counter \n",
    "    d = Counter(nums)\n",
    "    for num in nums:\n",
    "        if d[num] > len(nums)/2:\n",
    "            return num"
   ]
  },
  {
   "cell_type": "markdown",
   "metadata": {},
   "source": [
    "### Solution 2\n",
    "- Idea: (#of majority - #of minority) > 0"
   ]
  },
  {
   "cell_type": "code",
   "execution_count": null,
   "metadata": {},
   "outputs": [],
   "source": [
    "def majorityElement(nums) -> int:\n",
    "    index,cnt = 0,1\n",
    "    for i in range(1,len(nums)):\n",
    "        if nums[index] == nums[i]:\n",
    "            cnt += 1\n",
    "        else:\n",
    "            cnt -= 1\n",
    "            if cnt == 0:\n",
    "                index = i\n",
    "                cnt = 1\n",
    "    return nums[index]\n",
    "\n",
    "'''\n",
    "nums = [3,2,3]\n",
    "index = 0\n",
    "i=1,nums[0]=3 != nums[1]=2, cnt=0,index=1,cnt=1\n",
    "i=2,nums[1]=2 != nums[2]=3, cnt=0,index=2,cnt=1\n",
    "'''\n",
    "    \n",
    "# Time Complexity O(n)\n",
    "# Space Complexity O(1)"
   ]
  },
  {
   "cell_type": "markdown",
   "metadata": {},
   "source": [
    "# 171. Excel Sheet Column Number\n",
    "\n",
    "Given a column title as appear in an Excel sheet, return its corresponding column number. \n",
    "For example:  \n",
    "    A -> 1  \n",
    "    B -> 2  \n",
    "    C -> 3  \n",
    "    ...  \n",
    "    Z -> 26  \n",
    "    AA -> 27  \n",
    "    AB -> 28   \n",
    "    ...  \n",
    "Example 1:  \n",
    "Input: \"A\"  \n",
    "Output: 1 \n",
    "    \n",
    "Example 2:  \n",
    "Input: \"AB\"  \n",
    "Output: 28\n",
    "    \n",
    "Example 3:  \n",
    "Input: \"ZY\"  \n",
    "Output: 701"
   ]
  },
  {
   "cell_type": "code",
   "execution_count": 9,
   "metadata": {},
   "outputs": [
    {
     "data": {
      "text/plain": [
       "701"
      ]
     },
     "execution_count": 9,
     "metadata": {},
     "output_type": "execute_result"
    }
   ],
   "source": [
    "def titleToNumber(s: str) -> int:\n",
    "    res = 0\n",
    "    for i in range(len(s)):\n",
    "        res *= 26\n",
    "        res += (ord(s[i])-ord('A')+1)\n",
    "    return res\n",
    "titleToNumber(s=\"ZY\")\n",
    "# Z:25+1=26\n",
    "# 26*26 = 676,Y = 24+1=25"
   ]
  },
  {
   "cell_type": "markdown",
   "metadata": {},
   "source": [
    "# 172. Factorial Trailing Zeroes\n",
    "\n",
    "Given an integer n, return the number of trailing zeroes in n!.  \n",
    "Example 1:    \n",
    "Input: 3  \n",
    "Output: 0  \n",
    "Explanation: 3! = 6, no trailing zero.\n",
    "    \n",
    "Example 2:  \n",
    "Input: 5  \n",
    "Output: 1  \n",
    "Explanation: 5! = 120, one trailing zero.\n",
    "Note: Your solution should be in **logarithmic time complexity**.\n",
    "\n",
    "### Idea:\n",
    "- num of trailing zeros: \n",
    "- 2*5=10\n",
    "- 2 easy to capture\n",
    "- num of 5  -> # of 10 (25=5*5)"
   ]
  },
  {
   "cell_type": "code",
   "execution_count": null,
   "metadata": {},
   "outputs": [],
   "source": [
    "def trailingZeroes(n: int) -> int:\n",
    "    res = 0\n",
    "    when n != 0:\n",
    "        res += n // 5\n",
    "        n = n // 5\n",
    "    return res"
   ]
  },
  {
   "cell_type": "markdown",
   "metadata": {},
   "source": [
    "# 186. Reverse Words in a String II \n",
    "\n",
    "Given an input string, reverse the string word by word. A word is defined as a sequence of non-space characters.  \n",
    "The input string does not contain leading or trailing spaces and the words are always separated by a single space.  \n",
    "\n",
    "For example  \n",
    "Given s = \"the sky is blue\",    \n",
    "return \"blue is sky the\".  \n",
    "Could you do it **in-place without allocating extra space**?\n",
    "\n",
    "### Idea：swap\n",
    "- 1. swap by char\n",
    "- 2. find space \" \", swap by word"
   ]
  },
  {
   "cell_type": "code",
   "execution_count": 152,
   "metadata": {},
   "outputs": [],
   "source": [
    "def reverseWords(s):\n",
    "    start, end = 0, len(s)-1\n",
    "    while start < end:\n",
    "        s[start],s[end] = s[end],s[start]\n",
    "        start += 1\n",
    "        end -= 1\n",
    "    index = 0\n",
    "    start = 0\n",
    "    while index < len(s):\n",
    "        if s[index] == ' ' or index == len(s)-1:\n",
    "            if index == len(s)-1: #end of s ang of word\n",
    "                end = index\n",
    "            else:\n",
    "                end = index -1\n",
    "            while start < end:\n",
    "                s[start],s[end] = s[end],s[start]\n",
    "                start += 1\n",
    "                end -= 1\n",
    "            start = index + 1\n",
    "        index += 1\n",
    "    return s\n",
    "\n",
    "s = ['t','h','e',' ','s','k','y',' ','i','s',' ','b','l','u','e']\n",
    "reverseWords(s)"
   ]
  },
  {
   "cell_type": "markdown",
   "metadata": {},
   "source": [
    "# 189. Rotate Array\n",
    "\n",
    "Given an array, rotate the array to the right by k steps, where k is non-negative.  \n",
    "Follow up:    \n",
    "Try to come up as many solutions as you can, there are at least 3 different ways to solve this problem.\n",
    "Could you do it in-place with O(1) extra space?\n",
    "\n",
    "Example 1:  \n",
    "Input: nums = [1,2,3,4,5,6,7], k = 3  \n",
    "Output: [5,6,7,1,2,3,4]  \n",
    "Explanation:  \n",
    "rotate 1 steps to the right: [7,1,2,3,4,5,6]  \n",
    "rotate 2 steps to the right: [6,7,1,2,3,4,5]  \n",
    "rotate 3 steps to the right: [5,6,7,1,2,3,4]  \n",
    "\n",
    "Example 2:  \n",
    "Input: nums = [-1,-100,3,99], k = 2  \n",
    "Output: [3,99,-1,-100]  \n",
    "Explanation:   \n",
    "rotate 1 steps to the right: [99,-1,-100,3]  \n",
    "rotate 2 steps to the right: [3,99,-1,-100]  \n",
    " \n",
    "Constraints:  \n",
    "1 <= nums.length <= 2 * 10^4  \n",
    "It's guaranteed that nums[i] fits in a 32 bit-signed integer.  \n",
    "k >= 0"
   ]
  },
  {
   "cell_type": "code",
   "execution_count": null,
   "metadata": {},
   "outputs": [],
   "source": [
    "def rotate(nums, k: int) -> None:\n",
    "    k = k % len(nums)\n",
    "    nums[:k],nums[k:] = nums[-k:],nums[:len(nums)-k]\n",
    "    return nums\n",
    "nums = [1,2,3,4,5,6,7]\n",
    "rotate(nums, 3)"
   ]
  },
  {
   "cell_type": "markdown",
   "metadata": {},
   "source": [
    "# 190. Reverse Bits\n",
    "Reverse bits of a given 32 bits unsigned integer.  \n",
    "\n",
    "Example 1:  \n",
    "Input: 00000010100101000001111010011100  \n",
    "Output: 00111001011110000010100101000000  \n",
    "Explanation: The input binary string 00000010100101000001111010011100 represents the unsigned integer 43261596, so return 964176192 which its binary representation is 00111001011110000010100101000000.\n",
    "\n",
    "Example 2:  \n",
    "Input: 11111111111111111111111111111101  \n",
    "Output: 10111111111111111111111111111111  \n",
    "Explanation: The input binary string 11111111111111111111111111111101 represents the unsigned integer 4294967293, so return 3221225471 which its binary representation is 10111111111111111111111111111111.\n",
    "\n",
    "Note:  \n",
    "Note that in some languages such as Java, there is no unsigned integer type. In this case, both input and output will be given as signed integer type and should not affect your implementation, as the internal binary representation of the integer is the same whether it is signed or unsigned.  \n",
    "In Java, the compiler represents the signed integers using 2's complement notation. Therefore, in Example 2 above the input represents the signed integer -3 and the output represents the signed integer -1073741825.\n",
    " \n",
    "Follow up: If this function is called many times, how would you optimize it?"
   ]
  },
  {
   "cell_type": "code",
   "execution_count": 12,
   "metadata": {},
   "outputs": [
    {
     "data": {
      "text/plain": [
       "964176192"
      ]
     },
     "execution_count": 12,
     "metadata": {},
     "output_type": "execute_result"
    }
   ],
   "source": [
    "def reverseBits(n: int) -> int:\n",
    "    b = bin(n)[:1:-1]\n",
    "    return int(b + '0'*(32-len(b)),2)\n",
    "n = 43261596\n",
    "reverseBits(n)"
   ]
  },
  {
   "cell_type": "code",
   "execution_count": 14,
   "metadata": {},
   "outputs": [
    {
     "data": {
      "text/plain": [
       "964176192"
      ]
     },
     "execution_count": 14,
     "metadata": {},
     "output_type": "execute_result"
    }
   ],
   "source": [
    "def reverseBits(n: int) -> int:\n",
    "    res = 0\n",
    "    for i in range(32):\n",
    "        res <<= 1\n",
    "        res |= ((n >> i) & 1)\n",
    "    return res\n",
    "n = 43261596\n",
    "reverseBits(n)"
   ]
  },
  {
   "cell_type": "code",
   "execution_count": 16,
   "metadata": {},
   "outputs": [
    {
     "name": "stdout",
     "output_type": "stream",
     "text": [
      "00000010100101000001111010011100\n"
     ]
    },
    {
     "data": {
      "text/plain": [
       "964176192"
      ]
     },
     "execution_count": 16,
     "metadata": {},
     "output_type": "execute_result"
    }
   ],
   "source": [
    "def reverseBits(n: int) -> int:\n",
    "    str=\"{0:032b}\".format(n)\n",
    "    print(str)\n",
    "    reverse=str[::-1]\n",
    "    return int(reverse, 2)\n",
    "n = 43261596\n",
    "reverseBits(n)"
   ]
  },
  {
   "cell_type": "markdown",
   "metadata": {},
   "source": [
    "# 198. House Robber\n",
    "\n",
    "You are a professional robber planning to rob houses along a street. Each house has a certain amount of money stashed, the only constraint stopping you from robbing each of them is that adjacent houses have security system connected and it will automatically contact the police if two adjacent houses were broken into on the same night.\n",
    "\n",
    "Given a list of non-negative integers representing the amount of money of each house, determine the maximum amount of money you can rob tonight without alerting the police.\n",
    "\n",
    "Example 1:  \n",
    "Input: nums = [1,2,3,1]  \n",
    "Output: 4  \n",
    "Explanation: Rob house 1 (money = 1) and then rob house 3 (money = 3).Total amount you can rob = 1 + 3 = 4.\n",
    "\n",
    "Example 2:  \n",
    "Input: nums = [2,7,9,3,1]  \n",
    "Output: 12  \n",
    "Explanation: Rob house 1 (money = 2), rob house 3 (money = 9) and rob house 5 (money = 1).Total amount you can rob = 2 + 9 + 1 = 12.\n",
    " \n",
    "Constraints:  \n",
    "0 <= nums.length <= 100  \n",
    "0 <= nums[i] <= 400\n",
    "\n",
    "### Idea:\n",
    "- current maximum money money[i] = max(money[i-1],money[i-2]+nums[i])"
   ]
  },
  {
   "cell_type": "code",
   "execution_count": 24,
   "metadata": {},
   "outputs": [
    {
     "name": "stdout",
     "output_type": "stream",
     "text": [
      "0 2\n",
      "2 7\n",
      "7 11\n",
      "11 11\n",
      "11 12\n"
     ]
    },
    {
     "data": {
      "text/plain": [
       "12"
      ]
     },
     "execution_count": 24,
     "metadata": {},
     "output_type": "execute_result"
    }
   ],
   "source": [
    "def rob(nums) -> int:\n",
    "    last, now = 0, 0\n",
    "    for num in nums:\n",
    "        last, now = now, max(last+num,now)\n",
    "        print(last,now)\n",
    "nums = [2,7,9,3,1]\n",
    "rob(nums)"
   ]
  },
  {
   "cell_type": "code",
   "execution_count": 33,
   "metadata": {},
   "outputs": [
    {
     "data": {
      "text/plain": [
       "4"
      ]
     },
     "execution_count": 33,
     "metadata": {},
     "output_type": "execute_result"
    }
   ],
   "source": [
    "#ERROR#\n",
    "def rob(nums) -> int:\n",
    "    if nums==[]:\n",
    "        return 0\n",
    "    if len(nums)==1:\n",
    "        return nums[0]\n",
    "    dp = [0]*len(nums)\n",
    "    dp[0] = nums[0]\n",
    "    dp[1] = max(nums[1],nums[0])\n",
    "    for i in range(2,len(nums)):\n",
    "        dp[i] = max(dp[i-1],dp[i-2]+nums[i])\n",
    "    return dp[-1]\n",
    "nums = [2,7,9,3,1]\n",
    "nums = [1,2,3,1]\n",
    "rob(nums)    "
   ]
  },
  {
   "cell_type": "markdown",
   "metadata": {},
   "source": [
    "# 203. Remove Linked List Elements\n",
    "\n",
    "Remove all elements from a linked list of integers that have value val.\n",
    "\n",
    "Example:  \n",
    "Input:  1->2->6->3->4->5->6, val = 6  \n",
    "Output: 1->2->3->4->5\n",
    "\n",
    "### Idea:\n",
    "- initialize dummy虚表头, define prev,curr pointters\n",
    "- while loop\n",
    "    - case 1: curr = val\n",
    "        - update prev.next\n",
    "    - case e2 : curr != val \n",
    "        - update prev.next\n",
    "    - update curr.next"
   ]
  },
  {
   "cell_type": "code",
   "execution_count": null,
   "metadata": {},
   "outputs": [],
   "source": [
    "# Definition for singly-linked list.\n",
    "# class ListNode:\n",
    "#     def __init__(self, val=0, next=None):\n",
    "#         self.val = val\n",
    "#         self.next = next\n",
    "class Solution:\n",
    "    def removeElements(self, head: ListNode, val: int) -> ListNode:\n",
    "        dummy = ListNode(0)\n",
    "        dummy.next = head\n",
    "        prev, curr = dummy,dummy.next\n",
    "        while curr:\n",
    "            if curr.val == val:\n",
    "                prev.next = curr.next\n",
    "            else:\n",
    "                prev = curr\n",
    "            curr = curr.next\n",
    "        return dummy.next"
   ]
  },
  {
   "cell_type": "markdown",
   "metadata": {},
   "source": [
    "# 204. Count Primes\n",
    "\n",
    "Count the number of prime numbers less than a non-negative number, n.\n",
    "Example:  \n",
    "Input: 10  \n",
    "Output: 4  \n",
    "Explanation: There are 4 prime numbers less than 10, they are 2, 3, 5, 7.\n",
    "\n",
    "### Idea:\n",
    "- go over each number less than n\n",
    "- [0,1,2,3,4,5,6,7,8,9]\n",
    "- [F,F,T,None,F..]\n",
    "    - 2 is prime number, and chage multiple times of 2 to F, it means 4,6,8 = False by using a for loop(start,end,interval)"
   ]
  },
  {
   "cell_type": "code",
   "execution_count": 20,
   "metadata": {},
   "outputs": [
    {
     "data": {
      "text/plain": [
       "4"
      ]
     },
     "execution_count": 20,
     "metadata": {},
     "output_type": "execute_result"
    }
   ],
   "source": [
    "def countPrimes(n: int) -> int:\n",
    "    if n <= 1:\n",
    "        return 0\n",
    "    \n",
    "    nums = [None] * n\n",
    "    #nums = [0,1,2,3,4,5,...]\n",
    "    #nums = [F,F,]\n",
    "    nums[0], nums[1] = False, False\n",
    "    for i in range(2,n):\n",
    "        if nums[i] == None:\n",
    "            nums[i] = True\n",
    "            for j in range(i+i,n,i):\n",
    "                nums[j] = False\n",
    "    return sum(nums)\n",
    "\n",
    "countPrimes(n=10)"
   ]
  },
  {
   "cell_type": "markdown",
   "metadata": {},
   "source": [
    "# 205. Isomorphic Strings\n",
    "\n",
    "Given two strings s and t, determine if they are isomorphic.  \n",
    "Two strings are isomorphic if the characters in s can be replaced to get t.  \n",
    "All occurrences of a character must be replaced with another character while preserving the order of characters. No two characters may map to the same character but a character may **map** to itself. \n",
    "\n",
    "Example 1:  \n",
    "Input: s = \"egg\", t = \"add\"  \n",
    "Output: true  \n",
    "\n",
    "Example 2:  \n",
    "Input: s = \"foo\", t = \"bar\"  \n",
    "Output: false\n",
    "\n",
    "Example 3:  \n",
    "Input: s = \"paper\", t = \"title\"  \n",
    "Output: true\n",
    "\n",
    "### Idea:\n",
    "- mapping -> dictionary\n",
    "- go over each char, and record char in s and its replacement in t. \n",
    "    - make sure 2 diff chars donot have same replacement.\n",
    "    - make sure same char in s should have same replacement in t."
   ]
  },
  {
   "cell_type": "code",
   "execution_count": 12,
   "metadata": {},
   "outputs": [
    {
     "data": {
      "text/plain": [
       "False"
      ]
     },
     "execution_count": 12,
     "metadata": {},
     "output_type": "execute_result"
    },
    {
     "data": {
      "text/plain": [
       "True"
      ]
     },
     "execution_count": 12,
     "metadata": {},
     "output_type": "execute_result"
    }
   ],
   "source": [
    "def isIsomorphic(s: str, t: str) -> bool:\n",
    "    d = {}\n",
    "    for i in range(len(s)):\n",
    "        if not d.get(s[i]):\n",
    "            if t[i] in d.values():\n",
    "                return False\n",
    "            d[s[i]] = t[i]\n",
    "        else:\n",
    "            if d[s[i]] != t[i]:\n",
    "                return False\n",
    "    return True\n",
    "\n",
    "s = \"ab\"; t = \"aa\"\n",
    "isIsomorphic(s, t)\n",
    "s = \"paper\"; t = \"title\"   \n",
    "isIsomorphic(s,t)"
   ]
  },
  {
   "cell_type": "markdown",
   "metadata": {},
   "source": [
    "# 206. Reverse Linked List\n",
    "\n",
    "Reverse a singly linked list.\n",
    "\n",
    "Example:  \n",
    "Input: 1->2->3->4->5->NULL    \n",
    "Output: 5->4->3->2->1->NULL    \n",
    "Follow up: A linked list can be reversed either iteratively or recursively. Could you implement both?\n",
    "\n",
    "### Idea:\n",
    "- iteration1: dummy > head = 1 > None, uppdate head\n",
    "- iteration2: dummy > head = 2 > head = 1 > None, update head\n",
    "- ..."
   ]
  },
  {
   "cell_type": "code",
   "execution_count": null,
   "metadata": {},
   "outputs": [],
   "source": [
    "# Definition for singly-linked list.\n",
    "# class ListNode:\n",
    "#     def __init__(self, val=0, next=None):\n",
    "#         self.val = val\n",
    "#         self.next = next\n",
    "class Solution:\n",
    "    def reverseList(self, head: ListNode) -> ListNode:\n",
    "        dummy = ListNode(float('-inf')) # dummy.next = None \n",
    "        while head:\n",
    "            dummy.next, head.next, head = head, dummy.next, head.next\n",
    "        return dummy.next"
   ]
  },
  {
   "cell_type": "markdown",
   "metadata": {},
   "source": [
    "# 217. Contains Duplicate\n",
    "\n",
    "Given an array of integers, find if the array contains any duplicates.  \n",
    "Your function should return true if any value appears at least twice in the array, and it should return false if every element is distinct.  \n",
    "Example 1:  \n",
    "Input: [1,2,3,1]  \n",
    "Output: true  \n",
    "\n",
    "Example 2:  \n",
    "Input: [1,2,3,4]  \n",
    "Output: false  \n",
    "\n",
    "Example 3: \n",
    "Input: [1,1,1,3,3,4,3,2,4,2]  \n",
    "Output: true\n",
    "\n",
    "### My Solution"
   ]
  },
  {
   "cell_type": "code",
   "execution_count": 152,
   "metadata": {},
   "outputs": [],
   "source": [
    "def containsDuplicate(nums) -> bool:\n",
    "    d = {}\n",
    "    for i in range(len(nums)):\n",
    "        if nums[i] not in d:\n",
    "            d[nums[i]] = 1\n",
    "        else:\n",
    "            return True\n",
    "    return False"
   ]
  },
  {
   "cell_type": "code",
   "execution_count": 83,
   "metadata": {},
   "outputs": [],
   "source": [
    "def containsDuplicate(nums):\n",
    "    from collections import Counter\n",
    "    nums_counter = Counter(nums)\n",
    "    for i in nums_counter:\n",
    "        if nums_counter[i] > 1:\n",
    "            return True\n",
    "    return False"
   ]
  },
  {
   "cell_type": "markdown",
   "metadata": {},
   "source": [
    "### Solution2 - sort(), for loop nums[i+1] == nums[i]"
   ]
  },
  {
   "cell_type": "code",
   "execution_count": 85,
   "metadata": {},
   "outputs": [],
   "source": [
    "def containsDuplicate(nums):\n",
    "    nums.sort()\n",
    "    for i in range(len(nums)-1):\n",
    "        if nums[i+1] == nums[i]:\n",
    "            return True\n",
    "    return False"
   ]
  },
  {
   "cell_type": "code",
   "execution_count": 86,
   "metadata": {},
   "outputs": [
    {
     "data": {
      "text/plain": [
       "True"
      ]
     },
     "execution_count": 86,
     "metadata": {},
     "output_type": "execute_result"
    }
   ],
   "source": [
    "nums =  [1,1,1,3,3,4,3,2,4,2]\n",
    "containsDuplicate(nums)"
   ]
  },
  {
   "cell_type": "markdown",
   "metadata": {},
   "source": [
    "# 219. Contains Duplicate II\n",
    "\n",
    "Given an array of integers and an integer k, find out whether there are two distinct indices i and j in the array such that nums[i] = nums[j] and the absolute difference between i and j is at most k.\n",
    "\n",
    "Example 1:  \n",
    "Input: nums = [1,2,3,1], k = 3  \n",
    "Output: true  \n",
    "\n",
    "Example 2:  \n",
    "Input: nums = [1,0,1,1], k = 1  \n",
    "Output: true  \n",
    "\n",
    "Example 3:  \n",
    "Input: nums = [1,2,3,1,2,3], k = 2  \n",
    "Output: false\n",
    "\n",
    "### My Solution - comlicated"
   ]
  },
  {
   "cell_type": "code",
   "execution_count": 149,
   "metadata": {},
   "outputs": [],
   "source": [
    "def containsNearbyDuplicate(nums, k:int) -> bool:\n",
    "    from collections import defaultdict\n",
    "    d = defaultdict(list)\n",
    "    for i in range(len(nums)):\n",
    "        d[str(nums[i])].append(i)  \n",
    "    for j in d:\n",
    "        if len(d[j])>1:\n",
    "            for m in range(len(d[j])):\n",
    "                for n in range(m+1,len(d[j])):\n",
    "                    if abs(d[j][m] - d[j][n]) <= k:\n",
    "                        return True\n",
    "    return False"
   ]
  },
  {
   "cell_type": "code",
   "execution_count": 153,
   "metadata": {},
   "outputs": [],
   "source": [
    "def containsNearbyDuplicate2(nums, k:int):\n",
    "    lookup = {}\n",
    "    for i,num in enumerate(nums):\n",
    "        if num not in lookup:\n",
    "            lookup[num] = i\n",
    "        else:\n",
    "             if (i - lookup[num]) <= k:\n",
    "                return True\n",
    "    return False"
   ]
  },
  {
   "cell_type": "code",
   "execution_count": 154,
   "metadata": {},
   "outputs": [
    {
     "data": {
      "text/plain": [
       "False"
      ]
     },
     "execution_count": 154,
     "metadata": {},
     "output_type": "execute_result"
    }
   ],
   "source": [
    "nums = [1,2,3,1,2,3]\n",
    "k = 2\n",
    "containsNearbyDuplicate2(nums, k)"
   ]
  },
  {
   "cell_type": "markdown",
   "metadata": {},
   "source": [
    "# 223. Rectangle Area\n",
    "\n",
    "Find the total area covered by two rectilinear rectangles in a 2D plane.  \n",
    "Each rectangle is defined by its bottom left corner and top right corner as shown in the figure.\n",
    "\n",
    "Example:  \n",
    "Input: A = -3, B = 0, C = 3, D = 4, E = 0, F = -1, G = 9, H = 2  \n",
    "Output: 45  \n",
    "Note: Assume that the total area is never beyond the maximum possible value of int.\n",
    "\n",
    "### Idea:\n",
    "- check overlap area\n",
    "- sum area of 2 rectangles - overlap area"
   ]
  },
  {
   "cell_type": "code",
   "execution_count": null,
   "metadata": {},
   "outputs": [],
   "source": [
    "def computeArea(self, A: int, B: int, C: int, D: int, E: int, F: int, G: int, H: int) -> int:\n",
    "        overlap = max(min(C,G)-max(A,E),0) * max(min(D,H)- max(B,F),0)\n",
    "        return (A-C)*(B-D) + (E-G)*(F-H) - overlap"
   ]
  },
  {
   "cell_type": "markdown",
   "metadata": {},
   "source": [
    "# 229. Majority Element II\n",
    "\n",
    "Given an integer array of size n, find all elements that appear more than ⌊ n/3 ⌋ times.  \n",
    "Note: The algorithm should **run in linear time and in O(1) space**.  \n",
    "\n",
    "Example 1:  \n",
    "Input: [3,2,3]  \n",
    "Output: [3]\n",
    "\n",
    "Example 2:  \n",
    "Input: [1,1,1,3,3,2,2,2]  \n",
    "Output: [1,2]\n",
    "\n",
    "### My solution \n",
    "1. collections.Counter\n",
    "2. dict\n",
    "3. find 2 nums which is show up most. count it whether it is over len/3"
   ]
  },
  {
   "cell_type": "code",
   "execution_count": 39,
   "metadata": {},
   "outputs": [],
   "source": [
    "def majorityElement(nums):\n",
    "    result = []\n",
    "    from collections import Counter\n",
    "    numsCounter = Counter(nums)\n",
    "    numsCounter\n",
    "    for i in numsCounter:\n",
    "        if numsCounter[i] > len(nums)/3:\n",
    "            result.append(i)\n",
    "    return result\n",
    "\n",
    "#Runtime: 120 ms, faster than 73.81% of Python3 online submissions for Majority Element II.\n",
    "#Memory Usage: 15.1 MB, less than 5.88% of Python3 online submissions for Majority Element II.\n",
    "\n",
    "def majorityElement2(nums):\n",
    "    d = {}\n",
    "    result = []\n",
    "    for i in nums:\n",
    "        if i not in result:\n",
    "            if i not in d:\n",
    "                d[i] = 1\n",
    "            else:\n",
    "                d[i] += 1\n",
    "            if d[i] > len(nums)/3:\n",
    "                result.append(i)\n",
    "            if len(result) > 1:\n",
    "                break\n",
    "    return result"
   ]
  },
  {
   "cell_type": "code",
   "execution_count": 45,
   "metadata": {},
   "outputs": [],
   "source": [
    "def majorityElement3(nums):\n",
    "    num1, num2 = 0, 0 # an most 2 results\n",
    "    c1,c2 = 0, 0\n",
    "    result = []\n",
    "    for i in nums:\n",
    "        if i == num1:\n",
    "            c1 += 1\n",
    "        elif i == num2:\n",
    "            c2 += 1\n",
    "        elif c1 == 0: # iniitalization value assignment\n",
    "            num1 = i\n",
    "            c1 = 1\n",
    "        elif c2 == 0:\n",
    "            num2 = i\n",
    "            c2 = 1\n",
    "        else:       #case: when there is a num over num1 and num2 \n",
    "            c1 -= 1\n",
    "            c2 -= 1\n",
    "\n",
    "    c1, c2 = 0, 0\n",
    "    for j in nums:\n",
    "        if j == num1:\n",
    "            c1 += 1\n",
    "        elif j == num2:\n",
    "            c2 += 1\n",
    "    l = len(nums)\n",
    "    if c1 > l//3:\n",
    "        result.append(num1)\n",
    "    if c2 > 1//3:\n",
    "        result.append(num2)\n",
    "    return result"
   ]
  },
  {
   "cell_type": "code",
   "execution_count": 47,
   "metadata": {},
   "outputs": [],
   "source": [
    "def majorityElement4(nums):\n",
    "    return [value for value in set(nums) if nums.count(value) > int(len(nums)/3)]"
   ]
  },
  {
   "cell_type": "code",
   "execution_count": 48,
   "metadata": {},
   "outputs": [
    {
     "data": {
      "text/plain": [
       "[1, 2]"
      ]
     },
     "execution_count": 48,
     "metadata": {},
     "output_type": "execute_result"
    }
   ],
   "source": [
    "nums = [1,1,1,3,3,2,2,2]\n",
    "majorityElement4(nums)"
   ]
  },
  {
   "cell_type": "markdown",
   "metadata": {},
   "source": [
    "# 234. Palindrome Linked List\n",
    "\n",
    "Given a singly linked list, determine if it is a palindrome. \n",
    "Example 1:    \n",
    "Input: 1->2  \n",
    "Output: false  \n",
    "    \n",
    "Example 2:  \n",
    "Input: 1->2->2->1  \n",
    "Output: true  \n",
    "Follow up: Could you do it in O(n) time and O(1) space?\n",
    "\n",
    "### Idea: find center by fast+slow 2pointers + stack[]\n",
    "- while loop:\n",
    "    - find center by fast+slow 2pointers\n",
    "    - store every slow to stack\n",
    "- notice: if len = even, slow move one step\n",
    "- while loop\n",
    "    - stack.pop compare to slow\n",
    "        - if not equal >>  False\n",
    "        - else >> True"
   ]
  },
  {
   "cell_type": "code",
   "execution_count": null,
   "metadata": {},
   "outputs": [],
   "source": [
    "def isPalindrome(self, head: ListNode) -> bool:\n",
    "    fast = slow = ListNode(0)\n",
    "    fast = slow = head\n",
    "    stack = []\n",
    "    # find center line by fast and slow pointers\n",
    "    while fast and fast.next:\n",
    "        stack.append(slow.val)\n",
    "        slow = slow.next\n",
    "        fast = fast.next.next\n",
    "    if fast:\n",
    "        slow = slow.next\n",
    "    while slow:\n",
    "        top = stack.pop()\n",
    "        if top != slow.val:\n",
    "            return Flase\n",
    "        slow = slow.next\n",
    "    return True"
   ]
  },
  {
   "cell_type": "markdown",
   "metadata": {},
   "source": [
    "# 235. Lowest Common Ancestor of a Binary Search Tree\n",
    "\n",
    "Given a binary search tree (BST), find the lowest common ancestor (LCA) of two given nodes in the BST.  \n",
    "According to the definition of LCA on Wikipedia: “The lowest common ancestor is defined between two nodes p and q as the lowest node in T that has both p and q as descendants (where we allow a node to be a descendant of itself).”  \n",
    "Given binary search tree:  root = [6,2,8,0,4,7,9,null,null,3,5]\n",
    "\n",
    "Example 1:  \n",
    "Input: root = [6,2,8,0,4,7,9,null,null,3,5], p = 2, q = 8  \n",
    "Output: 6  \n",
    "Explanation: The LCA of nodes 2 and 8 is 6.\n",
    "\n",
    "Example 2:  \n",
    "Input: root = [6,2,8,0,4,7,9,null,null,3,5], p = 2, q = 4  \n",
    "Output: 2  \n",
    "Explanation: The LCA of nodes 2 and 4 is 2, since a node can be a descendant of itself according to the LCA definition.\n",
    " \n",
    "Note:  \n",
    "All of the nodes' values will be unique.  \n",
    "p and q are different and both values will exist in the BST.  \n",
    "\n",
    "### Idea:\n",
    "- utilize properties of BST\n",
    "- initailize a pointer\n",
    "- while loop\n",
    "    - if p and q > root.val >> update pointer to right subtree\n",
    "    - if p and q < root.val >> update pointer to left subtree\n",
    "    - other cases: return pointer (e.g. one of them > root.val and the other one < root.val OR p or q == root.val)"
   ]
  },
  {
   "cell_type": "code",
   "execution_count": null,
   "metadata": {},
   "outputs": [],
   "source": [
    "# Definition for a binary tree node.\n",
    "# class TreeNode:\n",
    "#     def __init__(self, x):\n",
    "#         self.val = x\n",
    "#         self.left = None\n",
    "#         self.right = None\n",
    "\n",
    "class Solution:\n",
    "    def lowestCommonAncestor(self, root: 'TreeNode', p: 'TreeNode', q: 'TreeNode') -> 'TreeNode':\n",
    "        pointer = root\n",
    "        while pointer:\n",
    "            if p.val > root.val and q.val > root.val:\n",
    "                pointer = pointer.right\n",
    "            elif p.val < root.val and q.val < root.val:\n",
    "                pointer = pointer.left\n",
    "            else:\n",
    "                return pointer"
   ]
  },
  {
   "cell_type": "markdown",
   "metadata": {},
   "source": [
    "# 242. Valid Anagram    \n",
    "\n",
    "Given two strings s and t , write a function to determine if t is an anagram of s.\n",
    "\n",
    "Example 1:  \n",
    "Input: s = \"anagram\", t = \"nagaram\"  \n",
    "Output: true  \n",
    "\n",
    "Example 2:  \n",
    "Input: s = \"rat\", t = \"car\"  \n",
    "Output: false  \n",
    "\n",
    "Note: You may assume the string contains only lowercase alphabets.\n",
    "\n",
    "## Idea - same times every letter show in 2 strs\n",
    "### My Solution -  collections.Counter"
   ]
  },
  {
   "cell_type": "code",
   "execution_count": 2,
   "metadata": {},
   "outputs": [],
   "source": [
    "def isAnagram(s: str, t: str) -> bool:\n",
    "    from collections import Counter\n",
    "    if Counter(s) == Counter(t):\n",
    "        return True\n",
    "    else:\n",
    "        return False"
   ]
  },
  {
   "cell_type": "markdown",
   "metadata": {},
   "source": [
    "### My Solution -  dict"
   ]
  },
  {
   "cell_type": "code",
   "execution_count": 5,
   "metadata": {},
   "outputs": [],
   "source": [
    "def isAnagram(s: str, t: str) -> bool:\n",
    "    lookup = {}\n",
    "    for i in s:\n",
    "        if i not in lookup:\n",
    "            lookup[i] = 1\n",
    "        else:\n",
    "            lookup[i] += 1\n",
    "            \n",
    "    for j in t:\n",
    "        if j not in lookup:\n",
    "            return False\n",
    "        else:        \n",
    "            lookup[j] -=1\n",
    "    for k in lookup:\n",
    "        if lookup[k] != 0:\n",
    "            return False\n",
    "    return True"
   ]
  },
  {
   "cell_type": "markdown",
   "metadata": {},
   "source": [
    "# 243. Shortest Word Distance\n",
    "\n",
    "Given a list ot words and two words word1 and word2, return the shortest distance between these two words in the list.  \n",
    "\n",
    "Example:   \n",
    "Assume that words = (\"practice\", \"makes\", \"perfect\", \"coding\", \"makes\").   \n",
    "Input: wordl = \"coding\", word2 = \"practice\" \n",
    "Output: 3 \n",
    "\n",
    "Input: wordl = \"makes\", word2 = \"coding\"   \n",
    "Output: 1   \n",
    "Note: You may assume that wordt does not equal to word2, and word1 and word2 are both in the list.   \n",
    "Accepted 61,009 Submissions 107,990 Seen this question in a real interview before? No Yes Contributor"
   ]
  },
  {
   "cell_type": "code",
   "execution_count": 17,
   "metadata": {},
   "outputs": [],
   "source": [
    "def shortestDistance(words,word1,word2):\n",
    "    from collections import defaultdict\n",
    "    d = defaultdict(list)\n",
    "    smallest_d = float('inf')\n",
    "    for index,word in enumerate(words):\n",
    "        if word == word1:\n",
    "            d[word1].append(index)\n",
    "        if word == word2:\n",
    "            d[word2].append(index)\n",
    "    for i in d[word1]:\n",
    "        for j in d[word2]:\n",
    "            smallest_d = min(abs(i-j),smallest_d)\n",
    "    return smallest_d"
   ]
  },
  {
   "cell_type": "code",
   "execution_count": 23,
   "metadata": {},
   "outputs": [],
   "source": [
    "def shortestDistance2(words,word1,word2):\n",
    "    dist = float('inf')\n",
    "    i,index1,index2 = 0, None, None\n",
    "    while i < len(words):\n",
    "        if words[i] == word1:\n",
    "            index1 = i\n",
    "        elif words[i] == word2:\n",
    "            index2 = i\n",
    "        if index1 is not None and index2 is not None:\n",
    "            dist = min(abs(index1 - index2),dist)\n",
    "        i += 1\n",
    "    return dist"
   ]
  },
  {
   "cell_type": "code",
   "execution_count": 25,
   "metadata": {},
   "outputs": [
    {
     "data": {
      "text/plain": [
       "3"
      ]
     },
     "execution_count": 25,
     "metadata": {},
     "output_type": "execute_result"
    },
    {
     "data": {
      "text/plain": [
       "1"
      ]
     },
     "execution_count": 25,
     "metadata": {},
     "output_type": "execute_result"
    }
   ],
   "source": [
    "words = (\"practice\", \"makes\", \"perfect\", \"coding\", \"makes\")\n",
    "word1 = \"coding\"\n",
    "word2 = \"practice\" \n",
    "shortestDistance(words,word1,word2)\n",
    "word3 = \"makes\"\n",
    "shortestDistance2(words,word1,word3)"
   ]
  },
  {
   "cell_type": "markdown",
   "metadata": {},
   "source": [
    "# 258. Add Digits\n",
    "\n",
    "Given a non-negative integer num, repeatedly add all its digits until the result has only one digit.  \n",
    "Example:  \n",
    "Input: 38  \n",
    "Output: 2   \n",
    "Explanation: The process is like: 3 + 8 = 11, 1 + 1 = 2. Since 2 has only one digit, return it.\n",
    "Follow up: Could you do it without any loop/recursion in O(1) runtime?\n",
    "\n",
    "### Idea:\n",
    "- input: 1~9 - only ine digt\n",
    "- output: 1~9\n",
    "- input: 10~... -> internal add\n",
    "- output: 1,2,3,4,5,6,7,8,9,1(19),2(20),...9,1,...\n",
    "- cycle in 9 "
   ]
  },
  {
   "cell_type": "code",
   "execution_count": null,
   "metadata": {},
   "outputs": [],
   "source": [
    "def addDigits(self, num: int) -> int:\n",
    "    if num <= 0:\n",
    "        return 0\n",
    "\n",
    "    return (num - 1) % 9 + 1"
   ]
  },
  {
   "cell_type": "markdown",
   "metadata": {},
   "source": [
    "# 263. Ugly Number\n",
    "\n",
    "Write a program to check whether a given number is an ugly number.  \n",
    "Ugly numbers are positive numbers whose prime factors only include 2, 3, 5.  \n",
    "\n",
    "Example 1:  \n",
    "Input: 6  \n",
    "Output: true  \n",
    "Explanation: 6 = 2 × 3  \n",
    "    \n",
    "Example 2:  \n",
    "Input: 8  \n",
    "Output: true  \n",
    "Explanation: 8 = 2 × 2 × 2\n",
    "    \n",
    "Example 3:  \n",
    "Input: 14  \n",
    "Output: false   \n",
    "Explanation: 14 is not ugly since it includes another prime factor 7.  \n",
    "Note:  \n",
    "1 is typically treated as an ugly number.  \n",
    "Input is within the 32-bit signed integer range: [−2^31,  2^31 − 1]."
   ]
  },
  {
   "cell_type": "code",
   "execution_count": null,
   "metadata": {},
   "outputs": [],
   "source": [
    "def isUgly(num: int) -> bool:\n",
    "    if num == 0:\n",
    "        return False\n",
    "    \n",
    "    for i in [2,3,5]:\n",
    "        while num % i == 0:\n",
    "            num /= i \n",
    "    return num == 1  "
   ]
  },
  {
   "cell_type": "markdown",
   "metadata": {},
   "source": [
    "# 283. Move Zeroes\n",
    "\n",
    "Given an array nums, write a function to move all 0's to the end of it while maintaining the relative order of the non-zero elements.  \n",
    "Example:  \n",
    "Input: [0,1,0,3,12]  \n",
    "Output: [1,3,12,0,0]"
   ]
  },
  {
   "cell_type": "code",
   "execution_count": 63,
   "metadata": {},
   "outputs": [],
   "source": [
    "def moveZeroes(nums) -> None:\n",
    "    pos = 0\n",
    "    for i in range(len(nums)):\n",
    "        if nums[i]:\n",
    "            nums[pos] = nums[i]\n",
    "            pos += 1\n",
    "    for i in range(pos,len(nums)):\n",
    "        nums[i] = 0\n",
    "    return nums\n",
    "nums = [0,1,0,3,12]\n",
    "moveZeroes(nums)"
   ]
  },
  {
   "cell_type": "markdown",
   "metadata": {},
   "source": [
    "# 290. Word Pattern\n",
    "\n",
    "Given a pattern and a string str, find if str follows the same pattern.  \n",
    "Here follow means a full match, such that there is a bijection between a letter in pattern and a non-empty word in str.\n",
    "\n",
    "Example 1:  \n",
    "Input: pattern = \"abba\", str = \"dog cat cat dog\"  \n",
    "Output: true\n",
    "\n",
    "Example 2:  \n",
    "Input:pattern = \"abba\", str = \"dog cat cat fish\"  \n",
    "Output: false\n",
    "\n",
    "Example 3:  \n",
    "Input: pattern = \"aaaa\", str = \"dog cat cat dog\"  \n",
    "Output: false  \n",
    "\n",
    "Example 4:  \n",
    "Input: pattern = \"abba\", str = \"dog dog dog dog\"  \n",
    "Output: false  \n",
    "Notes:  You may assume pattern contains only lowercase letters, and str contains lowercase letters that may be separated by a single space."
   ]
  },
  {
   "cell_type": "code",
   "execution_count": 35,
   "metadata": {},
   "outputs": [
    {
     "data": {
      "text/plain": [
       "False"
      ]
     },
     "execution_count": 35,
     "metadata": {},
     "output_type": "execute_result"
    },
    {
     "data": {
      "text/plain": [
       "True"
      ]
     },
     "execution_count": 35,
     "metadata": {},
     "output_type": "execute_result"
    }
   ],
   "source": [
    "def wordPattern(pattern: str, str: str) -> bool:\n",
    "    str = str.split(\" \")\n",
    "    if len(pattern) != len(str):\n",
    "        return False\n",
    "    d = {}\n",
    "    for i in range(len(pattern)):\n",
    "        if not d.get(pattern[i]):\n",
    "            if str[i] in d.values():\n",
    "                return False\n",
    "            d[pattern[i]] = str[i]\n",
    "        else:\n",
    "            if d[pattern[i]] != str[i]:\n",
    "                return False\n",
    "    return True\n",
    "            \n",
    "            \n",
    "pattern = \"abba\"; str = \"dog cat cat fish\"  \n",
    "wordPattern(pattern,str)\n",
    "pattern = \"abba\"; str = \"dog cat cat dog\"\n",
    "wordPattern(pattern,str)"
   ]
  },
  {
   "cell_type": "markdown",
   "metadata": {},
   "source": [
    "# 299. Bulls and Cows\n",
    "\n",
    "You are playing the following Bulls and Cows game with your friend: You write down a number and ask your friend to guess what the number is. Each time your friend makes a guess, you provide a hint that indicates how many digits in said guess match your secret number exactly in both digit and position (called \"bulls\") and how many digits match the secret number but locate in the wrong position (called \"cows\"). Your friend will use successive guesses and hints to eventually derive the secret number.\n",
    "\n",
    "Write a function to return a hint according to the secret number and friend's guess, use A to indicate the bulls and B to indicate the cows. \n",
    "Please note that both secret number and friend's guess may contain duplicate digits.\n",
    "\n",
    "Example 1:    \n",
    "Input: secret = \"1807\", guess = \"7810\"    \n",
    "Output: \"1A3B\"  \n",
    "Explanation: 1 bull and 3 cows. The bull is 8, the cows are 0, 1 and 7.\n",
    "\n",
    "Example 2:  \n",
    "Input: secret = \"1123\", guess = \"0111\"  \n",
    "Output: \"1A1B\"  \n",
    "Explanation: The 1st 1 in friend's guess is a bull, the 2nd or 3rd 1 is a cow.  \n",
    "Note: You may assume that the secret number and your friend's guess only contain digits, and their lengths are always equal.\n",
    "\n",
    "### My solution: multi for loop - shit"
   ]
  },
  {
   "cell_type": "code",
   "execution_count": 1,
   "metadata": {},
   "outputs": [
    {
     "data": {
      "text/plain": [
       "'1A3B'"
      ]
     },
     "execution_count": 1,
     "metadata": {},
     "output_type": "execute_result"
    }
   ],
   "source": [
    "def getHint(secret: str, guess: str) -> str:\n",
    "    secret, guess = list(secret), list(guess)\n",
    "    bulls, cows = 0, 0\n",
    "    index = []\n",
    "    for i in range(len(secret)):\n",
    "        if secret[i] == guess[i]:\n",
    "            bulls += 1\n",
    "            index.append(i)\n",
    "    for i in reversed(index):\n",
    "        secret.pop(i)\n",
    "        guess.pop(i)\n",
    "            \n",
    "    import collections\n",
    "    d = collections.Counter(secret)\n",
    "    for i in range(len(secret)):\n",
    "        if guess[i] in secret and d[guess[i]] > 0:\n",
    "            cows += 1\n",
    "            d[guess[i]] -= 1\n",
    "    return str(bulls) + 'A' + str(cows) + 'B'    \n",
    "\n",
    "\n",
    "\n",
    "def getHint2(secret: str, guess: str):\n",
    "    d1,d2 = {}, {}\n",
    "    bulls, cows = 0 ,0\n",
    "    for i in range(len(guess)):\n",
    "        if secret[i] == guess[i]:\n",
    "            bulls += 1\n",
    "        else:\n",
    "            if secret[i] in d1:\n",
    "                d1[secret[i]] += 1\n",
    "            else:\n",
    "                d1[secret[i]] = 1\n",
    "            if guess[i] in d2:\n",
    "                d2[guess[i]] += 1\n",
    "            else:\n",
    "                d2[guess[i]] = 1                \n",
    "    for i in d1:\n",
    "        if i in d2:\n",
    "            cows += min(d1[i],d2[i])\n",
    "    return str(bulls)+'A'+str(cows)+'B'\n",
    "\n",
    "#time complication: O(n)\n",
    "secret = \"1807\"; guess = \"7810\"\n",
    "getHint(secret,guess)"
   ]
  },
  {
   "cell_type": "markdown",
   "metadata": {},
   "source": [
    "# 303. Range Sum Query - Immutable\n",
    "\n",
    "Given an integer array nums, find the sum of the elements between indices i and j (i ≤ j), inclusive.\n",
    "\n",
    "Example:  \n",
    "Given nums = [-2, 0, 3, -5, 2, -1] \n",
    "\n",
    "sumRange(0, 2) -> 1  \n",
    "sumRange(2, 5) -> -1  \n",
    "sumRange(0, 5) -> -3  \n",
    "Note:  \n",
    "You may assume that the array does not change.  \n",
    "There are many calls to sumRange function.\n",
    "\n",
    "### Idea: \n",
    "- initializa a list to store the accumulated sum !!!"
   ]
  },
  {
   "cell_type": "code",
   "execution_count": null,
   "metadata": {},
   "outputs": [],
   "source": [
    "class NumArray:\n",
    "\n",
    "    def __init__(self, nums: List[int]):\n",
    "        self.accu = [0]\n",
    "        for num in nums:\n",
    "            self.accu.append(self.accu[-1]+num)\n",
    "        \n",
    "\n",
    "    def sumRange(self, i: int, j: int) -> int:\n",
    "        return self.accu[j+1]-self.accu[i]\n",
    "\n",
    "\n",
    "# Your NumArray object will be instantiated and called as such:\n",
    "# obj = NumArray(nums)\n",
    "# param_1 = obj.sumRange(i,j)"
   ]
  },
  {
   "cell_type": "markdown",
   "metadata": {},
   "source": [
    "# 322. Coin Change\n",
    "\n",
    "You are given coins of different denominations and a total amount of money amount. Write a function to compute the fewest number of coins that you need to make up that amount. If that amount of money cannot be made up by any combination of the coins, return -1.\n",
    "\n",
    "Example 1:  \n",
    "Input: coins = [1, 2, 5], amount = 11  \n",
    "Output: 3   \n",
    "Explanation: 11 = 5 + 5 + 1\n",
    "\n",
    "Example 2:  \n",
    "Input: coins = [2], amount = 3  \n",
    "Output: -1"
   ]
  },
  {
   "cell_type": "code",
   "execution_count": 22,
   "metadata": {},
   "outputs": [
    {
     "data": {
      "image/jpeg": "[encoded data removed]",
      "text/plain": [
       "<IPython.core.display.Image object>"
      ]
     },
     "execution_count": 22,
     "metadata": {
      "image/jpeg": {
       "height": 50,
       "width": 550
      }
     },
     "output_type": "execute_result"
    }
   ],
   "source": [
    "from IPython.display import Image\n",
    "Image(filename = '322.jpg', width=550)"
   ]
  },
  {
   "cell_type": "code",
   "execution_count": 8,
   "metadata": {},
   "outputs": [
    {
     "name": "stdout",
     "output_type": "stream",
     "text": [
      "0 [0, 1, 1, -1, -1, 1, -1, -1, -1, -1, -1, -1]\n",
      "1 [0, 1, 1, 2, -1, 1, 2, -1, -1, -1, -1, -1]\n",
      "2 [0, 1, 1, 2, 2, 1, 2, 2, -1, -1, -1, -1]\n",
      "3 [0, 1, 1, 2, 2, 1, 2, 2, 3, -1, -1, -1]\n",
      "4 [0, 1, 1, 2, 2, 1, 2, 2, 3, 3, -1, -1]\n",
      "5 [0, 1, 1, 2, 2, 1, 2, 2, 3, 3, 2, -1]\n",
      "6 [0, 1, 1, 2, 2, 1, 2, 2, 3, 3, 2, 3]\n",
      "7 [0, 1, 1, 2, 2, 1, 2, 2, 3, 3, 2, 3]\n",
      "8 [0, 1, 1, 2, 2, 1, 2, 2, 3, 3, 2, 3]\n",
      "9 [0, 1, 1, 2, 2, 1, 2, 2, 3, 3, 2, 3]\n",
      "10 [0, 1, 1, 2, 2, 1, 2, 2, 3, 3, 2, 3]\n"
     ]
    },
    {
     "data": {
      "text/plain": [
       "(3, [0, 1, 1, 2, 2, 1, 2, 2, 3, 3, 2, 3])"
      ]
     },
     "execution_count": 8,
     "metadata": {},
     "output_type": "execute_result"
    }
   ],
   "source": [
    "def coinChange(coins, amount: int) -> int:\n",
    "    dp = [-1]*(amount+1)\n",
    "    dp[0] = 0\n",
    "    for i in range(amount):\n",
    "        if dp[i] < 0:\n",
    "            continue\n",
    "        for coin in coins:\n",
    "            if i+coin > amount:\n",
    "                continue\n",
    "            if dp[i+coin] < 0 or dp[i+coin] > dp[i]+1:\n",
    "                dp[i+coin] = dp[i] +1\n",
    "    return dp[-1]\n",
    "\n",
    "coins = [1, 2, 5]\n",
    "amount = 11\n",
    "coinChange(coins, amount)"
   ]
  },
  {
   "cell_type": "code",
   "execution_count": 19,
   "metadata": {},
   "outputs": [
    {
     "data": {
      "text/plain": [
       "3"
      ]
     },
     "execution_count": 19,
     "metadata": {},
     "output_type": "execute_result"
    }
   ],
   "source": [
    "def coinChange(coins, amount):\n",
    "    \"\"\"\n",
    "    :type coins: List[int]\n",
    "    :type amount: int\n",
    "    :rtype: int\n",
    "    \"\"\"\n",
    "    dp = [float('inf')] * (amount + 1)\n",
    "    dp[0] = 0\n",
    "    for coin in coins:\n",
    "        for i in range(coin, amount + 1):\n",
    "            if dp[i - coin] != float('inf'):\n",
    "                dp[i] = min(dp[i], dp[i - coin] + 1)\n",
    "    return -1 if dp[amount] == float('inf') else dp[amount]\n",
    "coins = [1, 2, 5]\n",
    "amount = 11\n",
    "coinChange(coins, amount)"
   ]
  },
  {
   "cell_type": "markdown",
   "metadata": {},
   "source": [
    "# 326. Power of Three\n",
    "\n",
    "Given an integer, write a function to determine if it is a power of three.\n",
    "Example 1:  \n",
    "Input: 27  \n",
    "Output: true  \n",
    "\n",
    "Example 2:  \n",
    "Input: 0  \n",
    "Output: false  \n",
    "\n",
    "Example 3:  \n",
    "Input: 9  \n",
    "Output: true  \n",
    "\n",
    "Example 4:  \n",
    "Input: 45  \n",
    "Output: false  \n",
    "Follow up: Could you do it **without using any loop / recursion**?"
   ]
  },
  {
   "cell_type": "code",
   "execution_count": 9,
   "metadata": {},
   "outputs": [],
   "source": [
    "def isPowerOfThree(n: int) -> bool:\n",
    "    if n == 1:\n",
    "        return True\n",
    "    elif n <= 2:\n",
    "        return False\n",
    "\n",
    "    while n > 3:\n",
    "        if n % 3 == 0:\n",
    "            n /= 3\n",
    "        else:\n",
    "            return False\n",
    "        \n",
    "    return n == 3\n",
    "\n",
    "def isPowerOfThree2(n: int) -> bool:\n",
    "        if n == 0:\n",
    "            return False\n",
    "        \n",
    "        while n%3 == 0:\n",
    "            n /= 3\n",
    "        return n == 1"
   ]
  },
  {
   "cell_type": "code",
   "execution_count": 9,
   "metadata": {},
   "outputs": [
    {
     "data": {
      "text/plain": [
       "'0b1'"
      ]
     },
     "execution_count": 9,
     "metadata": {},
     "output_type": "execute_result"
    },
    {
     "data": {
      "text/plain": [
       "'0b11'"
      ]
     },
     "execution_count": 9,
     "metadata": {},
     "output_type": "execute_result"
    },
    {
     "data": {
      "text/plain": [
       "'0b1001'"
      ]
     },
     "execution_count": 9,
     "metadata": {},
     "output_type": "execute_result"
    },
    {
     "data": {
      "text/plain": [
       "'0b11011'"
      ]
     },
     "execution_count": 9,
     "metadata": {},
     "output_type": "execute_result"
    }
   ],
   "source": [
    "bin(1)\n",
    "bin(3)\n",
    "bin(9)\n",
    "bin(27)"
   ]
  },
  {
   "cell_type": "markdown",
   "metadata": {},
   "source": [
    "# 342. Power of Four\n",
    "\n",
    "Given an integer (signed 32 bits), write a function to check whether it is a power of 4. \n",
    "Example 1:   \n",
    "Input: 16  \n",
    "Output: true  \n",
    "    \n",
    "Example 2:  \n",
    "Input: 5  \n",
    "Output: false  \n",
    "Follow up: Could you solve it **without loops/recursion**?\n",
    "### Idea: bit operation\n",
    "- 转换成二进制，首位为1，有偶数个0\n",
    "- 先判断输入数的二进制形式为1后面若干个0，再判断1是否在奇数位即可。"
   ]
  },
  {
   "cell_type": "code",
   "execution_count": 3,
   "metadata": {},
   "outputs": [
    {
     "data": {
      "text/plain": [
       "'0b1'"
      ]
     },
     "execution_count": 3,
     "metadata": {},
     "output_type": "execute_result"
    },
    {
     "data": {
      "text/plain": [
       "'0b100'"
      ]
     },
     "execution_count": 3,
     "metadata": {},
     "output_type": "execute_result"
    },
    {
     "data": {
      "text/plain": [
       "'0b10000'"
      ]
     },
     "execution_count": 3,
     "metadata": {},
     "output_type": "execute_result"
    },
    {
     "data": {
      "text/plain": [
       "'0b1000000'"
      ]
     },
     "execution_count": 3,
     "metadata": {},
     "output_type": "execute_result"
    }
   ],
   "source": [
    "bin(1)\n",
    "bin(4)\n",
    "bin(16)\n",
    "bin(64)\n",
    "\n",
    "def isPowerOfFour(num: int) -> bool:\n",
    "    return num > 0 and bin(num).count(\"1\") == 1 and bin(num).count(\"0\") % 2 == 1\n",
    "\n",
    "def isPowerOfFour(num: int) -> bool:\n",
    "    return num > 0 and num&(num-1) == 0 and (num & 0x55555555) != 0"
   ]
  },
  {
   "cell_type": "markdown",
   "metadata": {},
   "source": [
    "# 344. Reverse String\n",
    "\n",
    "Write a function that reverses a string. The input string is given as an array of characters char[].  \n",
    "Do not allocate extra space for another array, you must do this by **modifying the input array in-place with O(1) extra memory**.  \n",
    "You may assume all the characters consist of printable ascii characters.\n",
    "\n",
    "Example 1:  \n",
    "Input: [\"h\",\"e\",\"l\",\"l\",\"o\"]  \n",
    "Output: [\"o\",\"l\",\"l\",\"e\",\"h\"]  \n",
    "\n",
    "Example 2:  \n",
    "Input: [\"H\",\"a\",\"n\",\"n\",\"a\",\"h\"]  \n",
    "Output: [\"h\",\"a\",\"n\",\"n\",\"a\",\"H\"]\n",
    "\n",
    "### My Solution\n",
    "- while loop, s.pop()+s.insert(I,s.pop())"
   ]
  },
  {
   "cell_type": "code",
   "execution_count": 79,
   "metadata": {},
   "outputs": [
    {
     "name": "stdout",
     "output_type": "stream",
     "text": [
      "1 ['o', 'h', 'e', 'l', 'l']\n",
      "2 ['o', 'l', 'h', 'e', 'l']\n",
      "3 ['o', 'l', 'l', 'h', 'e']\n",
      "4 ['o', 'l', 'l', 'e', 'h']\n"
     ]
    },
    {
     "data": {
      "text/plain": [
       "['o', 'l', 'l', 'e', 'h']"
      ]
     },
     "execution_count": 79,
     "metadata": {},
     "output_type": "execute_result"
    }
   ],
   "source": [
    "def reverseString(s) -> None:\n",
    "    \"\"\"\n",
    "    Do not return anything, modify s in-place instead.\n",
    "    \"\"\"\n",
    "    i = 0\n",
    "    while i < len(s)-1:\n",
    "        last = s.pop()\n",
    "        s.insert(i,last)\n",
    "        i += 1\n",
    "    return s \n",
    "\n",
    "s = [\"h\",\"e\",\"l\",\"l\",\"o\"]\n",
    "reverseString(s)"
   ]
  },
  {
   "cell_type": "markdown",
   "metadata": {},
   "source": [
    "### Solution 2 -  轴对称 swap，从两侧向内"
   ]
  },
  {
   "cell_type": "code",
   "execution_count": 82,
   "metadata": {},
   "outputs": [
    {
     "data": {
      "text/plain": [
       "['o', 'l', 'l', 'e', 'h']"
      ]
     },
     "execution_count": 82,
     "metadata": {},
     "output_type": "execute_result"
    }
   ],
   "source": [
    "def reverseString(s) -> None:\n",
    "    l,r = 0, len(s)-1\n",
    "    while l < r:\n",
    "        s[l],s[r] = s[r],s[l]\n",
    "        l += 1\n",
    "        r -= 1\n",
    "    return s\n",
    "\n",
    "\n",
    "def reverseString(s) -> None:\n",
    "        for i in range(len(s)//2):\n",
    "            s[i],s[-i-1] = s[-i-1],s[i]"
   ]
  },
  {
   "cell_type": "markdown",
   "metadata": {},
   "source": [
    "# 345. Reverse Vowels of a String\n",
    "\n",
    "Write a function that takes a string as input and reverse only the vowels of a string.\n",
    "\n",
    "Example 1:    \n",
    "Input: \"hello\"  \n",
    "Output: \"holle\"\n",
    "\n",
    "Example 2:  \n",
    "Input: \"leetcode\"  \n",
    "Output: \"leotcede\"  \n",
    "Note: The vowels does not include the letter \"y\".\n",
    "\n",
    "### Idea:\n",
    "- set a list vowels (lowercase+uppercase)\n",
    "- while loop"
   ]
  },
  {
   "cell_type": "code",
   "execution_count": 90,
   "metadata": {},
   "outputs": [
    {
     "data": {
      "text/plain": [
       "'holle'"
      ]
     },
     "execution_count": 90,
     "metadata": {},
     "output_type": "execute_result"
    }
   ],
   "source": [
    "def reverseVowels(s: str) -> str:\n",
    "    vowels = 'aeiou'\n",
    "    l, r = 0, len(s)-1\n",
    "    s = list(s)\n",
    "    while l < r:\n",
    "        if s[l] not in vowels:\n",
    "            l += 1\n",
    "        elif s[r] not in vowels:\n",
    "            r -= 1\n",
    "        else: \n",
    "            s[l],s[r] = s[r],s[l]\n",
    "            l += 1\n",
    "            r -= 1\n",
    "    return str.join('',s) #\"\".join(s)\n",
    "\n",
    "s = \"hello\" \n",
    "reverseVowels(s)"
   ]
  },
  {
   "cell_type": "code",
   "execution_count": 83,
   "metadata": {},
   "outputs": [
    {
     "data": {
      "text/plain": [
       "False"
      ]
     },
     "execution_count": 83,
     "metadata": {},
     "output_type": "execute_result"
    }
   ],
   "source": [
    "wowels = 'aeiou'\n",
    "'s' in  wowels"
   ]
  },
  {
   "cell_type": "markdown",
   "metadata": {},
   "source": [
    "# 349. Intersection of Two Arrays - set() no repeating in result\n",
    "\n",
    "Given two arrays, write a function to compute their intersection.\n",
    "\n",
    "Example 1:  \n",
    "Input: nums1 = [1,2,2,1], nums2 = [2,2]  \n",
    "Output: [2]\n",
    "\n",
    "Example 2:   \n",
    "Input: nums1 = [4,9,5], nums2 = [9,4,9,8,4]  \n",
    "Output: [9,4] \n",
    "\n",
    "Note:   \n",
    "Each element in the result must be unique.\n",
    "The result can be in any order."
   ]
  },
  {
   "cell_type": "code",
   "execution_count": null,
   "metadata": {},
   "outputs": [],
   "source": [
    "def intersection(nums1, nums2):\n",
    "    lookup = set()\n",
    "    for i in nums1:\n",
    "        lookup.add(i)\n",
    "    \"\"\"=lookup=set(nums1)\"\"\"\n",
    "    \n",
    "    result = []\n",
    "    for i in nums2:\n",
    "        if i in lookup:\n",
    "            result.append(i)\n",
    "            lookup.discard(i)\n",
    "    return result "
   ]
  },
  {
   "cell_type": "code",
   "execution_count": 74,
   "metadata": {},
   "outputs": [
    {
     "data": {
      "text/plain": [
       "[2]"
      ]
     },
     "execution_count": 74,
     "metadata": {},
     "output_type": "execute_result"
    }
   ],
   "source": [
    "nums1 = [1,2,2,1]\n",
    "nums2 = [2,2]\n",
    "intersection(nums1, nums2)"
   ]
  },
  {
   "cell_type": "markdown",
   "metadata": {},
   "source": [
    "# 350. Intersection of Two Arrays II - return back commen nums,even repeating\n",
    "\n",
    "Given two arrays, write a function to compute their intersection.\n",
    "\n",
    "Example 1:  \n",
    "Input: nums1 = [1,2,2,1], nums2 = [2,2]  \n",
    "Output: [2,2] \n",
    "\n",
    "Example 2:  \n",
    "Input: nums1 = [4,9,5], nums2 = [9,4,9,8,4]  \n",
    "Output: [4,9]\n",
    "\n",
    "Note:  \n",
    "Each element in the result should appear as many times as it shows in both arrays.  \n",
    "The result can be in any order.  \n",
    "Follow up:  \n",
    "What if the given array is already sorted? How would you optimize your algorithm?  \n",
    "What if nums1's size is small compared to nums2's size? Which algorithm is better?  \n",
    "What if elements of nums2 are stored on disk, and the memory is limited such that you cannot load all elements into the memory at once?\n",
    "\n",
    "### My Solution - always collections.Counter + for loop"
   ]
  },
  {
   "cell_type": "code",
   "execution_count": 5,
   "metadata": {},
   "outputs": [],
   "source": [
    "def intersect(nums1, nums2):\n",
    "    from collections import Counter\n",
    "    counter1 = Counter(nums1)\n",
    "    counter2 = Counter(nums2)\n",
    "    result = []\n",
    "    for i in counter1:\n",
    "        if i in counter2:\n",
    "            result += [i]*min(counter1[i],counter2[i])    \n",
    "    return result"
   ]
  },
  {
   "cell_type": "markdown",
   "metadata": {},
   "source": [
    "### My Solution 2 - lookup dict{} + for loop"
   ]
  },
  {
   "cell_type": "code",
   "execution_count": 45,
   "metadata": {},
   "outputs": [],
   "source": [
    "def intersect2(nums1, nums2):\n",
    "    if len(nums1) > len(nums2):\n",
    "    return self.intersect(nums2,nums1)\n",
    "\n",
    "    lookup = {}\n",
    "    result = []\n",
    "    for i in nums1:\n",
    "        if i not in lookup:\n",
    "            lookup[i] = 1\n",
    "        else:\n",
    "            lookup[i] += 1\n",
    "    for j in nums2:\n",
    "        if j in lookup:\n",
    "            if lookup[j] < 1:\n",
    "                continue\n",
    "            else:\n",
    "                result.append(j)\n",
    "                lookup[j] -= 1\n",
    "    return result"
   ]
  },
  {
   "cell_type": "code",
   "execution_count": 46,
   "metadata": {},
   "outputs": [],
   "source": [
    "def intersect3(nums1, nums2):\n",
    "    if len(nums1) > len(nums2): # reduce space complexity\n",
    "        return intersect3(nums2,nums1)\n",
    "    import collections\n",
    "    lookup = collections.defaultdict(int)\n",
    "    for i in nums1:\n",
    "        lookup[i] += 1\n",
    "        \n",
    "    result = []\n",
    "    for i in nums1:\n",
    "        if lookup[i] > 0:\n",
    "            result += i,\n",
    "            lookup[i] -= 1\n",
    "    return result"
   ]
  },
  {
   "cell_type": "code",
   "execution_count": 47,
   "metadata": {},
   "outputs": [
    {
     "name": "stdout",
     "output_type": "stream",
     "text": [
      "2.31 µs ± 201 ns per loop (mean ± std. dev. of 7 runs, 100000 loops each)\n"
     ]
    }
   ],
   "source": [
    "nums1,nums2 = [1,2,2,1],[2,2]\n",
    "%timeit intersect2(nums1, nums2)"
   ]
  },
  {
   "cell_type": "code",
   "execution_count": 48,
   "metadata": {},
   "outputs": [
    {
     "name": "stdout",
     "output_type": "stream",
     "text": [
      "2.21 µs ± 252 ns per loop (mean ± std. dev. of 7 runs, 100000 loops each)\n"
     ]
    }
   ],
   "source": [
    "nums3,nums4 = [4,9,5],[9,4,9,8,4]\n",
    "%timeit intersect2(nums3, nums4)"
   ]
  },
  {
   "cell_type": "code",
   "execution_count": 41,
   "metadata": {},
   "outputs": [
    {
     "name": "stdout",
     "output_type": "stream",
     "text": [
      "4.02 µs ± 296 ns per loop (mean ± std. dev. of 7 runs, 100000 loops each)\n"
     ]
    }
   ],
   "source": [
    "%timeit intersect3(nums3, nums4)"
   ]
  },
  {
   "cell_type": "markdown",
   "metadata": {},
   "source": [
    "# 367. Valid Perfect Square\n",
    "\n",
    "Given a positive integer num, write a function which returns True if num is a perfect square else False. \n",
    "Follow up: Do not use any built-in library function such as sqrt.\n",
    "\n",
    "Example 1:  \n",
    "Input: num = 16  \n",
    "Output: true   \n",
    "    \n",
    "Example 2:  \n",
    "Input: num = 14  \n",
    "Output: false\n",
    "\n",
    "Constraints:  \n",
    "1 <= num <= 2^31 - 1\n",
    "\n",
    "### My Solution"
   ]
  },
  {
   "cell_type": "code",
   "execution_count": 10,
   "metadata": {},
   "outputs": [
    {
     "name": "stdout",
     "output_type": "stream",
     "text": [
      "i: 1 True\n",
      "i: 2 False\n",
      "i: 3 False\n",
      "i: 4 True\n",
      "i: 5 False\n",
      "i: 6 False\n",
      "i: 7 False\n",
      "i: 8 False\n",
      "i: 9 True\n",
      "i: 10 False\n"
     ]
    }
   ],
   "source": [
    "def isPerfectSquare(num: int) -> bool:\n",
    "    if num == 1: \n",
    "        return True\n",
    "    left, right = 1, num//2\n",
    "    while left <= right:\n",
    "        mid = left + (right-left)//2\n",
    "        if mid > num/mid:\n",
    "            right = mid -1\n",
    "        else: \n",
    "            left = mid + 1\n",
    "    return (left-1)*(left-1) == num\n",
    "for i in range(1,11):\n",
    "    print(\"i:\",i,isPerfectSquare(num=i))"
   ]
  },
  {
   "cell_type": "markdown",
   "metadata": {},
   "source": [
    "### Original Solution "
   ]
  },
  {
   "cell_type": "code",
   "execution_count": null,
   "metadata": {},
   "outputs": [],
   "source": [
    "def isPerfectSquare(self, num: int) -> bool:\n",
    "    if num == 1:\n",
    "        return True\n",
    "    low, high = 1, num\n",
    "    while low <= high:\n",
    "        mid = low + (low + high)// 2 \n",
    "        if mid == num/mid:\n",
    "            return True\n",
    "        elif mid > num/mid:\n",
    "            high = mid - 1 \n",
    "        else:\n",
    "            low = mid + 1 \n",
    "    return False"
   ]
  },
  {
   "cell_type": "markdown",
   "metadata": {},
   "source": [
    "# 374. Guess Number Higher or Lower - Binary Search\n",
    "\n",
    "We are playing the Guess Game. The game is as follows:  \n",
    "I pick a number from 1 to n. You have to guess which number I picked.  \n",
    "Every time you guess wrong, I'll tell you whether the number is higher or lower.  \n",
    "You call a pre-defined API guess(int num) which returns 3 possible results (-1, 1, or 0):  \n",
    "-1 : My number is lower -- it means choose a larger one.  \n",
    " 1 : My number is higher    \n",
    " 0 : Congrats! You got it!  \n",
    " \n",
    "Example :    \n",
    "Input: n = 10, pick = 6  \n",
    "Output: 6"
   ]
  },
  {
   "cell_type": "code",
   "execution_count": null,
   "metadata": {},
   "outputs": [],
   "source": [
    "# The guess API is already defined for you.\n",
    "# @param num, your guess\n",
    "# @return -1 if my number is lower, 1 if my number is higher, otherwise return 0\n",
    "# def guess(num: int) -> int:\n",
    "\n",
    "class Solution:\n",
    "    def guessNumber(self, n: int) -> int:\n",
    "        left, right = 1, n\n",
    "        while left <= right:\n",
    "            mid = (left + right)//2\n",
    "            if guess(mid) == 0:\n",
    "                return mid\n",
    "            elif guess(mid) == 1:\n",
    "                left = mid + 1\n",
    "            else:\n",
    "                right = mid - 1"
   ]
  },
  {
   "cell_type": "markdown",
   "metadata": {},
   "source": [
    "# 387. First Unique Character in a String\n",
    "\n",
    "Given a string, find the first non-repeating character in it and return it's index. If it doesn't exist, return -1.  \n",
    "\n",
    "Examples:  \n",
    "s = \"leetcode\"  \n",
    "return 0.   \n",
    "\n",
    "s = \"loveleetcode\",  \n",
    "return 2.  \n",
    "Note: You may assume the string contain only lowercase letters."
   ]
  },
  {
   "cell_type": "code",
   "execution_count": 93,
   "metadata": {},
   "outputs": [
    {
     "data": {
      "text/plain": [
       "0"
      ]
     },
     "execution_count": 93,
     "metadata": {},
     "output_type": "execute_result"
    },
    {
     "data": {
      "text/plain": [
       "2"
      ]
     },
     "execution_count": 93,
     "metadata": {},
     "output_type": "execute_result"
    }
   ],
   "source": [
    "def firstUniqChar(s: str) -> int:\n",
    "    from collections import Counter\n",
    "    sCounter = Counter(s)\n",
    "    for i,v in enumerate(s):\n",
    "        if sCounter[v] == 1:\n",
    "            return i\n",
    "    return -1\n",
    "\n",
    "s = \"leetcode\"\n",
    "firstUniqChar(s)\n",
    "s = \"loveleetcode\"\n",
    "firstUniqChar(s)"
   ]
  },
  {
   "cell_type": "markdown",
   "metadata": {},
   "source": [
    "# 389. Find the Difference\n",
    "\n",
    "Given two strings s and t which consist of only lowercase letters. \n",
    "String t is generated by random shuffling string s and then add one more letter at a random position.\n",
    "Find the letter that was added in t.\n",
    "\n",
    "Example:  \n",
    "Input:  \n",
    "s = \"abcd\"  \n",
    "t = \"abcde\"  \n",
    "Output: e  \n",
    "Explanation: 'e' is the letter that was added.\n",
    "\n",
    "### Idea 1: use collections.Counter"
   ]
  },
  {
   "cell_type": "code",
   "execution_count": null,
   "metadata": {},
   "outputs": [],
   "source": [
    "def findTheDifference(s: str, t: str) -> str:\n",
    "    cs = collections.Counter(s)\n",
    "    ct = collections.Counter(t)\n",
    "    for i in ct:\n",
    "        if i not in cs or ct[i]>cs[i]:\n",
    "            return i   \n",
    "#Runtime: 20 ms, faster than 99.62% of Python3 online submissions for Find the Difference.\n",
    "#Memory Usage: 13.8 MB, less than 77.55% of Python3 online submissions for Find the Difference.\n",
    "def findTheDifference2(s: str, t: str) -> str:\n",
    "    dict_s = {}\n",
    "    for x in s:\n",
    "        if x in dict_s:\n",
    "            ds[x] += 1\n",
    "        else:\n",
    "            ds[x] = 1\n",
    "            \n",
    "    for y in t:\n",
    "        if y not in dict_s:\n",
    "            return y\n",
    "        elif dict_s[y] == 0:\n",
    "            return y\n",
    "        else:\n",
    "            dict_s[y] -= 1"
   ]
  },
  {
   "cell_type": "markdown",
   "metadata": {},
   "source": [
    "# 392. Is Subsequence\n",
    "\n",
    "iven a string s and a string t, check if s is subsequence of t.  \n",
    "A subsequence of a string is a new string which is formed from the original string by deleting some (can be none) of the characters without disturbing the relative positions of the remaining characters. (ie, \"ace\" is a subsequence of \"abcde\" while \"aec\" is not).\n",
    "\n",
    "Follow up:\n",
    "If there are lots of incoming S, say S1, S2, ... , Sk where k >= 1B, and you want to check one by one to see if T has its subsequence. In this scenario, how would you change your code?\n",
    "\n",
    "Credits:\n",
    "Special thanks to @pbrother for adding this problem and creating all test cases.\n",
    "\n",
    "Example 1:  \n",
    "Input: s = \"abc\", t = \"ahbgdc\"  \n",
    "Output: true \n",
    "\n",
    "Example 2:  \n",
    "Input: s = \"axc\", t = \"ahbgdc\"  \n",
    "Output: false \n",
    "\n",
    "Constraints:  \n",
    "0 <= s.length <= 100  \n",
    "0 <= t.length <= 10^4  \n",
    "Both strings consists only of lowercase characters.\n",
    "\n",
    "### My Solution - idea:\n",
    "- consider special cases\n",
    "- 1 pointer in each str, count the same letter in sequence, whether equals to len(s)"
   ]
  },
  {
   "cell_type": "code",
   "execution_count": 86,
   "metadata": {},
   "outputs": [],
   "source": [
    "def isSubsequence(s: str, t: str) -> bool:\n",
    "\n",
    "    if not s or s == t:\n",
    "        return True    \n",
    "    if not t:\n",
    "        return False    \n",
    "  \n",
    "    count = 0\n",
    "    i ,j = 0, 0\n",
    "    while i < len(s) and j < len(t):\n",
    "        if s[i] == t[j]:\n",
    "            count += 1\n",
    "            i += 1\n",
    "            j += 1\n",
    "        else: \n",
    "            j += 1\n",
    "    if count == len(s):\n",
    "        return True\n",
    "    return False\n",
    "\n",
    "#Runtime: 32 ms, faster than 91.74% of Python3 online submissions for Is Subsequence.\n",
    "#Memory Usage: 13.8 MB, less than 100.00% of Python3 online submissions for Is Subsequence"
   ]
  },
  {
   "cell_type": "code",
   "execution_count": 88,
   "metadata": {},
   "outputs": [],
   "source": [
    "def isSubsequence2(s: str, t: str) -> bool:\n",
    "    if not s:\n",
    "        return True\n",
    "    len_s = len(s)\n",
    "    i = 0\n",
    "    for char in t:\n",
    "        if char == s[i]:\n",
    "            i += 1\n",
    "        if i == len_s:\n",
    "            return Ture\n",
    "    return False"
   ]
  },
  {
   "cell_type": "code",
   "execution_count": 89,
   "metadata": {},
   "outputs": [
    {
     "data": {
      "text/plain": [
       "True"
      ]
     },
     "execution_count": 89,
     "metadata": {},
     "output_type": "execute_result"
    },
    {
     "data": {
      "text/plain": [
       "False"
      ]
     },
     "execution_count": 89,
     "metadata": {},
     "output_type": "execute_result"
    },
    {
     "data": {
      "text/plain": [
       "False"
      ]
     },
     "execution_count": 89,
     "metadata": {},
     "output_type": "execute_result"
    }
   ],
   "source": [
    "s = \"abc\"\n",
    "t = \"ahbgdc\"\n",
    "isSubsequence(s, t)\n",
    "s1 = \"axc\"\n",
    "t1 = \"ahbgdc\"\n",
    "isSubsequence(s1, t1)\n",
    "\n",
    "s2 = \"acb\"\n",
    "t2 = \"ahbgdc\"\n",
    "isSubsequence2(s2, t2)"
   ]
  }
 ],
 "metadata": {
  "kernelspec": {
   "display_name": "Python 3",
   "language": "python",
   "name": "python3"
  },
  "language_info": {
   "codemirror_mode": {
    "name": "ipython",
    "version": 3
   },
   "file_extension": ".py",
   "mimetype": "text/x-python",
   "name": "python",
   "nbconvert_exporter": "python",
   "pygments_lexer": "ipython3",
   "version": "3.6.9"
  }
 },
 "nbformat": 4,
 "nbformat_minor": 2
}

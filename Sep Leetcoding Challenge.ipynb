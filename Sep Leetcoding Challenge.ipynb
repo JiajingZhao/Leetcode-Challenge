{
 "cells": [
  {
   "cell_type": "code",
   "execution_count": 1,
   "metadata": {},
   "outputs": [],
   "source": [
    "from IPython.core.interactiveshell import InteractiveShell\n",
    "InteractiveShell.ast_node_interactivity = \"all\""
   ]
  },
  {
   "cell_type": "markdown",
   "metadata": {},
   "source": [
    "# 1.Largest Time for Given Digits\n",
    "\n",
    "Given an array of 4 digits, return the largest 24 hour time that can be made.  \n",
    "The smallest 24 hour time is 00:00, and the largest is 23:59.  Starting from 00:00, a time is larger if more time has elapsed since midnight.  \n",
    "Return the answer as a string of length 5.  If no valid time can be made, return an empty string.\n",
    "\n",
    "Example 1:  \n",
    "Input: [1,2,3,4]  \n",
    "Output: \"23:41\"\n",
    "    \n",
    "Example 2:  \n",
    "Input: [5,5,5,5]  \n",
    "Output: \"\"\n",
    "\n",
    "### Idea: itertools.permutations(A)\n",
    "- hour: 00-23\n",
    "- min: 00 - 59"
   ]
  },
  {
   "cell_type": "code",
   "execution_count": 13,
   "metadata": {},
   "outputs": [
    {
     "data": {
      "text/plain": [
       "'23:41'"
      ]
     },
     "execution_count": 13,
     "metadata": {},
     "output_type": "execute_result"
    }
   ],
   "source": [
    "def largestTimeFromDigits(A) -> str:\n",
    "    import itertools\n",
    "    return max([\"%d%d:%d%d\" % t for t in itertools.permutations(A) if t[:2] < (2, 4) and t[2] < 6] or [\"\"])\n",
    "\n",
    "A = [1,2,3,4] \n",
    "largestTimeFromDigits(A)"
   ]
  },
  {
   "cell_type": "code",
   "execution_count": 14,
   "metadata": {},
   "outputs": [],
   "source": [
    "class Solution(object):\n",
    "    def largestTimeFromDigits(self, A):\n",
    "        ans = -1\n",
    "        for h1, h2, m1, m2 in itertools.permutations(A):\n",
    "            hours = 10 * h1 + h2\n",
    "            mins = 10 * m1 + m2\n",
    "            time = 60 * hours + mins\n",
    "            if 0 <= hours < 24 and 0 <= mins < 60 and time > ans:\n",
    "                ans = time\n",
    "\n",
    "        return \"{:02}:{:02}\".format(*divmod(ans, 60)) if ans >= 0 else \"\""
   ]
  },
  {
   "cell_type": "markdown",
   "metadata": {},
   "source": [
    "# 2. Contains Duplicate III\n",
    "\n",
    "Given an array of integers, find out whether there are two distinct indices i and j in the array such that the absolute difference between nums[i] and nums[j] is at most t and the absolute difference between i and j is at most k.  \n",
    "- 1.|nums[i]-nums[j]|<=t  \n",
    "- 2.|i-j|<=k\n",
    "\n",
    "Example 1:  \n",
    "Input: nums = [1,2,3,1], k = 3, t = 0  \n",
    "Output: true\n",
    "\n",
    "Example 2:  \n",
    "Input: nums = [1,0,1,1], k = 1, t = 2  \n",
    "Output: true  \n",
    "\n",
    "Example 3:  \n",
    "Input: nums = [1,5,9,1,5,9], k = 2, t = 3  \n",
    "Output: false\n",
    "\n",
    "   Hint #1  \n",
    "Time complexity O(n logk) - This will give an indication that sorting is involved for k elements.  \n",
    "   Hint #2  \n",
    "Use already existing state to evaluate next state - Like, a set of k sorted numbers are only needed to be tracked. When we are processing the next number in array, then we can utilize the existing sorted state and it is not necessary to sort next overlapping set of k numbers again.\n",
    "\n",
    "### Idea:\n"
   ]
  },
  {
   "cell_type": "code",
   "execution_count": 6,
   "metadata": {},
   "outputs": [
    {
     "data": {
      "text/plain": [
       "True"
      ]
     },
     "execution_count": 6,
     "metadata": {},
     "output_type": "execute_result"
    },
    {
     "data": {
      "text/plain": [
       "True"
      ]
     },
     "execution_count": 6,
     "metadata": {},
     "output_type": "execute_result"
    },
    {
     "data": {
      "text/plain": [
       "False"
      ]
     },
     "execution_count": 6,
     "metadata": {},
     "output_type": "execute_result"
    }
   ],
   "source": [
    "def containsNearbyAlmostDuplicate(nums, k: int, t: int) -> bool:\n",
    "    n = len(nums)\n",
    "    if t==0 and n==len(set(nums)): #if duplicated num\n",
    "        return False\n",
    "    for i in range(n):\n",
    "        for j in range(1,k+1):\n",
    "            if i+j >= n:\n",
    "                break\n",
    "            if abs(nums[i]-nums[i+j])<=t:\n",
    "                return True\n",
    "    return False\n",
    "\n",
    "nums = [1,2,3,1]; k = 3; t = 0\n",
    "containsNearbyAlmostDuplicate(nums,k,t)\n",
    "nums = [1,0,1,1]; k = 1; t = 2\n",
    "containsNearbyAlmostDuplicate(nums,k,t)\n",
    "nums = [1,5,9,1,5,9]; k = 2; t = 3\n",
    "containsNearbyAlmostDuplicate(nums,k,t)"
   ]
  },
  {
   "cell_type": "markdown",
   "metadata": {},
   "source": [
    "# 3. Repeated Substring Pattern\n",
    "\n",
    "Given a non-empty string check if it can be constructed by taking a substring of it and appending multiple copies of the substring together. You may assume the given string consists of lowercase English letters only and its length will not exceed 10000.\n",
    "\n",
    "Example 1:  \n",
    "Input: \"abab\"  \n",
    "Output: True  \n",
    "Explanation: It's the substring \"ab\" twice.  \n",
    "\n",
    "Example 2:  \n",
    "Input: \"aba\"  \n",
    "Output: False  \n",
    "\n",
    "Example 3:  \n",
    "Input: \"abcabcabcabc\"  \n",
    "Output: True  \n",
    "Explanation: It's the substring \"abc\" four times. (And the substring \"abcabc\" twice.)"
   ]
  },
  {
   "cell_type": "code",
   "execution_count": 26,
   "metadata": {},
   "outputs": [
    {
     "data": {
      "text/plain": [
       "True"
      ]
     },
     "execution_count": 26,
     "metadata": {},
     "output_type": "execute_result"
    },
    {
     "data": {
      "text/plain": [
       "False"
      ]
     },
     "execution_count": 26,
     "metadata": {},
     "output_type": "execute_result"
    },
    {
     "data": {
      "text/plain": [
       "True"
      ]
     },
     "execution_count": 26,
     "metadata": {},
     "output_type": "execute_result"
    }
   ],
   "source": [
    "def repeatedSubstringPattern(s: str) -> bool:\n",
    "    for i in range(1,len(s)):\n",
    "        if s[i] == s[0] and s[:i]*(len(s)//i)==s:\n",
    "            return True\n",
    "    return False\n",
    "\n",
    "s = \"abab\"\n",
    "repeatedSubstringPattern(s)\n",
    "s = \"aba\"\n",
    "repeatedSubstringPattern(s)\n",
    "s = \"abcabcabcabc\"\n",
    "repeatedSubstringPattern(s)"
   ]
  },
  {
   "cell_type": "code",
   "execution_count": 30,
   "metadata": {},
   "outputs": [],
   "source": [
    "def repeatedSubstringPattern(s: str) -> bool:\n",
    "    return s in (s + s)[1:-1] and len(s)>1\n",
    "# only the sufficiency"
   ]
  },
  {
   "cell_type": "markdown",
   "metadata": {},
   "source": [
    "# 4. Partition Labels\n",
    "\n",
    "A string S of lowercase English letters is given. We want to partition this string into as many parts as possible so that each letter appears in at most one part, and return a list of integers representing the size of these parts.\n",
    "\n",
    "Example 1:  \n",
    "Input: S = \"ababcbacadefegdehijhklij\"  \n",
    "Output: [9,7,8]  \n",
    "Explanation:  \n",
    "The partition is \"ababcbaca\", \"defegde\", \"hijhklij\".  \n",
    "This is a partition so that each letter appears in at most one part.  \n",
    "A partition like \"ababcbacadefegde\", \"hijhklij\" is incorrect, because it splits S into less parts.\n",
    " \n",
    "Note:  \n",
    "S will have length in range [1, 500].  \n",
    "S will consist of lowercase English letters ('a' to 'z') only.\n",
    "\n",
    "### Idea:\n",
    "如果一段序列中每个元素的在S中最右边的序号都在某个范围内，那么就可以划分成一个段。  \n",
    "因此，使用字典保存每个元素出现的最靠右的位置。然后对字符串S进行遍历，找出最靠右的序号的最大值 d[s]。如果i和d[s]重合了，说明已经到了这个划分的末尾了，然后进行划分。并开始计算下一个划分。-- 找到boundary"
   ]
  },
  {
   "cell_type": "code",
   "execution_count": 8,
   "metadata": {},
   "outputs": [
    {
     "name": "stdout",
     "output_type": "stream",
     "text": [
      "{'a': 8, 'b': 5, 'c': 7, 'd': 14, 'e': 15, 'f': 11, 'g': 13, 'h': 19, 'i': 22, 'j': 23, 'k': 20, 'l': 21}\n",
      "0 a 8 1\n",
      "1 b 8 2\n",
      "2 a 8 3\n",
      "3 b 8 4\n",
      "4 c 8 5\n",
      "5 b 8 6\n",
      "6 a 8 7\n",
      "7 c 8 8\n",
      "8 a 8 9\n",
      "9 d 14 1\n",
      "10 e 15 2\n",
      "11 f 15 3\n",
      "12 e 15 4\n",
      "13 g 15 5\n",
      "14 d 15 6\n",
      "15 e 15 7\n",
      "16 h 19 1\n",
      "17 i 22 2\n",
      "18 j 23 3\n",
      "19 h 23 4\n",
      "20 k 23 5\n",
      "21 l 23 6\n",
      "22 i 23 7\n",
      "23 j 23 8\n"
     ]
    },
    {
     "data": {
      "text/plain": [
       "[9, 7, 8]"
      ]
     },
     "execution_count": 8,
     "metadata": {},
     "output_type": "execute_result"
    }
   ],
   "source": [
    "def partitionLabels(S: str):\n",
    "    res = []\n",
    "    d = {}\n",
    "    for i,s in enumerate(S):\n",
    "        d[s] = i\n",
    "    print(d)\n",
    "    count = 0\n",
    "    boundary = 0\n",
    "    for i,s in enumerate(S):\n",
    "        boundary = max(boundary,d[s])\n",
    "        count += 1\n",
    "        print(i,s,boundary,count)\n",
    "        if i == boundary:\n",
    "            res.append(count)\n",
    "            count = 0\n",
    "    return res\n",
    "S = \"ababcbacadefegdehijhklij\"\n",
    "partitionLabels(S)"
   ]
  },
  {
   "cell_type": "markdown",
   "metadata": {},
   "source": [
    "# 5. All Elements in Two Binary Search Trees\n",
    "\n",
    "Given two binary search trees root1 and root2.  \n",
    "Return a list containing all the integers from both trees sorted in ascending order.\n",
    "\n",
    "Example 1:  \n",
    "Input: root1 = [2,1,4], root2 = [1,0,3]  \n",
    "Output: [0,1,1,2,3,4]\n",
    "\n",
    "Example 2:  \n",
    "Input: root1 = [0,-10,10], root2 = [5,1,7,0,2]  \n",
    "Output: [-10,0,0,1,2,5,7,10]\n",
    "\n",
    "Example 3:  \n",
    "Input: root1 = [], root2 = [5,1,7,0,2]  \n",
    "Output: [0,1,2,5,7]\n",
    "\n",
    "Example 4:  \n",
    "Input: root1 = [0,-10,10], root2 = []  \n",
    "Output: [-10,0,10]\n",
    "\n",
    "Example 5:  \n",
    "Input: root1 = [1,null,8], root2 = [8,1]  \n",
    "Output: [1,1,8,8]"
   ]
  },
  {
   "cell_type": "code",
   "execution_count": null,
   "metadata": {},
   "outputs": [],
   "source": [
    "# Definition for a binary tree node.\n",
    "# class TreeNode:\n",
    "#     def __init__(self, val=0, left=None, right=None):\n",
    "#         self.val = val\n",
    "#         self.left = left\n",
    "#         self.right = right\n",
    "class Solution:\n",
    "    def getAllElements(self, root1: TreeNode, root2: TreeNode) -> List[int]:\n",
    "        list1 = self.inOrder(root1)\n",
    "        list2 = self.inOrder(root2)\n",
    "        return sorted(list1+list2)\n",
    "        \n",
    "    def inOrder(self,root):\n",
    "        seq = []\n",
    "        if root:\n",
    "            seq += self.inOrder(root.left)\n",
    "            seq.append(root.val)\n",
    "            seq += self.inOrder(root.right)\n",
    "        return seq"
   ]
  },
  {
   "cell_type": "code",
   "execution_count": null,
   "metadata": {},
   "outputs": [],
   "source": [
    "# Definition for a binary tree node.\n",
    "# class TreeNode:\n",
    "#     def __init__(self, val=0, left=None, right=None):\n",
    "#         self.val = val\n",
    "#         self.left = left\n",
    "#         self.right = right\n",
    "class Solution:\n",
    "    def getAllElements(self, root1: TreeNode, root2: TreeNode) -> List[int]:\n",
    "        ans = []\n",
    "        self.inOrder(root1,ans)\n",
    "        self.inOrder(root2,ans)\n",
    "        return sorted(ans)\n",
    "        \n",
    "    def inOrder(self,root,ans):\n",
    "        if not root:\n",
    "            return \n",
    "        self.inOrder(root.left,ans)\n",
    "        ans.append(root.val)\n",
    "        self.inOrder(root.right,ans)\n",
    "        return ans"
   ]
  },
  {
   "cell_type": "markdown",
   "metadata": {},
   "source": [
    "# 6. Image Overlap\n",
    "\n",
    "Two images A and B are given, represented as binary, square matrices of the same size.  (A binary matrix has only 0s and 1s as values.)  \n",
    "We translate one image however we choose (sliding it left, right, up, or down any number of units), and place it on top of the other image.  After, the overlap of this translation is the number of positions that have a 1 in both images.  \n",
    "(Note also that a translation does not include any kind of rotation.)  \n",
    "What is the largest possible overlap?  \n",
    "\n",
    "Example 1:  \n",
    "Input: A = [[1,1,0],  \n",
    "        [0,1,0],  \n",
    "        [0,1,0]]  \n",
    "     B = [[0,0,0],  \n",
    "        [0,1,1],  \n",
    "        [0,0,1]]  \n",
    "Output: 3  \n",
    "Explanation: We slide A to right by 1 unit and down by 1 unit.  \n",
    "Notes:   \n",
    "1 <= A.length = A[0].length = B.length = B[0].length <= 30  \n",
    "0 <= A[i][j], B[i][j] <= 1\n",
    "\n",
    "### Idea:\n",
    "- find all num 1 location in A and B respectively\n",
    "- do the subtraction find coordinates to achieve the overlap, dict Counter to find the max. "
   ]
  },
  {
   "cell_type": "code",
   "execution_count": 4,
   "metadata": {},
   "outputs": [
    {
     "name": "stdout",
     "output_type": "stream",
     "text": [
      "[(0, 0), (0, 1), (1, 1), (2, 1)]\n",
      "[(1, 1), (1, 2), (2, 2)]\n",
      "Counter({(-1, -1): 3, (0, -1): 2, (-1, -2): 1, (-2, -2): 1, (-1, 0): 1, (-2, -1): 1, (0, 0): 1, (1, 0): 1, (1, -1): 1})\n"
     ]
    },
    {
     "data": {
      "text/plain": [
       "3"
      ]
     },
     "execution_count": 4,
     "metadata": {},
     "output_type": "execute_result"
    }
   ],
   "source": [
    "def largestOverlap(A,B) -> int: \n",
    "    import collections\n",
    "    N = len(A)\n",
    "    LA = [(xi, yi) for xi in range(N) for yi in range(N) if A[xi][yi]]\n",
    "    LB = [(xi, yi) for xi in range(N) for yi in range(N) if B[xi][yi]]\n",
    "    print(LA)\n",
    "    print(LB)\n",
    "    d = collections.Counter([(x1 - x2, y1 - y2) for (x1, y1) in LA for (x2, y2) in LB])\n",
    "    print(d)\n",
    "    return max(d.values() or [0]) \n",
    "A = [[1,1,0],[0,1,0],[0,1,0]]\n",
    "B = [[0,0,0],[0,1,1],[0,0,1]]\n",
    "largestOverlap(A,B)"
   ]
  },
  {
   "cell_type": "markdown",
   "metadata": {},
   "source": [
    "# 7. Word Pattern\n",
    "\n",
    "Given a pattern and a string str, find if str follows the same pattern.  \n",
    "Here follow means a full match, such that there is a bijection between a letter in pattern and a non-empty word in str.  \n",
    "\n",
    "Example 1:  \n",
    "Input: pattern = \"abba\", str = \"dog cat cat dog\"  \n",
    "Output: true\n",
    "\n",
    "Example 2:  \n",
    "Input:pattern = \"abba\", str = \"dog cat cat fish\"   \n",
    "Output: false  \n",
    "\n",
    "Example 3:  \n",
    "Input: pattern = \"aaaa\", str = \"dog cat cat dog\"  \n",
    "Output: false\n",
    "\n",
    "Example 4:  \n",
    "Input: pattern = \"abba\", str = \"dog dog dog dog\"  \n",
    "Output: false  \n",
    "Notes: You may assume pattern contains only lowercase letters, and str contains lowercase letters that may be separated by a single space."
   ]
  },
  {
   "cell_type": "code",
   "execution_count": 45,
   "metadata": {},
   "outputs": [
    {
     "data": {
      "text/plain": [
       "False"
      ]
     },
     "execution_count": 45,
     "metadata": {},
     "output_type": "execute_result"
    }
   ],
   "source": [
    "def wordPattern(pattern: str, str: str) -> bool:\n",
    "    s = str.split()\n",
    "    d = {}\n",
    "    if len(set(s)) != len(set(pattern)) or len(pattern) != len(s):\n",
    "        return False\n",
    "    for i in range(len(pattern)):\n",
    "        if pattern[i] not in d:\n",
    "            d[pattern[i]] = s[i]\n",
    "        elif d[pattern[i]] != s[i]:\n",
    "            return False\n",
    "    return True  \n",
    "\n",
    "pattern = \"abba\"\n",
    "str = \"dog dog dog dog\"\n",
    "wordPattern(pattern, str)"
   ]
  },
  {
   "cell_type": "code",
   "execution_count": 46,
   "metadata": {},
   "outputs": [],
   "source": [
    "class Solution:\n",
    "    def wordPattern(self, pattern: str, str: str) -> bool:\n",
    "        words = str.lstrip().split(\" \")\n",
    "        \n",
    "        if len(words) != len(pattern):\n",
    "            return False\n",
    "        \n",
    "        letter_to_word = {}\n",
    "        word_to_letter = {}\n",
    "        \n",
    "        #双向字典\n",
    "        for letter, word in zip(pattern, words):\n",
    "            if not letter in letter_to_word:\n",
    "                letter_to_word[letter] = word\n",
    "            elif letter_to_word[letter] != word:\n",
    "                return False\n",
    "            \n",
    "            if not word in word_to_letter:\n",
    "                word_to_letter[word] = letter\n",
    "            elif word_to_letter[word] != letter:\n",
    "                return False\n",
    "            \n",
    "        return True"
   ]
  },
  {
   "cell_type": "markdown",
   "metadata": {},
   "source": [
    "# 8.  Sum of Root To Leaf Binary Numbers\n",
    "\n",
    "Given a binary tree, each node has value 0 or 1.  Each root-to-leaf path represents a binary number starting with the most significant bit.  For example, if the path is 0 -> 1 -> 1 -> 0 -> 1, then this could represent 01101 in binary, which is 13.  \n",
    "For all leaves in the tree, consider the numbers represented by the path from the root to that leaf.    \n",
    "Return the sum of these numbers.  \n",
    "\n",
    "Example 1:  \n",
    "Input: [1,0,1,0,1,0,1]  \n",
    "Output: 22  \n",
    "Explanation: (100) + (101) + (110) + (111) = 4 + 5 + 6 + 7 = 22\n",
    "\n",
    "### Idea:\n",
    "- find all paths\n",
    "- binary base transfer to decimal base"
   ]
  },
  {
   "cell_type": "code",
   "execution_count": null,
   "metadata": {},
   "outputs": [],
   "source": [
    "# Definition for a binary tree node.\n",
    "# class TreeNode:\n",
    "#     def __init__(self, val=0, left=None, right=None):\n",
    "#         self.val = val\n",
    "#         self.left = left\n",
    "#         self.right = right\n",
    "class Solution:\n",
    "    def sumRootToLeaf(self, root: TreeNode) -> int:\n",
    "        if not root:\n",
    "            return \n",
    "        result = 0\n",
    "        self.sumPath(root,'')\n",
    "        return result\n",
    "        \n",
    "        \n",
    "    def sumPath(self,root,string):\n",
    "        \n",
    "        if not root:\n",
    "            return\n",
    "        if not root.left and not root.right:\n",
    "            result += int(string + str(root.val),2)\n",
    "        if root.left:\n",
    "            self.sumPath(root.left,string + str(root.val))\n",
    "        if root.right:\n",
    "            self.sumPath(root.right,string + str(root.val))"
   ]
  },
  {
   "cell_type": "code",
   "execution_count": 4,
   "metadata": {},
   "outputs": [
    {
     "data": {
      "text/plain": [
       "4"
      ]
     },
     "execution_count": 4,
     "metadata": {},
     "output_type": "execute_result"
    }
   ],
   "source": [
    "int('100',2)"
   ]
  },
  {
   "cell_type": "markdown",
   "metadata": {},
   "source": [
    "# 9. Compare Version Numbers\n",
    "\n",
    "Compare two version numbers version1 and version2.  \n",
    "If version1 > version2 return 1; if version1 < version2 return -1;otherwise return 0.  \n",
    "You may assume that the version strings are non-empty and contain only digits and the . character.    \n",
    "The . character does not represent a decimal point and is used to separate number sequences.    \n",
    "For instance, 2.5 is not \"two and a half\" or \"half way to version three\", it is the fifth second-level revision of the second first-level revision. \n",
    "You may assume the default revision number for each level of a version number to be 0. For example, version number 3.4 has a revision number of 3 and 4 for its first and second level revision number. Its third and fourth level revision number are both 0.\n",
    "\n",
    "Example 1:  \n",
    "Input: version1 = \"0.1\", version2 = \"1.1\"  \n",
    "Output: -1  \n",
    "    \n",
    "Example 2:  \n",
    "Input: version1 = \"1.0.1\", version2 = \"1\"  \n",
    "Output: 1\n",
    "    \n",
    "Example 3:  \n",
    "Input: version1 = \"7.5.2.4\", version2 = \"7.5.3\"  \n",
    "Output: -1 \n",
    "    \n",
    "Example 4:\n",
    "Input: version1 = \"1.01\", version2 = \"1.001\"  \n",
    "Output: 0  \n",
    "Explanation: Ignoring leading zeroes, both “01” and “001\" represent the same number “1”  \n",
    "\n",
    "Example 5:  \n",
    "Input: version1 = \"1.0\", version2 = \"1.0.0\"  \n",
    "Output: 0  \n",
    "Explanation: The first version number does not have a third level revision number, which means its third level revision number is default to \"0\"\n",
    "\n",
    "Note:  \n",
    "Version strings are composed of numeric strings separated by dots . and this numeric strings may have leading zeroes.  \n",
    "Version strings do not start or end with dots, and they will not be two consecutive dots."
   ]
  },
  {
   "cell_type": "code",
   "execution_count": 28,
   "metadata": {},
   "outputs": [
    {
     "data": {
      "text/plain": [
       "-1"
      ]
     },
     "execution_count": 28,
     "metadata": {},
     "output_type": "execute_result"
    },
    {
     "data": {
      "text/plain": [
       "1"
      ]
     },
     "execution_count": 28,
     "metadata": {},
     "output_type": "execute_result"
    },
    {
     "data": {
      "text/plain": [
       "-1"
      ]
     },
     "execution_count": 28,
     "metadata": {},
     "output_type": "execute_result"
    },
    {
     "data": {
      "text/plain": [
       "0"
      ]
     },
     "execution_count": 28,
     "metadata": {},
     "output_type": "execute_result"
    },
    {
     "data": {
      "text/plain": [
       "0"
      ]
     },
     "execution_count": 28,
     "metadata": {},
     "output_type": "execute_result"
    },
    {
     "data": {
      "text/plain": [
       "-1"
      ]
     },
     "execution_count": 28,
     "metadata": {},
     "output_type": "execute_result"
    }
   ],
   "source": [
    "def compareVersion(version1: str, version2: str) -> int:\n",
    "    v1 = version1.split('.')\n",
    "    v2 = version2.split('.')\n",
    "\n",
    "    if len(v1) > len(v2):\n",
    "        v2.extend('0'*(len(v1)-len(v2)))\n",
    "    else:\n",
    "        v1.extend('0'*(len(v2)-len(v1)))\n",
    "\n",
    "    for i in range(len(v1)):\n",
    "        if int(v1[i]) > int(v2[i]):\n",
    "            return 1\n",
    "        elif int(v1[i]) < int(v2[i]):\n",
    "            return -1\n",
    "    return 0\n",
    "\n",
    "version1 = \"0.1\"; version2 = \"1.1\"\n",
    "compareVersion(version1, version2)\n",
    "version1 = \"1.0.1\"; version2 = \"1\"\n",
    "compareVersion(version1, version2)\n",
    "version1 = \"7.5.2.4\"; version2 = \"7.5.3\"\n",
    "compareVersion(version1, version2)\n",
    "version1 = \"1.01\"; version2 = \"1.001\"\n",
    "compareVersion(version1, version2)\n",
    "version1 = \"1.0\"; version2 = \"1.0.0\"\n",
    "compareVersion(version1, version2)\n",
    "version1 = \"1\"; version2 = \"1.1\"\n",
    "compareVersion(version1, version2)"
   ]
  },
  {
   "cell_type": "markdown",
   "metadata": {},
   "source": [
    "# 10. Bulls and Cows\n",
    "\n",
    "You are playing the following Bulls and Cows game with your friend: You write down a number and ask your friend to guess what the number is. Each time your friend makes a guess, you provide a hint that indicates how many digits in said guess match your secret number exactly in both digit and position (called \"bulls\") and how many digits match the secret number but locate in the wrong position (called \"cows\"). Your friend will use successive guesses and hints to eventually derive the secret number.  \n",
    "Write a function to return a hint according to the secret number and friend's guess, use A to indicate the bulls and B to indicate the cows.   \n",
    "Please note that both secret number and friend's guess may contain duplicate digits.\n",
    "\n",
    "Example 1:  \n",
    "Input: secret = \"1807\", guess = \"7810\"    \n",
    "Output: \"1A3B\"  \n",
    "Explanation: 1 bull and 3 cows. The bull is 8, the cows are 0, 1 and 7.\n",
    "\n",
    "Example 2:  \n",
    "Input: secret = \"1123\", guess = \"0111\"    \n",
    "Output: \"1A1B\"  \n",
    "Explanation: The 1st 1 in friend's guess is a bull, the 2nd or 3rd 1 is a cow.\n",
    "Note: You may assume that the secret number and your friend's guess only contain digits, and their lengths are always equal."
   ]
  },
  {
   "cell_type": "code",
   "execution_count": 22,
   "metadata": {},
   "outputs": [
    {
     "data": {
      "text/plain": [
       "'1A3B'"
      ]
     },
     "execution_count": 22,
     "metadata": {},
     "output_type": "execute_result"
    },
    {
     "data": {
      "text/plain": [
       "'1A1B'"
      ]
     },
     "execution_count": 22,
     "metadata": {},
     "output_type": "execute_result"
    },
    {
     "data": {
      "text/plain": [
       "'3A0B'"
      ]
     },
     "execution_count": 22,
     "metadata": {},
     "output_type": "execute_result"
    }
   ],
   "source": [
    "def getHint(secret: str, guess: str) -> str:\n",
    "    secret = list(secret)\n",
    "    guess = list(guess)\n",
    "    bulls = 0\n",
    "    cows = 0\n",
    "    index = []\n",
    "    for i in range(len(secret)):\n",
    "        if secret[i] == guess[i]:\n",
    "            bulls += 1\n",
    "            index.append(i)\n",
    "            \n",
    "    for i in reversed(index): #remove from back to front,avoid index exceed\n",
    "        secret.pop(i)\n",
    "        guess.pop(i)\n",
    "    \n",
    "    import collections\n",
    "    d = collections.Counter(secret)\n",
    "    for i in range(len(secret)):\n",
    "        if guess[i] in d and d[guess[i]] > 0:\n",
    "            cows += 1\n",
    "            d[guess[i]] -= 1\n",
    "            \n",
    "    return str(bulls) + 'A' + str(cows) + 'B'\n",
    "\n",
    "secret = \"1807\"\n",
    "guess = \"7810\"\n",
    "getHint(secret, guess)\n",
    "\n",
    "secret = \"1123\"\n",
    "guess = \"0111\"\n",
    "getHint(secret, guess)\n",
    "\n",
    "secret = \"1122\"\n",
    "guess = \"1222\"\n",
    "getHint(secret, guess)"
   ]
  },
  {
   "cell_type": "code",
   "execution_count": 24,
   "metadata": {},
   "outputs": [
    {
     "name": "stdout",
     "output_type": "stream",
     "text": [
      "1 0\n",
      "defaultdict(<class 'int'>, {})\n",
      "1 1\n",
      "defaultdict(<class 'int'>, {'1': 1, '0': -1})\n",
      "2 1\n",
      "defaultdict(<class 'int'>, {'1': 1, '0': -1})\n",
      "3 1\n",
      "defaultdict(<class 'int'>, {'1': 0, '0': -1, '2': 1})\n"
     ]
    },
    {
     "data": {
      "text/plain": [
       "'1A1B'"
      ]
     },
     "execution_count": 24,
     "metadata": {},
     "output_type": "execute_result"
    }
   ],
   "source": [
    "def getHint(secret: str, guess: str) -> str:\n",
    "    bulls, cows = 0, 0\n",
    "    counter = collections.defaultdict(int)\n",
    "\n",
    "    for idx in range(len(secret)):\n",
    "        s = secret[idx]\n",
    "        g = guess[idx]\n",
    "        \n",
    "        print(s,g)\n",
    "        print(counter)\n",
    "\n",
    "        if s == g:\n",
    "            bulls += 1\n",
    "        else:\n",
    "            if counter[s] < 0:\n",
    "                cows += 1\n",
    "            if counter[g] > 0:\n",
    "                cows += 1\n",
    "            counter[s] += 1\n",
    "            counter[g] -= 1\n",
    "    return f\"{bulls}A{cows}B\"\n",
    "\n",
    "secret = \"1123\"\n",
    "guess = \"0111\"\n",
    "getHint(secret, guess)"
   ]
  },
  {
   "cell_type": "markdown",
   "metadata": {},
   "source": [
    "# 11.Maximum Product Subarray\n",
    "\n",
    "Given an integer array nums, find the contiguous subarray within an array (containing at least one number) which has the largest product. \n",
    "\n",
    "Example 1:  \n",
    "Input: [2,3,-2,4]  \n",
    "Output: 6  \n",
    "Explanation: [2,3] has the largest product 6.\n",
    "\n",
    "Example 2:  \n",
    "Input: [-2,0,-1]  \n",
    "Output: 0  \n",
    "Explanation: The result cannot be 2, because [-2,-1] is not a subarray.\n",
    "\n",
    "### Idea:\n",
    "- local max,local min(notice: minus problem), global max\n",
    "- local 只关注当前值，前连续最大或最小值×当前值"
   ]
  },
  {
   "cell_type": "code",
   "execution_count": 22,
   "metadata": {},
   "outputs": [
    {
     "name": "stdout",
     "output_type": "stream",
     "text": [
      "1 3 3 6 6\n",
      "2 -2 -12 -2 6\n",
      "3 4 -48 4 6\n"
     ]
    },
    {
     "data": {
      "text/plain": [
       "6"
      ]
     },
     "execution_count": 22,
     "metadata": {},
     "output_type": "execute_result"
    }
   ],
   "source": [
    "def maxProduct(nums) -> int:\n",
    "    localmax,localmin,globalmax = nums[0],nums[0],nums[0]\n",
    "    n = len(nums)\n",
    "    for i in range(1,n):\n",
    "        temp = [nums[i],nums[i]*localmin,nums[i]*localmax]\n",
    "        localmax = max(temp)\n",
    "        localmin = min(temp)\n",
    "        globalmax = max(globalmax,localmax)\n",
    "\n",
    "        print(i,nums[i],localmin,localmax,globalmax)\n",
    "    return globalmax\n",
    "\n",
    "nums = [2,3,-2,4]\n",
    "maxProduct(nums)"
   ]
  },
  {
   "cell_type": "markdown",
   "metadata": {},
   "source": [
    "# 12. Combination Sum III\n",
    "\n",
    "Find all possible combinations of k numbers that add up to a number n, given that only numbers from 1 to 9 can be used and each combination should be a unique set of numbers.\n",
    "\n",
    "Note:  \n",
    "All numbers will be positive integers.  \n",
    "The solution set must not contain duplicate combinations.  \n",
    "\n",
    "Example 1:  \n",
    "Input: k = 3, n = 7  \n",
    "Output: [[1,2,4]] \n",
    "\n",
    "Example 2:  \n",
    "Input: k = 3, n = 9  \n",
    "Output: [[1,2,6], [1,3,5], [2,3,4]]\n",
    "\n",
    "### Idea 1 - itertools.combinations(list,k)\n",
    "### Idea 2 - dfs + backtracking\n",
    "- 在DFS函数里, 回溯的条件是当k<0或者n<0, 此时直接返回. \n",
    "- 当k=0 并且n=0时, 表明我们找到了k个数字的组合,使得它们的和为n, 将path加到res里. 然后对nums进行遍历和递归."
   ]
  },
  {
   "cell_type": "code",
   "execution_count": 10,
   "metadata": {},
   "outputs": [
    {
     "data": {
      "text/plain": [
       "[[1, 2, 4]]"
      ]
     },
     "execution_count": 10,
     "metadata": {},
     "output_type": "execute_result"
    }
   ],
   "source": [
    "def combinationSum3(k: int, n: int):\n",
    "    nums = range(1,10)\n",
    "    import itertools\n",
    "    combination = itertools.combinations(nums,k)\n",
    "    result = [list(tup) for tup in combination if sum(tup) == n]\n",
    "    return result\n",
    "k = 3\n",
    "n = 7\n",
    "combinationSum3(k, n)"
   ]
  },
  {
   "cell_type": "code",
   "execution_count": null,
   "metadata": {},
   "outputs": [],
   "source": [
    "def combinationSum3(self, k: int, n: int) -> List[List[int]]:\n",
    "    res = []\n",
    "    self.dfs(range(1,10), k, n, 0, [], res)\n",
    "    return res\n",
    "\n",
    "def dfs(self, nums, k, n, index, path, res):\n",
    "    if k < 0 or n < 0: # backtracking \n",
    "        return \n",
    "    if k == 0 and n == 0: \n",
    "        res.append(path)\n",
    "    for i in range(index, len(nums)):\n",
    "        self.dfs(nums, k-1, n-nums[i], i+1, path+[nums[i]], res)"
   ]
  },
  {
   "cell_type": "markdown",
   "metadata": {},
   "source": [
    "# 13. Insert Interval\n",
    "\n",
    "Given a set of non-overlapping intervals, insert a new interval into the intervals (merge if necessary).  \n",
    "You may assume that the intervals were initially sorted according to their start times.  \n",
    "\n",
    "Example 1:  \n",
    "Input: intervals = [[1,3],[6,9]], newInterval = [2,5]  \n",
    "Output: [[1,5],[6,9]]  \n",
    "\n",
    "Example 2:  \n",
    "Input: intervals = [[1,2],[3,5],[6,7],[8,10],[12,16]], newInterval = [4,8]  \n",
    "Output: [[1,2],[3,10],[12,16]]  \n",
    "Explanation: Because the new interval [4,8] overlaps with [3,5],[6,7],[8,10].  \n",
    "NOTE: input types have been changed on April 15, 2019. Please reset to default code definition to get new method signature.\n",
    "\n",
    "### Idea:\n",
    "- 依次判断是否有交集，即带判断区间的首是否在结果中当前区间内。"
   ]
  },
  {
   "cell_type": "code",
   "execution_count": 9,
   "metadata": {},
   "outputs": [
    {
     "data": {
      "text/plain": [
       "[[1, 5], [6, 9]]"
      ]
     },
     "execution_count": 9,
     "metadata": {},
     "output_type": "execute_result"
    }
   ],
   "source": [
    "def insert(intervals, newInterval):\n",
    "    intervals.append(newInterval)\n",
    "    intervals.sort(key = lambda x: x[0])    \n",
    "    res = []\n",
    "    for i in range(len(intervals)):\n",
    "        if res == []:\n",
    "            res.append(intervals[i])\n",
    "        else:\n",
    "            index = len(res)\n",
    "            if res[index-1][0] <= intervals[i][0] <= res[index-1][1]:\n",
    "                res[index-1][1] = max(intervals[i][1],res[index-1][1])\n",
    "            else:\n",
    "                res.append(intervals[i])\n",
    "    return res\n",
    "\n",
    "intervals = [[1,3],[6,9]]\n",
    "newInterval = [2,5]\n",
    "insert(intervals, newInterval)"
   ]
  },
  {
   "cell_type": "code",
   "execution_count": 6,
   "metadata": {},
   "outputs": [
    {
     "data": {
      "text/plain": [
       "[[1, 3], [6, 9], [2, 5]]"
      ]
     },
     "execution_count": 6,
     "metadata": {},
     "output_type": "execute_result"
    },
    {
     "data": {
      "text/plain": [
       "[[1, 3], [2, 5], [6, 9]]"
      ]
     },
     "execution_count": 6,
     "metadata": {},
     "output_type": "execute_result"
    }
   ],
   "source": [
    "intervals = [[1,3],[6,9]]\n",
    "newInterval = [2,5]\n",
    "intervals.append(newInterval)\n",
    "intervals.sort(key = lambda x: x[0])        \n",
    "intervals"
   ]
  },
  {
   "cell_type": "markdown",
   "metadata": {},
   "source": [
    "# 14. House Robber\n",
    "\n",
    "You are a professional robber planning to rob houses along a street. Each house has a certain amount of money stashed, the only constraint stopping you from robbing each of them is that adjacent houses have security system connected and it will automatically contact the police if two adjacent houses were broken into on the same night.  \n",
    "Given a list of non-negative integers representing the amount of money of each house, determine the maximum amount of money you can rob tonight without alerting the police.\n",
    "\n",
    "Example 1:  \n",
    "Input: nums = [1,2,3,1]  \n",
    "Output: 4  \n",
    "Explanation: Rob house 1 (money = 1) and then rob house 3 (money = 3).Total amount you can rob = 1 + 3 = 4.\n",
    "\n",
    "Example 2:  \n",
    "Input: nums = [2,7,9,3,1]  \n",
    "Output: 12  \n",
    "Explanation: Rob house 1 (money = 2), rob house 3 (money = 9) and rob house 5 (money = 1).Total amount you can rob = 2 + 9 + 1 = 12.\n",
    "\n",
    "Constraints:  \n",
    "0 <= nums.length <= 100  \n",
    "0 <= nums[i] <= 400"
   ]
  },
  {
   "cell_type": "code",
   "execution_count": 4,
   "metadata": {},
   "outputs": [
    {
     "name": "stdout",
     "output_type": "stream",
     "text": [
      "[1, 2, 4, 4]\n"
     ]
    },
    {
     "data": {
      "text/plain": [
       "4"
      ]
     },
     "execution_count": 4,
     "metadata": {},
     "output_type": "execute_result"
    },
    {
     "name": "stdout",
     "output_type": "stream",
     "text": [
      "[2, 7, 11, 11, 12]\n"
     ]
    },
    {
     "data": {
      "text/plain": [
       "12"
      ]
     },
     "execution_count": 4,
     "metadata": {},
     "output_type": "execute_result"
    }
   ],
   "source": [
    "def rob(nums) -> int:\n",
    "    if nums == []:\n",
    "        return 0\n",
    "    if len(nums) == 1:\n",
    "        return nums[0]\n",
    "    \n",
    "    n = len(nums)\n",
    "    dp = [0] * n\n",
    "    dp[0] = nums[0]\n",
    "    dp[1] = max(nums[0],nums[1])\n",
    "    for i in range(2,n):\n",
    "        dp[i] = max(dp[i-2]+nums[i],dp[i-1])\n",
    "    print(dp)\n",
    "    return dp[-1]\n",
    "\n",
    "nums = [1,2,3,1]\n",
    "rob(nums)\n",
    "nums = [2,7,9,3,1]\n",
    "rob(nums)"
   ]
  },
  {
   "cell_type": "markdown",
   "metadata": {},
   "source": [
    "# 15. Length of Last Word\n",
    "\n",
    "Given a string s consists of upper/lower-case alphabets and empty space characters ' ', return the length of last word (last word means the last appearing word if we loop from left to right) in the string.  \n",
    "If the last word does not exist, return 0.  \n",
    "Note: A word is defined as a maximal substring consisting of non-space characters only.\n",
    "\n",
    "Example:  \n",
    "Input: \"Hello World\"  \n",
    "Output: 5"
   ]
  },
  {
   "cell_type": "code",
   "execution_count": 15,
   "metadata": {},
   "outputs": [
    {
     "data": {
      "text/plain": [
       "5"
      ]
     },
     "execution_count": 15,
     "metadata": {},
     "output_type": "execute_result"
    }
   ],
   "source": [
    "def lengthOfLastWord(s: str) -> int:\n",
    "    count = 0\n",
    "    local_count = 0\n",
    "    for i in range(len(s)):\n",
    "        if s[i] == ' ':\n",
    "            local_count = 0\n",
    "        else:\n",
    "            local_count += 1\n",
    "            count = local_count\n",
    "    return count\n",
    "    \n",
    "s = \"Hello World\"\n",
    "lengthOfLastWord(s)"
   ]
  },
  {
   "cell_type": "code",
   "execution_count": 16,
   "metadata": {},
   "outputs": [
    {
     "data": {
      "text/plain": [
       "5"
      ]
     },
     "execution_count": 16,
     "metadata": {},
     "output_type": "execute_result"
    }
   ],
   "source": [
    "def lengthOfLastWord(s: str) -> int:\n",
    "    local_count = 0\n",
    "    if len(s) ==1 and ' ' not in s:\n",
    "        return 1  \n",
    "    \n",
    "    for i in range(len(s)-1,0,-1):\n",
    "        if s[i] == ' ':\n",
    "            local_count += 1\n",
    "        else:\n",
    "            break\n",
    "    count = 0\n",
    "    for i in range(len(s)-local_count-1, -1, -1):\n",
    "        if s[i] != ' ':\n",
    "            count += 1\n",
    "        else:\n",
    "            break\n",
    "    return count\n",
    "    \n",
    "s = \"Hello World\"\n",
    "lengthOfLastWord(s)"
   ]
  },
  {
   "cell_type": "code",
   "execution_count": 21,
   "metadata": {},
   "outputs": [
    {
     "data": {
      "text/plain": [
       "0"
      ]
     },
     "execution_count": 21,
     "metadata": {},
     "output_type": "execute_result"
    }
   ],
   "source": [
    "def lengthOfLastWord(s: str) -> int:\n",
    "    if ' ' not in s:\n",
    "        return len(s)\n",
    "    if s.split():\n",
    "        len(s.split()[-1])\n",
    "    return 0\n",
    "s = \"s\"\n",
    "lengthOfLastWord(s)"
   ]
  },
  {
   "cell_type": "markdown",
   "metadata": {},
   "source": [
    "# 16, Maximum XOR of Two Numbers in an Array\n",
    "\n",
    "Given a non-empty array of numbers, a0, a1, a2, … , an-1, where 0 ≤ ai < 231.  \n",
    "Find the maximum result of ai XOR aj, where 0 ≤ i, j < n.   \n",
    "Could you do this in O(n) runtime?  \n",
    "\n",
    "Example:  \n",
    "Input: [3, 10, 5, 25, 2, 8]  \n",
    "Output: 28    \n",
    "Explanation: The maximum result is 5 ^ 25 = 28.\n",
    "\n",
    "### Idea: bruce search - time exceed"
   ]
  },
  {
   "cell_type": "code",
   "execution_count": 2,
   "metadata": {},
   "outputs": [],
   "source": [
    "def findMaximumXOR(nums) -> int:\n",
    "    xor_max = float('-inf')\n",
    "    nums.sort()\n",
    "    for i in range(len(nums)):\n",
    "        for j in range(i,len(nums)):\n",
    "            XOR = nums[i] ^ nums[j]\n",
    "            xor_max = max(XOR,xor_max)\n",
    "    return xor_max"
   ]
  },
  {
   "cell_type": "code",
   "execution_count": 14,
   "metadata": {},
   "outputs": [
    {
     "data": {
      "text/plain": [
       "'\\n[3,10,5,25,2,8]\\n[00011,01010,00101,11001,00010,01000]\\nmask = 10000 -> [00000,00000,00000,10000,00000,00000],max = 10000 ? true\\nmask = 11000 -> [00000,01000,00000,11000,00000,01000],max = 11000 ? true\\n...\\n\\n'"
      ]
     },
     "execution_count": 14,
     "metadata": {},
     "output_type": "execute_result"
    },
    {
     "data": {
      "text/plain": [
       "28"
      ]
     },
     "execution_count": 14,
     "metadata": {},
     "output_type": "execute_result"
    }
   ],
   "source": [
    "\"\"\"\n",
    "[3,10,5,25,2,8]\n",
    "[00011,01010,00101,11001,00010,01000]\n",
    "mask = 10000 -> [00000,00000,00000,10000,00000,00000],max = 10000 ? true\n",
    "mask = 11000 -> [00000,01000,00000,11000,00000,01000],max = 11000 ? true\n",
    "...\n",
    "\n",
    "\"\"\"\n",
    "def findMaximumXOR(nums) -> int:    \n",
    "    ans = mask = 0\n",
    "    for x in range(5)[::-1]:\n",
    "        mask += 1 << x #最大32位,从头到尾依次检验是否为1\n",
    "        prefixSet = set([num & mask for num in nums]) #与max相同为1保留\n",
    "        temp =  ans | 1 << x\n",
    "        for prefix in prefixSet:\n",
    "            if temp ^ prefix in prefixSet:\n",
    "                ans = temp\n",
    "                #break\n",
    "    return ans\n",
    "nums = [3, 10, 5, 25, 2, 8]\n",
    "findMaximumXOR(nums)"
   ]
  },
  {
   "cell_type": "markdown",
   "metadata": {},
   "source": [
    "# 17. Robot Bounded In Circle\n",
    "\n",
    "On an infinite plane, a robot initially stands at (0, 0) and faces north.  The robot can receive one of three instructions:  \n",
    "\"G\": go straight 1 unit;  \n",
    "\"L\": turn 90 degrees to the left;  \n",
    "\"R\": turn 90 degress to the right.  \n",
    "The robot performs the instructions given in order, and repeats them forever.  \n",
    "Return true if and only if there exists a circle in the plane such that the robot never leaves the circle.\n",
    "\n",
    "Example 1:  \n",
    "Input: \"GGLLGG\"  \n",
    "Output: true  \n",
    "Explanation:   \n",
    "The robot moves from (0,0) to (0,2), turns 180 degrees, and then returns to (0,0).  \n",
    "When repeating these instructions, the robot remains in the circle of radius 2 centered at the origin.\n",
    "\n",
    "Example 2:  \n",
    "Input: \"GG\"  \n",
    "Output: false  \n",
    "Explanation:   \n",
    "The robot moves north indefinitely.\n",
    "\n",
    "Example 3:  \n",
    "Input: \"GL\"  \n",
    "Output: true  \n",
    "Explanation:    \n",
    "The robot moves from (0, 0) -> (0, 1) -> (-1, 1) -> (-1, 0) -> (0, 0) -> ...\n",
    "\n",
    "   Hide Hint #1  \n",
    "Calculate the final vector of how the robot travels after executing all instructions once - it consists of a change in position plus a change in direction.  \n",
    "   Hide Hint #2    \n",
    "The robot stays in the circle iff (looking at the final vector) it changes direction (ie. doesn't stay pointing north), or it moves 0.\n",
    "\n",
    "### Idea:\n",
    "- set direction and move method (N,E,S,W)\n",
    "- Hint2 only if the direction chages (90 - recycle for 4 times, 180 - for 2 times, 270 - 4 times) or it moves 0."
   ]
  },
  {
   "cell_type": "code",
   "execution_count": 19,
   "metadata": {},
   "outputs": [
    {
     "data": {
      "text/plain": [
       "True"
      ]
     },
     "execution_count": 19,
     "metadata": {},
     "output_type": "execute_result"
    },
    {
     "data": {
      "text/plain": [
       "False"
      ]
     },
     "execution_count": 19,
     "metadata": {},
     "output_type": "execute_result"
    },
    {
     "data": {
      "text/plain": [
       "True"
      ]
     },
     "execution_count": 19,
     "metadata": {},
     "output_type": "execute_result"
    },
    {
     "data": {
      "text/plain": [
       "True"
      ]
     },
     "execution_count": 19,
     "metadata": {},
     "output_type": "execute_result"
    }
   ],
   "source": [
    "def isRobotBounded(instructions: str) -> bool:\n",
    "    x,y,direction = 0,0,0\n",
    "    move = [(0,1),(-1,0),(0,-1),(1,0)] #north,e,s,w\n",
    "    for i in instructions:\n",
    "        if i == 'G':\n",
    "            x += move[direction][0]\n",
    "            y += move[direction][1]\n",
    "        elif i == 'L':\n",
    "            direction = (direction + 1) % 4\n",
    "        else:\n",
    "            direction = (direction + 3) % 4\n",
    "    return (x==0 and y==0) or (direction!=0)\n",
    "instructions = \"GGLLGG\"\n",
    "isRobotBounded(instructions)\n",
    "instructions = \"GG\"\n",
    "isRobotBounded(instructions)\n",
    "instructions = \"GL\"\n",
    "isRobotBounded(instructions)\n",
    "instructions = \"GLRLLGLL\"\n",
    "isRobotBounded(instructions)"
   ]
  },
  {
   "cell_type": "code",
   "execution_count": 20,
   "metadata": {},
   "outputs": [],
   "source": [
    "def isRobotBounded(instructions: str) -> bool:\n",
    "    x, y, dx, dy = 0, 0, 0, 1\n",
    "    for i in instructions:\n",
    "        if i == 'R': dx, dy = dy, -dx\n",
    "        if i == 'L': dx, dy = -dy, dx\n",
    "        if i == 'G': x, y = x + dx, y + dy\n",
    "    return (x, y) == (0, 0) or (dx, dy) != (0,1)"
   ]
  },
  {
   "cell_type": "markdown",
   "metadata": {},
   "source": [
    "# 18. Best Time to Buy and Sell Stock\n",
    "\n",
    "Say you have an array for which the ith element is the price of a given stock on day i.  \n",
    "If you were only permitted to complete at most one transaction (i.e., buy one and sell one share of the stock), design an algorithm to find the maximum profit.  \n",
    "Note that you cannot sell a stock before you buy one.\n",
    "\n",
    "Example 1:  \n",
    "Input: [7,1,5,3,6,4]  \n",
    "Output: 5  \n",
    "Explanation: Buy on day 2 (price = 1) and sell on day 5 (price = 6), profit = 6-1 = 5.Not 7-1 = 6, as selling price needs to be larger than buying price.\n",
    "\n",
    "Example 2:  \n",
    "Input: [7,6,4,3,1]  \n",
    "Output: 0  \n",
    "Explanation: In this case, no transaction is done, i.e. max profit = 0."
   ]
  },
  {
   "cell_type": "code",
   "execution_count": 9,
   "metadata": {},
   "outputs": [
    {
     "name": "stdout",
     "output_type": "stream",
     "text": [
      "7 0\n",
      "1 0\n",
      "1 4\n",
      "1 4\n",
      "1 5\n",
      "1 5\n"
     ]
    },
    {
     "data": {
      "text/plain": [
       "5"
      ]
     },
     "execution_count": 9,
     "metadata": {},
     "output_type": "execute_result"
    },
    {
     "name": "stdout",
     "output_type": "stream",
     "text": [
      "1 0\n",
      "1 1\n"
     ]
    },
    {
     "data": {
      "text/plain": [
       "1"
      ]
     },
     "execution_count": 9,
     "metadata": {},
     "output_type": "execute_result"
    }
   ],
   "source": [
    "def maxProfit(prices) -> int:\n",
    "    # max_profit, min_price\n",
    "    max_profit, min_price = 0, float('inf')\n",
    "    for price in prices:\n",
    "        min_price = min(min_price,price)\n",
    "        max_profit = max(max_profit,price-min_price)\n",
    "        print(min_price,max_profit)\n",
    "    return max(0,max_profit)\n",
    "\n",
    "prices = [7,1,5,3,6,4]\n",
    "maxProfit(prices)\n",
    "prices = [1,2]\n",
    "maxProfit(prices)"
   ]
  },
  {
   "cell_type": "markdown",
   "metadata": {},
   "source": [
    "# 19. Sequential Digits\n",
    "\n",
    "An integer has sequential digits if and only if each digit in the number is one more than the previous digit.  \n",
    "Return a sorted list of all the integers in the range [low, high] inclusive that have sequential digits.  \n",
    "\n",
    "Example 1:  \n",
    "Input: low = 100, high = 300  \n",
    "Output: [123,234]  \n",
    "\n",
    "Example 2:  \n",
    "Input: low = 1000, high = 13000  \n",
    "Output: [1234,2345,3456,4567,5678,6789,12345]\n",
    "\n",
    "Hide Hint #1  \n",
    "Generate all numbers with sequential digits and check if they are in the given range.  \n",
    "Hide Hint #2  \n",
    "Fix the starting digit then do a recursion that tries to append all valid digits.\n",
    "\n",
    "### Idea:\n",
    "- n: 几位数字\n",
    "- i: 首字母的范围，2位数字（1-8）,3位数字(1-7)"
   ]
  },
  {
   "cell_type": "code",
   "execution_count": 10,
   "metadata": {},
   "outputs": [
    {
     "name": "stdout",
     "output_type": "stream",
     "text": [
      "12\n",
      "23\n",
      "34\n",
      "45\n",
      "56\n",
      "67\n",
      "78\n",
      "89\n",
      "123\n",
      "234\n",
      "345\n",
      "456\n",
      "567\n",
      "678\n",
      "789\n",
      "1234\n",
      "2345\n",
      "3456\n",
      "4567\n",
      "5678\n",
      "6789\n",
      "12345\n",
      "23456\n",
      "34567\n",
      "45678\n",
      "56789\n",
      "123456\n",
      "234567\n",
      "345678\n",
      "456789\n",
      "1234567\n",
      "2345678\n",
      "3456789\n",
      "12345678\n",
      "23456789\n",
      "123456789\n"
     ]
    },
    {
     "data": {
      "text/plain": [
       "[123, 234]"
      ]
     },
     "execution_count": 10,
     "metadata": {},
     "output_type": "execute_result"
    }
   ],
   "source": [
    "def sequentialDigits(low: int, high: int):\n",
    "    res = []\n",
    "    for n in range(2,10):\n",
    "        for i in range(1,10-n+1):\n",
    "            s = int(''.join([str(i+j) for j in range(n)]))\n",
    "            print(s)\n",
    "            if low<=s<=high:\n",
    "                res.append(s)\n",
    "    return res    \n",
    "low = 100\n",
    "high = 300\n",
    "sequentialDigits(low, high)"
   ]
  },
  {
   "cell_type": "markdown",
   "metadata": {},
   "source": [
    "# 20. Unique Paths III\n",
    "\n",
    "On a 2-dimensional grid, there are 4 types of squares:  \n",
    "1 represents the starting square.  There is exactly one starting square.  \n",
    "2 represents the ending square.  There is exactly one ending square.  \n",
    "0 represents empty squares we can walk over.  \n",
    "-1 represents obstacles that we cannot walk over.  \n",
    "Return the number of 4-directional walks from the starting square to the ending square, that walk over every non-obstacle square exactly once.\n",
    "\n",
    "Example 1:  \n",
    "Input:[[1,0,0,0],\n",
    "     [0,0,0,0],\n",
    "     [0,0,2,-1]]  \n",
    "Output: 2  \n",
    "Explanation: We have the following two paths:   \n",
    "1. (0,0),(0,1),(0,2),(0,3),(1,3),(1,2),(1,1),(1,0),(2,0),(2,1),(2,2)  \n",
    "2. (0,0),(1,0),(2,0),(2,1),(1,1),(0,1),(0,2),(0,3),(1,3),(1,2),(2,2)  \n",
    "\n",
    "Example 2:   \n",
    "Input:[[1,0,0,0],\n",
    "     [0,0,0,0],\n",
    "     [0,0,0,2]]  \n",
    "Output: 4  \n",
    "Explanation: We have the following four paths:   \n",
    "1. (0,0),(0,1),(0,2),(0,3),(1,3),(1,2),(1,1),(1,0),(2,0),(2,1),(2,2),(2,3)  \n",
    "2. (0,0),(0,1),(1,1),(1,0),(2,0),(2,1),(2,2),(1,2),(0,2),(0,3),(1,3),(2,3)  \n",
    "3. (0,0),(1,0),(2,0),(2,1),(2,2),(1,2),(1,1),(0,1),(0,2),(0,3),(1,3),(2,3)  \n",
    "4. (0,0),(1,0),(2,0),(2,1),(1,1),(0,1),(0,2),(0,3),(1,3),(1,2),(2,2),(2,3)  \n",
    "\n",
    "Example 3:  \n",
    "Input:[[0,1],\n",
    "     [2,0]]  \n",
    "Output: 0  \n",
    "Explanation:   \n",
    "There is no path that walks over every empty square exactly once.  \n",
    "Note that the starting and ending square can be anywhere in the grid.\n",
    "\n",
    "### Idea: DFS + DP\n",
    "1. find the starting square (1)\n",
    "2. walk over  every non-obstacle square(0) exactly once and avoid the obstacles(-1) \n",
    "3. until the ending square (2)"
   ]
  },
  {
   "cell_type": "code",
   "execution_count": 16,
   "metadata": {},
   "outputs": [
    {
     "data": {
      "text/plain": [
       "2"
      ]
     },
     "execution_count": 16,
     "metadata": {},
     "output_type": "execute_result"
    }
   ],
   "source": [
    "def uniquePathsIII(grid) -> int:\n",
    "    count = 1\n",
    "    for i in range(len(grid)):\n",
    "        for j in range(len(grid[0])):\n",
    "            if grid[i][j] == 1:\n",
    "                start_i,start_j = i, j\n",
    "            if grid[i][j]  == 2:\n",
    "                end_i, end_j = i, j\n",
    "            if grid[i][j] == 0:\n",
    "                count += 1\n",
    "    return dfs(start_i,start_j,grid,count)\n",
    "\n",
    "\n",
    "def dfs(x,y,grid,n):\n",
    "    if x < 0 or x == len(grid) or y < 0 or y == len(grid[0]) or grid[x][y]==-1:\n",
    "        return 0\n",
    "    if grid[x][y] == 2:\n",
    "        return n==0\n",
    "    grid[x][y] = -1\n",
    "    path = dfs(x+1,y,grid,n-1) + dfs(x,y+1,grid,n-1) + dfs(x-1,y,grid,n-1) + dfs(x,y-1,grid,n-1)\n",
    "    grid[x][y] = 0\n",
    "    return path\n",
    "    \n",
    "    \n",
    "grid = [[1,0,0,0],[0,0,0,0],[0,0,2,-1]]    \n",
    "uniquePathsIII(grid)    "
   ]
  },
  {
   "cell_type": "markdown",
   "metadata": {},
   "source": [
    "# 21. Car Pooling\n",
    "\n",
    "You are driving a vehicle that has capacity empty seats initially available for passengers.  The vehicle only drives east (ie. it cannot turn around and drive west.)\n",
    "\n",
    "Given a list of trips, trip[i] = [num_passengers, start_location, end_location] contains information about the i-th trip: the number of passengers that must be picked up, and the locations to pick them up and drop them off.  The locations are given as the number of kilometers due east from your vehicle's initial location.  \n",
    "Return true if and only if it is possible to pick up and drop off all passengers for all the given trips. \n",
    "\n",
    "Example 1:  \n",
    "Input: trips = [[2,1,5],[3,3,7]], capacity = 4  \n",
    "Output: false  \n",
    "\n",
    "Example 2:  \n",
    "Input: trips = [[2,1,5],[3,3,7]], capacity = 5  \n",
    "Output: true \n",
    "\n",
    "Example 3:  \n",
    "Input: trips = [[2,1,5],[3,5,7]], capacity = 3  \n",
    "Output: true  \n",
    "\n",
    "Example 4:  \n",
    "Input: trips = [[3,2,7],[3,7,9],[8,3,9]], capacity = 11  \n",
    "Output: true"
   ]
  },
  {
   "cell_type": "code",
   "execution_count": 32,
   "metadata": {},
   "outputs": [],
   "source": [
    "def carPooling(trips, capacity: int) -> bool:\n",
    "    ls = []\n",
    "    for num,start,end in trips:\n",
    "        ls.append([num,start])\n",
    "        ls.append([-num,end])\n",
    "    ls.sort()\n",
    "    #ls.sort(key=lambda x: (x[1], x[0]))\n",
    "    print(ls)\n",
    "    for trip in ls:\n",
    "        capacity = capacity - trip[0]\n",
    "        print(capacity)\n",
    "        if capacity < 0:\n",
    "            return False\n",
    "    return True"
   ]
  },
  {
   "cell_type": "code",
   "execution_count": 33,
   "metadata": {},
   "outputs": [
    {
     "name": "stdout",
     "output_type": "stream",
     "text": [
      "[[-3, 7], [-2, 5], [2, 1], [3, 3]]\n",
      "7\n",
      "9\n",
      "7\n",
      "4\n"
     ]
    },
    {
     "data": {
      "text/plain": [
       "True"
      ]
     },
     "execution_count": 33,
     "metadata": {},
     "output_type": "execute_result"
    }
   ],
   "source": [
    "trips = [[2,1,5],[3,3,7]]\n",
    "capacity = 4\n",
    "carPooling(trips, capacity)"
   ]
  },
  {
   "cell_type": "markdown",
   "metadata": {},
   "source": [
    "# 22. Majority Element II\n",
    "\n",
    "Given an integer array of size n, find all elements that appear more than ⌊ n/3 ⌋ times.  \n",
    "Note: The algorithm should run in linear time and in O(1) space.  \n",
    "\n",
    "Example 1:  \n",
    "Input: [3,2,3]  \n",
    "Output: [3]  \n",
    "\n",
    "Example 2:  \n",
    "Input: [1,1,1,3,3,2,2,2]  \n",
    "Output: [1,2]"
   ]
  },
  {
   "cell_type": "code",
   "execution_count": 4,
   "metadata": {},
   "outputs": [
    {
     "name": "stdout",
     "output_type": "stream",
     "text": [
      "Counter({3: 2, 2: 1})\n"
     ]
    },
    {
     "data": {
      "text/plain": [
       "[3]"
      ]
     },
     "execution_count": 4,
     "metadata": {},
     "output_type": "execute_result"
    },
    {
     "name": "stdout",
     "output_type": "stream",
     "text": [
      "Counter({1: 3, 2: 3, 3: 2})\n"
     ]
    },
    {
     "data": {
      "text/plain": [
       "[1, 2]"
      ]
     },
     "execution_count": 4,
     "metadata": {},
     "output_type": "execute_result"
    }
   ],
   "source": [
    "def majorityElement(nums):\n",
    "    res = []\n",
    "    import collections\n",
    "    d = collections.Counter(nums)\n",
    "    print(d)\n",
    "    for key in d:\n",
    "        if d[key] > len(nums)/3:\n",
    "            res.append(key)\n",
    "    return res\n",
    "nums = [3,2,3]\n",
    "majorityElement(nums)\n",
    "nums = [1,1,1,3,3,2,2,2]\n",
    "majorityElement(nums)"
   ]
  },
  {
   "cell_type": "code",
   "execution_count": null,
   "metadata": {},
   "outputs": [],
   "source": [
    "def majorityElement(nums):\n",
    "    res = []\n",
    "    d = {}\n",
    "    for num in nums:\n",
    "        if num not in res:\n",
    "            if num not in d:\n",
    "                d[num] = 1\n",
    "            else:\n",
    "                d[num] += 1\n",
    "            if d[num] > len(nums)/3:\n",
    "                res.append(d[num])\n",
    "            if len(res) > 1:\n",
    "                break\n",
    "    return res\n",
    "            "
   ]
  },
  {
   "cell_type": "markdown",
   "metadata": {},
   "source": [
    "# 23. Gas Station\n",
    "\n",
    "There are N gas stations along a circular route, where the amount of gas at station i is gas[i].  \n",
    "You have a car with an unlimited gas tank and it costs cost[i] of gas to travel from station i to its next station (i+1). You begin the journey with an empty tank at one of the gas stations.  \n",
    "Return the starting gas station's index if you can travel around the circuit once in the clockwise direction, otherwise return -1.\n",
    "\n",
    "Note:  \n",
    "If there exists a solution, it is guaranteed to be unique.  \n",
    "Both input arrays are non-empty and have the same length.  \n",
    "Each element in the input arrays is a non-negative integer.  \n",
    "\n",
    "Example 1: \n",
    "Input:   \n",
    "gas  = [1,2,3,4,5]  \n",
    "cost = [3,4,5,1,2]   \n",
    "Output: 3\n",
    "\n",
    "Explanation:  \n",
    "Start at station 3 (index 3) and fill up with 4 unit of gas. Your tank = 0 + 4 = 4  \n",
    "Travel to station 4. Your tank = 4 - 1 + 5 = 8  \n",
    "Travel to station 0. Your tank = 8 - 2 + 1 = 7  \n",
    "Travel to station 1. Your tank = 7 - 3 + 2 = 6  \n",
    "Travel to station 2. Your tank = 6 - 4 + 3 = 5  \n",
    "Travel to station 3. The cost is 5. Your gas is just enough to travel back to station 3.  \n",
    "Therefore, return 3 as the starting index.  \n",
    "\n",
    "Example 2:  \n",
    "Input:   \n",
    "gas  = [2,3,4]  \n",
    "cost = [3,4,3]    \n",
    "Output: -1    \n",
    "Explanation:  \n",
    "You can't start at station 0 or 1, as there is not enough gas to travel to the next station.  \n",
    "Let's start at station 2 and fill up with 4 unit of gas. Your tank = 0 + 4 = 4  \n",
    "Travel to station 0. Your tank = 4 - 3 + 2 = 3   \n",
    "Travel to station 1. Your tank = 3 - 3 + 3 = 3  \n",
    "You cannot travel back to station 2, as it requires 4 unit of gas but you only have 3.  \n",
    "Therefore, you can't travel around the circuit once no matter where you start.  \n",
    "\n",
    "### idea:\n",
    "- for loop only one time\n",
    "- define a start variable, if not satisfy in for loop, start+1"
   ]
  },
  {
   "cell_type": "code",
   "execution_count": 16,
   "metadata": {},
   "outputs": [
    {
     "name": "stdout",
     "output_type": "stream",
     "text": [
      "1 0 0\n",
      "2 1 0\n",
      "3 2 0\n",
      "3 3 3\n",
      "3 4 6\n"
     ]
    },
    {
     "data": {
      "text/plain": [
       "3"
      ]
     },
     "execution_count": 16,
     "metadata": {},
     "output_type": "execute_result"
    }
   ],
   "source": [
    "def canCompleteCircuit(gas, cost) -> int:\n",
    "    if sum(gas) < sum(cost):\n",
    "        return -1\n",
    "\n",
    "    start, rest = 0, 0\n",
    "    for i in range(len(gas)):\n",
    "        if gas[i] + rest < cost[i]:\n",
    "            start = i + 1\n",
    "            rest = 0\n",
    "            print(start,i,rest)\n",
    "        else:\n",
    "            rest += gas[i] - cost[i]\n",
    "            print(start,i,rest)\n",
    "    return start\n",
    "\n",
    "gas  = [1,2,3,4,5]  \n",
    "cost = [3,4,5,1,2] \n",
    "canCompleteCircuit(gas, cost)"
   ]
  },
  {
   "cell_type": "markdown",
   "metadata": {},
   "source": [
    "# 24. Find the Difference\n",
    "\n",
    "Given two strings s and t which consist of only lowercase letters.  \n",
    "String t is generated by random shuffling string s and then add one more letter at a random position.  \n",
    "Find the letter that was added in t.\n",
    "\n",
    "Example:  \n",
    "Input:  \n",
    "s = \"abcd\"  \n",
    "t = \"abcde\"    \n",
    "Output: e\n",
    "\n",
    "Explanation: 'e' is the letter that was added."
   ]
  },
  {
   "cell_type": "code",
   "execution_count": 4,
   "metadata": {},
   "outputs": [
    {
     "data": {
      "text/plain": [
       "'e'"
      ]
     },
     "execution_count": 4,
     "metadata": {},
     "output_type": "execute_result"
    }
   ],
   "source": [
    "def findTheDifference(s: str, t: str) -> str:\n",
    "    list_t = list(t)\n",
    "    for char in s:\n",
    "        list_t.remove(char)\n",
    "    return list_t[0]\n",
    "\n",
    "s = \"abcd\"\n",
    "t = \"abcde\"\n",
    "findTheDifference(s, t)"
   ]
  },
  {
   "cell_type": "code",
   "execution_count": 8,
   "metadata": {},
   "outputs": [
    {
     "name": "stdout",
     "output_type": "stream",
     "text": [
      "Counter({'a': 1, 'b': 1, 'c': 1, 'd': 1})\n",
      "Counter({'a': 1, 'b': 1, 'c': 1, 'd': 1, 'e': 1})\n"
     ]
    },
    {
     "data": {
      "text/plain": [
       "'e'"
      ]
     },
     "execution_count": 8,
     "metadata": {},
     "output_type": "execute_result"
    }
   ],
   "source": [
    "def findTheDifference(s: str, t: str) -> str:\n",
    "    import collections\n",
    "    ds = collections.Counter(s)\n",
    "    dt = collections.Counter(t)\n",
    "    print(ds)\n",
    "    print(dt)\n",
    "    for i in dt:\n",
    "        if i not in ds or ds[i] < dt[i]:\n",
    "            return i\n",
    "    \n",
    "s = \"abcd\"\n",
    "t = \"abcde\"\n",
    "findTheDifference(s, t)"
   ]
  },
  {
   "cell_type": "markdown",
   "metadata": {},
   "source": [
    "# 25. Largest Number\n",
    "\n",
    "Given a list of non negative integers, arrange them such that they form the largest number.  \n",
    "\n",
    "Example 1:  \n",
    "Input: [10,2]  \n",
    "Output: \"210\"  \n",
    "    \n",
    "Example 2:  \n",
    "Input: [3,30,34,5,9]  \n",
    "Output: \"9534330\"  \n",
    "Note: The result may be very large, so you need to return a string instead of an integer."
   ]
  },
  {
   "cell_type": "code",
   "execution_count": 36,
   "metadata": {},
   "outputs": [
    {
     "data": {
      "text/plain": [
       "'9534330'"
      ]
     },
     "execution_count": 36,
     "metadata": {},
     "output_type": "execute_result"
    }
   ],
   "source": [
    "def largestNumber( nums ) -> str:\n",
    "    n = len(nums)\n",
    "    for i in range(n):\n",
    "        for j in range(n-i-1):\n",
    "            temp1 = str(nums[j])\n",
    "            temp2 = str(nums[j+1])\n",
    "            if int(temp1+temp2) < int(temp2+temp1):\n",
    "                temp = nums[j]\n",
    "                nums[j] = nums[j+1]\n",
    "                nums[j+1] = temp          \n",
    "    output = ''\n",
    "    for i in nums:\n",
    "        output = output + str(i)\n",
    "    return str(int(output))\n",
    "\n",
    "nums =  [3,30,34,5,9]\n",
    "largestNumber(nums)"
   ]
  },
  {
   "cell_type": "code",
   "execution_count": 37,
   "metadata": {},
   "outputs": [
    {
     "data": {
      "text/plain": [
       "'9534330'"
      ]
     },
     "execution_count": 37,
     "metadata": {},
     "output_type": "execute_result"
    }
   ],
   "source": [
    "def largestNumber( nums ) -> str:\n",
    "    return str(int(''.join(sorted(map(str,nums),key=lambda x:x*42)[::-1])))\n",
    "nums =  [3,30,34,5,9]\n",
    "largestNumber(nums)"
   ]
  },
  {
   "cell_type": "code",
   "execution_count": null,
   "metadata": {},
   "outputs": [],
   "source": [
    "class LargerNumKey(str):\n",
    "    def __lt__(x, y):\n",
    "        return x + y > y + x\n",
    "\n",
    "class Solution:\n",
    "    def largestNumber(self, nums: List[int]) -> str:\n",
    "        str_nums = [str(num) for num in nums]\n",
    "        result = ''.join(sorted(str_nums, key=LargerNumKey))\n",
    "        \n",
    "        return '0' if result[0] == '0' else result\n",
    "\n",
    "nums =  [3,30,34,5,9]\n",
    "largestNumber(nums)"
   ]
  },
  {
   "cell_type": "markdown",
   "metadata": {},
   "source": [
    "# 26. Teemo Attacking\n",
    "\n",
    "In LOL world, there is a hero called Teemo and his attacking can make his enemy Ashe be in poisoned condition. Now, given the Teemo's attacking ascending time series towards Ashe and the poisoning time duration per Teemo's attacking, you need to output the total time that Ashe is in poisoned condition.  \n",
    "You may assume that Teemo attacks at the very beginning of a specific time point, and makes Ashe be in poisoned condition immediately.\n",
    "\n",
    "Example 1:  \n",
    "Input: [1,4], 2  \n",
    "Output: 4   \n",
    "Explanation: At time point 1, Teemo starts attacking Ashe and makes Ashe be poisoned immediately.   \n",
    "This poisoned status will last 2 seconds until the end of time point 2.   \n",
    "And at time point 4, Teemo attacks Ashe again, and causes Ashe to be in poisoned status for another 2 seconds.   \n",
    "So you finally need to output 4.  \n",
    "\n",
    "Example 2:  \n",
    "Input: [1,2], 2  \n",
    "Output: 3  \n",
    "Explanation: At time point 1, Teemo starts attacking Ashe and makes Ashe be poisoned.   \n",
    "This poisoned status will last 2 seconds until the end of time point 2.   \n",
    "However, at the beginning of time point 2, Teemo attacks Ashe again who is already in poisoned status.   \n",
    "Since the poisoned status won't add up together, though the second poisoning attack will still work at time point 2, it will stop at the end of time point 3.   \n",
    "So you finally need to output 3.  \n",
    "\n",
    "Note:  \n",
    "You may assume the length of given time series array won't exceed 10000.  \n",
    "You may assume the numbers in the Teemo's attacking time series and his poisoning time duration per attacking are non-negative integers,   which won't exceed 10,000,000.\n",
    "\n",
    "### Idea:\n",
    "- !!!You are here! Your runtime beats 100.00 % of python3 submissions.\n",
    "- 分情况判断，上一次posion持续到的最后时间点，与我当前attacking时间节点作对比，再进行 overall posion duration时间计算，更新posion最后时刻。数学归纳。"
   ]
  },
  {
   "cell_type": "code",
   "execution_count": 44,
   "metadata": {},
   "outputs": [
    {
     "data": {
      "text/plain": [
       "4"
      ]
     },
     "execution_count": 44,
     "metadata": {},
     "output_type": "execute_result"
    },
    {
     "data": {
      "text/plain": [
       "3"
      ]
     },
     "execution_count": 44,
     "metadata": {},
     "output_type": "execute_result"
    }
   ],
   "source": [
    "def findPoisonedDuration(timeSeries, duration) -> int:\n",
    "    posion = 0\n",
    "    current_posion = 0\n",
    "    for time in timeSeries:\n",
    "        if time < current_posion:\n",
    "            posion += time + duration - current_posion\n",
    "            current_posion = time + duration\n",
    "        \n",
    "        else:\n",
    "            posion += duration\n",
    "            current_posion = time +duration\n",
    "    return posion\n",
    "\n",
    "timeSeries, duration = [1,4], 2\n",
    "findPoisonedDuration(timeSeries, duration)\n",
    "timeSeries, duration = [1,2], 2\n",
    "findPoisonedDuration(timeSeries, duration)"
   ]
  },
  {
   "cell_type": "markdown",
   "metadata": {},
   "source": [
    "# 27.  Evaluate Division - Graph + DFS\n",
    "\n",
    "You are given equations in the format A / B = k, where A and B are variables represented as strings, and k is a real number (floating-point number). Given some queries, return the answers. If the answer does not exist, return -1.0.\n",
    "The input is always valid. You may assume that evaluating the queries will result in no division by zero and there is no contradiction.\n",
    "\n",
    "Example 1:  \n",
    "Input: equations = [[\"a\",\"b\"],[\"b\",\"c\"]], values = [2.0,3.0], queries = [[\"a\",\"c\"],[\"b\",\"a\"],[\"a\",\"e\"],[\"a\",\"a\"],[\"x\",\"x\"]]  \n",
    "Output: [6.00000,0.50000,-1.00000,1.00000,-1.00000]  \n",
    "Explanation:   \n",
    "Given: a / b = 2.0, b / c = 3.0  \n",
    "queries are: a / c = ?, b / a = ?, a / e = ?, a / a = ?, x / x = ?  \n",
    "return: [6.0, 0.5, -1.0, 1.0, -1.0 ]  \n",
    "\n",
    "Example 2:  \n",
    "Input: equations = [[\"a\",\"b\"],[\"b\",\"c\"],[\"bc\",\"cd\"]], values = [1.5,2.5,5.0], queries = [[\"a\",\"c\"],[\"c\",\"b\"],[\"bc\",\"cd\"],[\"cd\",\"bc\"]]  \n",
    "Output: [3.75000,0.40000,5.00000,0.20000]  \n",
    "    \n",
    "Example 3:  \n",
    "Input: equations = [[\"a\",\"b\"]], values = [0.5], queries = [[\"a\",\"b\"],[\"b\",\"a\"],[\"a\",\"c\"],[\"x\",\"y\"]]  \n",
    "Output: [0.50000,2.00000,-1.00000,-1.00000]\n",
    " "
   ]
  },
  {
   "cell_type": "code",
   "execution_count": 47,
   "metadata": {},
   "outputs": [
    {
     "name": "stdout",
     "output_type": "stream",
     "text": [
      "b c c 1.0\n",
      "a c b 2.5\n",
      "c b b 1.0\n",
      "bc cd cd 1.0\n",
      "cd bc bc 1.0\n"
     ]
    },
    {
     "data": {
      "text/plain": [
       "[3.75, 0.4, 5.0, 0.2]"
      ]
     },
     "execution_count": 47,
     "metadata": {},
     "output_type": "execute_result"
    }
   ],
   "source": [
    "def calcEquation(equations, values, queries):\n",
    "    import collections\n",
    "    graph = collections.defaultdict(dict)\n",
    "    for (x,y),value in zip(equations,values):\n",
    "        graph[x][y] = value\n",
    "        graph[y][x] = 1.0 / value\n",
    "    ans = [dfs(x,y,graph,set()) if x in graph and y in graph else -1.0 for (x,y) in queries]\n",
    "    return ans\n",
    "    \n",
    "def dfs(x,y,graph,visited):\n",
    "    if x == y:\n",
    "        return 1.0\n",
    "    visited.add(x)\n",
    "    for n in graph[x]:\n",
    "        if n in visited:\n",
    "            continue\n",
    "        visited.add(n)\n",
    "        d = dfs(n,y,graph,visited)\n",
    "        print(x,y,n,d)\n",
    "        if d > 0:\n",
    "            return d * graph[x][n]\n",
    "    return -1.0\n",
    "\n",
    "equations = [[\"a\",\"b\"],[\"b\",\"c\"],[\"bc\",\"cd\"]] \n",
    "values = [1.5,2.5,5.0]\n",
    "queries = [[\"a\",\"c\"],[\"c\",\"b\"],[\"bc\",\"cd\"],[\"cd\",\"bc\"]]\n",
    "calcEquation(equations, values, queries)"
   ]
  },
  {
   "cell_type": "markdown",
   "metadata": {},
   "source": [
    "# 28. Subarray Product Less Than K\n",
    "\n",
    "Your are given an array of positive integers nums.  \n",
    "Count and print the number of (contiguous) subarrays where the product of all the elements in the subarray is less than k.\n",
    "\n",
    "Example 1:  \n",
    "Input: nums = [10, 5, 2, 6], k = 100  \n",
    "Output: 8  \n",
    "Explanation: The 8 subarrays that have product less than 100 are: [10], [5], [2], [6], [10, 5], [5, 2], [2, 6], [5, 2, 6].\n",
    "Note that [10, 5, 2] is not included as the product of 100 is not strictly less than k.  \n",
    "\n",
    "Note:  \n",
    "0 < nums.length <= 50000.  \n",
    "0 < nums[i] < 1000.  \n",
    "0 <= k < 10^6. \n",
    "\n",
    "Hide Hint #1   \n",
    "For each j, let opt(j) be the smallest i so that nums[i] * nums[i+1] * ... * nums[j] is less than k. opt is an increasing function.\n",
    "\n",
    "### Idea: 双指针\n",
    "\n",
    "这个题的做法还是很简单的，使用两个指针确定子数组的边界，然后求子数组的乘积，如果乘积大于等于k了，需要移动左指针。每次移动有指针之后，符合题目要求的结果增加的是以右指针为边界的子数组数量，也就是r - l + 1。\n",
    "\n",
    "注意移动左指针的时候，不能超过右指针。\n",
    "\n",
    "时间复杂度是O(N)，空间复杂度是O(1)。"
   ]
  },
  {
   "cell_type": "code",
   "execution_count": 30,
   "metadata": {},
   "outputs": [
    {
     "name": "stdout",
     "output_type": "stream",
     "text": [
      "0 0 1\n",
      "0 1 3\n",
      "l: 10.0 100 1\n",
      "1 2 5\n",
      "1 3 8\n"
     ]
    },
    {
     "data": {
      "text/plain": [
       "8"
      ]
     },
     "execution_count": 30,
     "metadata": {},
     "output_type": "execute_result"
    }
   ],
   "source": [
    "def numSubarrayProductLessThanK(nums, k) -> int:\n",
    "    N = len(nums)\n",
    "    prod = 1\n",
    "    l, r = 0, 0\n",
    "    res = 0\n",
    "    while r < N: # make sure right not out of index\n",
    "        prod *= nums[r]\n",
    "        #print(r,prod)\n",
    "        while l <= r and prod >= k:\n",
    "            prod /= nums[l]\n",
    "            l += 1\n",
    "            print(\"l:\",prod,k,l)\n",
    "        res += r - l + 1\n",
    "        print(l,r,res)\n",
    "        r += 1\n",
    "    return res    \n",
    "       \n",
    "nums = [10, 5, 2, 6]  \n",
    "k = 100\n",
    "numSubarrayProductLessThanK(nums, k)"
   ]
  },
  {
   "cell_type": "markdown",
   "metadata": {},
   "source": [
    "# 29. Word Break\n",
    "\n",
    "Given a non-empty string s and a dictionary wordDict containing a list of non-empty words, determine if s can be segmented into a space-separated sequence of one or more dictionary words.\n",
    "\n",
    "Note:  \n",
    "The same word in the dictionary may be reused multiple times in the segmentation.  \n",
    "You may assume the dictionary does not contain duplicate words.\n",
    "\n",
    "Example 1:  \n",
    "Input: s = \"leetcode\", wordDict = [\"leet\", \"code\"]  \n",
    "Output: true  \n",
    "Explanation: Return true because \"leetcode\" can be segmented as \"leet code\".\n",
    "\n",
    "Example 2:  \n",
    "Input: s = \"applepenapple\", wordDict = [\"apple\", \"pen\"]  \n",
    "Output: true  \n",
    "Explanation: Return true because \"applepenapple\" can be segmented as \"apple pen apple\".Note that you are allowed to reuse a dictionary word.\n",
    "\n",
    "Example 3:  \n",
    "Input: s = \"catsandog\", wordDict = [\"cats\", \"dog\", \"sand\", \"and\", \"cat\"]  \n",
    "Output: false\n",
    "\n",
    "### Idea: DP\n",
    "- dp循环标记，当之前break的dp[index]为true并且后面一段在dict中出现，继续标注true，最后返回dp[-1]"
   ]
  },
  {
   "cell_type": "code",
   "execution_count": 18,
   "metadata": {},
   "outputs": [
    {
     "name": "stdout",
     "output_type": "stream",
     "text": [
      "[False, False, False, False, False, False, False, False, False]\n",
      "0 True 4 leet\n",
      "4 True 8 code\n",
      "[True, False, False, False, True, False, False, False, True]\n"
     ]
    },
    {
     "data": {
      "text/plain": [
       "True"
      ]
     },
     "execution_count": 18,
     "metadata": {},
     "output_type": "execute_result"
    },
    {
     "name": "stdout",
     "output_type": "stream",
     "text": [
      "[False, False, False, False, False, False, False, False, False, False, False, False, False, False]\n",
      "0 True 5 apple\n",
      "5 True 8 pen\n",
      "8 True 13 apple\n",
      "[True, False, False, False, False, True, False, False, True, False, False, False, False, True]\n"
     ]
    },
    {
     "data": {
      "text/plain": [
       "True"
      ]
     },
     "execution_count": 18,
     "metadata": {},
     "output_type": "execute_result"
    },
    {
     "name": "stdout",
     "output_type": "stream",
     "text": [
      "[False, False, False, False, False, False, False, False, False, False]\n",
      "0 True 3 cat\n",
      "0 True 4 cats\n",
      "3 True 7 sand\n",
      "4 True 7 and\n",
      "[True, False, False, True, True, False, False, True, False, False]\n"
     ]
    },
    {
     "data": {
      "text/plain": [
       "False"
      ]
     },
     "execution_count": 18,
     "metadata": {},
     "output_type": "execute_result"
    }
   ],
   "source": [
    "def wordBreak(s: str, wordDict) -> bool:\n",
    "    dp = [False for i in range(len(s)+1)]\n",
    "    print(dp)\n",
    "    dp[0] = True\n",
    "    for i in range(1, len(s)+1):\n",
    "        for k in range(i):\n",
    "            if dp[k] and s[k:i] in wordDict:\n",
    "                print(k,dp[k],i,s[k:i])\n",
    "                dp[i] = True\n",
    "    print(dp)\n",
    "    return dp[len(s)]\n",
    "\n",
    "s = \"leetcode\" \n",
    "wordDict = [\"leet\", \"code\"]\n",
    "wordBreak(s, wordDict)\n",
    "\n",
    "s = \"applepenapple\"\n",
    "wordDict = [\"apple\", \"pen\"]\n",
    "wordBreak(s, wordDict)\n",
    "\n",
    "s = \"catsandog\"\n",
    "wordDict = [\"cats\", \"dog\", \"sand\", \"and\", \"cat\"]\n",
    "wordBreak(s, wordDict)"
   ]
  },
  {
   "cell_type": "code",
   "execution_count": null,
   "metadata": {},
   "outputs": [],
   "source": []
  }
 ],
 "metadata": {
  "kernelspec": {
   "display_name": "Python 3",
   "language": "python",
   "name": "python3"
  },
  "language_info": {
   "codemirror_mode": {
    "name": "ipython",
    "version": 3
   },
   "file_extension": ".py",
   "mimetype": "text/x-python",
   "name": "python",
   "nbconvert_exporter": "python",
   "pygments_lexer": "ipython3",
   "version": "3.6.9"
  }
 },
 "nbformat": 4,
 "nbformat_minor": 2
}

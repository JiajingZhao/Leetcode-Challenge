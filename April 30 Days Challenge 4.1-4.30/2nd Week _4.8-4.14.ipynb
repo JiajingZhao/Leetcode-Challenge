{
 "cells": [
  {
   "cell_type": "markdown",
   "metadata": {},
   "source": [
    "# 8. Middle of the Linked List"
   ]
  },
  {
   "cell_type": "markdown",
   "metadata": {},
   "source": [
    "Given a non-empty, singly linked list with head node head, return a middle node of linked list.  \n",
    "If there are two middle nodes, return the second middle node.  \n",
    "\n",
    "Example 1:  \n",
    "Input: [1,2,3,4,5]   \n",
    "Output: Node 3 from this list (Serialization: [3,4,5])  \n",
    "The returned node has value 3.  (The judge's serialization of this node is [3,4,5]).  \n",
    "Note that we returned a ListNode object ans, such that:  \n",
    "ans.val = 3, ans.next.val = 4, ans.next.next.val = 5, and ans.next.next.next = NULL.\n",
    "\n",
    "Example 2:  \n",
    "Input: [1,2,3,4,5,6]  \n",
    "Output: Node 4 from this list (Serialization: [4,5,6])  \n",
    "Since the list has two middle nodes with values 3 and 4, we return the second one.  \n",
    " \n",
    "Note:  \n",
    "The number of nodes in the given list will be between 1 and 100."
   ]
  },
  {
   "cell_type": "markdown",
   "metadata": {},
   "source": [
    "linked list 单向链表，快慢指针"
   ]
  },
  {
   "cell_type": "code",
   "execution_count": 17,
   "metadata": {},
   "outputs": [],
   "source": [
    "class ListNode:\n",
    "    def __init__(self, x):\n",
    "        self.val = x\n",
    "        self.next = None\n",
    "\n",
    "def middleNode(head):\n",
    "        fast = slow = head\n",
    "        while fast != None and fast.next != None:\n",
    "            slow = slow.next\n",
    "        return slow"
   ]
  },
  {
   "cell_type": "markdown",
   "metadata": {},
   "source": [
    "# 9. Backspace String Compare"
   ]
  },
  {
   "cell_type": "markdown",
   "metadata": {},
   "source": [
    "Given two strings S and T, return if they are equal when both are typed into empty text editors. # means a backspace character.  \n",
    "Note that after backspacing an empty text, the text will continue empty.\n",
    "\n",
    "Example 1:  \n",
    "Input: S = \"ab#c\", T = \"ad#c\"  \n",
    "Output: true  \n",
    "Explanation: Both S and T become \"ac\".  \n",
    "\n",
    "Example 2:  \n",
    "Input: S = \"ab##\", T = \"c#d#\"  \n",
    "Output: true  \n",
    "Explanation: Both S and T become \"\".  \n",
    "\n",
    "Example 3:  \n",
    "Input: S = \"a##c\", T = \"#a#c\"  \n",
    "Output: true  \n",
    "Explanation: Both S and T become \"c\". \n",
    "\n",
    "Example 4:  \n",
    "Input: S = \"a#c\", T = \"b\"  \n",
    "Output: false  \n",
    "Explanation: S becomes \"c\" while T becomes \"b\".  \n",
    "\n",
    "Note:  \n",
    "1 <= S.length <= 200  \n",
    "1 <= T.length <= 200  \n",
    "S and T only contain lowercase letters and '#' characters.  \n",
    "\n",
    "Follow up:  \n",
    "Can you solve it in O(N) time and O(1) space?"
   ]
  },
  {
   "cell_type": "code",
   "execution_count": 78,
   "metadata": {},
   "outputs": [],
   "source": [
    "def backspaceCompare(self, S: str, T: str) -> bool:\n",
    "    return self.change(S) == self.change(T)\n",
    "\n",
    "def change(self,s):\n",
    "    dst = []\n",
    "    for i in s:\n",
    "        if i != \"#\":\n",
    "            dst.append(i)\n",
    "        elif dst:\n",
    "            dst.pop()\n",
    "    return dst"
   ]
  },
  {
   "cell_type": "code",
   "execution_count": 79,
   "metadata": {},
   "outputs": [
    {
     "ename": "TypeError",
     "evalue": "backspaceCompare() missing 1 required positional argument: 'T'",
     "output_type": "error",
     "traceback": [
      "\u001b[1;31m---------------------------------------------------------------------------\u001b[0m",
      "\u001b[1;31mTypeError\u001b[0m                                 Traceback (most recent call last)",
      "\u001b[1;32m<ipython-input-79-a40db54ef96b>\u001b[0m in \u001b[0;36m<module>\u001b[1;34m\u001b[0m\n\u001b[0;32m      1\u001b[0m \u001b[0mS\u001b[0m \u001b[1;33m=\u001b[0m \u001b[1;34m\"ab#c\"\u001b[0m\u001b[1;33m\u001b[0m\u001b[1;33m\u001b[0m\u001b[0m\n\u001b[0;32m      2\u001b[0m \u001b[0mT\u001b[0m \u001b[1;33m=\u001b[0m \u001b[1;34m\"ad#c\"\u001b[0m\u001b[1;33m\u001b[0m\u001b[1;33m\u001b[0m\u001b[0m\n\u001b[1;32m----> 3\u001b[1;33m \u001b[0mprint\u001b[0m\u001b[1;33m(\u001b[0m\u001b[0mbackspaceCompare\u001b[0m\u001b[1;33m(\u001b[0m\u001b[0mS\u001b[0m\u001b[1;33m,\u001b[0m\u001b[0mT\u001b[0m\u001b[1;33m)\u001b[0m\u001b[1;33m)\u001b[0m\u001b[1;33m\u001b[0m\u001b[1;33m\u001b[0m\u001b[0m\n\u001b[0m",
      "\u001b[1;31mTypeError\u001b[0m: backspaceCompare() missing 1 required positional argument: 'T'"
     ]
    }
   ],
   "source": [
    "S = \"ab#c\" \n",
    "T = \"ad#c\"\n",
    "print(backspaceCompare(S,T))"
   ]
  },
  {
   "cell_type": "markdown",
   "metadata": {},
   "source": [
    "# 10. Min Stack"
   ]
  },
  {
   "cell_type": "markdown",
   "metadata": {},
   "source": [
    "Design a stack that supports push, pop, top, and retrieving the minimum element in constant time.  \n",
    " \n",
    "push(x) -- Push element x onto stack.  -- 将元素 x 推入栈中。  \n",
    "pop() -- Removes the element on top of the stack.  -- 删除栈顶的元素。  \n",
    "top() -- Get the top element.  -- 获取栈顶元素。  \n",
    "getMin() -- Retrieve the minimum element in the stack. -- 检索栈中的最小元素。  \n",
    "\n",
    "Example 1:  \n",
    "\n",
    "Input  \n",
    "[\"MinStack\",\"push\",\"push\",\"push\",\"getMin\",\"pop\",\"top\",\"getMin\"]  \n",
    "[[],[-2],[0],[-3],[],[],[],[]]  \n",
    "\n",
    "Output  \n",
    "[null,null,null,null,-3,null,0,-2]\n",
    "\n",
    "Explanation  \n",
    "MinStack minStack = new MinStack();  \n",
    "minStack.push(-2);  \n",
    "minStack.push(0);  \n",
    "minStack.push(-3);  \n",
    "minStack.getMin(); // return -3  \n",
    "minStack.pop();  \n",
    "minStack.top();    // return 0  \n",
    "minStack.getMin(); // return -2  \n",
    "\n",
    "Constraints:  \n",
    "Methods pop, top and getMin operations will always be called on non-empty stacks."
   ]
  },
  {
   "cell_type": "code",
   "execution_count": 80,
   "metadata": {},
   "outputs": [],
   "source": [
    "class MinStack:\n",
    "\n",
    "    def __init__(self):\n",
    "        \"\"\"\n",
    "        initialize your data structure here.\n",
    "        \"\"\"\n",
    "        self.stack = [] #two stacks inside, 1:stack, 2:minstack\n",
    "        \n",
    "    def push(self, x: int) -> None: #push = add to stack\n",
    "        if not self.stack: \n",
    "            self.stack.append((x,x)) #stack is empty, add element in both stacks\n",
    "        else:\n",
    "            self.stack.append((x,min(x,self.stack[-1][1]))) #stack1 +x, stack +min(x,existed element)\n",
    "\n",
    "    def pop(self) -> None:\n",
    "        self.stack.pop()\n",
    "\n",
    "    def top(self) -> int:\n",
    "        if self.stack: \n",
    "            return self.stack[-1][0]\n",
    "        else: \n",
    "            return None\n",
    "\n",
    "    def getMin(self) -> int:\n",
    "        if self.stack: \n",
    "            return self.stack[-1][1]\n",
    "        else: \n",
    "            return None\n",
    "        \n",
    "# Your MinStack object will be instantiated and called as such:\n",
    "# obj = MinStack()\n",
    "# obj.push(x)\n",
    "# obj.pop()\n",
    "# param_3 = obj.top()\n",
    "# param_4 = obj.getMin()"
   ]
  },
  {
   "cell_type": "code",
   "execution_count": 130,
   "metadata": {},
   "outputs": [
    {
     "data": {
      "text/plain": [
       "[(-2, -2), (0, -2)]"
      ]
     },
     "execution_count": 130,
     "metadata": {},
     "output_type": "execute_result"
    }
   ],
   "source": [
    "stack = []\n",
    "stack.append((-2,-2))\n",
    "stack.append((0,min(0,stack[-1][0])))\n",
    "stack.append((-3,min(-3,stack[-1][0])))\n",
    "stack.pop()\n",
    "stack.top()"
   ]
  },
  {
   "cell_type": "markdown",
   "metadata": {},
   "source": [
    "# 11. Diameter of Binary Tree"
   ]
  },
  {
   "cell_type": "markdown",
   "metadata": {},
   "source": [
    "Given a binary tree, you need to compute the length of the diameter of the tree. The diameter of a binary tree is the length of the longest path between any two nodes in a tree. This path may or may not pass through the root.\n",
    "\n",
    "Example:\n",
    "Given a binary tree  \n",
    "          1  \n",
    "         / \\  \n",
    "        2   3  \n",
    "       / \\       \n",
    "      4   5      \n",
    "Return 3, which is the length of the path [4,2,1,3] or [5,2,1,3].  \n",
    "Note: The length of path between two nodes is represented by the number of edges between them."
   ]
  },
  {
   "cell_type": "code",
   "execution_count": 45,
   "metadata": {},
   "outputs": [],
   "source": [
    "# Definition for a binary tree node.\n",
    "class TreeNode:\n",
    "    def __init__(self, x):\n",
    "        self.val = x\n",
    "        self.left = None\n",
    "        self.right = None\n",
    "root = TreeNode(1)\n",
    "root.left = TreeNode(2)\n",
    "root.right = TreeNode(3)\n",
    "root.left.left = TreeNode(4)\n",
    "root.left.right = TreeNode(5)"
   ]
  },
  {
   "cell_type": "code",
   "execution_count": 1,
   "metadata": {},
   "outputs": [],
   "source": [
    "def diameterOfBinaryTree(self, root) -> int:\n",
    "    self.len = 0 #initialization\n",
    "\n",
    "    def depth(node): # max lenghts of left/right trees \n",
    "        if not node: \n",
    "            return 0 #base case，not node, depth=0 \n",
    "        left, right = depth(node.left), depth(node.right) # recursion,recursive case\n",
    "        self.len = max(self.len, left+right)\n",
    "        return 1 + max(left, right)\n",
    "\n",
    "    depth(root)\n",
    "    print(depth(root))\n",
    "    return self.len"
   ]
  },
  {
   "cell_type": "markdown",
   "metadata": {},
   "source": [
    " # BFS (Breadth First Search)"
   ]
  },
  {
   "cell_type": "code",
   "execution_count": 42,
   "metadata": {},
   "outputs": [
    {
     "name": "stdout",
     "output_type": "stream",
     "text": [
      "B\n",
      "D\n",
      "E\n"
     ]
    }
   ],
   "source": [
    "graph = {\n",
    " 'A': {'B', 'C'},\n",
    " 'B': {'A', 'C', 'D'},\n",
    " 'C': {'A', 'B', 'D', 'E'},\n",
    " 'D': {'B', 'C', 'E', 'F'},\n",
    " 'E': {'C', 'D'},\n",
    " 'F': {'D'}}\n",
    "\n",
    "def BFS(graph,s): #s:first node\n",
    "    queue = []\n",
    "    queue.append(s)\n",
    "    seen = set() # hash set, faster than array\n",
    "    seen.add(s) \n",
    "    parent ={s : None} #parent node dict\n",
    "    \n",
    "    while (len(queue) > 0):\n",
    "        vertex = queue.pop(0) #queue pop() the first one\n",
    "        nodes = graph[vertex] #search nodes of vertex\n",
    "        for w in nodes: # traversal nodes\n",
    "            if w not in seen:\n",
    "                queue.append(w)\n",
    "                seen.add(w)\n",
    "                parent[w] = vertex \n",
    "        #print(vertex)\n",
    "    return parent\n",
    "    \n",
    "parent =BFS(graph,\"E\")\n",
    "'''for key in parent:\n",
    "    print(key,parent[key])'''\n",
    "v = \"B\"\n",
    "\n",
    "\"E\"-> \"B\"\n",
    "while v != None:\n",
    "    print(v)\n",
    "    v = parent[v]"
   ]
  },
  {
   "cell_type": "markdown",
   "metadata": {},
   "source": [
    "# DFS (Depth First Search)"
   ]
  },
  {
   "cell_type": "code",
   "execution_count": 30,
   "metadata": {},
   "outputs": [
    {
     "name": "stdout",
     "output_type": "stream",
     "text": [
      "A\n",
      "C\n",
      "D\n",
      "F\n",
      "E\n",
      "B\n"
     ]
    }
   ],
   "source": [
    "def DFS(graph,s): #s:first node\n",
    "    stack = []\n",
    "    stack.append(s)\n",
    "    seen = set() # hash set, faster than array\n",
    "    seen.add(s) \n",
    "    while (len(stack) > 0):\n",
    "        vertex = stack.pop() #stack pop() the last one\n",
    "        nodes = graph[vertex] #search nodes of vertex\n",
    "        for w in nodes: # traversal nodes\n",
    "            if w not in seen:\n",
    "                stack.append(w)\n",
    "                seen.add(w)\n",
    "        print(vertex)\n",
    "     \n",
    "DFS(graph,\"A\")"
   ]
  },
  {
   "cell_type": "markdown",
   "metadata": {},
   "source": [
    "# 12. Last Stone Weight"
   ]
  },
  {
   "cell_type": "markdown",
   "metadata": {},
   "source": [
    "We have a collection of stones, each stone has a positive integer weight.  \n",
    "Each turn, we choose the two heaviest stones and smash them together.  Suppose the stones have weights x and y with x <= y.  The result of this smash is:  \n",
    "\n",
    "If x == y, both stones are totally destroyed;  \n",
    "If x != y, the stone of weight x is totally destroyed, and the stone of weight y has new weight y-x.  \n",
    "At the end, there is at most 1 stone left.  Return the weight of this stone (or 0 if there are no stones left.) \n",
    "\n",
    "Example 1:   \n",
    "Input: [2,7,4,1,8,1]  \n",
    "Output: 1\n",
    "\n",
    "Explanation:   \n",
    "We combine 7 and 8 to get 1 so the array converts to [2,4,1,1,1] then,  \n",
    "we combine 2 and 4 to get 2 so the array converts to [2,1,1,1] then,  \n",
    "we combine 2 and 1 to get 1 so the array converts to [1,1,1] then,  \n",
    "we combine 1 and 1 to get 0 so the array converts to [1] then that's the value of last stone.  "
   ]
  },
  {
   "cell_type": "markdown",
   "metadata": {},
   "source": [
    "**My Solution** headq"
   ]
  },
  {
   "cell_type": "code",
   "execution_count": 95,
   "metadata": {},
   "outputs": [
    {
     "data": {
      "text/plain": [
       "1"
      ]
     },
     "execution_count": 95,
     "metadata": {},
     "output_type": "execute_result"
    }
   ],
   "source": [
    "def lastStoneWeight(stones) -> int:\n",
    "    import heapq\n",
    "    while len(stones) > 1:\n",
    "        l2 = heapq.nlargest(2, stones)\n",
    "        for item in l2:\n",
    "            stones.remove(item) #remove 2 largest stones from the stones\n",
    "        x = min(l2)\n",
    "        y = max(l2)\n",
    "        if x != y:\n",
    "            stones.append(y-x)\n",
    "    if len(stones) == 1:\n",
    "        return stones[0]\n",
    "    else:\n",
    "        return 0\n",
    "    \n",
    "stones = [2,7,4,1,8,1]\n",
    "lastStoneWeight(stones)"
   ]
  },
  {
   "cell_type": "code",
   "execution_count": null,
   "metadata": {},
   "outputs": [],
   "source": [
    "**Solution2** list.sort() or sorted(list)"
   ]
  },
  {
   "cell_type": "code",
   "execution_count": 110,
   "metadata": {},
   "outputs": [
    {
     "data": {
      "text/plain": [
       "1"
      ]
     },
     "execution_count": 110,
     "metadata": {},
     "output_type": "execute_result"
    }
   ],
   "source": [
    "def lastStoneWeight2(stones) -> int:\n",
    "    \n",
    "    while len(stones) > 1:\n",
    "        stones.sort()\n",
    "        x,y = stones[-2],stones[-1]\n",
    "        stones.pop()\n",
    "        stones.pop() #delete 2 largest stones\n",
    "        if x != y:\n",
    "            stones.append(y-x)\n",
    "    if len(stones) == 1:\n",
    "        return stones[0]\n",
    "    elif len(stones) == 0:\n",
    "        return 0\n",
    "    \n",
    "stones = [2,7,4,1,8,1]\n",
    "lastStoneWeight2(stones)"
   ]
  },
  {
   "cell_type": "markdown",
   "metadata": {},
   "source": [
    "#  13. Contiguous Array"
   ]
  },
  {
   "cell_type": "markdown",
   "metadata": {},
   "source": [
    "Given a binary array, find the maximum length of a contiguous subarray with equal number of 0 and 1.   \n",
    "找到一个数组中的一个连续数组，使得这个连续数组中0和1的数字一样多。\n",
    "\n",
    "Example 1:  \n",
    "Input: [0,1]  \n",
    "Output: 2  \n",
    "Explanation: [0, 1] is the longest contiguous subarray with equal number of 0 and 1.  \n",
    "\n",
    "Example 2:  \n",
    "Input: [0,1,0]  \n",
    "Output: 2  \n",
    "Explanation: [0, 1] (or [1, 0]) is a longest contiguous subarray with equal number of 0 and 1.  \n",
    "\n",
    "Note: The length of the given binary array will not exceed 50,000."
   ]
  },
  {
   "cell_type": "code",
   "execution_count": 134,
   "metadata": {},
   "outputs": [
    {
     "name": "stdout",
     "output_type": "stream",
     "text": [
      "{0: -1}\n",
      "{0: -1, -1: 0}\n",
      "max_len: 2 index: 1\n",
      "2\n",
      "{0: -1}\n",
      "{0: -1, -1: 0}\n",
      "max_len: 2 index: 1\n",
      "{0: -1, -1: 0}\n",
      "max_len: 2 index: 2\n",
      "{0: -1, -1: 0}\n",
      "{0: -1, -1: 0, -2: 3}\n",
      "{0: -1, -1: 0, -2: 3, -3: 4}\n",
      "{0: -1, -1: 0, -2: 3, -3: 4, -4: 5}\n",
      "max_len: 2 index: 6\n",
      "2\n"
     ]
    }
   ],
   "source": [
    "def findMaxLength(nums) -> int:\n",
    "    count = 0 #initialiyation\n",
    "    max_length = 0\n",
    "    table = {0: -1} #if 1st=0 -> 1\n",
    "    for index, num in enumerate(nums): #numerate, return index,num\n",
    "        if num == 0:\n",
    "            count -= 1 # if 0, count-1, else count +1, count=0 to keep equal number\n",
    "        else:\n",
    "            count += 1\n",
    "        print(table)\n",
    "        if count in table:\n",
    "        #遍历的同时，当前元素与dict中键值相同元素（前n项和相同元素）的最大差值\n",
    "        #也就是0，1个数相等子串的最长长度。\n",
    "            max_length = max(max_length, index - table[count])\n",
    "            print(\"max_len:\",max_length,\"index:\",index)\n",
    "        else:\n",
    "            table[count] = index\n",
    "\n",
    "    return max_length   \n",
    "print(findMaxLength([0,1]))\n",
    "print(findMaxLength([0,1,0,0,0,0,1]))"
   ]
  },
  {
   "cell_type": "code",
   "execution_count": 120,
   "metadata": {},
   "outputs": [],
   "source": [
    "def findMaxLength2(self, nums):\n",
    "    \"\"\"\n",
    "    :type nums: List[int]\n",
    "    :rtype: int\n",
    "    \"\"\"\n",
    "    dmap = {0 : -1}\n",
    "    res = total = 0\n",
    "    for i, n in enumerate(nums):\n",
    "        total += 2 * nums[i] - 1\n",
    "        if total in dmap:\n",
    "            res = max(res, i - dmap[total])\n",
    "        else:\n",
    "            dmap[total] = i\n",
    "    return res    "
   ]
  },
  {
   "cell_type": "markdown",
   "metadata": {},
   "source": [
    "# 14. Perform String Shifts"
   ]
  },
  {
   "cell_type": "markdown",
   "metadata": {},
   "source": [
    "You are given a string s containing lowercase English letters, and a matrix shift, where shift[i] = [direction, amount]:  \n",
    "\n",
    "direction can be 0 (for left shift) or 1 (for right shift).   \n",
    "amount is the amount by which string s is to be shifted.   \n",
    "A left shift by 1 means remove the first character of s and append it to the end.  \n",
    "Similarly, a right shift by 1 means remove the last character of s and add it to the beginning.  \n",
    "Return the final string after all operations.  \n",
    "\n",
    "Example 1:  \n",
    "\n",
    "Input: s = \"abc\", shift = [[0,1],[1,2]]  \n",
    "Output: \"cab\"  \n",
    "Explanation:   \n",
    "[0,1] means shift to left by 1. \"abc\" -> \"bca\"  \n",
    "[1,2] means shift to right by 2. \"bca\" -> \"cab\"  \n",
    "\n",
    "Example 2:\n",
    "\n",
    "Input: s = \"abcdefg\", shift = [[1,1],[1,1],[0,2],[1,3]]  \n",
    "Output: \"efgabcd\"  \n",
    "Explanation:    \n",
    "[1,1] means shift to right by 1. \"abcdefg\" -> \"gabcdef\"  \n",
    "[1,1] means shift to right by 1. \"gabcdef\" -> \"fgabcde\"  \n",
    "[0,2] means shift to left by 2. \"fgabcde\" -> \"abcdefg\"  \n",
    "[1,3] means shift to right by 3. \"abcdefg\" -> \"efgabcd\""
   ]
  },
  {
   "cell_type": "code",
   "execution_count": 107,
   "metadata": {},
   "outputs": [],
   "source": [
    "def stringShift(s, shift) -> str:\n",
    "        acc = 0\n",
    "        for x in shift:\n",
    "            acc += x[1] if x[0] == 1 else -x[1]\n",
    "        acc %= len(s)\n",
    "        return s[-acc:] + s[:-acc]"
   ]
  },
  {
   "cell_type": "code",
   "execution_count": 100,
   "metadata": {},
   "outputs": [
    {
     "name": "stdout",
     "output_type": "stream",
     "text": [
      "1\n",
      "5\n",
      "1\n",
      "kmecs\n"
     ]
    }
   ],
   "source": [
    "s1 = \"abc\"\n",
    "shift1 = [[0,1],[1,2]]   \n",
    "print(stringShift(s1, shift1))\n",
    "s2 = \"abcdefg\"\n",
    "shift2 = [[1,1],[1,1],[0,2],[1,3]]\n",
    "print(stringShift(s2, shift2))\n",
    "s3 = \"mecsk\"\n",
    "shift3 = [[1,4],[0,5],[0,4],[1,1],[1,5]]\n",
    "print(stringShift(s3, shift3))"
   ]
  },
  {
   "cell_type": "code",
   "execution_count": null,
   "metadata": {},
   "outputs": [],
   "source": [
    "print(7%3)  #1      #整数取2 余1\n",
    "print(-7%3) #2      #整数取-3 余2\n",
    "print(7%-3) #-2     #整数取-3 余-2\n",
    "print(3%7) #3       #整数取0 余3\n",
    "print(-3%7) #4      #整数取-1 余4\n",
    "print(3%(-7)) #-4   #整数取 余-4"
   ]
  },
  {
   "cell_type": "code",
   "execution_count": 106,
   "metadata": {},
   "outputs": [
    {
     "data": {
      "text/plain": [
       "2"
      ]
     },
     "execution_count": 106,
     "metadata": {},
     "output_type": "execute_result"
    }
   ],
   "source": [
    "-1%3"
   ]
  },
  {
   "cell_type": "code",
   "execution_count": 111,
   "metadata": {},
   "outputs": [
    {
     "data": {
      "text/plain": [
       "'bc'"
      ]
     },
     "execution_count": 111,
     "metadata": {},
     "output_type": "execute_result"
    }
   ],
   "source": [
    "s1[-2:]"
   ]
  },
  {
   "cell_type": "code",
   "execution_count": 109,
   "metadata": {},
   "outputs": [
    {
     "data": {
      "text/plain": [
       "1"
      ]
     },
     "execution_count": 109,
     "metadata": {},
     "output_type": "execute_result"
    }
   ],
   "source": [
    "1%3"
   ]
  },
  {
   "cell_type": "code",
   "execution_count": null,
   "metadata": {},
   "outputs": [],
   "source": [
    "s1"
   ]
  }
 ],
 "metadata": {
  "kernelspec": {
   "display_name": "Python 3",
   "language": "python",
   "name": "python3"
  },
  "language_info": {
   "codemirror_mode": {
    "name": "ipython",
    "version": 3
   },
   "file_extension": ".py",
   "mimetype": "text/x-python",
   "name": "python",
   "nbconvert_exporter": "python",
   "pygments_lexer": "ipython3",
   "version": "3.6.9"
  }
 },
 "nbformat": 4,
 "nbformat_minor": 2
}

{
 "cells": [
  {
   "cell_type": "markdown",
   "metadata": {},
   "source": [
    "# 29. Binary Tree Maximum Path Sum"
   ]
  },
  {
   "cell_type": "markdown",
   "metadata": {},
   "source": [
    "Given a non-empty binary tree, find the maximum path sum.\n",
    "\n",
    "For this problem, a path is defined as any sequence of nodes from some starting node to any node in the tree along the parent-child connections. The path must contain at least one node and does not need to go through the root."
   ]
  },
  {
   "cell_type": "code",
   "execution_count": null,
   "metadata": {},
   "outputs": [],
   "source": [
    "# Definition for a binary tree node.\n",
    "# class TreeNode:\n",
    "#     def __init__(self, val=0, left=None, right=None):\n",
    "#         self.val = val\n",
    "#         self.left = left\n",
    "#         self.right = right\n",
    "class Solution:\n",
    "    def maxPathSum(self, root: TreeNode) -> int:\n",
    "        self.ans = float('-inf') \n",
    "        self.maxBranch(root)\n",
    "        return self.ans\n",
    "           \n",
    "    def maxBranch(self,root):\n",
    "        if not root:\n",
    "            return 0\n",
    "        left = self.maxBranch(root.left) + root.val\n",
    "        right = self.maxBranch(root.right) + root.val\n",
    "        self.ans = max(self.ans,root.val,left,right,left+right-root.val)\n",
    "        return max(root.val,left,right)"
   ]
  },
  {
   "cell_type": "code",
   "execution_count": null,
   "metadata": {},
   "outputs": [],
   "source": [
    "def maxPathSum(self, root: TreeNode) -> int:\n",
    "    self.ans = float('-inf')\n",
    "    self.MPSum(root)\n",
    "    return self.ans\n",
    "\n",
    "def MPSum(self,root):#1.root must be used \n",
    "                     #2. at most one child can be used\n",
    "    if not root: return 0\n",
    "    l = max(0,self.MPSum(root.left))\n",
    "    r = max(0,self.MPSum(root.right))\n",
    "    self.ans = max(self.ans,root.val+l+r)\n",
    "    return root.val + max(l,r)"
   ]
  }
 ],
 "metadata": {
  "kernelspec": {
   "display_name": "Python 3",
   "language": "python",
   "name": "python3"
  },
  "language_info": {
   "codemirror_mode": {
    "name": "ipython",
    "version": 3
   },
   "file_extension": ".py",
   "mimetype": "text/x-python",
   "name": "python",
   "nbconvert_exporter": "python",
   "pygments_lexer": "ipython3",
   "version": "3.6.9"
  }
 },
 "nbformat": 4,
 "nbformat_minor": 2
}

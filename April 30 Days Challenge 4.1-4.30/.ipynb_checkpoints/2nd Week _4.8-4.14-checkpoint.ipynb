{
 "cells": [
  {
   "cell_type": "markdown",
   "metadata": {},
   "source": [
    "# 8. Middle of the Linked List"
   ]
  },
  {
   "cell_type": "markdown",
   "metadata": {},
   "source": [
    "Given a non-empty, singly linked list with head node head, return a middle node of linked list.  \n",
    "If there are two middle nodes, return the second middle node.  \n",
    "\n",
    "Example 1:  \n",
    "Input: [1,2,3,4,5]   \n",
    "Output: Node 3 from this list (Serialization: [3,4,5])  \n",
    "The returned node has value 3.  (The judge's serialization of this node is [3,4,5]).  \n",
    "Note that we returned a ListNode object ans, such that:  \n",
    "ans.val = 3, ans.next.val = 4, ans.next.next.val = 5, and ans.next.next.next = NULL.\n",
    "\n",
    "Example 2:  \n",
    "Input: [1,2,3,4,5,6]  \n",
    "Output: Node 4 from this list (Serialization: [4,5,6])  \n",
    "Since the list has two middle nodes with values 3 and 4, we return the second one.  \n",
    " \n",
    "Note:  \n",
    "The number of nodes in the given list will be between 1 and 100."
   ]
  },
  {
   "cell_type": "markdown",
   "metadata": {},
   "source": [
    "linked list 单向链表，快慢指针"
   ]
  },
  {
   "cell_type": "code",
   "execution_count": 17,
   "metadata": {},
   "outputs": [],
   "source": [
    "class ListNode:\n",
    "    def __init__(self, x):\n",
    "        self.val = x\n",
    "        self.next = None\n",
    "\n",
    "def middleNode(head):\n",
    "        fast = slow = head\n",
    "        while fast != None and fast.next != None:\n",
    "            slow = slow.next\n",
    "        return slow"
   ]
  },
  {
   "cell_type": "markdown",
   "metadata": {},
   "source": [
    "# 9. Backspace String Compare"
   ]
  },
  {
   "cell_type": "markdown",
   "metadata": {},
   "source": [
    "Given two strings S and T, return if they are equal when both are typed into empty text editors. # means a backspace character.  \n",
    "Note that after backspacing an empty text, the text will continue empty.\n",
    "\n",
    "Example 1:  \n",
    "Input: S = \"ab#c\", T = \"ad#c\"  \n",
    "Output: true  \n",
    "Explanation: Both S and T become \"ac\".  \n",
    "\n",
    "Example 2:  \n",
    "Input: S = \"ab##\", T = \"c#d#\"  \n",
    "Output: true  \n",
    "Explanation: Both S and T become \"\".  \n",
    "\n",
    "Example 3:  \n",
    "Input: S = \"a##c\", T = \"#a#c\"  \n",
    "Output: true  \n",
    "Explanation: Both S and T become \"c\". \n",
    "\n",
    "Example 4:  \n",
    "Input: S = \"a#c\", T = \"b\"  \n",
    "Output: false  \n",
    "Explanation: S becomes \"c\" while T becomes \"b\".  \n",
    "\n",
    "Note:  \n",
    "1 <= S.length <= 200  \n",
    "1 <= T.length <= 200  \n",
    "S and T only contain lowercase letters and '#' characters.  \n",
    "\n",
    "Follow up:  \n",
    "Can you solve it in O(N) time and O(1) space?"
   ]
  },
  {
   "cell_type": "code",
   "execution_count": 78,
   "metadata": {},
   "outputs": [],
   "source": [
    "def backspaceCompare(self, S: str, T: str) -> bool:\n",
    "    return self.change(S) == self.change(T)\n",
    "\n",
    "def change(self,s):\n",
    "    dst = []\n",
    "    for i in s:\n",
    "        if i != \"#\":\n",
    "            dst.append(i)\n",
    "        elif dst:\n",
    "            dst.pop()\n",
    "    return dst"
   ]
  },
  {
   "cell_type": "code",
   "execution_count": 79,
   "metadata": {},
   "outputs": [
    {
     "ename": "TypeError",
     "evalue": "backspaceCompare() missing 1 required positional argument: 'T'",
     "output_type": "error",
     "traceback": [
      "\u001b[1;31m---------------------------------------------------------------------------\u001b[0m",
      "\u001b[1;31mTypeError\u001b[0m                                 Traceback (most recent call last)",
      "\u001b[1;32m<ipython-input-79-a40db54ef96b>\u001b[0m in \u001b[0;36m<module>\u001b[1;34m\u001b[0m\n\u001b[0;32m      1\u001b[0m \u001b[0mS\u001b[0m \u001b[1;33m=\u001b[0m \u001b[1;34m\"ab#c\"\u001b[0m\u001b[1;33m\u001b[0m\u001b[1;33m\u001b[0m\u001b[0m\n\u001b[0;32m      2\u001b[0m \u001b[0mT\u001b[0m \u001b[1;33m=\u001b[0m \u001b[1;34m\"ad#c\"\u001b[0m\u001b[1;33m\u001b[0m\u001b[1;33m\u001b[0m\u001b[0m\n\u001b[1;32m----> 3\u001b[1;33m \u001b[0mprint\u001b[0m\u001b[1;33m(\u001b[0m\u001b[0mbackspaceCompare\u001b[0m\u001b[1;33m(\u001b[0m\u001b[0mS\u001b[0m\u001b[1;33m,\u001b[0m\u001b[0mT\u001b[0m\u001b[1;33m)\u001b[0m\u001b[1;33m)\u001b[0m\u001b[1;33m\u001b[0m\u001b[1;33m\u001b[0m\u001b[0m\n\u001b[0m",
      "\u001b[1;31mTypeError\u001b[0m: backspaceCompare() missing 1 required positional argument: 'T'"
     ]
    }
   ],
   "source": [
    "S = \"ab#c\" \n",
    "T = \"ad#c\"\n",
    "print(backspaceCompare(S,T))"
   ]
  },
  {
   "cell_type": "markdown",
   "metadata": {},
   "source": [
    "# 10. Min Stack"
   ]
  },
  {
   "cell_type": "markdown",
   "metadata": {},
   "source": [
    "Design a stack that supports push, pop, top, and retrieving the minimum element in constant time.  \n",
    " \n",
    "push(x) -- Push element x onto stack.  -- 将元素 x 推入栈中。  \n",
    "pop() -- Removes the element on top of the stack.  -- 删除栈顶的元素。  \n",
    "top() -- Get the top element.  -- 获取栈顶元素。  \n",
    "getMin() -- Retrieve the minimum element in the stack. -- 检索栈中的最小元素。  \n",
    "\n",
    "Example 1:  \n",
    "\n",
    "Input  \n",
    "[\"MinStack\",\"push\",\"push\",\"push\",\"getMin\",\"pop\",\"top\",\"getMin\"]  \n",
    "[[],[-2],[0],[-3],[],[],[],[]]  \n",
    "\n",
    "Output  \n",
    "[null,null,null,null,-3,null,0,-2]\n",
    "\n",
    "Explanation  \n",
    "MinStack minStack = new MinStack();  \n",
    "minStack.push(-2);  \n",
    "minStack.push(0);  \n",
    "minStack.push(-3);  \n",
    "minStack.getMin(); // return -3  \n",
    "minStack.pop();  \n",
    "minStack.top();    // return 0  \n",
    "minStack.getMin(); // return -2  \n",
    "\n",
    "Constraints:  \n",
    "Methods pop, top and getMin operations will always be called on non-empty stacks."
   ]
  },
  {
   "cell_type": "code",
   "execution_count": 80,
   "metadata": {},
   "outputs": [],
   "source": [
    "class MinStack:\n",
    "\n",
    "    def __init__(self):\n",
    "        \"\"\"\n",
    "        initialize your data structure here.\n",
    "        \"\"\"\n",
    "        self.stack = [] #two stacks inside, 1:stack, 2:minstack\n",
    "        \n",
    "    def push(self, x: int) -> None: #push = add to stack\n",
    "        if not self.stack: \n",
    "            self.stack.append((x,x)) #stack is empty, add element in both stacks\n",
    "        else:\n",
    "            self.stack.append((x,min(x,self.stack[-1][1]))) #stack1 +x, stack +min(x,existed element)\n",
    "\n",
    "    def pop(self) -> None:\n",
    "        self.stack.pop()\n",
    "\n",
    "    def top(self) -> int:\n",
    "        if self.stack: \n",
    "            return self.stack[-1][0]\n",
    "        else: \n",
    "            return None\n",
    "\n",
    "    def getMin(self) -> int:\n",
    "        if self.stack: \n",
    "            return self.stack[-1][1]\n",
    "        else: \n",
    "            return None\n",
    "        \n",
    "# Your MinStack object will be instantiated and called as such:\n",
    "# obj = MinStack()\n",
    "# obj.push(x)\n",
    "# obj.pop()\n",
    "# param_3 = obj.top()\n",
    "# param_4 = obj.getMin()"
   ]
  },
  {
   "cell_type": "code",
   "execution_count": 130,
   "metadata": {},
   "outputs": [
    {
     "data": {
      "text/plain": [
       "[(-2, -2), (0, -2)]"
      ]
     },
     "execution_count": 130,
     "metadata": {},
     "output_type": "execute_result"
    }
   ],
   "source": [
    "stack = []\n",
    "stack.append((-2,-2))\n",
    "stack.append((0,min(0,stack[-1][0])))\n",
    "stack.append((-3,min(-3,stack[-1][0])))\n",
    "stack.pop()\n",
    "stack.top()"
   ]
  },
  {
   "cell_type": "markdown",
   "metadata": {},
   "source": [
    "# 11. Diameter of Binary Tree"
   ]
  },
  {
   "cell_type": "markdown",
   "metadata": {},
   "source": [
    "Given a binary tree, you need to compute the length of the diameter of the tree. The diameter of a binary tree is the length of the longest path between any two nodes in a tree. This path may or may not pass through the root.\n",
    "\n",
    "Example:\n",
    "Given a binary tree  \n",
    "          1  \n",
    "         / \\  \n",
    "        2   3  \n",
    "       / \\       \n",
    "      4   5      \n",
    "Return 3, which is the length of the path [4,2,1,3] or [5,2,1,3].  \n",
    "Note: The length of path between two nodes is represented by the number of edges between them."
   ]
  },
  {
   "cell_type": "code",
   "execution_count": null,
   "metadata": {},
   "outputs": [],
   "source": [
    "# Definition for a binary tree node.\n",
    "# class TreeNode:\n",
    "#     def __init__(self, x):\n",
    "#         self.val = x\n",
    "#         self.left = None\n",
    "#         self.right = None\n",
    "\n",
    "def diameterOfBinaryTree(self, root) -> int:\n",
    "    self.len = 0 #initialization\n",
    "\n",
    "    def depth(node): # max lenghts of left/right trees \n",
    "        if not node: return 0 \n",
    "        left, right = depth(node.left), depth(node.right) # recursion\n",
    "        self.len = max(self.len, left+right)\n",
    "        return 1 + max(left, right)\n",
    "\n",
    "    depth(root)\n",
    "    return self.len"
   ]
  },
  {
   "cell_type": "markdown",
   "metadata": {},
   "source": [
    " # BFS (Breadth First Search)"
   ]
  },
  {
   "cell_type": "code",
   "execution_count": 33,
   "metadata": {},
   "outputs": [
    {
     "name": "stdout",
     "output_type": "stream",
     "text": [
      "A\n",
      "A\n",
      "B\n",
      "B\n",
      "B\n",
      "C\n",
      "C\n",
      "C\n",
      "C\n",
      "D\n",
      "D\n",
      "D\n",
      "D\n",
      "E\n",
      "E\n",
      "F\n"
     ]
    }
   ],
   "source": [
    "graph = {\n",
    " 'A': {'B', 'C'},\n",
    " 'B': {'A', 'C', 'D'},\n",
    " 'C': {'A', 'B', 'D', 'E'},\n",
    " 'D': {'B', 'C', 'E', 'F'},\n",
    " 'E': {'C', 'D'},\n",
    " 'F': {'D'}}\n",
    "\n",
    "def BFS(graph,s): #s:first node\n",
    "    queue = []\n",
    "    queue.append(s)\n",
    "    seen = set() # hash set, faster than array\n",
    "    seen.add(s) \n",
    "    #parent ={s : None} #parent node dict\n",
    "    \n",
    "    while (len(queue) > 0):\n",
    "        vertex = queue.pop(0) #queue pop() the first one\n",
    "        nodes = graph[vertex] #search nodes of vertex\n",
    "        for w in nodes: # traversal nodes\n",
    "            if w not in seen:\n",
    "                queue.append(w)\n",
    "                seen.add(w)\n",
    "                #parent[w] = vertex \n",
    "            print(vertex)   \n",
    "    \n",
    "BFS(graph,\"A\")"
   ]
  },
  {
   "cell_type": "markdown",
   "metadata": {},
   "source": [
    "# DFS (Depth First Search)"
   ]
  },
  {
   "cell_type": "code",
   "execution_count": 30,
   "metadata": {},
   "outputs": [
    {
     "name": "stdout",
     "output_type": "stream",
     "text": [
      "A\n",
      "C\n",
      "D\n",
      "F\n",
      "E\n",
      "B\n"
     ]
    }
   ],
   "source": [
    "def DFS(graph,s): #s:first node\n",
    "    stack = []\n",
    "    stack.append(s)\n",
    "    seen = set() # hash set, faster than array\n",
    "    seen.add(s) \n",
    "    while (len(stack) > 0):\n",
    "        vertex = stack.pop() #stack pop() the last one\n",
    "        nodes = graph[vertex] #search nodes of vertex\n",
    "        for w in nodes: # traversal nodes\n",
    "            if w not in seen:\n",
    "                stack.append(w)\n",
    "                seen.add(w)\n",
    "        print(vertex)\n",
    "     \n",
    "DFS(graph,\"A\")"
   ]
  },
  {
   "cell_type": "code",
   "execution_count": null,
   "metadata": {},
   "outputs": [],
   "source": []
  }
 ],
 "metadata": {
  "kernelspec": {
   "display_name": "Python 3",
   "language": "python",
   "name": "python3"
  },
  "language_info": {
   "codemirror_mode": {
    "name": "ipython",
    "version": 3
   },
   "file_extension": ".py",
   "mimetype": "text/x-python",
   "name": "python",
   "nbconvert_exporter": "python",
   "pygments_lexer": "ipython3",
   "version": "3.6.9"
  }
 },
 "nbformat": 4,
 "nbformat_minor": 2
}

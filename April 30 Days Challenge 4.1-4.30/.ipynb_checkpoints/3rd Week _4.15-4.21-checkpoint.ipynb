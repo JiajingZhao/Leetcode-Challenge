{
 "cells": [
  {
   "cell_type": "markdown",
   "metadata": {},
   "source": [
    "# 15. Product of Array Except Self"
   ]
  },
  {
   "cell_type": "markdown",
   "metadata": {},
   "source": [
    "Given an array nums of n integers where n > 1,  return an array output such that output[i] is equal to the product of all the elements of nums except nums[i].  \n",
    "  \n",
    "Example:\n",
    "\n",
    "Input:  [1,2,3,4]  \n",
    "Output: [24,12,8,6]  \n",
    "Constraint: It's guaranteed that the product of the elements of any prefix or suffix of the array (including the whole array) fits in a 32 bit integer.  \n",
    "  \n",
    "Note: Please solve it without division and in O(n).  \n",
    "  \n",
    "Follow up:  \n",
    "Could you solve it with constant space complexity? (The output array does not count as extra space for the purpose of space complexity analysis.)  "
   ]
  },
  {
   "cell_type": "markdown",
   "metadata": {},
   "source": [
    "**My Solution** Time Limit Exceeded !!!"
   ]
  },
  {
   "cell_type": "code",
   "execution_count": 51,
   "metadata": {},
   "outputs": [],
   "source": [
    "def productExceptSelf(nums):\n",
    "    nums = [1,2,3,4]\n",
    "    output = []\n",
    "    from functools import reduce\n",
    "    for i in range(len(nums)):\n",
    "        num = nums[:i]+nums[i+1:]\n",
    "        prodcut = reduce(lambda x, y: x*y,num)\n",
    "        output.append(prodcut)\n",
    "    return output"
   ]
  },
  {
   "cell_type": "code",
   "execution_count": 53,
   "metadata": {},
   "outputs": [
    {
     "name": "stdout",
     "output_type": "stream",
     "text": [
      "Wall time: 0 ns\n",
      "[24, 12, 8, 6]\n"
     ]
    }
   ],
   "source": [
    "nums = [1,2,3,4]\n",
    "%time\n",
    "print(productExceptSelf(nums))"
   ]
  },
  {
   "cell_type": "markdown",
   "metadata": {},
   "source": [
    "**Solution2**"
   ]
  },
  {
   "cell_type": "code",
   "execution_count": 69,
   "metadata": {},
   "outputs": [],
   "source": [
    "def productExceptSelf(nums):\n",
    "        # The length of the input array \n",
    "        length = len(nums)\n",
    "        \n",
    "        # The answer array to be returned\n",
    "        answer = [0]*length\n",
    "        \n",
    "        # answer[i] contains the product of all the elements to the left\n",
    "        # Note: for the element at index '0', there are no elements to the left,\n",
    "        # so the answer[0] would be 1\n",
    "        answer[0] = 1\n",
    "        for i in range(1, length):\n",
    "            \n",
    "            # answer[i - 1] already contains the product of elements to the left of 'i - 1'\n",
    "            # Simply multiplying it with nums[i - 1] would give the product of all \n",
    "            # elements to the left of index 'i'\n",
    "            answer[i] = nums[i - 1] * answer[i - 1]\n",
    "        \n",
    "        # R contains the product of all the elements to the right\n",
    "        # Note: for the element at index 'length - 1', there are no elements to the right,\n",
    "        # so the R would be 1\n",
    "        R = 1\n",
    "        for i in reversed(range(length)):\n",
    "            \n",
    "            # For the index 'i', R would contain the \n",
    "            # product of all elements to the right. We update R accordingly\n",
    "            answer[i] = answer[i] * R\n",
    "            R *= nums[i]\n",
    "        \n",
    "        return answer #左下三角 右上三角"
   ]
  },
  {
   "cell_type": "code",
   "execution_count": 70,
   "metadata": {},
   "outputs": [
    {
     "name": "stdout",
     "output_type": "stream",
     "text": [
      "Wall time: 0 ns\n",
      "[24, 12, 8, 6]\n"
     ]
    }
   ],
   "source": [
    "nums = [1,2,3,4]\n",
    "%time\n",
    "print(productExceptSelf(nums))"
   ]
  },
  {
   "cell_type": "markdown",
   "metadata": {},
   "source": [
    "# 16. Valid Parenthesis String"
   ]
  },
  {
   "cell_type": "markdown",
   "metadata": {},
   "source": [
    "Given a string containing only three types of characters: '(', ')' and '*', write a function to check whether this string is valid. We define the validity of a string by these rules:\n",
    "\n",
    "Any left parenthesis '(' must have a corresponding right parenthesis ')'.  \n",
    "Any right parenthesis ')' must have a corresponding left parenthesis '('.  \n",
    "Left parenthesis '(' must go before the corresponding right parenthesis ')'.  \n",
    "'*' could be treated as a single right parenthesis ')' or a single left parenthesis '(' or an empty string.  \n",
    "An empty string is also valid.  \n",
    "\n",
    "Example 1:\n",
    "Input: \"()\"  \n",
    "Output: True  \n",
    "\n",
    "Example 2:\n",
    "Input: \"(*)\"  \n",
    "Output: True  \n",
    "\n",
    "Example 3:\n",
    "Input: \"(*))\"  \n",
    "Output: True  "
   ]
  },
  {
   "cell_type": "markdown",
   "metadata": {},
   "source": [
    "**My Solution** 又一波无效超时.."
   ]
  },
  {
   "cell_type": "code",
   "execution_count": 105,
   "metadata": {},
   "outputs": [
    {
     "name": "stdout",
     "output_type": "stream",
     "text": [
      "1\n"
     ]
    },
    {
     "data": {
      "text/plain": [
       "True"
      ]
     },
     "execution_count": 105,
     "metadata": {},
     "output_type": "execute_result"
    }
   ],
   "source": [
    "def checkValidString(s) -> bool:\n",
    "    count = 0\n",
    "    left = s.count(\"(\")\n",
    "    right = s.count(\")\")\n",
    "    star = s.count(\"*\")\n",
    "    if left == right + star or right == left+star or left == right:\n",
    "        for i in s:\n",
    "            if i == \"(\":\n",
    "                count += 1\n",
    "            elif i == \")\":\n",
    "                count -= 1\n",
    "            print(count)\n",
    "            if count < 0:\n",
    "                break\n",
    "            else:\n",
    "                return True\n",
    "    else: \n",
    "        return False\n",
    "s = \"(*)\"\n",
    "checkValidString(s)"
   ]
  },
  {
   "cell_type": "code",
   "execution_count": 120,
   "metadata": {},
   "outputs": [
    {
     "name": "stdout",
     "output_type": "stream",
     "text": [
      "( 1\n",
      "* 0\n",
      ") 0\n",
      ") 0\n",
      "-1\n"
     ]
    },
    {
     "data": {
      "text/plain": [
       "False"
      ]
     },
     "execution_count": 120,
     "metadata": {},
     "output_type": "execute_result"
    }
   ],
   "source": [
    "def checkValidString2(s) -> bool:\n",
    "    low=high=0\n",
    "    for c in s:\n",
    "        if c=='(':\n",
    "            low += 1\n",
    "            high += 1\n",
    "        elif c==')':\n",
    "            low -=1\n",
    "            high -=1\n",
    "        else: # *\n",
    "            low -=1\n",
    "            high +=1\n",
    "        if high < 0:  # if all * considered as ( , num<0, False\n",
    "            break\n",
    "        low = max(low,0) #\n",
    "        print(c,low)\n",
    "    print(low)\n",
    "    return low == 0\n",
    "\n",
    "s = \"(*)))\"\n",
    "checkValidString2(s)"
   ]
  },
  {
   "cell_type": "markdown",
   "metadata": {},
   "source": [
    "# 17. Number of Islands"
   ]
  },
  {
   "cell_type": "markdown",
   "metadata": {},
   "source": [
    "Given a 2d grid map of '1's (land) and '0's (water), count the number of islands. An island is surrounded by water and is formed by connecting adjacent lands horizontally or vertically. You may assume all four edges of the grid are all surrounded by water.  \n",
    "\n",
    "Example 1:\n",
    "\n",
    "Input:  \n",
    "11110  \n",
    "11010  \n",
    "11000  \n",
    "00000  \n",
    "\n",
    "Output: 1  \n",
    "\n",
    "Example 2:  \n",
    "\n",
    "Input:  \n",
    "11000  \n",
    "11000   \n",
    "00100  \n",
    "00011  \n",
    "\n",
    "Output: 3  \n",
    "\n",
    "对某个位置（i,j）  \n",
    "当是1 的时候，是岛屿，该位置设为 0 ，并将四周的 1 设置为 0，进行DFS，能把一个点推广到一个岛，递归思想。  \n",
    "当是0的时候，不是岛屿，寻找下一个位置"
   ]
  },
  {
   "cell_type": "code",
   "execution_count": null,
   "metadata": {},
   "outputs": [],
   "source": [
    "def numIslands(self, grid: List[List[str]]) -> int:\n",
    "    count = 0\n",
    "    for i in range(len(grid)):\n",
    "        for j in range(len(grid[0])):\n",
    "            if grid[i][j] == \"1\": #when 1, dfs\n",
    "                self.dfs(grid,i,j) \n",
    "                count += 1        #num of islands            \n",
    "    return count\n",
    "\n",
    "def dfs(self,grid,i,j):\n",
    "    if i<0 or j<0 or i>=len(grid) or j>=len(grid[0]) or grid[i][j] != '1':\n",
    "        return\n",
    "    if grid[i][j] == \"1\":#cause inner cycling, check \"1\" everytime\n",
    "        grid[i][j] = \"0\" #when 1, set it as 0, check all 1 around, recurssion\n",
    "        self.dfs(grid,i-1,j)\n",
    "        self.dfs(grid,i+1,j)\n",
    "        self.dfs(grid,i,j-1)\n",
    "        self.dfs(grid,i,j+1)"
   ]
  },
  {
   "cell_type": "code",
   "execution_count": 39,
   "metadata": {},
   "outputs": [
    {
     "data": {
      "text/plain": [
       "True"
      ]
     },
     "execution_count": 39,
     "metadata": {},
     "output_type": "execute_result"
    }
   ],
   "source": [
    "grid = [[\"1\",\"1\",\"1\",\"1\",\"0\"],\n",
    "        [\"1\",\"1\",\"0\",\"1\",\"0\"],\n",
    "        [\"1\",\"1\",\"0\",\"0\",\"0\"],\n",
    "        [\"0\",\"0\",\"0\",\"0\",\"0\"]]\n",
    "grid[0][0] == \"1\""
   ]
  },
  {
   "cell_type": "markdown",
   "metadata": {},
   "source": [
    "# 18. Minimum Path Sum"
   ]
  },
  {
   "cell_type": "markdown",
   "metadata": {},
   "source": [
    "Given a m x n grid filled with non-negative numbers, find a path from top left to bottom right which minimizes the sum of all numbers along its path.   \n",
    "\n",
    "Note: You can only move either down or right at any point in time.  \n",
    "\n",
    "Example:  \n",
    "\n",
    "Input:  \n",
    "[\n",
    "  [1,3,1],  \n",
    "  [1,5,1],  \n",
    "  [4,2,1]  ]  \n",
    "Output: 7  \n",
    "Explanation: Because the path 1→3→1→1→1 minimizes the sum  "
   ]
  },
  {
   "cell_type": "code",
   "execution_count": 48,
   "metadata": {},
   "outputs": [],
   "source": [
    "def minPathSum(grid) -> int:\n",
    "    import numpy as np\n",
    "    grid = np.array(grid)\n",
    "    m,n = len(grid),len(grid[0])\n",
    "    for i in range(m):\n",
    "        for j in range(n):\n",
    "            if i==0 and j==0:\n",
    "                continue\n",
    "            if i==0 and j!=0:\n",
    "                grid[i][j] = grid[i][j-1]+grid[i,j]\n",
    "                continue\n",
    "            if i!=0 and j==0:\n",
    "                grid[i][j]=grid[i-1][j]+grid[i][j]\n",
    "                continue\n",
    "            if i!=0 and j!=0:\n",
    "                grid[i][j]=min(grid[i-1][j],grid[i][j-1])+grid[i][j]\n",
    "                continue\n",
    "    return grid[m-1][n-1]"
   ]
  },
  {
   "cell_type": "code",
   "execution_count": 69,
   "metadata": {},
   "outputs": [],
   "source": [
    "def minPathSum2(grid) -> int:\n",
    "    if not grid or not grid[0]: return 0 #make sure no overflow\n",
    "    m , n = len(grid), len(grid[0])\n",
    "    for i in range(m):\n",
    "        for j in range(n):\n",
    "            if i == 0 and j == 0:\n",
    "                before = 0\n",
    "            elif i == 0:\n",
    "                before = grid[i][j-1]\n",
    "            elif j == 0:\n",
    "                before = grid[i-1][j]\n",
    "            else:\n",
    "                before = min(grid[i-1][j], grid[i][j-1])\n",
    "            grid[i][j] = before + grid[i][j]\n",
    "    return grid[m-1][n-1]"
   ]
  },
  {
   "cell_type": "code",
   "execution_count": 70,
   "metadata": {},
   "outputs": [
    {
     "name": "stdout",
     "output_type": "stream",
     "text": [
      "Wall time: 0 ns\n",
      "7\n",
      "Wall time: 0 ns\n",
      "7\n"
     ]
    }
   ],
   "source": [
    "grid= [[1,3,1],\n",
    "       [1,5,1],\n",
    "       [4,2,1]]\n",
    "%time\n",
    "print(minPathSum(grid))\n",
    "%time\n",
    "print(minPathSum2(grid))"
   ]
  },
  {
   "cell_type": "markdown",
   "metadata": {},
   "source": [
    "# 19. Search in Rotated Sorted Array"
   ]
  },
  {
   "cell_type": "markdown",
   "metadata": {},
   "source": [
    "Suppose **an array sorted in ascending order** is rotated at some pivot unknown to you beforehand.\n",
    "(i.e., [0,1,2,4,5,6,7] might become [4,5,6,7,0,1,2]).\n",
    "\n",
    "You are given a target value to search. If found in the array return its index, otherwise return -1.  \n",
    "You may assume no duplicate exists in the array.  \n",
    "Your algorithm's runtime complexity must be in the order of **O(log n)**. **- Binary Search**\n",
    "\n",
    "Example 1:  \n",
    "Input: nums = [4,5,6,7,0,1,2], target = 0  \n",
    "Output: 4  \n",
    "    \n",
    "Example 2:  \n",
    "Input: nums = [4,5,6,7,0,1,2], target = 3  \n",
    "Output: -1  "
   ]
  },
  {
   "cell_type": "markdown",
   "metadata": {},
   "source": [
    "**Solution 1**"
   ]
  },
  {
   "cell_type": "code",
   "execution_count": 121,
   "metadata": {},
   "outputs": [],
   "source": [
    "def search(nums,target) -> int:\n",
    "    if not nums:\n",
    "        return -1 \n",
    "\n",
    "    l, h = 0, len(nums) - 1\n",
    "    while l + 1 < h:\n",
    "        mid = (l + h) //2\n",
    "        if nums[mid] >= nums[l]:\n",
    "            if nums[l] <= target <= nums[mid]:\n",
    "                h = mid-1\n",
    "            else:\n",
    "                l = mid+1\n",
    "        else:\n",
    "            if nums[mid] <= target <= nums[h]:\n",
    "                l = mid-1\n",
    "            else:\n",
    "                h = mid+1\n",
    "    if nums[l] == target:\n",
    "        return l\n",
    "    if nums[h] == target:\n",
    "        return h\n",
    "    return -1 "
   ]
  },
  {
   "cell_type": "code",
   "execution_count": 122,
   "metadata": {},
   "outputs": [
    {
     "data": {
      "text/plain": [
       "6"
      ]
     },
     "execution_count": 122,
     "metadata": {},
     "output_type": "execute_result"
    }
   ],
   "source": [
    "nums,target = [4,5,6,7,0,1,2],2\n",
    "search(nums,target)"
   ]
  },
  {
   "cell_type": "markdown",
   "metadata": {},
   "source": [
    "**Binary Search**"
   ]
  },
  {
   "cell_type": "code",
   "execution_count": 105,
   "metadata": {},
   "outputs": [],
   "source": [
    "def binarySearch(list,item):\n",
    "    l,h = 0,len(list)-1\n",
    "    while l<=h:\n",
    "        m = (l+h)//2\n",
    "        if item == list[m]:\n",
    "            return m\n",
    "        elif item < list[m]:\n",
    "            h = m - 1\n",
    "        else:\n",
    "            l = m + 1\n",
    "    return None"
   ]
  },
  {
   "cell_type": "code",
   "execution_count": 140,
   "metadata": {},
   "outputs": [
    {
     "name": "stdout",
     "output_type": "stream",
     "text": [
      "Wall time: 0 ns\n"
     ]
    },
    {
     "data": {
      "text/plain": [
       "1"
      ]
     },
     "execution_count": 140,
     "metadata": {},
     "output_type": "execute_result"
    }
   ],
   "source": [
    "my_list = [1,3,5,7,9]\n",
    "%time\n",
    "binarySearch(my_list,3)"
   ]
  },
  {
   "cell_type": "markdown",
   "metadata": {},
   "source": [
    "**Solution2**"
   ]
  },
  {
   "cell_type": "code",
   "execution_count": 142,
   "metadata": {},
   "outputs": [],
   "source": [
    "def search2(nums, target) -> int:\n",
    "    if not nums:\n",
    "        return -1\n",
    "    l, h = 0, len(nums) - 1\n",
    "    while l <=h :\n",
    "        m = (l+h)//2\n",
    "        if nums[m] == target:\n",
    "            return m\n",
    "        if nums[m] < nums[h]: #right part -> sorted array\n",
    "            if nums[m] < target <= nums[h]:\n",
    "                l = m+1\n",
    "            else:\n",
    "                h = m-1\n",
    "        else: #left part -> sorted array\n",
    "            if nums[l] <= target < nums[m]:\n",
    "                h = m-1\n",
    "            else:\n",
    "                l = m+1\n",
    "    return -1"
   ]
  },
  {
   "cell_type": "code",
   "execution_count": 143,
   "metadata": {},
   "outputs": [
    {
     "name": "stdout",
     "output_type": "stream",
     "text": [
      "Wall time: 0 ns\n"
     ]
    },
    {
     "data": {
      "text/plain": [
       "0"
      ]
     },
     "execution_count": 143,
     "metadata": {},
     "output_type": "execute_result"
    }
   ],
   "source": [
    "nums,target = [1],1\n",
    "%time\n",
    "search2(nums,target)"
   ]
  },
  {
   "cell_type": "markdown",
   "metadata": {},
   "source": [
    "# 20. Construct Binary Search Tree from Preorder Traversal     前序遍历"
   ]
  },
  {
   "cell_type": "markdown",
   "metadata": {},
   "source": [
    "Return the root node of a binary search tree that matches the given preorder traversal.\n",
    "\n",
    "(Recall that a binary search tree is a binary tree where for every node, any descendant of node.left has a value < node.val, and any descendant of node.right has a value > node.val.  Also recall that a preorder traversal displays the value of the node first, then traverses node.left, then traverses node.right.)   \n",
    "\n",
    "It's guaranteed that for the given test cases there is always possible to find a binary search tree with the given requirements.  \n",
    "\n",
    "Example 1:  \n",
    "Input: [8,5,1,7,10,12]  \n",
    "Output: [8,5,10,1,7,null,12]  \n",
    "\n",
    " \n",
    "\n",
    "Constraints:\n",
    "\n",
    "1 <= preorder.length <= 100  \n",
    "1 <= preorder[i] <= 10^8  \n",
    "The values of preorder are distinct."
   ]
  },
  {
   "cell_type": "code",
   "execution_count": null,
   "metadata": {},
   "outputs": [],
   "source": [
    "# In BST ,node of left subtree is less that root.val in BST \n",
    "def bstFromPreorder(self,preorder) -> TreeNode:\n",
    "    if not preorder: \n",
    "        return None\n",
    "    root = TreeNode(preorder[0])\n",
    "    #the first node of preorder tranversal must be the root.\n",
    "\n",
    "    N = len(preorder)\n",
    "    i = 1\n",
    "    while i < N:\n",
    "        if preorder[i] > preorder[0]: # !!find the first number > root!! >> node root of right subtree\n",
    "            break\n",
    "        i += 1\n",
    "    root.left = self.bstFromPreorder(preorder[1:i]) #then left part must be left subtree \n",
    "    root.right = self.bstFromPreorder(preorder[i:]) #then right part must be right subtree \n",
    "    return root"
   ]
  },
  {
   "cell_type": "code",
   "execution_count": null,
   "metadata": {},
   "outputs": [],
   "source": [
    "class Solution:\n",
    "    def bstFromPreorder(self, preorder: List[int]) -> TreeNode:\n",
    "        root = TreeNode(preorder[0])\n",
    "        stack = [root]\n",
    "        for value in preorder[1:]:\n",
    "            if value < stack[-1].value:\n",
    "                stack[-1].left = TreeNode(value)\n",
    "                stack.append(stack[-1].left)\n",
    "            else:\n",
    "                while stack and stack[-1].value < value:\n",
    "                    last = stack.pop()\n",
    "                last.right = TreeNode(value)\n",
    "                stack.append(last.right)\n",
    "        return root"
   ]
  },
  {
   "cell_type": "markdown",
   "metadata": {},
   "source": [
    "# 21. Leftmost Column with at Least a One"
   ]
  },
  {
   "cell_type": "markdown",
   "metadata": {},
   "source": [
    "(This problem is an interactive problem.)\n",
    "\n",
    "A binary matrix means that all elements are 0 or 1. For each individual row of the matrix, this row is sorted in non-decreasing order.\n",
    "\n",
    "Given a row-sorted binary matrix binaryMatrix, return leftmost column index(0-indexed) with at least a 1 in it. If such index doesn't exist, return -1.\n",
    "\n",
    "You can't access the Binary Matrix directly. You may only access the matrix using a BinaryMatrix interface:\n",
    "\n",
    "BinaryMatrix.get(x, y) returns the element of the matrix at index (x, y) (0-indexed). BinaryMatrix.dimensions() returns a list of 2 elements [n, m], which means the matrix is n * m. Submissions making more than 1000 calls to BinaryMatrix.get will be judged Wrong Answer. Also, any solutions that attempt to circumvent the judge will result in disqualification.\n",
    "\n",
    "For custom testing purposes you're given the binary matrix mat as input in the following four examples. You will not have access the binary matrix directly"
   ]
  }
 ],
 "metadata": {
  "kernelspec": {
   "display_name": "Python 3",
   "language": "python",
   "name": "python3"
  },
  "language_info": {
   "codemirror_mode": {
    "name": "ipython",
    "version": 3
   },
   "file_extension": ".py",
   "mimetype": "text/x-python",
   "name": "python",
   "nbconvert_exporter": "python",
   "pygments_lexer": "ipython3",
   "version": "3.6.9"
  }
 },
 "nbformat": 4,
 "nbformat_minor": 2
}

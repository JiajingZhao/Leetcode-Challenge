{
 "cells": [
  {
   "cell_type": "markdown",
   "metadata": {},
   "source": [
    "# 1. Single Number"
   ]
  },
  {
   "cell_type": "markdown",
   "metadata": {},
   "source": [
    "Given a non-empty array of integers, every element appears twice except for one. Find that single one.\n",
    "\n",
    "Note: Your algorithm should have a linear runtime complexity. Could you implement it without using extra memory?\n",
    "\n",
    "Example 1:\n",
    "Input: [2,2,1]\n",
    "Output: 1\n",
    "\n",
    "Example 2:\n",
    "Input: [4,1,2,1,2]\n",
    "Output: 4"
   ]
  },
  {
   "cell_type": "code",
   "execution_count": 23,
   "metadata": {},
   "outputs": [],
   "source": [
    "def singleNumber(list):\n",
    "    return 2*sum(set(list))-sum(list)"
   ]
  },
  {
   "cell_type": "code",
   "execution_count": 32,
   "metadata": {},
   "outputs": [
    {
     "name": "stdout",
     "output_type": "stream",
     "text": [
      "an1: 1\n",
      "an2: 4\n"
     ]
    }
   ],
   "source": [
    "list1 = [2,2,1]\n",
    "an1 = singleNumber(list1)\n",
    "print(\"an1:\",an1)\n",
    "\n",
    "list2 = [4,1,2,1,2] \n",
    "an2 = singleNumber(list2)\n",
    "print(\"an2:\",an2)"
   ]
  },
  {
   "cell_type": "markdown",
   "metadata": {},
   "source": [
    "<font color=\"#dd0000\">Solution1: 数学思维，**set()** — 不重复元素集合，2倍不重合元素之和—原列表元素之和。<40ms> </font><br /> "
   ]
  },
  {
   "cell_type": "code",
   "execution_count": 73,
   "metadata": {},
   "outputs": [],
   "source": [
    "def singleNumber2(nums):\n",
    "    r = 0\n",
    "    for i in nums:\n",
    "        r ^= i\n",
    "        print(\"r:\",r)\n",
    "    return r"
   ]
  },
  {
   "cell_type": "code",
   "execution_count": 74,
   "metadata": {},
   "outputs": [
    {
     "name": "stdout",
     "output_type": "stream",
     "text": [
      "r: 4\n",
      "r: 5\n",
      "r: 7\n",
      "r: 6\n",
      "r: 4\n",
      "4\n"
     ]
    }
   ],
   "source": [
    "print(singleNumber2(list2))"
   ]
  },
  {
   "cell_type": "markdown",
   "metadata": {},
   "source": [
    "<font color=\"#dd0000\">Solution2: **异或**，比如list1：[2,2,1]，相当于求 2^2^1 <48ms> </font><br />"
   ]
  },
  {
   "cell_type": "markdown",
   "metadata": {},
   "source": [
    "# 2.Happy Number"
   ]
  },
  {
   "cell_type": "markdown",
   "metadata": {},
   "source": [
    "Write an algorithm to determine if a number n is \"happy\".\n",
    "\n",
    "A happy number is a number defined by the following process: Starting with any positive integer, replace the number by the sum of the squares of its digits, and repeat the process until the number equals 1 (where it will stay), or it loops endlessly in a cycle which does not include 1. Those numbers for which this process ends in 1 are happy numbers.\n",
    "\n",
    "Return True if n is a happy number, and False if not.\n",
    "\n",
    "Example: \n",
    "\n",
    "Input: 19, Output: true\n",
    "\n",
    "Explanation:   \n",
    "1² + 9² = 82  \n",
    "8² + 2² = 68  \n",
    "6² + 8² = 100  \n",
    "1² + 0² + 0² = 1"
   ]
  },
  {
   "cell_type": "code",
   "execution_count": 162,
   "metadata": {},
   "outputs": [],
   "source": [
    "def isHappy(n):\n",
    "    history = [n,4]\n",
    "    while (n != 1):\n",
    "        n = sum([int(j)**2 for j in str(n)])\n",
    "        if n in history: return False #陷入循环，False\n",
    "        history.append(n)\n",
    "    return True #不循环且最终数字平方和==1,True"
   ]
  },
  {
   "cell_type": "code",
   "execution_count": 163,
   "metadata": {},
   "outputs": [
    {
     "name": "stdout",
     "output_type": "stream",
     "text": [
      "Wall time: 0 ns\n",
      "True\n",
      "False\n"
     ]
    }
   ],
   "source": [
    "%time\n",
    "print(isHappy(19))\n",
    "print(isHappy(4))"
   ]
  },
  {
   "cell_type": "markdown",
   "metadata": {},
   "source": [
    "<font color=\"#dd0000\">\n",
    "Solution1:  \n",
    "基础知识：数字拆分 list(str(num))；统一使用list/set/str/..；定义history_list\n",
    "<48ms> </font><br />"
   ]
  },
  {
   "cell_type": "code",
   "execution_count": 149,
   "metadata": {},
   "outputs": [],
   "source": [
    "def isHappy2(n) -> bool:\n",
    "        dst = set([n,4]) # to find the initial value, and 4 is a close loop\n",
    "        while 1:\n",
    "            n = sum(int(i)**2 for i in str(n)) # get the transformation\n",
    "            if n == 1:\n",
    "                return True #satisfied,and return\n",
    "            elif n in dst:\n",
    "                return False\n",
    "            dst.union([n])#expand the distinguish library"
   ]
  },
  {
   "cell_type": "markdown",
   "metadata": {},
   "source": [
    "# 3. Maximum Subarray"
   ]
  },
  {
   "cell_type": "markdown",
   "metadata": {},
   "source": [
    "Given an integer array nums, find the contiguous subarray (containing at least one number) which has the largest sum and return its sum.\n",
    "\n",
    "Example:  \n",
    "Input: [-2,1,-3,4,-1,2,1,-5,4],  \n",
    "Output: 6  \n",
    "Explanation: [4,-1,2,1] has the largest sum = 6.  \n",
    "\n",
    "Follow up:  \n",
    "If you have figured out the O(n) solution, try coding another solution using the divide and conquer approach, which is more subtle."
   ]
  },
  {
   "cell_type": "code",
   "execution_count": 290,
   "metadata": {},
   "outputs": [],
   "source": [
    "def maxSubArray(nums) -> int:\n",
    "    tmp = dst = nums[0]\n",
    "    for num in nums[1:]:\n",
    "        tmp = max(num,tmp+num)\n",
    "        dst = max(tmp,dst)\n",
    "    return dst"
   ]
  },
  {
   "cell_type": "code",
   "execution_count": 291,
   "metadata": {},
   "outputs": [
    {
     "name": "stdout",
     "output_type": "stream",
     "text": [
      "Wall time: 0 ns\n",
      "6\n"
     ]
    }
   ],
   "source": [
    "%time\n",
    "nums = [-2,1,-3,4,-1,2,1,-5,4]\n",
    "print(maxSubArray(nums))"
   ]
  },
  {
   "cell_type": "code",
   "execution_count": 275,
   "metadata": {},
   "outputs": [
    {
     "name": "stdout",
     "output_type": "stream",
     "text": [
      "i: 1 j: 2 [1] 1 -2\n",
      "i: 1 j: 3 [1, -3] -2 [1]\n"
     ]
    },
    {
     "ename": "TypeError",
     "evalue": "'>' not supported between instances of 'int' and 'list'",
     "output_type": "error",
     "traceback": [
      "\u001b[1;31m---------------------------------------------------------------------------\u001b[0m",
      "\u001b[1;31mTypeError\u001b[0m                                 Traceback (most recent call last)",
      "\u001b[1;32m<ipython-input-275-1ba91dc05b22>\u001b[0m in \u001b[0;36m<module>\u001b[1;34m\u001b[0m\n\u001b[0;32m      6\u001b[0m     \u001b[1;32mfor\u001b[0m \u001b[0mj\u001b[0m \u001b[1;32min\u001b[0m \u001b[0mrange\u001b[0m\u001b[1;33m(\u001b[0m\u001b[0mi\u001b[0m\u001b[1;33m+\u001b[0m\u001b[1;36m1\u001b[0m\u001b[1;33m,\u001b[0m\u001b[0mlen\u001b[0m\u001b[1;33m(\u001b[0m\u001b[0mnums\u001b[0m\u001b[1;33m)\u001b[0m\u001b[1;33m)\u001b[0m\u001b[1;33m:\u001b[0m\u001b[1;33m\u001b[0m\u001b[1;33m\u001b[0m\u001b[0m\n\u001b[0;32m      7\u001b[0m         \u001b[0mprint\u001b[0m\u001b[1;33m(\u001b[0m\u001b[1;34m\"i:\"\u001b[0m\u001b[1;33m,\u001b[0m\u001b[0mi\u001b[0m\u001b[1;33m,\u001b[0m\u001b[1;34m\"j:\"\u001b[0m\u001b[1;33m,\u001b[0m\u001b[0mj\u001b[0m\u001b[1;33m,\u001b[0m\u001b[0mnums\u001b[0m\u001b[1;33m[\u001b[0m\u001b[0mi\u001b[0m\u001b[1;33m:\u001b[0m\u001b[0mj\u001b[0m\u001b[1;33m]\u001b[0m\u001b[1;33m,\u001b[0m\u001b[0msum\u001b[0m\u001b[1;33m(\u001b[0m\u001b[0mnums\u001b[0m\u001b[1;33m[\u001b[0m\u001b[0mi\u001b[0m\u001b[1;33m:\u001b[0m\u001b[0mj\u001b[0m\u001b[1;33m]\u001b[0m\u001b[1;33m)\u001b[0m\u001b[1;33m,\u001b[0m\u001b[0mmaxsub\u001b[0m\u001b[1;33m)\u001b[0m\u001b[1;33m\u001b[0m\u001b[1;33m\u001b[0m\u001b[0m\n\u001b[1;32m----> 8\u001b[1;33m         \u001b[1;32mif\u001b[0m \u001b[0msum\u001b[0m\u001b[1;33m(\u001b[0m\u001b[0mnums\u001b[0m\u001b[1;33m[\u001b[0m\u001b[0mi\u001b[0m\u001b[1;33m:\u001b[0m\u001b[0mj\u001b[0m\u001b[1;33m]\u001b[0m\u001b[1;33m)\u001b[0m \u001b[1;33m>\u001b[0m \u001b[0mmaxsub\u001b[0m\u001b[1;33m:\u001b[0m\u001b[1;33m\u001b[0m\u001b[1;33m\u001b[0m\u001b[0m\n\u001b[0m\u001b[0;32m      9\u001b[0m             \u001b[0mmaxsub\u001b[0m \u001b[1;33m=\u001b[0m \u001b[0mnums\u001b[0m\u001b[1;33m[\u001b[0m\u001b[0mi\u001b[0m\u001b[1;33m:\u001b[0m\u001b[0mj\u001b[0m\u001b[1;33m]\u001b[0m\u001b[1;33m\u001b[0m\u001b[1;33m\u001b[0m\u001b[0m\n\u001b[0;32m     10\u001b[0m         \u001b[1;32melse\u001b[0m\u001b[1;33m:\u001b[0m \u001b[0mmaxsub\u001b[0m \u001b[1;33m=\u001b[0m \u001b[0mmaxsub\u001b[0m\u001b[1;33m\u001b[0m\u001b[1;33m\u001b[0m\u001b[0m\n",
      "\u001b[1;31mTypeError\u001b[0m: '>' not supported between instances of 'int' and 'list'"
     ]
    }
   ],
   "source": [
    "subarr = []\n",
    "nums = [-2,1,-3,4,-1,2,1,-5,4]\n",
    "\n",
    "for i in range(1,len(nums)-1):\n",
    "    maxsub = nums[0]\n",
    "    for j in range(i+1,len(nums)):\n",
    "        print(\"i:\",i,\"j:\",j,nums[i:j],sum(nums[i:j]),maxsub)\n",
    "        if sum(nums[i:j]) > maxsub:\n",
    "            maxsub = nums[i:j]\n",
    "        else: maxsub = maxsub"
   ]
  },
  {
   "cell_type": "code",
   "execution_count": 287,
   "metadata": {},
   "outputs": [
    {
     "name": "stdout",
     "output_type": "stream",
     "text": [
      "1 1\n",
      "-2 1\n",
      "4 4\n",
      "3 4\n",
      "5 5\n",
      "6 6\n",
      "1 6\n",
      "5 6\n"
     ]
    }
   ],
   "source": [
    "nums = [-2,1,-3,4,-1,2,1,-5,4]\n",
    "tmp = dst = nums[0]\n",
    "for num in nums[1:]:\n",
    "    tmp = max(num,tmp+num)\n",
    "    dst = max(tmp,dst)\n",
    "    print(tmp,dst)"
   ]
  },
  {
   "cell_type": "code",
   "execution_count": null,
   "metadata": {},
   "outputs": [],
   "source": [
    "nums = [-2,1,-3,4,-1,2,1,-5,4]\n",
    "num = 1,  tmp = max(1,-2+1)=1,  dst = max(1,-2)=1\n",
    "num = -3, tmp = max(-3,1-3)=-2, dst = max(--2,1)=1\n",
    "num = 4,  tmp = max(4,4-2)=4,   dst = max(4,1)=4\n",
    "num = -1, tmp = max(-1,4-1)=3,  dst = max(3,4)=4\n",
    "num = 2,  tmp = max(2,3+2)=5,   dst = max(5,4)=5\n",
    "num = 1,  tmp = max(1,5+1)=6,   dst = max(6,5)=6\n",
    "num = -5, tmp = max(-5,-5+6)=1, dst = max(1,6)=6\n",
    "num = 4,  tmp = max(4,1+4)=5,   dst = max(5,6)=6\n",
    "          tmp保证连续性，比较当前值与前subarr。\n",
    "                                dst比较历史值"
   ]
  },
  {
   "cell_type": "markdown",
   "metadata": {},
   "source": [
    "# 4. Move Zeroes"
   ]
  },
  {
   "cell_type": "markdown",
   "metadata": {},
   "source": [
    "Given an array nums, write a function to move all 0's to the end of it while maintaining the relative order of the non-zero elements.  \n",
    "Example:  \n",
    "Input: [0,1,0,3,12]\n",
    "Output: [1,3,12,0,0]  \n",
    "Note:  \n",
    "You must do this in-place without making a copy of the array.  \n",
    "Minimize the total number of operations.\n",
    "\n",
    "**Hide Hint 1**   \n",
    "In-place means we should not be allocating any space for extra array. But we are allowed to modify the existing array. However, as a first step, try coming up with a solution that makes use of additional space. For this problem as well, first apply the idea discussed using an additional array and the in-place solution will pop up eventually.  \n",
    "**Hide Hint 2**     \n",
    "A two-pointer approach could be helpful here. The idea would be to have one pointer for iterating the array and another pointer that just works on the non-zero elements of the array."
   ]
  },
  {
   "cell_type": "code",
   "execution_count": 174,
   "metadata": {},
   "outputs": [],
   "source": [
    "def moveZeroes(nums) -> None:\n",
    "    \"\"\"\n",
    "    Do not return anything, modify nums in-place instead.\n",
    "    \"\"\"\n",
    "    #len_diff = nums.count(0)\n",
    "    len_old = len(nums)\n",
    "    while 0 in nums:\n",
    "        nums.remove(0)\n",
    "    len_diff = len_old - len(nums)\n",
    "    nums.extend([0]*len_diff)\n",
    "    return nums"
   ]
  },
  {
   "cell_type": "code",
   "execution_count": 175,
   "metadata": {},
   "outputs": [
    {
     "name": "stdout",
     "output_type": "stream",
     "text": [
      "Wall time: 0 ns\n",
      "[1, 3, 12, 0, 0]\n"
     ]
    }
   ],
   "source": [
    "nums = [0,1,0,3,12] \n",
    "%time\n",
    "print(moveZeroes(nums))"
   ]
  },
  {
   "cell_type": "markdown",
   "metadata": {},
   "source": [
    "# 5. Best Time to Buy and Sell Stock II"
   ]
  },
  {
   "cell_type": "markdown",
   "metadata": {},
   "source": [
    "Say you have an array prices for which the ith element is the price of a given stock on day i.\n",
    "\n",
    "Design an algorithm to find the maximum profit. You may complete as many transactions as you like (i.e., buy one and sell one share of the stock multiple times).\n",
    "\n",
    "Note: You may not engage in multiple transactions at the same time (i.e., you must sell the stock before you buy again).\n",
    "\n",
    "Example 1:\n",
    "\n",
    "Input: [7,1,5,3,6,4]  \n",
    "Output: 7  \n",
    "Explanation: Buy on day 2 (price = 1) and sell on day 3 (price = 5), profit = 5-1 = 4.  \n",
    "Then buy on day 4 (price = 3) and sell on day 5 (price = 6), profit = 6-3 = 3.  \n",
    "\n",
    "Example 2:\n",
    "\n",
    "Input: [1,2,3,4,5]  \n",
    "Output: 4  \n",
    "Explanation: Buy on day 1 (price = 1) and sell on day 5 (price = 5), profit = 5-1 = 4.  \n",
    "Note that you cannot buy on day 1, buy on day 2 and sell them later, as you are engaging multiple transactions at the same time. You must sell before buying again.\n",
    "\n",
    "Example 3:\n",
    "\n",
    "Input: [7,6,4,3,1]  \n",
    "Output: 0  \n",
    "Explanation: In this case, no transaction is done, i.e. max profit = 0.\n",
    " \n",
    "Constraints:  \n",
    "1 <= prices.length <= 3 * 10 ^ 4  \n",
    "0 <= prices[i] <= 10 ^ 4"
   ]
  },
  {
   "cell_type": "markdown",
   "metadata": {},
   "source": [
    "**My Solution**"
   ]
  },
  {
   "cell_type": "code",
   "execution_count": 32,
   "metadata": {},
   "outputs": [],
   "source": [
    "def maxProfit(prices) -> int:\n",
    "    profit = 0\n",
    "    for i in range(1,len(prices)):\n",
    "        if prices[i]>prices[i-1]:\n",
    "            profit += prices[i]-prices[i-1]\n",
    "    return profit"
   ]
  },
  {
   "cell_type": "markdown",
   "metadata": {},
   "source": [
    "**Solution2**"
   ]
  },
  {
   "cell_type": "code",
   "execution_count": 41,
   "metadata": {},
   "outputs": [],
   "source": [
    "#Solution 2\n",
    "def maxProfit2(prices) -> int:\n",
    "    return sum(max((prices[i+1]-prices[i]),0) for i in range(len(prices)-1))"
   ]
  },
  {
   "cell_type": "code",
   "execution_count": 172,
   "metadata": {},
   "outputs": [
    {
     "name": "stdout",
     "output_type": "stream",
     "text": [
      "Wall time: 0 ns\n",
      "7\n",
      "4\n",
      "0\n",
      "Wall time: 0 ns\n",
      "7\n"
     ]
    }
   ],
   "source": [
    "prices1 = [7,1,5,3,6,4]\n",
    "prices2 = [1,2,3,4,5]\n",
    "prices3 = [7,6,4,3,1]\n",
    "%time\n",
    "print(maxProfit(prices1))\n",
    "print(maxProfit(prices2))\n",
    "print(maxProfit(prices3))\n",
    "%time\n",
    "print(maxProfit(prices1))\n"
   ]
  },
  {
   "cell_type": "markdown",
   "metadata": {},
   "source": [
    "# 6. Group Anagrams"
   ]
  },
  {
   "cell_type": "markdown",
   "metadata": {},
   "source": [
    "Given an array of strings, group anagrams together.  \n",
    "\n",
    "Example:  \n",
    "Input: [\"eat\", \"tea\", \"tan\", \"ate\", \"nat\", \"bat\"],  \n",
    "Output:  \n",
    "[[\"ate\",\"eat\",\"tea\"],  \n",
    " [\"nat\",\"tan\"],  \n",
    " [\"bat\"]]\n",
    "\n",
    "Note:  \n",
    "All inputs will be in lowercase.  \n",
    "The order of your output does not matter."
   ]
  },
  {
   "cell_type": "markdown",
   "metadata": {},
   "source": [
    "**My Solution**"
   ]
  },
  {
   "cell_type": "code",
   "execution_count": 160,
   "metadata": {},
   "outputs": [],
   "source": [
    "def groupAnagrams(strs):\n",
    "    str_dst = []\n",
    "    index = []\n",
    "    k = -1\n",
    "    for i in range(len(strs)): \n",
    "        if i in index:\n",
    "            continue\n",
    "        else:\n",
    "            k += 1\n",
    "            str_dst.extend([[strs[i]]])  \n",
    "            for j in range(i+1,len(strs)-1):\n",
    "                if set(strs[i])== set(strs[j]):\n",
    "                    index.append(j)\n",
    "                    str_dst[k].extend([strs[j]])\n",
    "    return str_dst"
   ]
  },
  {
   "cell_type": "markdown",
   "metadata": {},
   "source": [
    "**Solution2**"
   ]
  },
  {
   "cell_type": "code",
   "execution_count": 179,
   "metadata": {},
   "outputs": [],
   "source": [
    "from collections import defaultdict\n",
    "def groupAnagrams2(strs):\n",
    "    groups = defaultdict(list)\n",
    "    for s in strs:\n",
    "        groups[tuple(sorted(s))].append(s)\n",
    "    return list(groups.values())"
   ]
  },
  {
   "cell_type": "code",
   "execution_count": 180,
   "metadata": {},
   "outputs": [
    {
     "name": "stdout",
     "output_type": "stream",
     "text": [
      "Wall time: 0 ns\n",
      "[['eat', 'tea', 'ate'], ['tan', 'nat'], ['bat']]\n",
      "Wall time: 0 ns\n",
      "[['eat', 'tea', 'ate'], ['tan', 'nat'], ['bat']]\n"
     ]
    },
    {
     "data": {
      "text/plain": [
       "True"
      ]
     },
     "execution_count": 180,
     "metadata": {},
     "output_type": "execute_result"
    }
   ],
   "source": [
    "strs =  [\"eat\", \"tea\", \"tan\", \"ate\", \"nat\", \"bat\"]\n",
    "%time\n",
    "print(groupAnagrams(strs))\n",
    "%time\n",
    "print(groupAnagrams2(strs))\n",
    "groupAnagrams(strs) == groupAnagrams2(strs)"
   ]
  },
  {
   "cell_type": "code",
   "execution_count": 16,
   "metadata": {},
   "outputs": [
    {
     "name": "stdout",
     "output_type": "stream",
     "text": [
      "dict_values([['eat', 'tea', 'ate'], ['tan', 'nat'], ['bat']])\n"
     ]
    }
   ],
   "source": [
    "strs =  [\"eat\", \"tea\", \"tan\", \"ate\", \"nat\", \"bat\"]\n",
    "groups = defaultdict(list)\n",
    "for s in strs:\n",
    "    #groups[tuple(sorted(s))].append(s)\n",
    "    groups[tuple(sorted(s))].append(s)\n",
    "    #print(groups)\n",
    "#list(groups.values())\n",
    "print(groups.values())"
   ]
  },
  {
   "cell_type": "code",
   "execution_count": 9,
   "metadata": {},
   "outputs": [
    {
     "name": "stdout",
     "output_type": "stream",
     "text": [
      "defaultdict(<class 'int'>, {'apple': 3, 'orange': 1, 'cherry': 2, 'blueberry': 1})\n"
     ]
    }
   ],
   "source": [
    "from collections import defaultdict\n",
    "bag = ['apple', 'orange', 'cherry', 'apple','apple', 'cherry', 'blueberry']\n",
    "count = defaultdict(int)\n",
    "for fruit in bag:\n",
    "    count[fruit] += 1\n",
    "print(count)"
   ]
  },
  {
   "cell_type": "markdown",
   "metadata": {},
   "source": [
    "# 7. Counting Elements"
   ]
  },
  {
   "cell_type": "markdown",
   "metadata": {},
   "source": [
    "Given an integer array arr, count element x such that x + 1 is also in arr.\n",
    "\n",
    "If there're duplicates in arr, count them seperately.  \n",
    "\n",
    "Example 1:  \n",
    "Input: arr = [1,2,3]  \n",
    "Output: 2  \n",
    "Explanation: 1 and 2 are counted cause 2 and 3 are in arr.  \n",
    "\n",
    "Example 2:    \n",
    "Input: arr = [1,1,3,3,5,5,7,7]  \n",
    "Output: 0  \n",
    "Explanation: No numbers are counted, cause there's no 2, 4, 6, or 8 in arr.  \n",
    "\n",
    "Example 3:  \n",
    "Input: arr = [1,3,2,3,5,0]  \n",
    "Output: 3  \n",
    "Explanation: 0, 1 and 2 are counted cause 1, 2 and 3 are in arr.  \n",
    "\n",
    "Example 4:  \n",
    "Input: arr = [1,1,2,2]  \n",
    "Output: 2  \n",
    "Explanation: Two 1s are counted cause 2 is in arr.  \n",
    "\n",
    "Constraints:  \n",
    "1 <= arr.length <= 1000  \n",
    "0 <= arr[i] <= 1000"
   ]
  },
  {
   "cell_type": "markdown",
   "metadata": {},
   "source": [
    "**My Solution**"
   ]
  },
  {
   "cell_type": "code",
   "execution_count": 25,
   "metadata": {},
   "outputs": [],
   "source": [
    "def countElements(arr) -> int:\n",
    "    count = 0\n",
    "    for a in arr:\n",
    "        if a+1 in arr:\n",
    "            count += 1\n",
    "    return count"
   ]
  },
  {
   "cell_type": "code",
   "execution_count": 30,
   "metadata": {},
   "outputs": [
    {
     "name": "stdout",
     "output_type": "stream",
     "text": [
      "Wall time: 0 ns\n",
      "2\n",
      "0\n",
      "3\n",
      "2\n"
     ]
    }
   ],
   "source": [
    "arr1 = [1,2,3]\n",
    "arr2 = [1,1,3,3,5,5,7,7]\n",
    "arr3 = [1,3,2,3,5,0]\n",
    "arr4 = [1,1,2,2]\n",
    "%time\n",
    "print(countElements(arr1))\n",
    "print(countElements(arr2))\n",
    "print(countElements(arr3))\n",
    "print(countElements(arr4))"
   ]
  }
 ],
 "metadata": {
  "kernelspec": {
   "display_name": "Python 3",
   "language": "python",
   "name": "python3"
  },
  "language_info": {
   "codemirror_mode": {
    "name": "ipython",
    "version": 3
   },
   "file_extension": ".py",
   "mimetype": "text/x-python",
   "name": "python",
   "nbconvert_exporter": "python",
   "pygments_lexer": "ipython3",
   "version": "3.6.9"
  }
 },
 "nbformat": 4,
 "nbformat_minor": 2
}

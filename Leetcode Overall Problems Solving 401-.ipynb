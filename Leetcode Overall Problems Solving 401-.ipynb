{
 "cells": [
  {
   "cell_type": "code",
   "execution_count": 1,
   "metadata": {},
   "outputs": [],
   "source": [
    "from IPython.core.interactiveshell import InteractiveShell\n",
    "InteractiveShell.ast_node_interactivity = \"all\" "
   ]
  },
  {
   "cell_type": "markdown",
   "metadata": {},
   "source": [
    "# 404. Sum of Left Leaves\n",
    "\n",
    "Find the sum of all left leaves in a given binary tree.  \n",
    "Example:  \n",
    "[3,9,null,null,20,15,7]  \n",
    "There are two left leaves in the binary tree, with values 9 and 15 respectively. Return 24.\n",
    "\n",
    "### Idea:\n",
    "- helper function to find all left Leaves\n",
    "- sum"
   ]
  },
  {
   "cell_type": "code",
   "execution_count": null,
   "metadata": {},
   "outputs": [],
   "source": [
    "# Definition for a binary tree node.\n",
    "# class TreeNode:\n",
    "#     def __init__(self, val=0, left=None, right=None):\n",
    "#         self.val = val\n",
    "#         self.left = left\n",
    "#         self.right = right\n",
    "class Solution:\n",
    "    def sumOfLeftLeaves(self, root: TreeNode) -> int:\n",
    "        def helper(root,direction=\"\"):\n",
    "            if not root:\n",
    "                return 0\n",
    "            if not root.left and not root.right: #determine leaf node\n",
    "                if direction == \"l\":\n",
    "                    return root.val\n",
    "            left, right = 0, 0\n",
    "            if root.left:\n",
    "                left = helper(root.left,direction=\"l\")\n",
    "            if root.right:\n",
    "                left = helper(root.left,direction=\"r\")\n",
    "            return left + right\n",
    "                \n",
    "        return helper(root,\"\")"
   ]
  },
  {
   "cell_type": "code",
   "execution_count": null,
   "metadata": {},
   "outputs": [],
   "source": [
    "# Definition for a binary tree node.\n",
    "# class TreeNode:\n",
    "#     def __init__(self, val=0, left=None, right=None):\n",
    "#         self.val = val\n",
    "#         self.left = left\n",
    "#         self.right = right\n",
    "class Solution:\n",
    "    def sumOfLeftLeaves(self, root: TreeNode) -> int:\n",
    "    \n",
    "        def helper(root,flag): #True:left, False:right\n",
    "            if not root:\n",
    "                return 0\n",
    "            if not root.left and not root.right and flag==True: #leaf node of left-subtree\n",
    "                return root.val\n",
    "            else:\n",
    "                return helper(root.left,True) + helper(root.right,False)\n",
    "        if not root:\n",
    "            return 0\n",
    "        else:\n",
    "            return helper(root.left,True) + helper(root.right,False)"
   ]
  },
  {
   "cell_type": "code",
   "execution_count": null,
   "metadata": {},
   "outputs": [],
   "source": [
    "# Definition for a binary tree node.\n",
    "# class TreeNode:\n",
    "#     def __init__(self, val=0, left=None, right=None):\n",
    "#         self.val = val\n",
    "#         self.left = left\n",
    "#         self.right = right\n",
    "class Solution:\n",
    "    def sumOfLeftLeaves(self, root: TreeNode) -> int:\n",
    "        if not root:\n",
    "            return 0\n",
    "        if root.left and not root.left.left and not root.left.right:\n",
    "            return root.left.val + self.sumOfLeftLeaves(root.right)\n",
    "        return self.sumOfLeftLeaves(root.left) + self.sumOfLeftLeaves(root.right)\n",
    "        "
   ]
  },
  {
   "cell_type": "markdown",
   "metadata": {},
   "source": [
    "# 408. Valid Word Abbreviation\n",
    "\n",
    "Given a non-empty string s and an abbreviation abbr, return whether the string matches with the given abbreviation.  \n",
    "A string such as \"word\" contains only the following valid abbreviations:  \n",
    "[\"word\", \"1ord\", \"w1rd\", \"wo1d\", \"wor1\", \"2rd\", \"w2d\", \"wo2\", \"1o1d\", \"1or1\", \"w1r1\", \"1o2\", \"2r1\", \"3d\", \"w3\", \"4\"], **digit->num of chars**\n",
    "\n",
    "Notice that only the above abbreviations are valid abbreviations of the string \"word\". Any other string is not a valid abbreviation of \"word\".\n",
    "\n",
    "Note: Assume s contains only lowercase letters and abbr contains only lowercase letters and digits.\n",
    "\n",
    "Example 1:  \n",
    "Given s = \"internationalization\", abbr = \"i12iz4n\":  \n",
    "Return true.\n",
    " \n",
    "Example 2:  \n",
    "Given s = \"apple\", abbr = \"a2e\":  \n",
    "Return false.\n",
    "\n",
    "### Idea:\n",
    "- while loop in word and abbr, 2 pointers. i for abbr, j for word.\n",
    "- case 1: is not digit\n",
    "- case 2: digit\n",
    "    - if 0 shows up in abbr, return False\n",
    "    - while loop to find the num, not 1 but 12\n",
    "    - return j == len(word)"
   ]
  },
  {
   "cell_type": "code",
   "execution_count": null,
   "metadata": {},
   "outputs": [],
   "source": [
    "def ValidWordAbbreviation(word,abbr):\n",
    "    i,j = 0, 0\n",
    "    while i < len(abbr):\n",
    "        if j >= len(word):\n",
    "            return False\n",
    "        if not abbr[i].isdigit():  #letter case\n",
    "            if abbr[i] != word[j]:\n",
    "                return False\n",
    "            i += 1\n",
    "            j += 1\n",
    "        else:                      #digit case\n",
    "            if abbr[i] == '0':\n",
    "                return False\n",
    "            n = ''\n",
    "            while i < len(abbr) and abbr[i].isdigit(): #find how many digit\n",
    "                n += abbr[i]\n",
    "                i += 1\n",
    "            j += int(n)\n",
    "    return j == len(word)\n",
    "\n",
    "word = \"internationalization\" \n",
    "abbr = \"i12iz4n\"\n",
    "ValidWordAbbreviation(word,abbr)"
   ]
  },
  {
   "cell_type": "markdown",
   "metadata": {},
   "source": [
    "# 409. Longest Palindrome\n",
    "\n",
    "Given a string which consists of lowercase or uppercase letters, find the length of the longest palindromes that can be built with those letters.This is case sensitive, for example \"Aa\" is not considered a palindrome here.  \n",
    "Note: Assume the length of given string will not exceed 1,010.\n",
    "Example:  \n",
    "Input: \"abccccdd\"  \n",
    "Output: 7   \n",
    "Explanation: One longest palindrome that can be built is \"dccaccd\", whose length is 7.\n",
    "\n",
    "### Idea:\n",
    "- 出现双数的字母保留，出现单数的字母保留其双数部分。\n",
    "- 如果最后个数与字符串长度相同，直接返回，不同的话可以任意在中心加上一个字母构成中心对称。"
   ]
  },
  {
   "cell_type": "code",
   "execution_count": 14,
   "metadata": {},
   "outputs": [
    {
     "data": {
      "text/plain": [
       "7"
      ]
     },
     "execution_count": 14,
     "metadata": {},
     "output_type": "execute_result"
    },
    {
     "data": {
      "text/plain": [
       "7"
      ]
     },
     "execution_count": 14,
     "metadata": {},
     "output_type": "execute_result"
    }
   ],
   "source": [
    "import collections\n",
    "def longestPalindrome(s: str) -> int:\n",
    "    d = collections.Counter(s)\n",
    "    count = 0\n",
    "    for i in d:\n",
    "        count += d[i] // 2 * 2\n",
    "    return count if count==len(s) else count+1\n",
    "s = \"abccccdd\"\n",
    "longestPalindrome(s)\n",
    "\n",
    "#Runtime: 24 ms, faster than 96.46% of Python3 online submissions for Longest Palindrome.\n",
    "#Memory Usage: 13.8 MB, less than 69.93% of Python3 online submissions for Longest Palindrome.\n",
    "\n",
    "def longestPalindrome2(s: str) -> int:\n",
    "    counts = collections.Counter(s)\n",
    "    ans = 0\n",
    "    for k, v in counts.items():\n",
    "        ans += v // 2 * 2\n",
    "        if v % 2 == 1 and ans % 2 == 0:\n",
    "            ans += 1\n",
    "    return ans\n",
    "s = \"abccccdd\"\n",
    "longestPalindrome2(s)"
   ]
  },
  {
   "cell_type": "markdown",
   "metadata": {},
   "source": [
    "# 412. Fizz Buzz\n",
    "\n",
    "Write a program that outputs the string representation of numbers from 1 to n.  \n",
    "But for multiples of three it should output “Fizz” instead of the number and for the multiples of five output “Buzz”. For numbers which are multiples of both three and five output “FizzBuzz”.\n",
    "\n",
    "Example:  \n",
    "n = 15,  \n",
    "Return:  \n",
    "[\n",
    "    \"1\",  \n",
    "    \"2\",  \n",
    "    \"Fizz\",  \n",
    "    \"4\",  \n",
    "    \"Buzz\",  \n",
    "    \"Fizz\",  \n",
    "    \"7\",  \n",
    "    \"8\",  \n",
    "    \"Fizz\",  \n",
    "    \"Buzz\",  \n",
    "    \"11\",  \n",
    "    \"Fizz\",  \n",
    "    \"13\",  \n",
    "    \"14\",  \n",
    "    \"FizzBuzz\"]"
   ]
  },
  {
   "cell_type": "code",
   "execution_count": null,
   "metadata": {},
   "outputs": [],
   "source": [
    "def fizzBuzz(n: int):\n",
    "# 3的倍数  Fizz\n",
    "# 5的倍数  Buzz\n",
    "# 15的倍数 FizzBuzz \n",
    "    result = []\n",
    "    for i in range(1,n+1):\n",
    "        if i%15 == 0:\n",
    "            result.append(\"FizzBuzz\")\n",
    "        elif i%5 == 0:\n",
    "            result.append(\"Buzz\")\n",
    "\n",
    "        elif i%3 == 0:\n",
    "            result.append(\"Fizz\")\n",
    "        else: \n",
    "            result.append(str(i))\n",
    "    return result\n",
    "\n",
    "n = 15\n",
    "fizzBuzz(n)"
   ]
  },
  {
   "cell_type": "markdown",
   "metadata": {},
   "source": [
    "# 414. Third Maximum Number\n",
    "\n",
    "Given a non-empty array of integers, return the third maximum number in this array. If it does not exist, return the maximum number. The time complexity must be in **O(n)**.\n",
    "\n",
    "Example 1:  \n",
    "Input: [3, 2, 1]  \n",
    "Output: 1  \n",
    "Explanation: The third maximum is 1.  \n",
    "\n",
    "Example 2:  \n",
    "Input: [1, 2]    \n",
    "Output: 2  \n",
    "Explanation: The third maximum does not exist, so the maximum (2) is returned instead.\n",
    "\n",
    "Example 3:   \n",
    "Input: [2, 2, 3, 1]    \n",
    "Output: 1  \n",
    "\n",
    "Explanation: Note that the third maximum here means the third maximum distinct number.  \n",
    "Both numbers with value 2 are both considered as second maximum.\n",
    "\n",
    "### My Solution - list(set(nums)).sort()"
   ]
  },
  {
   "cell_type": "code",
   "execution_count": null,
   "metadata": {},
   "outputs": [],
   "source": [
    "def thirdMax(nums) -> int:\n",
    "    nums_ = list(set(nums))\n",
    "    nums_.sort()\n",
    "    if len(nums_) < 3:\n",
    "        return nums_[-1]\n",
    "    else:\n",
    "        return nums_[-3]\n",
    "nums1 = [3, 2, 1]\n",
    "nums2 = [1, 2]\n",
    "nums3 = [2, 2, 3, 1]\n",
    "%timeit thirdMax(nums3) "
   ]
  },
  {
   "cell_type": "markdown",
   "metadata": {},
   "source": [
    "# 419. Battleships in a Board -DFS\n",
    "\n",
    "Given an 2D board, count how many battleships are in it. The battleships are represented with 'X's, empty slots are represented with '.'s. You may assume the following rules:\n",
    "You receive a valid board, made of only battleships or empty slots.  \n",
    "Battleships can only be placed horizontally or vertically. In other words, they can only be made of the shape 1xN (1 row, N columns) or Nx1 (N rows, 1 column), where N can be of any size.\n",
    "At least one horizontal or vertical cell separates between two battleships - there are no adjacent battleships.  \n",
    "Example:  \n",
    "X..X  \n",
    "...X  \n",
    "...X  \n",
    "In the above board there are 2 battleships.  \n",
    "Invalid Example:  \n",
    "...X  \n",
    "XXXX  \n",
    "...X  \n",
    "This is an invalid board that you will not receive - as battleships will always have a cell separating between them.  \n",
    "Follow up:  \n",
    "Could you do it in one-pass, using only O(1) extra memory and without modifying the value of the board?\n",
    "\n",
    "### Idea: condition based on valid board.\n",
    "- 矩阵遍历每个点，如果是 'X',计数+1。通过 dfs func 去深入判断它相邻四个点是否是'X'，即判断是单个 or 成行 or 成列。\n",
    "- dfs func: 保证遍历的点仍在board上。为后续遍历，仍需判断如果'.'，return。需要把当前点改为'.'防止陷入死循环。从当前点recursion dfs func相邻四点。\n",
    "\n",
    "\n",
    "- define count variable: count\n",
    "- traversal to find 'X', count += 1\n",
    "- dfs func to find out is it a single Battleship or in a column or in a row.\n",
    "\n",
    "- dfs func: for recursion to judge 4 adjacent points.\n",
    "    - is_valid func: make sure it is still on board, not overflow.\n",
    "    - if it is '.': return\n",
    "    - dfs recusion 4 adjacent points"
   ]
  },
  {
   "cell_type": "code",
   "execution_count": null,
   "metadata": {},
   "outputs": [],
   "source": [
    "def countBattleships(self, board: List[List[str]]) -> int:\n",
    "    \n",
    "    def is_valid(i,j):\n",
    "        if i<0 or j<0 or i>m or j>n:\n",
    "            return False\n",
    "        else:\n",
    "            return True\n",
    "        \n",
    "    def dfs(i,j):\n",
    "        if not is_valid(i,j):\n",
    "            return \n",
    "        if board[i][j] == '.':\n",
    "            return \n",
    "        board[i][j] == '.'\n",
    "        dfs(i,j-1)\n",
    "        dfs(i,j+1)\n",
    "        dfs(i-1,j)\n",
    "        dfs(i+1,j)\n",
    "        \n",
    "    if not board:\n",
    "        return\n",
    "    \n",
    "    m, n = len(board), len(board[0])\n",
    "    count = 0\n",
    "    for i in range(m):\n",
    "        for j in range(n):\n",
    "            if board[i][j] == 'X':\n",
    "                count += 1\n",
    "                dfs(i,j)"
   ]
  },
  {
   "cell_type": "code",
   "execution_count": null,
   "metadata": {},
   "outputs": [],
   "source": [
    "def countBattleships(board) -> int:\n",
    "    count=0\n",
    "    for row in range(len(board)):\n",
    "        for col in range(len(board[0])):\n",
    "            if board[row][col]=='X':\n",
    "                if row>0 and board[row-1][col]=='X' or col>0 and board[row][col-1]=='X':\n",
    "                    continue\n",
    "                count+=1\n",
    "    return count  \n",
    "\n",
    "\n",
    "board = [[\"X\",\".\",\".\",\"X\"],[\".\",\".\",\".\",\"X\"],[\".\",\".\",\".\",\"X\"]]\n",
    "countBattleships(board)"
   ]
  },
  {
   "cell_type": "markdown",
   "metadata": {},
   "source": [
    "# 429. N-ary Tree Level Order Traversal\n",
    "\n",
    "Given an n-ary tree, return the level order traversal of its nodes' values.  \n",
    "Nary-Tree input serialization is represented in their level order traversal, each group of children is separated by the null value (See examples).  \n",
    "\n",
    "Example 1:  \n",
    "Input: root = [1,null,3,2,4,null,5,6]  \n",
    "Output: [[1],[3,2,4],[5,6]] \n",
    "\n",
    "Example 2:  \n",
    "Input: root = [1,null,2,3,4,5,null,null,6,7,null,8,null,9,10,null,null,11,null,12,null,13,null,null,14]  \n",
    "Output: [[1],[2,3,4,5],[6,7,8,9,10],[11,12,13],[14]]\n",
    " \n",
    "Constraints:  \n",
    "The height of the n-ary tree is less than or equal to 1000  \n",
    "The total number of nodes is between [0, 10^4]\n",
    "\n",
    "### Idea:\n"
   ]
  },
  {
   "cell_type": "code",
   "execution_count": null,
   "metadata": {},
   "outputs": [],
   "source": [
    "\"\"\"\n",
    "# Definition for a Node.\n",
    "class Node:\n",
    "    def __init__(self, val=None, children=None):\n",
    "        self.val = val\n",
    "        self.children = children\n",
    "\"\"\"\n",
    "\n",
    "class Solution:\n",
    "    def levelOrder(self, root: 'Node') -> List[List[int]]:\n",
    "        if not root:\n",
    "            return []\n",
    "        \n",
    "        result, curr = [], [root]\n",
    "        while curr:\n",
    "            next_level, vals = [], []\n",
    "            for node in curr:\n",
    "                vals.append(node.val)\n",
    "                for child in node.children:\n",
    "                    next_level.append(child)\n",
    "            curr = next_level\n",
    "            result.append(vals)\n",
    "        return result"
   ]
  },
  {
   "cell_type": "markdown",
   "metadata": {},
   "source": [
    "# 443. String Compression\n",
    "\n",
    "Given an array of characters, **compress it in-place**.  \n",
    "The length after compression must always be smaller than or equal to the original array.  \n",
    "Every element of the array should be a character (not int) of length 1.  \n",
    "After you are done modifying the input array in-place, return the new length of the array.\n",
    "\n",
    "Follow up: Could you solve it using only O(1) extra space?\n",
    "\n",
    "Example 1:   \n",
    "Input: [\"a\",\"a\",\"b\",\"b\",\"c\",\"c\",\"c\"]  \n",
    "Output: Return 6, and the first 6 characters of the input array should be: [\"a\",\"2\",\"b\",\"2\",\"c\",\"3\"]\n",
    "\n",
    "Explanation: \"aa\" is replaced by \"a2\". \"bb\" is replaced by \"b2\". \"ccc\" is replaced by \"c3\".\n",
    "\n",
    "Example 2:   \n",
    "Input: [\"a\"]  \n",
    "Output:  Return 1, and the first 1 characters of the input array should be: [\"a\"]\n",
    "\n",
    "Explanation: Nothing is replaced.\n",
    " \n",
    "\n",
    "Example 3:  \n",
    "Input: [\"a\",\"b\",\"b\",\"b\",\"b\",\"b\",\"b\",\"b\",\"b\",\"b\",\"b\",\"b\",\"b\"]  \n",
    "Output: Return 4, and the first 4 characters of the input array should be: [\"a\",\"b\",\"1\",\"2\"].\n",
    "\n",
    "Explanation:  \n",
    "Since the character \"a\" does not repeat, it is not compressed. \"bbbbbbbbbbbb\" is replaced by \"b12\".  \n",
    "Notice each digit has it's own entry in the array.\n",
    " \n",
    "Note:  \n",
    "All characters have an ASCII value in [35, 126].  \n",
    "1 <= len(chars) <= 1000.\n",
    "\n",
    "### Idea:"
   ]
  },
  {
   "cell_type": "code",
   "execution_count": null,
   "metadata": {},
   "outputs": [],
   "source": [
    "## not in-place XXXXXXX\n",
    "def compress(chars) -> int:\n",
    "    length = len(chars)\n",
    "    result = []\n",
    "    i = 0\n",
    "    j = 0\n",
    "    while i < length: \n",
    "        while i < length and j < length and chars[j]==chars[i]:\n",
    "            j += 1\n",
    "        if (j-i) == 1:\n",
    "            result.append(chars[i])\n",
    "        else:\n",
    "            result.append(chars[i])\n",
    "            result.extend(num for num in str(j-i))\n",
    "        i += j\n",
    "    return result"
   ]
  },
  {
   "cell_type": "code",
   "execution_count": null,
   "metadata": {},
   "outputs": [],
   "source": [
    "## in-place\n",
    "def compress(chars) -> int:\n",
    "    n = len(chars)\n",
    "    i,count = 0, 1\n",
    "    for j in range(1,n+1):\n",
    "        if j < n and chars[j] ==chars[j-1]:\n",
    "            count += 1\n",
    "        else:\n",
    "            chars[i] = chars[j-1]\n",
    "            i += 1\n",
    "            if count > 1:\n",
    "                for m in str(count):\n",
    "                    chars[i] = m\n",
    "                    i += 1\n",
    "            count = 1\n",
    "    return i \n",
    "\n",
    "chars = [\"a\",\"b\",\"b\",\"b\",\"b\",\"b\",\"b\",\"b\",\"b\",\"b\",\"b\",\"b\",\"b\"]\n",
    "compress(chars)\n",
    "chars = [\"a\",\"a\",\"b\",\"b\",\"c\",\"c\",\"c\"]\n",
    "compress(chars)"
   ]
  },
  {
   "cell_type": "markdown",
   "metadata": {},
   "source": [
    "# 447. Number of Boomerangs\n",
    "\n",
    "Given n points in the plane that are all pairwise distinct, a \"boomerang\" is a tuple of points (i, j, k) such that the distance between i and j equals the distance between i and k (the order of the tuple matters).  \n",
    "Find the number of boomerangs. You may assume that n will be at most 500 and coordinates of points are all in the range [-10000, 10000] (inclusive).\n",
    "\n",
    "Example: \n",
    "Input: [[0,0],[1,0],[2,0]]  \n",
    "Output: 2\n",
    "\n",
    "Explanation: The two boomerangs are [[1,0],[0,0],[2,0]] and [[1,0],[2,0],[0,0]]\n",
    "\n",
    "### Idea:\n",
    "- 对于每个点，计算它与其他点的距离，**如果有k个距离为d的点，就有 k *(k-1）种组合**"
   ]
  },
  {
   "cell_type": "code",
   "execution_count": 30,
   "metadata": {},
   "outputs": [
    {
     "data": {
      "text/plain": [
       "8"
      ]
     },
     "execution_count": 30,
     "metadata": {},
     "output_type": "execute_result"
    }
   ],
   "source": [
    "def numberOfBoomerangs1(points) -> int:\n",
    "    result = 0\n",
    "    for x1, y1 in points:\n",
    "        import collections\n",
    "        D = collections.defaultdict(int)\n",
    "        for x2, y2 in points:\n",
    "            D[(x2-x1)**2+(y2-y1)**2] += 1\n",
    "        for d in D:\n",
    "            result += D[d]*(D[d]-1)\n",
    "    return result\n",
    "                \n",
    "points =  [[0,0],[1,0],[2,0],[1,-1]]\n",
    "numberOfBoomerangs1(points)"
   ]
  },
  {
   "cell_type": "markdown",
   "metadata": {},
   "source": [
    "# 448. Find All Numbers Disappeared in an Array\n",
    "\n",
    "Given an array of integers where 1 ≤ a[i] ≤ n (n = size of array), some elements appear twice and others appear once.  \n",
    "Find all the elements of [1, n] inclusive that do not appear in this array.  \n",
    "Could you do it **without extra space and in O(n) runtime**? You may assume the returned list does not count as extra space.\n",
    "\n",
    "Example:  \n",
    "Input:  [4,3,2,7,8,2,3,1]  \n",
    "Output:  [5,6]\n",
    "\n",
    "### My Solution \n",
    "1. collections.Counter\n",
    "2. set() - set() -- difference set"
   ]
  },
  {
   "cell_type": "code",
   "execution_count": null,
   "metadata": {},
   "outputs": [],
   "source": [
    "def findDisappearedNumbers(nums):\n",
    "    from collections import Counter\n",
    "    nums_counter = Counter(nums)\n",
    "    result = []\n",
    "    for i in range(1,len(nums)+1):\n",
    "        if i not in nums_counter:\n",
    "            result.append(i)\n",
    "    return result"
   ]
  },
  {
   "cell_type": "code",
   "execution_count": null,
   "metadata": {},
   "outputs": [],
   "source": [
    "def findDisappearedNumbers2(nums):\n",
    "    return list(set([i for i in range(1,len(nums)+1)]) - (set(nums)))"
   ]
  },
  {
   "cell_type": "code",
   "execution_count": null,
   "metadata": {},
   "outputs": [],
   "source": [
    "nums = [4,3,2,7,8,2,3,1]\n",
    "findDisappearedNumbers2(nums)    "
   ]
  },
  {
   "cell_type": "markdown",
   "metadata": {},
   "source": [
    "# 475. Heaters\n",
    "\n",
    "Winter is coming! Your first job during the contest is to design a standard heater with fixed warm radius to warm all the houses.  \n",
    "Now, you are given positions of houses and heaters on a horizontal line, find out minimum radius of heaters so that all houses could be covered by those heaters.  \n",
    "So, your input will be the positions of houses and heaters seperately, and your expected output will be the minimum radius standard of heaters.\n",
    "\n",
    "Note:  \n",
    "Numbers of houses and heaters you are given are non-negative and will not exceed 25000.  \n",
    "Positions of houses and heaters you are given are non-negative and will not exceed 10^9.  \n",
    "As long as a house is in the heaters' warm radius range, it can be warmed.  \n",
    "All the heaters follow your radius standard and the warm radius will the same.\n",
    " \n",
    "Example 1:  \n",
    "Input: [1,2,3],[2]  \n",
    "Output: 1  \n",
    "Explanation: The only heater was placed in the position 2, and if we use the radius 1 standard, then all the houses can be warmed.\n",
    "  \n",
    "Example 2:  \n",
    "Input: [1,2,3,4],[1,4]  \n",
    "Output: 1  \n",
    "Explanation: The two heater was placed in the position 1 and 4. We need to use radius 1 standard, then all the houses can be warmed.\n",
    "\n",
    "###  Idea:\n",
    "- 针对每一个house做一个判断，找到 reach heater 的最短radius\n",
    "    - houses and heaters, sort firstly\n",
    "    - heater[0] 起始位置为0时，max(radius,heaters[i]-house)\n",
    "    - heater[i], min(heaters[i]-house, house-heaters[i+1]) -- house分别和heater[i], heater[i+1]找到最短被覆盖的半径\n",
    "    - max(radius,min())\n",
    "    - 一直循环到heater的最后一个，return max(radius, house[-1]-heater[-1])"
   ]
  },
  {
   "cell_type": "code",
   "execution_count": null,
   "metadata": {},
   "outputs": [],
   "source": [
    "def findRadius(houses, heaters) -> int:\n",
    "    houses.sort()\n",
    "    heaters.sort()\n",
    "    radius = 0\n",
    "    i = 0 # for heater\n",
    "    for house in houses:\n",
    "        while i < len(heaters) and heaters[i] < house: #heater[i]<house,i+=1\n",
    "            i += 1\n",
    "        if i == 0:\n",
    "            radius = max(radius,heaters[i]-house)\n",
    "        elif i == len(heaters):\n",
    "            return max(radius,houses[-1]-heaters[-1])\n",
    "        else:\n",
    "            radius = max(radius,min(heaters[i]-house, house-heaters[i-1]))\n",
    "    return radius\n",
    "\n",
    "houses = [1,2,3,5,15]\n",
    "heaters = [2,30]\n",
    "findRadius(houses, heaters)\n",
    "'''\n",
    "house=1,i=0,heater=2,radius=max(0,1)=1\n",
    "house=2,i=0,heater=2,radius=1\n",
    "house=3,i=1,heater=30,radius=1,heater[i]<house,i+=1,\n",
    "house=5,i=1,heater=30,radius=3=max(1,min(3,25))\n",
    "house=15,i=1,heater=30,radius=13=max(3,min(13,15))\n",
    "'''"
   ]
  },
  {
   "cell_type": "markdown",
   "metadata": {},
   "source": [
    "# 485. Max Consecutive Ones\n",
    "\n",
    "Given a binary array, find the maximum number of consecutive 1s in this array.\n",
    "\n",
    "Example 1:  \n",
    "Input: [1,1,0,1,1,1]  \n",
    "Output: 3  \n",
    "\n",
    "Explanation: The first two digits or the last three digits are consecutive 1s.  \n",
    "The maximum number of consecutive 1s is 3.  \n",
    "Note:  \n",
    "The input array will only contain 0 and 1.  \n",
    "The length of input array is a positive integer and will not exceed 10,000  \n",
    "\n",
    "### My Solution - diff between zero indexes - 1 counts"
   ]
  },
  {
   "cell_type": "code",
   "execution_count": null,
   "metadata": {},
   "outputs": [],
   "source": [
    "def findMaxConsecutiveOnes(nums) -> int:\n",
    "    zero = [-1]\n",
    "    result = 0\n",
    "    if nums[-1] != 0: # if the last num is 1\n",
    "        nums += [0]\n",
    "    for i in range(len(nums)):\n",
    "        if nums[i] == 0:\n",
    "            zero.append(i)\n",
    "            result = max(result,(zero[-1]-zero[-2]-1))\n",
    "    return result "
   ]
  },
  {
   "cell_type": "code",
   "execution_count": null,
   "metadata": {},
   "outputs": [],
   "source": [
    "def findMaxConsecutiveOnes2(nums) -> int:\n",
    "    count,result = 0,0\n",
    "    for num in nums:\n",
    "        if num == 1:\n",
    "            count += 1\n",
    "        else:\n",
    "            result = max(result,count)\n",
    "            count = 0\n",
    "    return max(result,count)"
   ]
  },
  {
   "cell_type": "code",
   "execution_count": null,
   "metadata": {},
   "outputs": [],
   "source": [
    "nums = [1,1,0,1,1,1]\n",
    "findMaxConsecutiveOnes(nums)"
   ]
  },
  {
   "cell_type": "markdown",
   "metadata": {},
   "source": [
    "# 500. Keyboard Row\n",
    "\n",
    "Given a List of words, return the words that can be typed using letters of alphabet on only one row's of American keyboard like the image below.   \n",
    "Example:  \n",
    "Input: [\"Hello\", \"Alaska\", \"Dad\", \"Peace\"]  \n",
    "Output: [\"Alaska\", \"Dad\"]\n",
    "\n",
    "Note:  \n",
    "You may use one character in the keyboard more than once.  \n",
    "You may assume the input string will only contain letters of alphabet.\n",
    "\n",
    "### Idea:\n",
    "- set1.issubset(set2)"
   ]
  },
  {
   "cell_type": "code",
   "execution_count": 26,
   "metadata": {},
   "outputs": [
    {
     "data": {
      "text/plain": [
       "['Alaska', 'Dad']"
      ]
     },
     "execution_count": 26,
     "metadata": {},
     "output_type": "execute_result"
    }
   ],
   "source": [
    "def findWords(words):\n",
    "    res = []\n",
    "    keyboard = [set('qwertyuiop'),set('asdfghjkl'),set('zxcvbnm')]\n",
    "    for key in keyboard:\n",
    "        for word in words:\n",
    "            if set(word.lower()).issubset(key):\n",
    "                res.append(word)\n",
    "    return res\n",
    "\n",
    "def findWords2(words):\n",
    "    top = ['q','w','r','t','y','u','i','o','p']\n",
    "    middle = ['a','s','d','f','g','h','j','k','l']\n",
    "    bottom = ['z','x','c','v','b','n','m']\n",
    "    keyboard = [top,middle,bottom]\n",
    "    res = []\n",
    "    \n",
    "    for word in words:\n",
    "        for row in keyboard:\n",
    "            if word[0].lower() in row: # go over each word, find first char of word in which row\n",
    "                result_row = row\n",
    "                break\n",
    "        for char in word: # go over each char to judge every char in the same row\n",
    "            j = 0\n",
    "            if char.lower() not in result_row:\n",
    "                j = -1 \n",
    "                break\n",
    "        if j != -1:\n",
    "            res.append(word)\n",
    "    return res\n",
    "\n",
    "words = [\"Hello\", \"Alaska\", \"Dad\", \"Peace\"]\n",
    "findWords2(words)"
   ]
  },
  {
   "cell_type": "markdown",
   "metadata": {},
   "source": [
    "# 520. Detect Capital\n",
    "\n",
    "Given a word, you need to judge whether the usage of capitals in it is right or not.   \n",
    "We define the usage of capitals in a word to be right when one of the following cases holds:  \n",
    "All letters in this word are capitals, like \"USA\".  \n",
    "All letters in this word are not capitals, like \"leetcode\".  \n",
    "Only the first letter in this word is capital, like \"Google\".  \n",
    "Otherwise, we define that this word doesn't use capitals in a right way.\n",
    " \n",
    "Example 1:    \n",
    "Input: \"USA\"  \n",
    "Output: True  \n",
    " \n",
    "Example 2:   \n",
    "Input: \"FlaG\"  \n",
    "Output: False\n",
    " \n",
    "Note: The input will be a non-empty word consisting of uppercase and lowercase latin letters."
   ]
  },
  {
   "cell_type": "code",
   "execution_count": null,
   "metadata": {},
   "outputs": [],
   "source": [
    "def detectCapitalUse(word: str) -> bool:\n",
    "    # 1st letter: uppercase\n",
    "    if word[0].isupper():\n",
    "        # all uppercase\n",
    "        if sum([i.isupper() for i in word]) == len(word):\n",
    "            return True\n",
    "        # only 1 st uppercase\n",
    "        elif sum([i.isupper() for i in word[1:]]) == 0:\n",
    "            return True\n",
    "    # all lowercase\n",
    "    if sum([i.isupper() for i in word]) == 0:\n",
    "        return True\n",
    "    return False"
   ]
  },
  {
   "cell_type": "code",
   "execution_count": null,
   "metadata": {},
   "outputs": [],
   "source": [
    "def detectCapitalUse(word: str) -> bool:\n",
    "    if word[0].isupper():\n",
    "        count = sum([i.isupper() for i in word])\n",
    "        if count != len(word) and count != 1:\n",
    "            return False\n",
    "    else:\n",
    "        for i in word[1:]:\n",
    "            if i.isupper():\n",
    "                return False\n",
    "    return True"
   ]
  },
  {
   "cell_type": "code",
   "execution_count": null,
   "metadata": {},
   "outputs": [],
   "source": [
    "def detectCapitalUse(word: str) -> bool:\n",
    "    count = sum([i.isupper() for i in word])\n",
    "    if count == len(word):\n",
    "        return True\n",
    "    elif count == 0:\n",
    "        return True\n",
    "    elif count == 1 and word[0].isupper():\n",
    "        return True\n",
    "    return False"
   ]
  },
  {
   "cell_type": "code",
   "execution_count": null,
   "metadata": {},
   "outputs": [],
   "source": [
    "s = \"USA\"\n",
    "s.isupper()\n",
    "detectCapitalUse(s)"
   ]
  },
  {
   "cell_type": "markdown",
   "metadata": {},
   "source": [
    "# 530. Minimum Absolute Difference in BST\n",
    "\n",
    "Given a binary search tree with non-negative values, find the minimum absolute difference between values of any two nodes. \n",
    "\n",
    "Example:    \n",
    "Input: [1,null,3,2,null]  \n",
    "Output: 1\n",
    "\n",
    "Explanation:  The minimum absolute difference is 1, which is the difference between 2 and 1 (or between 2 and 3).    \n",
    "Note:  \n",
    "There are at least two nodes in this BST.  \n",
    "This question is the same as 783: https://leetcode.com/problems/minimum-distance-between-bst-nodes/\n",
    "\n",
    "### Idea\n",
    "- utilize in-order traversal of BTS >> sorted value list. \n",
    "- find the min diff"
   ]
  },
  {
   "cell_type": "code",
   "execution_count": null,
   "metadata": {},
   "outputs": [],
   "source": [
    "# Definition for a binary tree node.\n",
    "# class TreeNode:\n",
    "#     def __init__(self, val=0, left=None, right=None):\n",
    "#         self.val = val\n",
    "#         self.left = left\n",
    "#         self.right = right\n",
    "class Solution:\n",
    "    def getMinimumDifference(self, root: TreeNode) -> int:\n",
    "        output = []\n",
    "        self.InorderTraversal(root,output)\n",
    "        \n",
    "        min_abs = float('inf')\n",
    "        for i in range(1,len(output)):\n",
    "            min_abs = min(min_abs,output[i]-output[i-1])\n",
    "        return min_abs\n",
    "        \n",
    "    def InorderTraversal(self,root,output):\n",
    "        if not root:\n",
    "            return \n",
    "        else:\n",
    "            self.InorderTraversal(root.left,output) #left subtree\n",
    "            output.append(root.val)\n",
    "            self.InorderTraversal(root.right,output)      "
   ]
  },
  {
   "cell_type": "markdown",
   "metadata": {},
   "source": [
    "# 535. Encode and Decode TinyURL\n",
    "\n",
    "Note: This is a companion problem to the System Design problem: Design TinyURL.  \n",
    "TinyURL is a URL shortening service where you enter a URL such as https://leetcode.com/problems/design-tinyurl and it returns a short URL such as http://tinyurl.com/4e9iAk.\n",
    "\n",
    "Design the encode and decode methods for the TinyURL service. There is no restriction on how your encode/decode algorithm should work. You just need to ensure that a URL can be encoded to a tiny URL and the tiny URL can be decoded to the original URL.\n",
    "\n",
    "### Idea:\n",
    "- notice: 26 letters (upper+lower)*2 = 52, 0-9 -> 62 || short URL - 6bits || #?!\n",
    "- 1. 2 dict: full->tiny, tiny->full"
   ]
  },
  {
   "cell_type": "code",
   "execution_count": null,
   "metadata": {},
   "outputs": [],
   "source": [
    "import string\n",
    "import random\n",
    "import math\n",
    "fully_tiny = {} # long->short: \"https://leetcode.com/problems/design-tinyurl\" -> \"4e9iAk\"\n",
    "tiny_fully = {}\n",
    "leters = string.ascii_letters + string.digits\n",
    "\n",
    "class Codec:\n",
    "\n",
    "    def encode(self, longUrl: str) -> str:\n",
    "        \"\"\"Encodes a URL to a shortened URL.\n",
    "        \"\"\"\n",
    "        def short_addr():\n",
    "            ans = ''\n",
    "            tmp = ''\n",
    "            for i in range(6):\n",
    "                tmp = letters[random.randint(0,61)]\n",
    "               #tmp = letters[random.randint(0,10000) % 62]\n",
    "                ans += tmp\n",
    "            return ans\n",
    "        \n",
    "        if longUrl in fully_tiny:\n",
    "            return \"http://tinyurl.com/\" + fully_tiny[longUrl]\n",
    "        else:\n",
    "            suffix = short_addr()\n",
    "            fully_tiny[longUrl] = suffix\n",
    "            tiny_fully[suffix] = longUrl\n",
    "            return \"http://tinyurl.com/\" + suffix\n",
    "        \n",
    "    def decode(self, shortUrl: str) -> str:\n",
    "        \"\"\"Decodes a shortened URL to its original URL.\n",
    "        \"\"\"\n",
    "        shortUrl = shortUrl.split('/')[-1]\n",
    "        if shortUrl in tiny_fully:\n",
    "            return tiny_fully[shortUrl]\n",
    "        else:\n",
    "            return None\n",
    "\n",
    "# Your Codec object will be instantiated and called as such:\n",
    "# codec = Codec()\n",
    "# codec.decode(codec.encode(url))"
   ]
  },
  {
   "cell_type": "code",
   "execution_count": 4,
   "metadata": {},
   "outputs": [
    {
     "data": {
      "text/plain": [
       "'abcdefghijklmnopqrstuvwxyzABCDEFGHIJKLMNOPQRSTUVWXYZ'"
      ]
     },
     "execution_count": 4,
     "metadata": {},
     "output_type": "execute_result"
    },
    {
     "data": {
      "text/plain": [
       "'0123456789'"
      ]
     },
     "execution_count": 4,
     "metadata": {},
     "output_type": "execute_result"
    }
   ],
   "source": [
    "import string\n",
    "string.ascii_letters\n",
    "string.digits"
   ]
  },
  {
   "cell_type": "code",
   "execution_count": 6,
   "metadata": {},
   "outputs": [
    {
     "data": {
      "text/plain": [
       "0"
      ]
     },
     "execution_count": 6,
     "metadata": {},
     "output_type": "execute_result"
    }
   ],
   "source": [
    "62 %62"
   ]
  },
  {
   "cell_type": "code",
   "execution_count": null,
   "metadata": {},
   "outputs": [],
   "source": []
  }
 ],
 "metadata": {
  "kernelspec": {
   "display_name": "Python 3",
   "language": "python",
   "name": "python3"
  },
  "language_info": {
   "codemirror_mode": {
    "name": "ipython",
    "version": 3
   },
   "file_extension": ".py",
   "mimetype": "text/x-python",
   "name": "python",
   "nbconvert_exporter": "python",
   "pygments_lexer": "ipython3",
   "version": "3.6.9"
  }
 },
 "nbformat": 4,
 "nbformat_minor": 2
}

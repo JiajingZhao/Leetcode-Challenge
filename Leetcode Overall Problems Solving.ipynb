{
 "cells": [
  {
   "cell_type": "markdown",
   "metadata": {},
   "source": [
    "# 1. Two Sum    "
   ]
  },
  {
   "cell_type": "markdown",
   "metadata": {},
   "source": [
    "Given an array of integers, return indices of the two numbers such that they add up to a specific target.  \n",
    "You may assume that each input would have exactly one solution, and you may not use the same element twice. \n",
    "Example:    \n",
    "Given nums = [2, 7, 11, 15], target = 9,  \n",
    "Because nums[0] + nums[1] = 2 + 7 = 9,  \n",
    "return [0, 1]."
   ]
  },
  {
   "cell_type": "markdown",
   "metadata": {},
   "source": [
    "**Solution1— two for loop**"
   ]
  },
  {
   "cell_type": "code",
   "execution_count": 6,
   "metadata": {},
   "outputs": [],
   "source": [
    "def twoSum(nums, target):\n",
    "    for i in range(len(nums)):\n",
    "        for j in range(i+1,len(nums)):\n",
    "            if nums[i]+nums[j]==target:\n",
    "                return i,j"
   ]
  },
  {
   "cell_type": "markdown",
   "metadata": {},
   "source": [
    "**Solution2— dict() store (target-val) and index**"
   ]
  },
  {
   "cell_type": "code",
   "execution_count": 55,
   "metadata": {},
   "outputs": [],
   "source": [
    "def twoSum2(nums, target):\n",
    "    d = dict()\n",
    "    for i,num in enumerate(nums):\n",
    "        if num in d:\n",
    "            return [d[num],i]\n",
    "        else:\n",
    "            d[target-num] = i"
   ]
  },
  {
   "cell_type": "code",
   "execution_count": null,
   "metadata": {},
   "outputs": [],
   "source": [
    "nums = [2, 7, 11, 15]\n",
    "target = 9\n",
    "twoSum2(nums, target)"
   ]
  },
  {
   "cell_type": "markdown",
   "metadata": {},
   "source": [
    "# 7. Reverse Integer"
   ]
  },
  {
   "cell_type": "markdown",
   "metadata": {},
   "source": [
    "Given a 32-bit signed integer, reverse digits of an integer.\n",
    "\n",
    "Example 1:  \n",
    "Input: 123  \n",
    "Output: 321\n",
    "\n",
    "Example 2:  \n",
    "Input: -123  \n",
    "Output: -321  \n",
    "\n",
    "Example 3:  \n",
    "Input: 120  \n",
    "Output: 21  \n",
    "\n",
    "Note:  \n",
    "Assume we are dealing with an environment which could only store integers within the 32-bit signed integer range: [−2^31,  2^31 − 1]. For the purpose of this problem, assume that your function returns 0 when the reversed integer overflows."
   ]
  },
  {
   "cell_type": "code",
   "execution_count": 81,
   "metadata": {},
   "outputs": [],
   "source": [
    "def reverse(x: int) -> int:\n",
    "    x = int(str(x)[::-1]) if x >= 0 else - int(str(-x)[::-1])\n",
    "    return x if x < 2**31 and x >= -2**31 else 0"
   ]
  },
  {
   "cell_type": "code",
   "execution_count": 83,
   "metadata": {},
   "outputs": [
    {
     "data": {
      "text/plain": [
       "-321"
      ]
     },
     "execution_count": 83,
     "metadata": {},
     "output_type": "execute_result"
    }
   ],
   "source": [
    "x = -123\n",
    "reverse(x)"
   ]
  },
  {
   "cell_type": "markdown",
   "metadata": {},
   "source": [
    "# 9. Palindrome Number"
   ]
  },
  {
   "cell_type": "markdown",
   "metadata": {},
   "source": [
    "Determine whether an integer is a palindrome. An integer is a palindrome when it reads the same backward as forward.\n",
    "\n",
    "Example 1:  \n",
    "Input: 121  \n",
    "Output: true\n",
    "\n",
    "Example 2:  \n",
    "Input: -121    \n",
    "Output: false   \n",
    "Explanation: From left to right, it reads -121. From right to left, it becomes 121-. Therefore it is not a palindrome.\n",
    "\n",
    "Example 3:  \n",
    "Input: 10   \n",
    "Output: false  \n",
    "Explanation: Reads 01 from right to left. Therefore it is not a palindrome.\n",
    "\n",
    "Follow up:  \n",
    "Coud you solve it without converting the integer to a string?"
   ]
  },
  {
   "cell_type": "code",
   "execution_count": 15,
   "metadata": {},
   "outputs": [
    {
     "data": {
      "text/plain": [
       "True"
      ]
     },
     "execution_count": 15,
     "metadata": {},
     "output_type": "execute_result"
    }
   ],
   "source": [
    "def isPalindrome(x) -> bool:\n",
    "    if x < 0:\n",
    "        return False\n",
    "    return int(str(x)[::-1]) == x\n",
    "\n",
    "x = 121\n",
    "isPalindrome(121)"
   ]
  },
  {
   "cell_type": "markdown",
   "metadata": {},
   "source": [
    "# 13. Roman to Integer"
   ]
  },
  {
   "cell_type": "markdown",
   "metadata": {},
   "source": [
    "Roman numerals are represented by seven different symbols: I, V, X, L, C, D and M.\n",
    "    \n",
    "Symbol       Value\n",
    "I             1\n",
    "V             5\n",
    "X             10\n",
    "L             50\n",
    "C             100\n",
    "D             500\n",
    "M             1000\n",
    "For example, two is written as II in Roman numeral, just two one's added together. Twelve is written as, XII, which is simply X + II. The number twenty seven is written as XXVII, which is XX + V + II.\n",
    "\n",
    "Roman numerals are usually written largest to smallest from left to right. However, the numeral for four is not IIII. Instead, the number four is written as IV. Because the one is before the five we subtract it making four. The same principle applies to the number nine, which is written as IX. There are six instances where subtraction is used:\n",
    "\n",
    "I can be placed before V (5) and X (10) to make 4 and 9.   \n",
    "X can be placed before L (50) and C (100) to make 40 and 90.   \n",
    "C can be placed before D (500) and M (1000) to make 400 and 900.  \n",
    "Given a roman numeral, convert it to an integer. Input is guaranteed to be within the range from 1 to 3999.  \n",
    "\n",
    "Example 1:  \n",
    "Input: \"III\"  \n",
    "Output: 3\n",
    "    \n",
    "Example 2:  \n",
    "Input: \"IV\"  \n",
    "Output: 4  \n",
    "    \n",
    "Example 3:  \n",
    "Input: \"IX\"  \n",
    "Output: 9  \n",
    "    \n",
    "Example 4:  \n",
    "Input: \"LVIII\"  \n",
    "Output: 58  \n",
    "Explanation: L = 50, V= 5, III = 3.  \n",
    "    \n",
    "Example 5:  \n",
    "Input: \"MCMXCIV\"  \n",
    "Output: 1994  \n",
    "Explanation: M = 1000, CM = 900, XC = 90 and IV = 4."
   ]
  },
  {
   "cell_type": "code",
   "execution_count": 34,
   "metadata": {},
   "outputs": [
    {
     "data": {
      "text/plain": [
       "1994"
      ]
     },
     "execution_count": 34,
     "metadata": {},
     "output_type": "execute_result"
    }
   ],
   "source": [
    "def romanToInt(s) -> int:\n",
    "    res = 0\n",
    "    d = {\"I\":1,\"V\":5,\"X\":10,\"L\":50,\"C\":100,\"D\":500,\"M\":1000}    \n",
    "    for i in range(len(s)-1):\n",
    "        if d[s[i]]<d[s[i+1]]: #if small value stands before big val,\"-\", else \"+\"\n",
    "            res -= d[s[i]]\n",
    "        else:\n",
    "            res += d[s[i]]\n",
    "    return res + d[s[-1]]    #just plus the val of last letter, i only figure out this way to deal with loop out of range\n",
    "\n",
    "s1 = \"III\" \n",
    "s2 = \"IV\"\n",
    "s3 = \"IX\"\n",
    "s4 = \"LVIII\"\n",
    "s5 = \"MCMXCIV\"\n",
    "\n",
    "romanToInt(s5)"
   ]
  },
  {
   "cell_type": "markdown",
   "metadata": {},
   "source": [
    "# 14. Longest Common Prefix"
   ]
  },
  {
   "cell_type": "markdown",
   "metadata": {},
   "source": [
    "Write a function to find the longest common prefix string amongst an array of strings.  \n",
    "If there is no common prefix, return an empty string \"\".  \n",
    "\n",
    "Example 1:  \n",
    "Input: [\"flower\",\"flow\",\"flight\"]  \n",
    "Output: \"fl\"\n",
    "\n",
    "Example 2:   \n",
    "Input: [\"dog\",\"racecar\",\"car\"]  \n",
    "Output: \"\"   \n",
    "Explanation: There is no common prefix among the input strings.  \n",
    "Note: All given inputs are in lowercase letters a-z."
   ]
  },
  {
   "cell_type": "code",
   "execution_count": 41,
   "metadata": {},
   "outputs": [],
   "source": [
    "def longestCommonPrefix(strs) -> str:\n",
    "    if len(strs) == 0: return ''\n",
    "    for l in range(len(strs[0])): #traversal every letter of first str \n",
    "        c = strs[0][l]\n",
    "        for i in range(1,len(strs)): #traversal other strs, make comparison\n",
    "            if l >= len(strs[i]) or c != strs[i][l]:                 \n",
    "                return strs[0][:l]\n",
    "    return strs[0] #e.g. [\"\",\"\"]"
   ]
  },
  {
   "cell_type": "code",
   "execution_count": 46,
   "metadata": {},
   "outputs": [
    {
     "name": "stdout",
     "output_type": "stream",
     "text": [
      "fl\n",
      "\n"
     ]
    }
   ],
   "source": [
    "strs = [\"flower\",\"flow\",\"flight\"]\n",
    "strs2 = [\"dog\",\"racecar\",\"car\"]\n",
    "print(longestCommonPrefix(strs))\n",
    "print(longestCommonPrefix(strs2))"
   ]
  },
  {
   "cell_type": "markdown",
   "metadata": {},
   "source": [
    "# 20. Valid Parentheses -- stack FIFO apply to offset  and matching"
   ]
  },
  {
   "cell_type": "markdown",
   "metadata": {},
   "source": [
    "Given a string containing just the characters '(', ')', '{', '}', '[' and ']', determine if the input string is valid.  \n",
    "An input string is valid if:  \n",
    "Open brackets must be closed by the same type of brackets.  \n",
    "Open brackets must be closed in the correct order.   \n",
    "Note that an empty string is also considered valid.  \n",
    "  \n",
    "Example 1:  \n",
    "Input: \"()\"  \n",
    "Output: true  \n",
    "    \n",
    "Example 2:  \n",
    "Input: \"()[]{}\"  \n",
    "Output: true  \n",
    "    \n",
    "Example 3:  \n",
    "Input: \"(]\"  \n",
    "Output: false  \n",
    "    \n",
    "Example 4:  \n",
    "Input: \"([)]\"  \n",
    "Output: false  \n",
    "    \n",
    "Example 5: \n",
    "Input: \"{[]}\"  \n",
    "Output: true  "
   ]
  },
  {
   "cell_type": "code",
   "execution_count": 44,
   "metadata": {},
   "outputs": [],
   "source": [
    "def isValid(s) -> bool:\n",
    "    if len(s) == 0: # case1: empty string is valid\n",
    "        return True\n",
    "    d = {\")\": \"(\", \"}\": \"{\", \"]\": \"[\"}\n",
    "    stack = [None]\n",
    "    for i in s:\n",
    "        if i in d and d[i] == stack[-1]: #如果是反括号，前括号刚好在stack的栈顶，pop()。后出现的，需要先消掉，解决顺序问题。\n",
    "            stack.pop()\n",
    "        else: \n",
    "            stack.append(i)\n",
    "    return len(stack)==1"
   ]
  },
  {
   "cell_type": "code",
   "execution_count": 45,
   "metadata": {},
   "outputs": [
    {
     "data": {
      "text/plain": [
       "True"
      ]
     },
     "execution_count": 45,
     "metadata": {},
     "output_type": "execute_result"
    }
   ],
   "source": [
    "s =  \"()[]{}\"\n",
    "isValid(s)"
   ]
  },
  {
   "cell_type": "markdown",
   "metadata": {},
   "source": [
    "# 21. Merge Two Sorted Lists -- Linked List -- Recursion"
   ]
  },
  {
   "cell_type": "markdown",
   "metadata": {},
   "source": [
    "Merge two sorted linked lists and return it as a new list. The new list should be made by splicing together the nodes of the first two lists.\n",
    "\n",
    "Example:  \n",
    "Input: 1->2->4, 1->3->4  \n",
    "Output: 1->1->2->3->4->4  "
   ]
  },
  {
   "cell_type": "code",
   "execution_count": 46,
   "metadata": {},
   "outputs": [],
   "source": [
    "# Definition for singly-linked list.\n",
    "# class ListNode:\n",
    "#     def __init__(self, val=0, next=None):\n",
    "#         self.val = val\n",
    "#         self.next = next\n",
    "def mergeTwoLists(self,l1,l2):\n",
    "    if not l1:\n",
    "        return l2\n",
    "    if not l2:\n",
    "        return l1\n",
    "    if l1.val < l2.val: #based on smaller first num of 2 linked list, recursion,comparison, insert smaller num one by one\n",
    "        l1.next = self.mergeTwoLists(l1.next,l2)\n",
    "        return l1\n",
    "    else:\n",
    "        l2.next = self.mergeTwoLists(l1,l2.next)\n",
    "    return l2"
   ]
  }
 ],
 "metadata": {
  "kernelspec": {
   "display_name": "Python 3",
   "language": "python",
   "name": "python3"
  },
  "language_info": {
   "codemirror_mode": {
    "name": "ipython",
    "version": 3
   },
   "file_extension": ".py",
   "mimetype": "text/x-python",
   "name": "python",
   "nbconvert_exporter": "python",
   "pygments_lexer": "ipython3",
   "version": "3.6.9"
  }
 },
 "nbformat": 4,
 "nbformat_minor": 2
}

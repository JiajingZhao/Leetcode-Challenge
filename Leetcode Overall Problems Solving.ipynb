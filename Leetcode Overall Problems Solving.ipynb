{
 "cells": [
  {
   "cell_type": "code",
   "execution_count": 1,
   "metadata": {},
   "outputs": [],
   "source": [
    "from IPython.core.interactiveshell import InteractiveShell\n",
    "InteractiveShell.ast_node_interactivity = \"all\" "
   ]
  },
  {
   "cell_type": "markdown",
   "metadata": {},
   "source": [
    "# 1. Two Sum  "
   ]
  },
  {
   "cell_type": "markdown",
   "metadata": {},
   "source": [
    "Given an array of integers, return indices of the two numbers such that they add up to a specific target.  \n",
    "You may assume that each input would have exactly one solution, and you may not use the same element twice. \n",
    "Example:    \n",
    "Given nums = [2, 7, 11, 15], target = 9,  \n",
    "Because nums[0] + nums[1] = 2 + 7 = 9,  \n",
    "return [0, 1]."
   ]
  },
  {
   "cell_type": "markdown",
   "metadata": {},
   "source": [
    "**Solution1— two for loop**"
   ]
  },
  {
   "cell_type": "code",
   "execution_count": 6,
   "metadata": {},
   "outputs": [],
   "source": [
    "def twoSum(nums, target):\n",
    "    for i in range(len(nums)):\n",
    "        for j in range(i+1,len(nums)):\n",
    "            if nums[i]+nums[j]==target:\n",
    "                return i,j"
   ]
  },
  {
   "cell_type": "markdown",
   "metadata": {},
   "source": [
    "**Solution2— dict() store (target-val) and index**"
   ]
  },
  {
   "cell_type": "code",
   "execution_count": 55,
   "metadata": {},
   "outputs": [],
   "source": [
    "def twoSum2(nums, target):\n",
    "    d = dict()\n",
    "    for i,num in enumerate(nums):\n",
    "        if num in d:\n",
    "            return [d[num],i]\n",
    "        else:\n",
    "            d[target-num] = i"
   ]
  },
  {
   "cell_type": "code",
   "execution_count": null,
   "metadata": {},
   "outputs": [],
   "source": [
    "nums = [2, 7, 11, 15]\n",
    "target = 9\n",
    "twoSum2(nums, target)"
   ]
  },
  {
   "cell_type": "markdown",
   "metadata": {},
   "source": [
    "# 7. Reverse Integer"
   ]
  },
  {
   "cell_type": "markdown",
   "metadata": {},
   "source": [
    "Given a 32-bit signed integer, reverse digits of an integer.\n",
    "\n",
    "Example 1:  \n",
    "Input: 123  \n",
    "Output: 321\n",
    "\n",
    "Example 2:  \n",
    "Input: -123  \n",
    "Output: -321  \n",
    "\n",
    "Example 3:  \n",
    "Input: 120  \n",
    "Output: 21  \n",
    "\n",
    "Note:  \n",
    "Assume we are dealing with an environment which could only store integers within the 32-bit signed integer range: [−2^31,  2^31 − 1]. For the purpose of this problem, assume that your function returns 0 when the reversed integer overflows."
   ]
  },
  {
   "cell_type": "code",
   "execution_count": 81,
   "metadata": {},
   "outputs": [],
   "source": [
    "def reverse(x: int) -> int:\n",
    "    x = int(str(x)[::-1]) if x >= 0 else - int(str(-x)[::-1])\n",
    "    return x if x < 2**31 and x >= -2**31 else 0"
   ]
  },
  {
   "cell_type": "code",
   "execution_count": 83,
   "metadata": {},
   "outputs": [
    {
     "data": {
      "text/plain": [
       "-321"
      ]
     },
     "execution_count": 83,
     "metadata": {},
     "output_type": "execute_result"
    }
   ],
   "source": [
    "x = -123\n",
    "reverse(x)"
   ]
  },
  {
   "cell_type": "markdown",
   "metadata": {},
   "source": [
    "# 9. Palindrome Number"
   ]
  },
  {
   "cell_type": "markdown",
   "metadata": {},
   "source": [
    "Determine whether an integer is a palindrome. An integer is a palindrome when it reads the same backward as forward.\n",
    "\n",
    "Example 1:  \n",
    "Input: 121  \n",
    "Output: true\n",
    "\n",
    "Example 2:  \n",
    "Input: -121    \n",
    "Output: false   \n",
    "Explanation: From left to right, it reads -121. From right to left, it becomes 121-. Therefore it is not a palindrome.\n",
    "\n",
    "Example 3:  \n",
    "Input: 10   \n",
    "Output: false  \n",
    "Explanation: Reads 01 from right to left. Therefore it is not a palindrome.\n",
    "\n",
    "Follow up:  \n",
    "Coud you solve it without converting the integer to a string?"
   ]
  },
  {
   "cell_type": "code",
   "execution_count": 15,
   "metadata": {},
   "outputs": [
    {
     "data": {
      "text/plain": [
       "True"
      ]
     },
     "execution_count": 15,
     "metadata": {},
     "output_type": "execute_result"
    }
   ],
   "source": [
    "def isPalindrome(x) -> bool:\n",
    "    if x < 0:\n",
    "        return False\n",
    "    return int(str(x)[::-1]) == x\n",
    "\n",
    "x = 121\n",
    "isPalindrome(121)"
   ]
  },
  {
   "cell_type": "markdown",
   "metadata": {},
   "source": [
    "# 11. Container With Most Water"
   ]
  },
  {
   "cell_type": "markdown",
   "metadata": {},
   "source": [
    "Given n non-negative integers a1, a2, ..., an , where each represents a point at coordinate (i, ai). n vertical lines are drawn such that the two endpoints of line i is at (i, ai) and (i, 0). Find two lines, which together with x-axis forms a container, such that the container contains the most water.\n",
    "\n",
    "Note: You may not slant the container and n is at least 2.\n",
    "\n",
    "Example:  \n",
    "Input: [1,8,6,2,5,4,8,3,7]  \n",
    "Output: 49"
   ]
  },
  {
   "cell_type": "code",
   "execution_count": 156,
   "metadata": {},
   "outputs": [],
   "source": [
    "# Time Limit Exceeded\n",
    "def maxArea(height) -> int:\n",
    "    max_area = 0\n",
    "    for i in range(len(height)):\n",
    "        for j in range(i+1,len(height)):\n",
    "            area = abs(j-i)*(min(height[i],height[j]))\n",
    "            max_area = max(area,max_area)\n",
    "    return max_area"
   ]
  },
  {
   "cell_type": "code",
   "execution_count": 160,
   "metadata": {},
   "outputs": [],
   "source": [
    "def maxArea2(height) -> int:\n",
    "    left,right = 0,len(height)-1\n",
    "    result = 0\n",
    "    while left < right:\n",
    "        water = min(height[left],height[right])*(right-left)\n",
    "        if water > result:\n",
    "            result = water\n",
    "        if height[left] < height[right]:\n",
    "            left += 1\n",
    "        else:\n",
    "            right -= 1\n",
    "    return result"
   ]
  },
  {
   "cell_type": "code",
   "execution_count": 161,
   "metadata": {},
   "outputs": [
    {
     "data": {
      "text/plain": [
       "49"
      ]
     },
     "execution_count": 161,
     "metadata": {},
     "output_type": "execute_result"
    }
   ],
   "source": [
    "height = [1,8,6,2,5,4,8,3,7]\n",
    "maxArea(height)"
   ]
  },
  {
   "cell_type": "markdown",
   "metadata": {},
   "source": [
    "# 13. Roman to Integer"
   ]
  },
  {
   "cell_type": "markdown",
   "metadata": {},
   "source": [
    "Roman numerals are represented by seven different symbols: I, V, X, L, C, D and M.\n",
    "    \n",
    "Symbol       Value\n",
    "I             1\n",
    "V             5\n",
    "X             10\n",
    "L             50\n",
    "C             100\n",
    "D             500\n",
    "M             1000\n",
    "For example, two is written as II in Roman numeral, just two one's added together. Twelve is written as, XII, which is simply X + II. The number twenty seven is written as XXVII, which is XX + V + II.\n",
    "\n",
    "Roman numerals are usually written largest to smallest from left to right. However, the numeral for four is not IIII. Instead, the number four is written as IV. Because the one is before the five we subtract it making four. The same principle applies to the number nine, which is written as IX. There are six instances where subtraction is used:\n",
    "\n",
    "I can be placed before V (5) and X (10) to make 4 and 9.   \n",
    "X can be placed before L (50) and C (100) to make 40 and 90.   \n",
    "C can be placed before D (500) and M (1000) to make 400 and 900.  \n",
    "Given a roman numeral, convert it to an integer. Input is guaranteed to be within the range from 1 to 3999.  \n",
    "\n",
    "Example 1:  \n",
    "Input: \"III\"  \n",
    "Output: 3\n",
    "    \n",
    "Example 2:  \n",
    "Input: \"IV\"  \n",
    "Output: 4  \n",
    "    \n",
    "Example 3:  \n",
    "Input: \"IX\"  \n",
    "Output: 9  \n",
    "    \n",
    "Example 4:  \n",
    "Input: \"LVIII\"  \n",
    "Output: 58  \n",
    "Explanation: L = 50, V= 5, III = 3.  \n",
    "    \n",
    "Example 5:  \n",
    "Input: \"MCMXCIV\"  \n",
    "Output: 1994  \n",
    "Explanation: M = 1000, CM = 900, XC = 90 and IV = 4."
   ]
  },
  {
   "cell_type": "code",
   "execution_count": 34,
   "metadata": {},
   "outputs": [
    {
     "data": {
      "text/plain": [
       "1994"
      ]
     },
     "execution_count": 34,
     "metadata": {},
     "output_type": "execute_result"
    }
   ],
   "source": [
    "def romanToInt(s) -> int:\n",
    "    res = 0\n",
    "    d = {\"I\":1,\"V\":5,\"X\":10,\"L\":50,\"C\":100,\"D\":500,\"M\":1000}    \n",
    "    for i in range(len(s)-1):\n",
    "        if d[s[i]]<d[s[i+1]]: #if small value stands before big val,\"-\", else \"+\"\n",
    "            res -= d[s[i]]\n",
    "        else:\n",
    "            res += d[s[i]]\n",
    "    return res + d[s[-1]]    #just plus the val of last letter, i only figure out this way to deal with loop out of range\n",
    "\n",
    "s1 = \"III\" \n",
    "s2 = \"IV\"\n",
    "s3 = \"IX\"\n",
    "s4 = \"LVIII\"\n",
    "s5 = \"MCMXCIV\"\n",
    "\n",
    "romanToInt(s5)"
   ]
  },
  {
   "cell_type": "markdown",
   "metadata": {},
   "source": [
    "# 14. Longest Common Prefix"
   ]
  },
  {
   "cell_type": "markdown",
   "metadata": {},
   "source": [
    "Write a function to find the longest common prefix string amongst an array of strings.  \n",
    "If there is no common prefix, return an empty string \"\".  \n",
    "\n",
    "Example 1:  \n",
    "Input: [\"flower\",\"flow\",\"flight\"]  \n",
    "Output: \"fl\"\n",
    "\n",
    "Example 2:   \n",
    "Input: [\"dog\",\"racecar\",\"car\"]  \n",
    "Output: \"\"   \n",
    "Explanation: There is no common prefix among the input strings.  \n",
    "Note: All given inputs are in lowercase letters a-z."
   ]
  },
  {
   "cell_type": "code",
   "execution_count": 41,
   "metadata": {},
   "outputs": [],
   "source": [
    "def longestCommonPrefix(strs) -> str:\n",
    "    if len(strs) == 0: return ''\n",
    "    for l in range(len(strs[0])): #traversal every letter of first str \n",
    "        c = strs[0][l]\n",
    "        for i in range(1,len(strs)): #traversal other strs, make comparison\n",
    "            if l >= len(strs[i]) or c != strs[i][l]:                 \n",
    "                return strs[0][:l]\n",
    "    return strs[0] #e.g. [\"\",\"\"]"
   ]
  },
  {
   "cell_type": "code",
   "execution_count": 46,
   "metadata": {},
   "outputs": [
    {
     "name": "stdout",
     "output_type": "stream",
     "text": [
      "fl\n",
      "\n"
     ]
    }
   ],
   "source": [
    "strs = [\"flower\",\"flow\",\"flight\"]\n",
    "strs2 = [\"dog\",\"racecar\",\"car\"]\n",
    "print(longestCommonPrefix(strs))\n",
    "print(longestCommonPrefix(strs2))"
   ]
  },
  {
   "cell_type": "markdown",
   "metadata": {},
   "source": [
    "# 15. 3Sum -- Medium"
   ]
  },
  {
   "cell_type": "markdown",
   "metadata": {},
   "source": [
    "Given an array nums of n integers, are there elements a, b, c in nums such that a + b + c = 0?   \n",
    "Find all unique triplets in the array which gives the sum of zero.\n",
    "\n",
    "Note:  The solution set must not contain duplicate triplets.\n",
    "\n",
    "Example:  \n",
    "Given array nums = [-1, 0, 1, 2, -1, -4],  \n",
    "A solution set is:    \n",
    "[[-1, 0, 1],  \n",
    " [-1, -1, 2]]"
   ]
  },
  {
   "cell_type": "markdown",
   "metadata": {},
   "source": [
    "## idea \n",
    "- sort()\n",
    "- for loop i\n",
    "    - sum of 3 smallest nums > 0 --> break\n",
    "    - nums[i] + 2 biggest nums < 0 --> get rid of very first num --> continue, right shift\n",
    "    - repeat nums --> continue\n",
    "    - fix i\n",
    "        - while loop: approach from both sides l,r"
   ]
  },
  {
   "cell_type": "code",
   "execution_count": 36,
   "metadata": {},
   "outputs": [],
   "source": [
    "def threeSum(nums):\n",
    "    n = len(nums)\n",
    "    result = []\n",
    "    nums.sort()\n",
    "\n",
    "    for i in range(n-2):\n",
    "        if nums[i] + nums[i+1] + nums[i+2] > 0: \n",
    "            break\n",
    "        if nums[i] + nums[n-2] + nums[n-1] < 0:\n",
    "            continue\n",
    "        if 0 < i and nums[i] == nums[i-1]:\n",
    "            continue\n",
    "            \n",
    "        l,r = i+1,n-1 #boundary\n",
    "        \n",
    "        while l < r:\n",
    "            tmp = nums[i] + nums[l] + nums[r]\n",
    "            if tmp == 0:\n",
    "                result.append([nums[i],nums[l],nums[r]])\n",
    "                while l+1 < r and nums[l] == nums[l+1]:\n",
    "                    l += 1\n",
    "                l += 1\n",
    "                while l < r-1 and nums[r] == nums[r-1]:\n",
    "                    r -= 1\n",
    "                r -= 1\n",
    "            elif tmp < 0:\n",
    "                l += 1 \n",
    "            else:\n",
    "                r -= 1\n",
    "    return result"
   ]
  },
  {
   "cell_type": "code",
   "execution_count": 39,
   "metadata": {},
   "outputs": [
    {
     "data": {
      "text/plain": [
       "[-4, -1, -1, 0, 1, 2]"
      ]
     },
     "execution_count": 39,
     "metadata": {},
     "output_type": "execute_result"
    },
    {
     "data": {
      "text/plain": [
       "[[-1, -1, 2], [-1, 0, 1]]"
      ]
     },
     "execution_count": 39,
     "metadata": {},
     "output_type": "execute_result"
    }
   ],
   "source": [
    "nums = [-1, 0, 1, 2, -1, -4]\n",
    "nums.sort()\n",
    "nums\n",
    "threeSum(nums)"
   ]
  },
  {
   "cell_type": "markdown",
   "metadata": {},
   "source": [
    "# 16. 3Sum Closest"
   ]
  },
  {
   "cell_type": "markdown",
   "metadata": {},
   "source": [
    "Given an array nums of n integers and an integer target, find three integers in nums such that the sum is closest to target. Return the sum of the three integers. You may assume that each input would have exactly one solution.\n",
    "\n",
    "Example:  \n",
    "Given array nums = [-1, 2, 1, -4], and target = 1.  \n",
    "The sum that is closest to the target is 2. (-1 + 2 + 1 = 2)."
   ]
  },
  {
   "cell_type": "markdown",
   "metadata": {},
   "source": [
    "## Idea\n",
    "- sort()\n",
    "- initialization\n",
    "- for loop, approach from 2 sides, [i,l,r]\n",
    "- avoid repeating"
   ]
  },
  {
   "cell_type": "code",
   "execution_count": 43,
   "metadata": {},
   "outputs": [],
   "source": [
    "def threeSumClosest(nums,target: int) -> int:\n",
    "    nums.sort()\n",
    "    result = nums[0]+nums[1]+nums[len(nums)-1]\n",
    "    for i in range(len(nums)-2):\n",
    "        if i > 0 and nums[i]==nums[i-1]:\n",
    "            continue\n",
    "        l = i + 1\n",
    "        r = len(nums) - 1\n",
    "        while l < r:\n",
    "            val = nums[i]+nums[l]+nums[r] \n",
    "            if abs(val - target) < abs(result-target):\n",
    "                result = val\n",
    "            if val == target:\n",
    "                return target\n",
    "            elif val < target:\n",
    "                l += 1\n",
    "            else:\n",
    "                r -= 1\n",
    "    return result"
   ]
  },
  {
   "cell_type": "code",
   "execution_count": 49,
   "metadata": {},
   "outputs": [
    {
     "data": {
      "text/plain": [
       "2"
      ]
     },
     "execution_count": 49,
     "metadata": {},
     "output_type": "execute_result"
    }
   ],
   "source": [
    "nums = [-1, 2, 1, -4]\n",
    "target = 1\n",
    "threeSumClosest(nums,target)"
   ]
  },
  {
   "cell_type": "markdown",
   "metadata": {},
   "source": [
    "# 20. Valid Parentheses -- stack FIFO apply to offset  and matching"
   ]
  },
  {
   "cell_type": "markdown",
   "metadata": {},
   "source": [
    "Given a string containing just the characters '(', ')', '{', '}', '[' and ']', determine if the input string is valid.  \n",
    "An input string is valid if:  \n",
    "Open brackets must be closed by the same type of brackets.  \n",
    "Open brackets must be closed in the correct order.   \n",
    "Note that an empty string is also considered valid.  \n",
    "  \n",
    "Example 1:  \n",
    "Input: \"()\"  \n",
    "Output: true  \n",
    "    \n",
    "Example 2:  \n",
    "Input: \"()[]{}\"  \n",
    "Output: true  \n",
    "    \n",
    "Example 3:  \n",
    "Input: \"(]\"  \n",
    "Output: false  \n",
    "    \n",
    "Example 4:  \n",
    "Input: \"([)]\"  \n",
    "Output: false  \n",
    "    \n",
    "Example 5: \n",
    "Input: \"{[]}\"  \n",
    "Output: true  "
   ]
  },
  {
   "cell_type": "code",
   "execution_count": 44,
   "metadata": {},
   "outputs": [],
   "source": [
    "def isValid(s) -> bool:\n",
    "    if len(s) == 0: # case1: empty string is valid\n",
    "        return True\n",
    "    d = {\")\": \"(\", \"}\": \"{\", \"]\": \"[\"}\n",
    "    stack = [None]\n",
    "    for i in s:\n",
    "        if i in d and d[i] == stack[-1]: #如果是反括号，前括号刚好在stack的栈顶，pop()。后出现的，需要先消掉，解决顺序问题。\n",
    "            stack.pop()\n",
    "        else: \n",
    "            stack.append(i)\n",
    "    return len(stack)==1"
   ]
  },
  {
   "cell_type": "code",
   "execution_count": 45,
   "metadata": {},
   "outputs": [
    {
     "data": {
      "text/plain": [
       "True"
      ]
     },
     "execution_count": 45,
     "metadata": {},
     "output_type": "execute_result"
    }
   ],
   "source": [
    "s =  \"()[]{}\"\n",
    "isValid(s)"
   ]
  },
  {
   "cell_type": "markdown",
   "metadata": {},
   "source": [
    "# 21. Merge Two Sorted Lists -- Linked List -- Recursion"
   ]
  },
  {
   "cell_type": "markdown",
   "metadata": {},
   "source": [
    "Merge two sorted linked lists and return it as a new list. The new list should be made by splicing together the nodes of the first two lists.\n",
    "\n",
    "Example:  \n",
    "Input: 1->2->4, 1->3->4  \n",
    "Output: 1->1->2->3->4->4  "
   ]
  },
  {
   "cell_type": "code",
   "execution_count": 46,
   "metadata": {},
   "outputs": [],
   "source": [
    "# Definition for singly-linked list.\n",
    "# class ListNode:\n",
    "#     def __init__(self, val=0, next=None):\n",
    "#         self.val = val\n",
    "#         self.next = next\n",
    "def mergeTwoLists(self,l1,l2):\n",
    "    if not l1:\n",
    "        return l2\n",
    "    if not l2:\n",
    "        return l1\n",
    "    if l1.val < l2.val: #based on smaller first num of 2 linked list, recursion,comparison, insert smaller num one by one\n",
    "        l1.next = self.mergeTwoLists(l1.next,l2)\n",
    "        return l1\n",
    "    else:\n",
    "        l2.next = self.mergeTwoLists(l1,l2.next)\n",
    "    return l2"
   ]
  },
  {
   "cell_type": "markdown",
   "metadata": {},
   "source": [
    "# 26. Remove Duplicates from Sorted Array - Easy - Array"
   ]
  },
  {
   "cell_type": "markdown",
   "metadata": {},
   "source": [
    "Given a sorted array nums, remove the duplicates in-place such that each element appear only once and return the new length.\n",
    "\n",
    "Do not allocate extra space for another array, you must do this by modifying the input array in-place with O(1) extra memory.\n",
    "\n",
    "Example 1:  \n",
    "Given nums = [1,1,2],  \n",
    "Your function should return length = 2, with the first two elements of nums being 1 and 2 respectively.  \n",
    "It doesn't matter what you leave beyond the returned length.\n",
    "\n",
    "Example 2:  \n",
    "Given nums = [0,0,1,1,1,2,2,3,3,4],  \n",
    "Your function should return length = 5, with the first five elements of nums being modified to 0, 1, 2, 3, and 4 respectively.  \n",
    "It doesn't matter what values are set beyond the returned length.\n",
    "\n",
    "Clarification:  \n",
    "Confused why the returned value is an integer but your answer is an array?  \n",
    "Note that the input array is passed in by reference, which means modification to the input array will be known to the caller as well.  \n",
    "\n",
    "Internally you can think of this:\n",
    "// nums is passed in by reference. (i.e., without making a copy)  \n",
    "int len = removeDuplicates(nums);   \n",
    "// any modification to nums in your function would be known by the caller.  \n",
    "// using the length returned by your function, it prints the first len elements.  \n",
    "for (int i = 0; i < len; i++) {  \n",
    "    print(nums[i]);  \n",
    "}  "
   ]
  },
  {
   "cell_type": "code",
   "execution_count": 17,
   "metadata": {},
   "outputs": [],
   "source": [
    "def removeDuplicates(nums) -> int:\n",
    "    nums[:]=sorted(list(set(nums)))"
   ]
  },
  {
   "cell_type": "code",
   "execution_count": 14,
   "metadata": {},
   "outputs": [],
   "source": [
    "def removeDuplicates(nums) -> int:\n",
    "    if not nums:\n",
    "        return 0\n",
    "    count = 0\n",
    "    for i in range(len(nums)):\n",
    "        if nums[count] != nums[i]:\n",
    "            count += 1\n",
    "            nums[count] = nums[i]\n",
    "    return count+1  "
   ]
  },
  {
   "cell_type": "code",
   "execution_count": 19,
   "metadata": {},
   "outputs": [
    {
     "name": "stdout",
     "output_type": "stream",
     "text": [
      "None\n"
     ]
    }
   ],
   "source": [
    "nums = [0,0,1,1,1,2,2,3,3,4]\n",
    "removeDuplicates(nums)"
   ]
  },
  {
   "cell_type": "markdown",
   "metadata": {},
   "source": [
    "# 27. Remove Element"
   ]
  },
  {
   "cell_type": "markdown",
   "metadata": {},
   "source": [
    "Given an array nums and a value val, remove all instances of that value in-place and return the new length.\n",
    "\n",
    "Do not allocate extra space for another array, you must do this by modifying the input array in-place with O(1) extra memory.\n",
    "\n",
    "The order of elements can be changed. It doesn't matter what you leave beyond the new length.\n",
    "\n",
    "Example 1:  \n",
    "Given nums = [3,2,2,3], val = 3,  \n",
    "Your function should return length = 2, with the first two elements of nums being 2.  \n",
    "It doesn't matter what you leave beyond the returned length.\n",
    "\n",
    "Example 2:  \n",
    "Given nums = [0,1,2,2,3,0,4,2], val = 2,  \n",
    "Your function should return length = 5, with the first five elements of nums containing 0, 1, 3, 0, and 4."
   ]
  },
  {
   "cell_type": "code",
   "execution_count": 21,
   "metadata": {},
   "outputs": [],
   "source": [
    "def removeElement(nums, val: int) -> int:\n",
    "    i,last = 0, len(nums)-1\n",
    "    while i <= last:\n",
    "        if nums[i] == val:\n",
    "            nums[i],nums[last] = nums[last],nums[i]\n",
    "            last -= 1\n",
    "        else:\n",
    "            i += 1\n",
    "    return last + 1\n",
    "\n",
    "'''\n",
    "e.g. nums = [3,2,2,3],val=3, i=0, last=3\n",
    "round 1: nums[0]==val,swap [3,2,2,3] last-1=2\n",
    "round 2: nums[0]==val,swap [2,2,3,3] last-1=1\n",
    "round 3: nums[0]!=val,     [2,2,3,3] i+1=1\n",
    "round 4: nums[1]!=val,     [2,2,3,3] i+1=2, break while loop\n",
    "round 5: return last+1\n",
    "'''"
   ]
  },
  {
   "cell_type": "markdown",
   "metadata": {},
   "source": [
    "# 35. Search Insert Position -- Take advantage of what we know -- sorted array"
   ]
  },
  {
   "cell_type": "markdown",
   "metadata": {},
   "source": [
    "Given a sorted array and a target value, return the index if the target is found. If not, return the index where it would be if it were inserted in order.\n",
    "\n",
    "You may assume no duplicates in the array.\n",
    "\n",
    "Example 1:  \n",
    "Input: [1,3,5,6], 5  \n",
    "Output: 2\n",
    "\n",
    "Example 2:  \n",
    "Input: [1,3,5,6], 2  \n",
    "Output: 1  \n",
    "\n",
    "Example 3:  \n",
    "Input: [1,3,5,6], 7  \n",
    "Output: 4  \n",
    "\n",
    "Example 4:  \n",
    "Input: [1,3,5,6], 0  \n",
    "Output: 0"
   ]
  },
  {
   "cell_type": "code",
   "execution_count": 48,
   "metadata": {},
   "outputs": [],
   "source": [
    " def searchInsert(nums, target) -> int:\n",
    "        if target > nums[-1]:\n",
    "            return len(nums)\n",
    "\n",
    "        for i in range(len(nums)):\n",
    "            if nums[i] >= target:\n",
    "                return i"
   ]
  },
  {
   "cell_type": "code",
   "execution_count": 49,
   "metadata": {},
   "outputs": [
    {
     "data": {
      "text/plain": [
       "1"
      ]
     },
     "execution_count": 49,
     "metadata": {},
     "output_type": "execute_result"
    }
   ],
   "source": [
    "nums = [1,3]\n",
    "target = 2\n",
    "searchInsert(nums,target)"
   ]
  },
  {
   "cell_type": "markdown",
   "metadata": {},
   "source": [
    "# 48. Rotate Image"
   ]
  },
  {
   "cell_type": "markdown",
   "metadata": {},
   "source": [
    "You are given an n x n 2D matrix representing an image.  \n",
    "Rotate the image by 90 degrees (clockwise).  \n",
    "Note: You have to rotate the image in-place, which means you have to modify the input 2D matrix directly. DO NOT allocate another 2D matrix and do the rotation.\n",
    "\n",
    "Example 1:  \n",
    "Given input matrix =   \n",
    "[  [1,2,3],  \n",
    "  [4,5,6],  \n",
    "  [7,8,9]  ],  \n",
    "rotate the input matrix in-place such that it becomes:  \n",
    "[  [7,4,1],  \n",
    "  [8,5,2],  \n",
    "  [9,6,3]  ]  \n",
    "  \n",
    "Example 2:  \n",
    "Given input matrix =  \n",
    "[  [ 5, 1, 9,11],  \n",
    "  [ 2, 4, 8,10],  \n",
    "  [13, 3, 6, 7],  \n",
    "  [15,14,12,16]  ],   \n",
    "rotate the input matrix in-place such that it becomes:  \n",
    "[  [15,13, 2, 5],  \n",
    "  [14, 3, 4, 1],  \n",
    "  [12, 6, 8, 9],  \n",
    "  [16, 7,10,11]  ]"
   ]
  },
  {
   "cell_type": "markdown",
   "metadata": {},
   "source": [
    "### Solution - upper left partition\n",
    "- now_row = original_col\n",
    "- now_col = len - original_row"
   ]
  },
  {
   "cell_type": "code",
   "execution_count": 135,
   "metadata": {},
   "outputs": [],
   "source": [
    "def rotate(matrix) -> None:\n",
    "    \"\"\"\n",
    "    Do not return anything, modify matrix in-place instead.\n",
    "    \"\"\"\n",
    "    m = len(matrix) \n",
    "    n = m -1\n",
    "    for i in range(m//2):\n",
    "        for j in range(i,n-i):\n",
    "            tmp = matrix[i][j]\n",
    "            matrix[i][j] = matrix[n-j][i]\n",
    "            matrix[n-j][i] = matrix[n-i][n-j]\n",
    "            matrix[n-i][n-j] = matrix[j][n-i]\n",
    "            matrix[j][n-i] = tmp              \n",
    "    return matrix"
   ]
  },
  {
   "cell_type": "code",
   "execution_count": 136,
   "metadata": {},
   "outputs": [
    {
     "data": {
      "text/plain": [
       "[[7, 4, 1], [8, 5, 2], [9, 6, 3]]"
      ]
     },
     "execution_count": 136,
     "metadata": {},
     "output_type": "execute_result"
    }
   ],
   "source": [
    "matrix = [ [1,2,3],\n",
    "           [4,5,6],\n",
    "           [7,8,9] ]\n",
    "rotate(matrix)"
   ]
  },
  {
   "cell_type": "markdown",
   "metadata": {},
   "source": [
    "# 66. Plus One"
   ]
  },
  {
   "cell_type": "markdown",
   "metadata": {},
   "source": [
    "Given a non-empty array of digits representing a non-negative integer, plus one to the integer.\n",
    "\n",
    "The digits are stored such that the most significant digit is at the head of the list, and each element in the array contain a single digit.\n",
    "\n",
    "You may assume the integer does not contain any leading zero, except the number 0 itself.\n",
    "\n",
    "Example 1:  \n",
    "Input: [1,2,3]  \n",
    "Output: [1,2,4]  \n",
    "Explanation: The array represents the integer 123.\n",
    "\n",
    "Example 2:  \n",
    "Input: [4,3,2,1]  \n",
    "Output: [4,3,2,2]  \n",
    "Explanation: The array represents the integer 4321."
   ]
  },
  {
   "cell_type": "code",
   "execution_count": 79,
   "metadata": {},
   "outputs": [],
   "source": [
    "def plusOne(digits):\n",
    "    for i in reversed(range(len(digits))):\n",
    "        if digits[i]==9:\n",
    "            digits[i]=0\n",
    "        else:\n",
    "            digits[i] += 1\n",
    "            return digits\n",
    "    digits[0] = 1\n",
    "    digits.append(0)\n",
    "    return digits"
   ]
  },
  {
   "cell_type": "code",
   "execution_count": 82,
   "metadata": {},
   "outputs": [
    {
     "data": {
      "text/plain": [
       "[8, 9]"
      ]
     },
     "execution_count": 82,
     "metadata": {},
     "output_type": "execute_result"
    }
   ],
   "source": [
    "def plusOne2(digits):\n",
    "    sum=0\n",
    "    for i in digits:\n",
    "        sum=sum*10+i\n",
    "    return [int(j) for j in str(sum+1)]\n",
    "\n",
    "plusOne(digits=[8,8])"
   ]
  },
  {
   "cell_type": "markdown",
   "metadata": {},
   "source": [
    "# 88. Merge Sorted Array"
   ]
  },
  {
   "cell_type": "markdown",
   "metadata": {},
   "source": [
    "Given two sorted integer arrays nums1 and nums2, merge nums2 into nums1 as one sorted array.\n",
    "\n",
    "Note:  \n",
    "The number of elements initialized in nums1 and nums2 are m and n respectively.  \n",
    "You may assume that nums1 has enough space (size that is greater or equal to m + n) to hold additional elements from nums2.  \n",
    "\n",
    "Example:  \n",
    "Input:\n",
    "nums1 = [1,2,3,0,0,0], m = 3  \n",
    "nums2 = [2,5,6],     n = 3  \n",
    "Output: [1,2,2,3,5,6]"
   ]
  },
  {
   "cell_type": "markdown",
   "metadata": {},
   "source": [
    "## Idea -- from tail to head compare\n",
    "- condition: nums1 and nums2 are both sorted array\n",
    "- compare largest nums in nums1 and nums2, -> nums1[m-1] and nums2[n-1]\n",
    "    - if nums2[n-1] bigger, move it to its corresponding place in nums1\n",
    "    - if nums1[m-1] bigger, swap and set 0\n",
    "- notice cases: \n",
    "    -  when m==0 and n>0, insert it on the head of nums1\n",
    "    -  when n==0 and m>0, already right answer"
   ]
  },
  {
   "cell_type": "code",
   "execution_count": null,
   "metadata": {},
   "outputs": [],
   "source": [
    "def merge(nums1, m: int, nums2, n: int) -> None:\n",
    "    \"\"\"\n",
    "    Do not return anything, modify nums1 in-place instead.\n",
    "    \"\"\"\n",
    "    while m>0 and n>0:\n",
    "        if nums1[m-1] < nums2[n-1]:\n",
    "            nums1[m+n-1] = nums2[n-1]\n",
    "            n -= 1\n",
    "        else:\n",
    "            nums1[m+n-1],nums1[m-1] = nums1[m-1],0\n",
    "            m -= 1\n",
    "    if m==0 and n>0:\n",
    "        nums1[:n] = nums2[:n]"
   ]
  },
  {
   "cell_type": "markdown",
   "metadata": {},
   "source": [
    "# 118. Pascal's Triangle"
   ]
  },
  {
   "cell_type": "markdown",
   "metadata": {},
   "source": [
    "### Idea\n",
    "- for loop every row (i-th)\n",
    "- for loop every num (i+1 nums) of each row \n",
    "    - if the first and last index, num = 1\n",
    "    - else sum of 2 nums of the last row "
   ]
  },
  {
   "cell_type": "code",
   "execution_count": 2,
   "metadata": {},
   "outputs": [],
   "source": [
    "def generate(numRows: int):\n",
    "    result = []\n",
    "    for i in range(numRows):\n",
    "        result.append([])\n",
    "        for j in range(i+1):\n",
    "            if j in (0,i):\n",
    "                result[i].append(1)\n",
    "            else:\n",
    "                result[i].append(result[i-1][j-1]+result[i-1][j])\n",
    "    return result                "
   ]
  },
  {
   "cell_type": "code",
   "execution_count": 3,
   "metadata": {},
   "outputs": [
    {
     "data": {
      "text/plain": [
       "[[1], [1, 1], [1, 2, 1], [1, 3, 3, 1], [1, 4, 6, 4, 1]]"
      ]
     },
     "execution_count": 3,
     "metadata": {},
     "output_type": "execute_result"
    }
   ],
   "source": [
    "generate(numRows=5)"
   ]
  },
  {
   "cell_type": "markdown",
   "metadata": {},
   "source": [
    "# 119. Pascal's Triangle II"
   ]
  },
  {
   "cell_type": "markdown",
   "metadata": {},
   "source": [
    "Given a non-negative index k where k ≤ 33, return the kth index row of the Pascal's triangle.  \n",
    "Note that the row index starts from 0."
   ]
  },
  {
   "cell_type": "markdown",
   "metadata": {},
   "source": [
    "## Idea\n",
    "- set the result format\n",
    "- traversal every row\n",
    "- traversal every num in each row, backwards sum"
   ]
  },
  {
   "cell_type": "code",
   "execution_count": 11,
   "metadata": {},
   "outputs": [],
   "source": [
    "def getRow(rowIndex: int):\n",
    "    result = [1] + [0]*rowIndex\n",
    "    for i in range(rowIndex):\n",
    "        result[0] = 1\n",
    "        for j in range(i+1,0,-1):\n",
    "            result[j] = result[j] + result[j-1]\n",
    "            print(\"i:\",i,\"j:\",j,result)\n",
    "    return result"
   ]
  },
  {
   "cell_type": "code",
   "execution_count": 12,
   "metadata": {},
   "outputs": [
    {
     "name": "stdout",
     "output_type": "stream",
     "text": [
      "i: 0 j: 1 [1, 1, 0, 0]\n",
      "i: 1 j: 2 [1, 1, 1, 0]\n",
      "i: 1 j: 1 [1, 2, 1, 0]\n",
      "i: 2 j: 3 [1, 2, 1, 1]\n",
      "i: 2 j: 2 [1, 2, 3, 1]\n",
      "i: 2 j: 1 [1, 3, 3, 1]\n"
     ]
    },
    {
     "data": {
      "text/plain": [
       "[1, 3, 3, 1]"
      ]
     },
     "execution_count": 12,
     "metadata": {},
     "output_type": "execute_result"
    }
   ],
   "source": [
    "getRow(rowIndex=3)"
   ]
  },
  {
   "cell_type": "markdown",
   "metadata": {},
   "source": [
    "# 121. Best Time to Buy and Sell Stock    "
   ]
  },
  {
   "cell_type": "markdown",
   "metadata": {},
   "source": [
    "Say you have an array for which the ith element is the price of a given stock on day i.\n",
    "\n",
    "If you were only permitted to complete at most one transaction (i.e., buy one and sell one share of the stock), design an algorithm to find the maximum profit.\n",
    "\n",
    "Note that you cannot sell a stock before you buy one.\n",
    "\n",
    "Example 1:  \n",
    "Input: [7,1,5,3,6,4]   \n",
    "Output: 5  \n",
    "Explanation: Buy on day 2 (price = 1) and sell on day 5 (price = 6), profit = 6-1 = 5.\n",
    "         Not 7-1 = 6, as selling price needs to be larger than buying price.\n",
    "\n",
    "Example 2:  \n",
    "Input: [7,6,4,3,1]  \n",
    "Output: 0  \n",
    "Explanation: In this case, no transaction is done, i.e. max profit = 0."
   ]
  },
  {
   "cell_type": "code",
   "execution_count": 26,
   "metadata": {},
   "outputs": [],
   "source": [
    "def maxProfit(prices) -> int:\n",
    "    max_profit,min_price = 0, float('inf')\n",
    "    for price in prices:\n",
    "        min_price = min(min_price,price)\n",
    "        max_profit = max(max_profit,price-min_price)\n",
    "        print(price,min_price,max_profit)\n",
    "    return max(0,max_profit)"
   ]
  },
  {
   "cell_type": "code",
   "execution_count": 27,
   "metadata": {},
   "outputs": [
    {
     "name": "stdout",
     "output_type": "stream",
     "text": [
      "7 7 0\n",
      "1 1 0\n",
      "5 1 4\n",
      "3 1 4\n",
      "6 1 5\n",
      "4 1 5\n"
     ]
    },
    {
     "data": {
      "text/plain": [
       "5"
      ]
     },
     "execution_count": 27,
     "metadata": {},
     "output_type": "execute_result"
    }
   ],
   "source": [
    "prices = [7,1,5,3,6,4]\n",
    "maxProfit(prices)"
   ]
  },
  {
   "cell_type": "markdown",
   "metadata": {},
   "source": [
    "# 162. Find Peak Element"
   ]
  },
  {
   "cell_type": "markdown",
   "metadata": {},
   "source": [
    "A peak element is an element that is greater than its neighbors.  \n",
    "Given an input array nums, where nums[i] ≠ nums[i+1], find a peak element and return its index.  \n",
    "The array may contain multiple peaks, in that case return the index to any one of the peaks is fine.  \n",
    "You may imagine that nums[-1] = nums[n] = -∞.\n",
    "\n",
    "Example 1:  \n",
    "Input: nums = [1,2,3,1]  \n",
    "Output: 2  \n",
    "Explanation: 3 is a peak element and your function should return the index number 2.\n",
    "\n",
    "Example 2:  \n",
    "Input: nums = [1,2,1,3,5,6,4]  \n",
    "Output: 1 or 5   \n",
    "Explanation: Your function can return either index number 1 where the peak element is 2, or index number 5 where the peak element is 6."
   ]
  },
  {
   "cell_type": "markdown",
   "metadata": {},
   "source": [
    "### Brute-Force "
   ]
  },
  {
   "cell_type": "code",
   "execution_count": 48,
   "metadata": {},
   "outputs": [],
   "source": [
    "def findPeakElement(nums) -> int:\n",
    "    length = len(nums)\n",
    "    for i in range(1,length-1):\n",
    "        if nums[i-1]<nums[i] and nums[i]>nums[i+1]:\n",
    "            return i\n",
    "    return [0,length-1][nums[0]<nums[length-1]]"
   ]
  },
  {
   "cell_type": "markdown",
   "metadata": {},
   "source": [
    "### Binary Search"
   ]
  },
  {
   "cell_type": "code",
   "execution_count": 46,
   "metadata": {},
   "outputs": [],
   "source": [
    "def findPeakElement2(nums) -> int:\n",
    "    left,right = 0,len(nums)-1 \n",
    "    while left < right:\n",
    "        mid = (left+right)//2\n",
    "        if nums[mid] < nums[mid+1]: #ascending\n",
    "            left = mid + 1            \n",
    "        else:\n",
    "            right = mid #descending\n",
    "    return left"
   ]
  },
  {
   "cell_type": "code",
   "execution_count": 47,
   "metadata": {},
   "outputs": [
    {
     "data": {
      "text/plain": [
       "5"
      ]
     },
     "execution_count": 47,
     "metadata": {},
     "output_type": "execute_result"
    }
   ],
   "source": [
    "nums = [1,2,1,3,5,6,4]\n",
    "findPeakElement2(nums)"
   ]
  },
  {
   "cell_type": "markdown",
   "metadata": {},
   "source": [
    "# 167. Two Sum II - Input array is sorted"
   ]
  },
  {
   "cell_type": "markdown",
   "metadata": {},
   "source": [
    "Given an array of integers that is already sorted in ascending order, find two numbers such that they add up to a specific target number.  \n",
    "The function twoSum should return indices of the two numbers such that they add up to the target, where index1 must be less than index2.\n",
    "\n",
    "Note:  \n",
    "Your returned answers (both index1 and index2) are not zero-based.\n",
    "You may assume that each input would have exactly one solution and you may not use the same element twice.\n",
    "\n",
    "Example:  \n",
    "Input: numbers = [2,7,11,15], target = 9  \n",
    "Output: [1,2]  \n",
    "Explanation: The sum of 2 and 7 is 9. Therefore index1 = 1, index2 = 2."
   ]
  },
  {
   "cell_type": "markdown",
   "metadata": {},
   "source": [
    "### My Solution -- same as Two Sum I -- dictionary"
   ]
  },
  {
   "cell_type": "code",
   "execution_count": 51,
   "metadata": {},
   "outputs": [],
   "source": [
    "def twoSum(numbers, target):\n",
    "    d = {}\n",
    "    for i in range(len(numbers)):\n",
    "        if numbers[i] in d:\n",
    "            return d[numbers[i]]+1,i+1\n",
    "        else:\n",
    "            d[target-numbers[i]] = i"
   ]
  },
  {
   "cell_type": "markdown",
   "metadata": {},
   "source": [
    "### Solution2 -- Binary Search"
   ]
  },
  {
   "cell_type": "code",
   "execution_count": 65,
   "metadata": {},
   "outputs": [],
   "source": [
    "def twoSum2(numbers, target):\n",
    "    start = 0\n",
    "    end = len(numbers)-1\n",
    "    sum = 0\n",
    "    \n",
    "    while start != end:\n",
    "        sum = numbers[start] + numbers[end]\n",
    "        if sum > target:\n",
    "            end -= 1\n",
    "        elif sum < target:\n",
    "            start += 1\n",
    "        else:\n",
    "            return (start+1, end+1)"
   ]
  },
  {
   "cell_type": "code",
   "execution_count": 66,
   "metadata": {},
   "outputs": [
    {
     "data": {
      "text/plain": [
       "(1, 2)"
      ]
     },
     "execution_count": 66,
     "metadata": {},
     "output_type": "execute_result"
    }
   ],
   "source": [
    "numbers = [2,7,11,15]\n",
    "target = 9\n",
    "twoSum2(numbers, target)"
   ]
  },
  {
   "cell_type": "markdown",
   "metadata": {},
   "source": [
    "# 169. Majority Element"
   ]
  },
  {
   "cell_type": "markdown",
   "metadata": {},
   "source": [
    "Given an array of size n, find the majority element. The majority element is the element that appears more than ⌊ n/2 ⌋ times.  \n",
    "You may assume that the array is non-empty and the majority element always exist in the array.\n",
    "\n",
    "Example 1:  \n",
    "Input: [3,2,3]  \n",
    "Output: 3  \n",
    "\n",
    "Example 2:  \n",
    "Input: [2,2,1,1,1,2,2]  \n",
    "Output: 2 "
   ]
  },
  {
   "cell_type": "markdown",
   "metadata": {},
   "source": [
    "### My Solution -- collections.Counter"
   ]
  },
  {
   "cell_type": "code",
   "execution_count": null,
   "metadata": {},
   "outputs": [],
   "source": [
    "def majorityElement(nums) -> int:\n",
    "    from collections import Counter \n",
    "    d = Counter(nums)\n",
    "    for num in nums:\n",
    "        if d[num] > len(nums)/2:\n",
    "            return num"
   ]
  },
  {
   "cell_type": "markdown",
   "metadata": {},
   "source": [
    "### Solution 2\n",
    "- Idea: (#of majority - #of minority) > 0"
   ]
  },
  {
   "cell_type": "code",
   "execution_count": null,
   "metadata": {},
   "outputs": [],
   "source": [
    "def majorityElement(nums) -> int:\n",
    "    index,cnt = 0,1\n",
    "    for i in range(1,len(nums)):\n",
    "        if nums[index] == nums[i]:\n",
    "            cnt += 1\n",
    "        else:\n",
    "            cnt -= 1\n",
    "            if cnt == 0:\n",
    "                index = i\n",
    "                cnt = 1\n",
    "    return nums[index]\n",
    "\n",
    "'''\n",
    "nums = [3,2,3]\n",
    "index = 0\n",
    "i=1,nums[0]=3 != nums[1]=2, cnt=0,index=1,cnt=1\n",
    "i=2,nums[1]=2 != nums[2]=3, cnt=0,index=2,cnt=1\n",
    "'''\n",
    "    \n",
    "# Time Complexity O(n)\n",
    "# Space Complexity O(1)"
   ]
  },
  {
   "cell_type": "markdown",
   "metadata": {},
   "source": [
    "# 189. Rotate Array"
   ]
  },
  {
   "cell_type": "markdown",
   "metadata": {},
   "source": [
    "Given an array, rotate the array to the right by k steps, where k is non-negative.  \n",
    "Follow up:    \n",
    "Try to come up as many solutions as you can, there are at least 3 different ways to solve this problem.\n",
    "Could you do it in-place with O(1) extra space?\n",
    "\n",
    "Example 1:  \n",
    "Input: nums = [1,2,3,4,5,6,7], k = 3  \n",
    "Output: [5,6,7,1,2,3,4]  \n",
    "Explanation:  \n",
    "rotate 1 steps to the right: [7,1,2,3,4,5,6]  \n",
    "rotate 2 steps to the right: [6,7,1,2,3,4,5]  \n",
    "rotate 3 steps to the right: [5,6,7,1,2,3,4]  \n",
    "\n",
    "Example 2:  \n",
    "Input: nums = [-1,-100,3,99], k = 2  \n",
    "Output: [3,99,-1,-100]  \n",
    "Explanation:   \n",
    "rotate 1 steps to the right: [99,-1,-100,3]  \n",
    "rotate 2 steps to the right: [3,99,-1,-100]  \n",
    " \n",
    "Constraints:  \n",
    "1 <= nums.length <= 2 * 10^4  \n",
    "It's guaranteed that nums[i] fits in a 32 bit-signed integer.  \n",
    "k >= 0"
   ]
  },
  {
   "cell_type": "code",
   "execution_count": 73,
   "metadata": {},
   "outputs": [],
   "source": [
    "def rotate(nums, k: int) -> None:\n",
    "    k = k % len(nums)\n",
    "    nums[:k],nums[k:] = nums[-k:],nums[:len(nums)-k]\n",
    "    return nums"
   ]
  },
  {
   "cell_type": "code",
   "execution_count": 75,
   "metadata": {},
   "outputs": [
    {
     "data": {
      "text/plain": [
       "[5, 6, 7, 1, 2, 3, 4]"
      ]
     },
     "execution_count": 75,
     "metadata": {},
     "output_type": "execute_result"
    }
   ],
   "source": [
    "nums = [1,2,3,4,5,6,7]\n",
    "rotate(nums, 3)"
   ]
  },
  {
   "cell_type": "markdown",
   "metadata": {},
   "source": [
    "# 217. Contains Duplicate"
   ]
  },
  {
   "cell_type": "markdown",
   "metadata": {},
   "source": [
    "Given an array of integers, find if the array contains any duplicates.  \n",
    "Your function should return true if any value appears at least twice in the array, and it should return false if every element is distinct.  \n",
    "Example 1:  \n",
    "Input: [1,2,3,1]  \n",
    "Output: true  \n",
    "\n",
    "Example 2:  \n",
    "Input: [1,2,3,4]  \n",
    "Output: false  \n",
    "\n",
    "Example 3: \n",
    "Input: [1,1,1,3,3,4,3,2,4,2]  \n",
    "Output: true"
   ]
  },
  {
   "cell_type": "markdown",
   "metadata": {},
   "source": [
    "### My Solution"
   ]
  },
  {
   "cell_type": "code",
   "execution_count": 152,
   "metadata": {},
   "outputs": [],
   "source": [
    "def containsDuplicate(nums) -> bool:\n",
    "    d = {}\n",
    "    for i in range(len(nums)):\n",
    "        if nums[i] not in d:\n",
    "            d[nums[i]] = 1\n",
    "        else:\n",
    "            return True\n",
    "    return False"
   ]
  },
  {
   "cell_type": "code",
   "execution_count": 83,
   "metadata": {},
   "outputs": [],
   "source": [
    "def containsDuplicate(nums):\n",
    "    from collections import Counter\n",
    "    nums_counter = Counter(nums)\n",
    "    for i in nums_counter:\n",
    "        if nums_counter[i] > 1:\n",
    "            return True\n",
    "    return False"
   ]
  },
  {
   "cell_type": "markdown",
   "metadata": {},
   "source": [
    "### Solution2 - sort(), for loop nums[i+1] == nums[i]"
   ]
  },
  {
   "cell_type": "code",
   "execution_count": 85,
   "metadata": {},
   "outputs": [],
   "source": [
    "def containsDuplicate(nums):\n",
    "    nums.sort()\n",
    "    for i in range(len(nums)-1):\n",
    "        if nums[i+1] == nums[i]:\n",
    "            return True\n",
    "    return False"
   ]
  },
  {
   "cell_type": "code",
   "execution_count": 86,
   "metadata": {},
   "outputs": [
    {
     "data": {
      "text/plain": [
       "True"
      ]
     },
     "execution_count": 86,
     "metadata": {},
     "output_type": "execute_result"
    }
   ],
   "source": [
    "nums =  [1,1,1,3,3,4,3,2,4,2]\n",
    "containsDuplicate(nums)"
   ]
  },
  {
   "cell_type": "markdown",
   "metadata": {},
   "source": [
    "# 219. Contains Duplicate II"
   ]
  },
  {
   "cell_type": "markdown",
   "metadata": {},
   "source": [
    "Given an array of integers and an integer k, find out whether there are two distinct indices i and j in the array such that nums[i] = nums[j] and the absolute difference between i and j is at most k.\n",
    "\n",
    "Example 1:  \n",
    "Input: nums = [1,2,3,1], k = 3  \n",
    "Output: true  \n",
    "\n",
    "Example 2:  \n",
    "Input: nums = [1,0,1,1], k = 1  \n",
    "Output: true  \n",
    "\n",
    "Example 3:  \n",
    "Input: nums = [1,2,3,1,2,3], k = 2  \n",
    "Output: false"
   ]
  },
  {
   "cell_type": "markdown",
   "metadata": {},
   "source": [
    "### My Solution - comlicated"
   ]
  },
  {
   "cell_type": "code",
   "execution_count": 149,
   "metadata": {},
   "outputs": [],
   "source": [
    "def containsNearbyDuplicate(nums, k:int) -> bool:\n",
    "    from collections import defaultdict\n",
    "    d = defaultdict(list)\n",
    "    for i in range(len(nums)):\n",
    "        d[str(nums[i])].append(i)  \n",
    "    for j in d:\n",
    "        if len(d[j])>1:\n",
    "            for m in range(len(d[j])):\n",
    "                for n in range(m+1,len(d[j])):\n",
    "                    if abs(d[j][m] - d[j][n]) <= k:\n",
    "                        return True\n",
    "    return False"
   ]
  },
  {
   "cell_type": "code",
   "execution_count": 153,
   "metadata": {},
   "outputs": [],
   "source": [
    "def containsNearbyDuplicate2(nums, k:int):\n",
    "    lookup = {}\n",
    "    for i,num in enumerate(nums):\n",
    "        if num not in lookup:\n",
    "            lookup[num] = i\n",
    "        else:\n",
    "             if (i - lookup[num]) <= k:\n",
    "                return True\n",
    "    return False"
   ]
  },
  {
   "cell_type": "code",
   "execution_count": 154,
   "metadata": {},
   "outputs": [
    {
     "data": {
      "text/plain": [
       "False"
      ]
     },
     "execution_count": 154,
     "metadata": {},
     "output_type": "execute_result"
    }
   ],
   "source": [
    "nums = [1,2,3,1,2,3]\n",
    "k = 2\n",
    "containsNearbyDuplicate2(nums, k)"
   ]
  },
  {
   "cell_type": "markdown",
   "metadata": {},
   "source": [
    "# 242. Valid Anagram    "
   ]
  },
  {
   "cell_type": "markdown",
   "metadata": {},
   "source": [
    "Given two strings s and t , write a function to determine if t is an anagram of s.\n",
    "\n",
    "Example 1:  \n",
    "Input: s = \"anagram\", t = \"nagaram\"  \n",
    "Output: true  \n",
    "\n",
    "Example 2:  \n",
    "Input: s = \"rat\", t = \"car\"  \n",
    "Output: false  \n",
    "\n",
    "Note: You may assume the string contains only lowercase alphabets."
   ]
  },
  {
   "cell_type": "markdown",
   "metadata": {},
   "source": [
    "## Idea - same times every letter show in 2 strs\n",
    "### My Solution -  collections.Counter"
   ]
  },
  {
   "cell_type": "code",
   "execution_count": 2,
   "metadata": {},
   "outputs": [],
   "source": [
    "def isAnagram(s: str, t: str) -> bool:\n",
    "    from collections import Counter\n",
    "    if Counter(s) == Counter(t):\n",
    "        return True\n",
    "    else:\n",
    "        return False"
   ]
  },
  {
   "cell_type": "markdown",
   "metadata": {},
   "source": [
    "### My Solution -  dict"
   ]
  },
  {
   "cell_type": "code",
   "execution_count": 5,
   "metadata": {},
   "outputs": [],
   "source": [
    "def isAnagram(s: str, t: str) -> bool:\n",
    "    lookup = {}\n",
    "    for i in s:\n",
    "        if i not in lookup:\n",
    "            lookup[i] = 1\n",
    "        else:\n",
    "            lookup[i] += 1\n",
    "            \n",
    "    for j in t:\n",
    "        if j not in lookup:\n",
    "            return False\n",
    "        else:        \n",
    "            lookup[j] -=1\n",
    "    for k in lookup:\n",
    "        if lookup[k] != 0:\n",
    "            return False\n",
    "    return True"
   ]
  },
  {
   "cell_type": "markdown",
   "metadata": {},
   "source": [
    "# 243. Shortest Word Distance"
   ]
  },
  {
   "cell_type": "markdown",
   "metadata": {},
   "source": [
    "Given a list ot words and two words word1 and word2, return the shortest distance between these two words in the list.  \n",
    "\n",
    "Example:   \n",
    "Assume that words = (\"practice\", \"makes\", \"perfect\", \"coding\", \"makes\").   \n",
    "Input: wordl = \"coding\", word2 = \"practice\" \n",
    "Output: 3 \n",
    "\n",
    "Input: wordl = \"makes\", word2 = \"coding\"   \n",
    "Output: 1   \n",
    "Note: You may assume that wordt does not equal to word2, and word1 and word2 are both in the list.   \n",
    "Accepted 61,009 Submissions 107,990 Seen this question in a real interview before? No Yes Contributor"
   ]
  },
  {
   "cell_type": "code",
   "execution_count": 17,
   "metadata": {},
   "outputs": [],
   "source": [
    "def shortestDistance(words,word1,word2):\n",
    "    from collections import defaultdict\n",
    "    d = defaultdict(list)\n",
    "    smallest_d = float('inf')\n",
    "    for index,word in enumerate(words):\n",
    "        if word == word1:\n",
    "            d[word1].append(index)\n",
    "        if word == word2:\n",
    "            d[word2].append(index)\n",
    "    for i in d[word1]:\n",
    "        for j in d[word2]:\n",
    "            smallest_d = min(abs(i-j),smallest_d)\n",
    "    return smallest_d"
   ]
  },
  {
   "cell_type": "code",
   "execution_count": 23,
   "metadata": {},
   "outputs": [],
   "source": [
    "def shortestDistance2(words,word1,word2):\n",
    "    dist = float('inf')\n",
    "    i,index1,index2 = 0, None, None\n",
    "    while i < len(words):\n",
    "        if words[i] == word1:\n",
    "            index1 = i\n",
    "        elif words[i] == word2:\n",
    "            index2 = i\n",
    "        if index1 is not None and index2 is not None:\n",
    "            dist = min(abs(index1 - index2),dist)\n",
    "        i += 1\n",
    "    return dist"
   ]
  },
  {
   "cell_type": "code",
   "execution_count": 25,
   "metadata": {},
   "outputs": [
    {
     "data": {
      "text/plain": [
       "3"
      ]
     },
     "execution_count": 25,
     "metadata": {},
     "output_type": "execute_result"
    },
    {
     "data": {
      "text/plain": [
       "1"
      ]
     },
     "execution_count": 25,
     "metadata": {},
     "output_type": "execute_result"
    }
   ],
   "source": [
    "words = (\"practice\", \"makes\", \"perfect\", \"coding\", \"makes\")\n",
    "word1 = \"coding\"\n",
    "word2 = \"practice\" \n",
    "shortestDistance(words,word1,word2)\n",
    "word3 = \"makes\"\n",
    "shortestDistance2(words,word1,word3)"
   ]
  },
  {
   "cell_type": "markdown",
   "metadata": {},
   "source": [
    "# 283. Move Zeroes"
   ]
  },
  {
   "cell_type": "markdown",
   "metadata": {},
   "source": [
    "Given an array nums, write a function to move all 0's to the end of it while maintaining the relative order of the non-zero elements.  \n",
    "Example:  \n",
    "Input: [0,1,0,3,12]  \n",
    "Output: [1,3,12,0,0]"
   ]
  },
  {
   "cell_type": "code",
   "execution_count": 63,
   "metadata": {},
   "outputs": [],
   "source": [
    "def moveZeroes(nums) -> None:\n",
    "    pos = 0\n",
    "    for i in range(len(nums)):\n",
    "        if nums[i]:\n",
    "            nums[pos] = nums[i]\n",
    "            pos += 1\n",
    "    for i in range(pos,len(nums)):\n",
    "        nums[i] = 0\n",
    "    return nums"
   ]
  },
  {
   "cell_type": "code",
   "execution_count": 64,
   "metadata": {},
   "outputs": [
    {
     "data": {
      "text/plain": [
       "[1, 3, 12, 0, 0]"
      ]
     },
     "execution_count": 64,
     "metadata": {},
     "output_type": "execute_result"
    }
   ],
   "source": [
    "nums = [0,1,0,3,12]\n",
    "moveZeroes(nums)"
   ]
  },
  {
   "cell_type": "markdown",
   "metadata": {},
   "source": [
    "# 349. Intersection of Two Arrays - set() no repeating in result"
   ]
  },
  {
   "cell_type": "markdown",
   "metadata": {},
   "source": [
    "Given two arrays, write a function to compute their intersection.\n",
    "\n",
    "Example 1:  \n",
    "Input: nums1 = [1,2,2,1], nums2 = [2,2]  \n",
    "Output: [2]\n",
    "\n",
    "Example 2:   \n",
    "Input: nums1 = [4,9,5], nums2 = [9,4,9,8,4]  \n",
    "Output: [9,4] \n",
    "\n",
    "Note:   \n",
    "Each element in the result must be unique.\n",
    "The result can be in any order."
   ]
  },
  {
   "cell_type": "code",
   "execution_count": 73,
   "metadata": {},
   "outputs": [],
   "source": [
    "def intersection(nums1, nums2):\n",
    "    lookup = set()\n",
    "    for i in nums1:\n",
    "        lookup.add(i)\n",
    "    \"\"\"=lookup=set(nums1)\"\"\"\n",
    "    \n",
    "    result = []\n",
    "    for i in nums2:\n",
    "        if i in lookup:\n",
    "            result.append(i)\n",
    "            lookup.discard(i)\n",
    "    return result "
   ]
  },
  {
   "cell_type": "code",
   "execution_count": 74,
   "metadata": {},
   "outputs": [
    {
     "data": {
      "text/plain": [
       "[2]"
      ]
     },
     "execution_count": 74,
     "metadata": {},
     "output_type": "execute_result"
    }
   ],
   "source": [
    "nums1 = [1,2,2,1]\n",
    "nums2 = [2,2]\n",
    "intersection(nums1, nums2)"
   ]
  },
  {
   "cell_type": "markdown",
   "metadata": {},
   "source": [
    "# 350. Intersection of Two Arrays II - return back commen nums,even repeating"
   ]
  },
  {
   "cell_type": "markdown",
   "metadata": {},
   "source": [
    "Given two arrays, write a function to compute their intersection.\n",
    "\n",
    "Example 1:  \n",
    "Input: nums1 = [1,2,2,1], nums2 = [2,2]  \n",
    "Output: [2,2] \n",
    "\n",
    "Example 2:  \n",
    "Input: nums1 = [4,9,5], nums2 = [9,4,9,8,4]  \n",
    "Output: [4,9]\n",
    "\n",
    "Note:  \n",
    "Each element in the result should appear as many times as it shows in both arrays.  \n",
    "The result can be in any order.  \n",
    "Follow up:  \n",
    "What if the given array is already sorted? How would you optimize your algorithm?  \n",
    "What if nums1's size is small compared to nums2's size? Which algorithm is better?  \n",
    "What if elements of nums2 are stored on disk, and the memory is limited such that you cannot load all elements into the memory at once?"
   ]
  },
  {
   "cell_type": "markdown",
   "metadata": {},
   "source": [
    "### My Solution - always collections.Counter + for loop"
   ]
  },
  {
   "cell_type": "code",
   "execution_count": 5,
   "metadata": {},
   "outputs": [],
   "source": [
    "def intersect(nums1, nums2):\n",
    "    from collections import Counter\n",
    "    counter1 = Counter(nums1)\n",
    "    counter2 = Counter(nums2)\n",
    "    result = []\n",
    "    for i in counter1:\n",
    "        if i in counter2:\n",
    "            result += [i]*min(counter1[i],counter2[i])    \n",
    "    return result"
   ]
  },
  {
   "cell_type": "markdown",
   "metadata": {},
   "source": [
    "### My Solution 2 - lookup dict{} + for loop"
   ]
  },
  {
   "cell_type": "code",
   "execution_count": 45,
   "metadata": {},
   "outputs": [],
   "source": [
    "def intersect2(nums1, nums2):\n",
    "    if len(nums1) > len(nums2):\n",
    "    return self.intersect(nums2,nums1)\n",
    "\n",
    "    lookup = {}\n",
    "    result = []\n",
    "    for i in nums1:\n",
    "        if i not in lookup:\n",
    "            lookup[i] = 1\n",
    "        else:\n",
    "            lookup[i] += 1\n",
    "    for j in nums2:\n",
    "        if j in lookup:\n",
    "            if lookup[j] < 1:\n",
    "                continue\n",
    "            else:\n",
    "                result.append(j)\n",
    "                lookup[j] -= 1\n",
    "    return result"
   ]
  },
  {
   "cell_type": "code",
   "execution_count": 46,
   "metadata": {},
   "outputs": [],
   "source": [
    "def intersect3(nums1, nums2):\n",
    "    if len(nums1) > len(nums2): # reduce space complexity\n",
    "        return intersect3(nums2,nums1)\n",
    "    import collections\n",
    "    lookup = collections.defaultdict(int)\n",
    "    for i in nums1:\n",
    "        lookup[i] += 1\n",
    "        \n",
    "    result = []\n",
    "    for i in nums1:\n",
    "        if lookup[i] > 0:\n",
    "            result += i,\n",
    "            lookup[i] -= 1\n",
    "    return result"
   ]
  },
  {
   "cell_type": "code",
   "execution_count": 47,
   "metadata": {},
   "outputs": [
    {
     "name": "stdout",
     "output_type": "stream",
     "text": [
      "2.31 µs ± 201 ns per loop (mean ± std. dev. of 7 runs, 100000 loops each)\n"
     ]
    }
   ],
   "source": [
    "nums1,nums2 = [1,2,2,1],[2,2]\n",
    "%timeit intersect2(nums1, nums2)"
   ]
  },
  {
   "cell_type": "code",
   "execution_count": 48,
   "metadata": {},
   "outputs": [
    {
     "name": "stdout",
     "output_type": "stream",
     "text": [
      "2.21 µs ± 252 ns per loop (mean ± std. dev. of 7 runs, 100000 loops each)\n"
     ]
    }
   ],
   "source": [
    "nums3,nums4 = [4,9,5],[9,4,9,8,4]\n",
    "%timeit intersect2(nums3, nums4)"
   ]
  },
  {
   "cell_type": "code",
   "execution_count": 41,
   "metadata": {},
   "outputs": [
    {
     "name": "stdout",
     "output_type": "stream",
     "text": [
      "4.02 µs ± 296 ns per loop (mean ± std. dev. of 7 runs, 100000 loops each)\n"
     ]
    }
   ],
   "source": [
    "%timeit intersect3(nums3, nums4)"
   ]
  },
  {
   "cell_type": "markdown",
   "metadata": {},
   "source": [
    "# 414. Third Maximum Number"
   ]
  },
  {
   "cell_type": "markdown",
   "metadata": {},
   "source": [
    "Given a non-empty array of integers, return the third maximum number in this array. If it does not exist, return the maximum number. The time complexity must be in **O(n)**.\n",
    "\n",
    "Example 1:  \n",
    "Input: [3, 2, 1]  \n",
    "Output: 1  \n",
    "Explanation: The third maximum is 1.  \n",
    "\n",
    "Example 2:  \n",
    "Input: [1, 2]    \n",
    "Output: 2  \n",
    "Explanation: The third maximum does not exist, so the maximum (2) is returned instead.\n",
    "\n",
    "Example 3:   \n",
    "Input: [2, 2, 3, 1]    \n",
    "Output: 1  \n",
    "\n",
    "Explanation: Note that the third maximum here means the third maximum distinct number.  \n",
    "Both numbers with value 2 are both considered as second maximum."
   ]
  },
  {
   "cell_type": "markdown",
   "metadata": {},
   "source": [
    "### My Solution - list(set(nums)).sort()"
   ]
  },
  {
   "cell_type": "code",
   "execution_count": 75,
   "metadata": {},
   "outputs": [],
   "source": [
    "def thirdMax(nums) -> int:\n",
    "    nums_ = list(set(nums))\n",
    "    nums_.sort()\n",
    "    if len(nums_) < 3:\n",
    "        return nums_[-1]\n",
    "    else:\n",
    "        return nums_[-3]"
   ]
  },
  {
   "cell_type": "code",
   "execution_count": 76,
   "metadata": {},
   "outputs": [],
   "source": [
    "nums1 = [3, 2, 1]\n",
    "nums2 = [1, 2]\n",
    "nums3 = [2, 2, 3, 1]"
   ]
  },
  {
   "cell_type": "code",
   "execution_count": 77,
   "metadata": {},
   "outputs": [
    {
     "name": "stdout",
     "output_type": "stream",
     "text": [
      "1.5 µs ± 142 ns per loop (mean ± std. dev. of 7 runs, 100000 loops each)\n"
     ]
    }
   ],
   "source": [
    "%timeit thirdMax(nums3) "
   ]
  },
  {
   "cell_type": "markdown",
   "metadata": {},
   "source": [
    "# 448. Find All Numbers Disappeared in an Array"
   ]
  },
  {
   "cell_type": "markdown",
   "metadata": {},
   "source": [
    "Given an array of integers where 1 ≤ a[i] ≤ n (n = size of array), some elements appear twice and others appear once.  \n",
    "Find all the elements of [1, n] inclusive that do not appear in this array.  \n",
    "Could you do it **without extra space and in O(n) runtime**? You may assume the returned list does not count as extra space.\n",
    "\n",
    "Example:  \n",
    "Input:  [4,3,2,7,8,2,3,1]  \n",
    "Output:  [5,6]"
   ]
  },
  {
   "cell_type": "markdown",
   "metadata": {},
   "source": [
    "### My Solution \n",
    "1. collections.Counter\n",
    "2. set() - set() -- difference set"
   ]
  },
  {
   "cell_type": "code",
   "execution_count": 81,
   "metadata": {},
   "outputs": [],
   "source": [
    "def findDisappearedNumbers(nums):\n",
    "    from collections import Counter\n",
    "    nums_counter = Counter(nums)\n",
    "    result = []\n",
    "    for i in range(1,len(nums)+1):\n",
    "        if i not in nums_counter:\n",
    "            result.append(i)\n",
    "    return result"
   ]
  },
  {
   "cell_type": "code",
   "execution_count": 89,
   "metadata": {},
   "outputs": [],
   "source": [
    "def findDisappearedNumbers2(nums):\n",
    "    return list(set([i for i in range(1,len(nums)+1)]) - (set(nums)))"
   ]
  },
  {
   "cell_type": "code",
   "execution_count": 90,
   "metadata": {},
   "outputs": [
    {
     "data": {
      "text/plain": [
       "[5, 6]"
      ]
     },
     "execution_count": 90,
     "metadata": {},
     "output_type": "execute_result"
    }
   ],
   "source": [
    "nums = [4,3,2,7,8,2,3,1]\n",
    "findDisappearedNumbers2(nums)    "
   ]
  },
  {
   "cell_type": "markdown",
   "metadata": {},
   "source": [
    "# 485. Max Consecutive Ones"
   ]
  },
  {
   "cell_type": "markdown",
   "metadata": {},
   "source": [
    "Given a binary array, find the maximum number of consecutive 1s in this array.\n",
    "\n",
    "Example 1:  \n",
    "Input: [1,1,0,1,1,1]  \n",
    "Output: 3  \n",
    "\n",
    "Explanation: The first two digits or the last three digits are consecutive 1s.  \n",
    "The maximum number of consecutive 1s is 3.  \n",
    "Note:  \n",
    "The input array will only contain 0 and 1.  \n",
    "The length of input array is a positive integer and will not exceed 10,000  "
   ]
  },
  {
   "cell_type": "markdown",
   "metadata": {},
   "source": [
    "### My Solution - diff between zero indexes - 1 counts"
   ]
  },
  {
   "cell_type": "code",
   "execution_count": 120,
   "metadata": {},
   "outputs": [],
   "source": [
    "def findMaxConsecutiveOnes(nums) -> int:\n",
    "    zero = [-1]\n",
    "    result = 0\n",
    "    if nums[-1] != 0: # if the last num is 1\n",
    "        nums += [0]\n",
    "    for i in range(len(nums)):\n",
    "        if nums[i] == 0:\n",
    "            zero.append(i)\n",
    "            result = max(result,(zero[-1]-zero[-2]-1))\n",
    "    return result        "
   ]
  },
  {
   "cell_type": "code",
   "execution_count": 121,
   "metadata": {},
   "outputs": [
    {
     "data": {
      "text/plain": [
       "3"
      ]
     },
     "execution_count": 121,
     "metadata": {},
     "output_type": "execute_result"
    }
   ],
   "source": [
    "nums = [1,1,0,1,1,1]\n",
    "findMaxConsecutiveOnes(nums)"
   ]
  },
  {
   "cell_type": "code",
   "execution_count": 122,
   "metadata": {},
   "outputs": [],
   "source": [
    "def findMaxConsecutiveOnes2(nums) -> int:\n",
    "    count,result = 0,0\n",
    "    for num in nums:\n",
    "        if num == 1:\n",
    "            count += 1\n",
    "        else:\n",
    "            result = max(result,count)\n",
    "            count = 0\n",
    "    return max(result,count)"
   ]
  },
  {
   "cell_type": "markdown",
   "metadata": {},
   "source": [
    "# 54. Spiral Matrix"
   ]
  },
  {
   "cell_type": "markdown",
   "metadata": {},
   "source": [
    "Given a matrix of m x n elements (m rows, n columns), **return all elements of the matrix in spiral order.**\n",
    "\n",
    "Example 1:  \n",
    "Input:  \n",
    "[  [ 1, 2, 3 ],   \n",
    "  [ 4, 5, 6 ],   \n",
    "  [ 7, 8, 9 ] ]  \n",
    "Output: [1,2,3,6,9,8,7,4,5]\n",
    "    \n",
    "Example 2:  \n",
    "Input:   \n",
    "[  [1, 2, 3, 4],    \n",
    "  [5, 6, 7, 8],  \n",
    "  [9,10,11,12] ]  \n",
    "Output: [1,2,3,4,8,12,11,10,9,5,6,7]"
   ]
  },
  {
   "cell_type": "code",
   "execution_count": 11,
   "metadata": {},
   "outputs": [],
   "source": [
    "def spiralOrder(self,matrix):\n",
    "    row = len(matrix)\n",
    "    if row == 0 or len(matrix[0]) == 0:\n",
    "        return []\n",
    "    col = len(matrix[0])\n",
    "    res = matrix[0]\n",
    "    if row > 1:\n",
    "        for i in range(1,row):\n",
    "            res.append(matrix[i][col-1])\n",
    "        for j in range(col-2,-1,-1):\n",
    "            res.append(matrix[row-1][j])\n",
    "        if col > 1:\n",
    "            for i in range(row-2,0,-1):\n",
    "                res.append(matrix[i][0])\n",
    "\n",
    "    M = []\n",
    "    for k in range(1,row-1):\n",
    "        t = matrix[k][1:-1]\n",
    "        M.append(t)\n",
    "    return res + self.spiralOrder(M)                         "
   ]
  },
  {
   "cell_type": "markdown",
   "metadata": {},
   "source": [
    "# 56. Merge Intervals"
   ]
  },
  {
   "cell_type": "markdown",
   "metadata": {},
   "source": [
    "Given a collection of intervals, merge all overlapping intervals.\n",
    "\n",
    "Example 1:  \n",
    "Input: [[1,3],[2,6],[8,10],[15,18]]  \n",
    "Output: [[1,6],[8,10],[15,18]]  \n",
    "Explanation: Since intervals [1,3] and [2,6] overlaps, merge them into [1,6].\n",
    "\n",
    "Example 2:  \n",
    "Input: [[1,4],[4,5]]  \n",
    "Output: [[1,5]]  \n",
    "Explanation: Intervals [1,4] and [4,5] are considered overlapping.  \n",
    "NOTE: input types have been changed on April 15, 2019. Please reset to default code definition to get new method signature."
   ]
  },
  {
   "cell_type": "markdown",
   "metadata": {},
   "source": [
    "### Idea\"\n",
    "- sorting on starting of each interval\n",
    "- compare 2 objects: result[-1] and each interval in intervals\n",
    "- judge whether merge or not (there is a gap between 2 intervals)"
   ]
  },
  {
   "cell_type": "code",
   "execution_count": 33,
   "metadata": {},
   "outputs": [],
   "source": [
    "def merge(intervals):\n",
    "    intervals.sort(key=lambda x:x[0]) #sorting based on lambda func\n",
    "    result = []\n",
    "    \n",
    "    i = 0\n",
    "    while i < len(intervals):\n",
    "        cur_start = intervals[i][0]\n",
    "        cur_end = intervals[i][1]\n",
    "        if result:\n",
    "            prev_start,prev_end = result[-1]\n",
    "            hi = min(prev_end,cur_end)\n",
    "            lo = max(prev_start,cur_start)\n",
    "            \n",
    "            if lo <= hi: \n",
    "                if cur_end > prev_end:\n",
    "                    result[-1][1] = cur_end\n",
    "            else: #gap, cannot merge\n",
    "                result.append(intervals[i])\n",
    "        else:\n",
    "            result.append(intervals[i])\n",
    "        i += 1\n",
    "    return result"
   ]
  },
  {
   "cell_type": "code",
   "execution_count": 34,
   "metadata": {},
   "outputs": [
    {
     "data": {
      "text/plain": [
       "[[1, 6]]"
      ]
     },
     "execution_count": 34,
     "metadata": {},
     "output_type": "execute_result"
    }
   ],
   "source": [
    "intervals = [[2,4],[1,6]]\n",
    "merge(intervals)"
   ]
  },
  {
   "cell_type": "markdown",
   "metadata": {},
   "source": [
    "# 59. Spiral Matrix II"
   ]
  },
  {
   "cell_type": "markdown",
   "metadata": {},
   "source": [
    "Given a positive integer n, generate a square matrix filled with elements from 1 to n² in spiral order.  \n",
    "Example:  \n",
    "Input: 3\n",
    "Output:  \n",
    "[[ 1, 2, 3 ],  \n",
    " [ 8, 9, 4 ],  \n",
    " [ 7, 6, 5 ]]  "
   ]
  },
  {
   "cell_type": "code",
   "execution_count": null,
   "metadata": {},
   "outputs": [],
   "source": [
    "### Idea\n",
    "initial matrix\n",
    "findout the rule, while loop\n",
    "for loop each edge in spiral order"
   ]
  },
  {
   "cell_type": "code",
   "execution_count": 44,
   "metadata": {},
   "outputs": [],
   "source": [
    "def generateMatrix(n: int):\n",
    "    matrix = [[0] * n for _ in range(n)]\n",
    "    \n",
    "    rowBegin = 0\n",
    "    rowEnd = n-1\n",
    "    colBegin = 0\n",
    "    colEnd = n-1\n",
    "    number = 1\n",
    "    \n",
    "    while rowBegin <= rowEnd and colBegin <= colEnd:\n",
    "        for j in range(colBegin,colEnd+1): # 1st row\n",
    "            matrix[rowBegin][j] = number \n",
    "            number += 1\n",
    "        rowBegin += 1\n",
    "        \n",
    "        for i in range(rowBegin,rowEnd+1):\n",
    "            matrix[i][colEnd] = number\n",
    "            number += 1\n",
    "        colEnd -= 1\n",
    "        \n",
    "        if colEnd >= colBegin:\n",
    "            for j in range(colEnd,colBegin-1,-1):\n",
    "                matrix[rowEnd][j] = number\n",
    "                number += 1\n",
    "            rowEnd -= 1\n",
    "            \n",
    "        if colEnd >= colBegin:\n",
    "            for i in range(rowEnd,rowBegin-1,-1):\n",
    "                matrix[i][colBegin] = number\n",
    "                number += 1\n",
    "            colBegin += 1\n",
    "    return matrix   "
   ]
  },
  {
   "cell_type": "code",
   "execution_count": 45,
   "metadata": {},
   "outputs": [
    {
     "data": {
      "text/plain": [
       "[[1, 2, 3], [8, 9, 4], [7, 6, 5]]"
      ]
     },
     "execution_count": 45,
     "metadata": {},
     "output_type": "execute_result"
    }
   ],
   "source": [
    "n = 3\n",
    "generateMatrix(n)"
   ]
  },
  {
   "cell_type": "code",
   "execution_count": null,
   "metadata": {},
   "outputs": [],
   "source": []
  }
 ],
 "metadata": {
  "kernelspec": {
   "display_name": "Python 3",
   "language": "python",
   "name": "python3"
  },
  "language_info": {
   "codemirror_mode": {
    "name": "ipython",
    "version": 3
   },
   "file_extension": ".py",
   "mimetype": "text/x-python",
   "name": "python",
   "nbconvert_exporter": "python",
   "pygments_lexer": "ipython3",
   "version": "3.6.9"
  }
 },
 "nbformat": 4,
 "nbformat_minor": 2
}

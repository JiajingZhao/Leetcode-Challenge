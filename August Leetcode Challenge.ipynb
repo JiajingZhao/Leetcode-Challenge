{
 "cells": [
  {
   "cell_type": "code",
   "execution_count": 1,
   "metadata": {},
   "outputs": [],
   "source": [
    "from IPython.core.interactiveshell import InteractiveShell\n",
    "InteractiveShell.ast_node_interactivity = \"all\""
   ]
  },
  {
   "cell_type": "markdown",
   "metadata": {},
   "source": [
    "# 1. Detect Capital\n",
    "\n",
    "Given a word, you need to judge whether the usage of capitals in it is right or not.  \n",
    "We define the usage of capitals in a word to be right when one of the following cases holds:    \n",
    "All letters in this word are capitals, like \"USA\".  \n",
    "All letters in this word are not capitals, like \"leetcode\".  \n",
    "Only the first letter in this word is capital, like \"Google\".  \n",
    "Otherwise, we define that this word doesn't use capitals in a right way.  \n",
    " \n",
    "Example 1:  \n",
    "Input: \"USA\"  \n",
    "Output: True  \n",
    "\n",
    "Example 2:    \n",
    "Input: \"FlaG\"  \n",
    "Output: False  \n",
    "\n",
    "Note: The input will be a non-empty word consisting of uppercase and lowercase latin letters."
   ]
  },
  {
   "cell_type": "code",
   "execution_count": 6,
   "metadata": {},
   "outputs": [
    {
     "data": {
      "text/plain": [
       "True"
      ]
     },
     "execution_count": 6,
     "metadata": {},
     "output_type": "execute_result"
    },
    {
     "data": {
      "text/plain": [
       "False"
      ]
     },
     "execution_count": 6,
     "metadata": {},
     "output_type": "execute_result"
    }
   ],
   "source": [
    "def detectCapitalUse(word: str) -> bool:\n",
    "    count = sum(i.isupper() for i in word)\n",
    "    if count == len(word):\n",
    "        return True\n",
    "    elif count == 1 and word[0].isupper():\n",
    "        return True\n",
    "    elif count == 0:\n",
    "        return True\n",
    "    return False\n",
    "\n",
    "detectCapitalUse(word=\"USA\")\n",
    "detectCapitalUse(word=\"FlaG\")"
   ]
  },
  {
   "cell_type": "markdown",
   "metadata": {},
   "source": [
    "# 2. Design a HashSet without using any built-in hash table libraries.\n",
    "\n",
    "To be specific, your design should include these functions:  \n",
    "add(value): Insert a value into the HashSet.   \n",
    "contains(value) : Return whether the value exists in the HashSet or not.  \n",
    "remove(value): Remove a value in the HashSet. If the value does not exist in the HashSet, do nothing.  \n",
    "\n",
    "Example:  \n",
    "MyHashSet hashSet = new MyHashSet();  \n",
    "hashSet.add(1);           \n",
    "hashSet.add(2);           \n",
    "hashSet.contains(1);    // returns true  \n",
    "hashSet.contains(3);    // returns false (not found)  \n",
    "hashSet.add(2);          \n",
    "hashSet.contains(2);    // returns true  \n",
    "hashSet.remove(2);          \n",
    "hashSet.contains(2);    // returns false (already removed)\n",
    "\n",
    "Note:\n",
    "All values will be in the range of [0, 1000000].\n",
    "The number of operations will be in the range of [1, 10000].\n",
    "Please do not use the built-in HashSet library."
   ]
  },
  {
   "cell_type": "code",
   "execution_count": null,
   "metadata": {},
   "outputs": [],
   "source": [
    "class MyHashSet:\n",
    "\n",
    "    def __init__(self):\n",
    "        \"\"\"\n",
    "        Initialize your data structure here.\n",
    "        \"\"\"\n",
    "        self.hashSet = set()\n",
    "        \n",
    "        \n",
    "\n",
    "    def add(self, key: int) -> None:\n",
    "        self.hashSet.add(key)\n",
    "\n",
    "    def remove(self, key: int) -> None:\n",
    "        if key in hashSet:\n",
    "            self.hashSet.remove(key)\n",
    "\n",
    "    def contains(self, key: int) -> bool:\n",
    "        \"\"\"\n",
    "        Returns true if this set contains the specified element\n",
    "        \"\"\"\n",
    "        if key in hashSet:\n",
    "            return True\n",
    "        return False\n",
    "        \n",
    "\n",
    "\n",
    "# Your MyHashSet object will be instantiated and called as such:\n",
    "# obj = MyHashSet()\n",
    "# obj.add(key)\n",
    "# obj.remove(key)\n",
    "# param_3 = obj.contains(key)"
   ]
  },
  {
   "cell_type": "markdown",
   "metadata": {},
   "source": [
    "# 3. Valid Palindrome\n",
    "\n",
    "Given a string, determine if it is a palindrome, considering only alphanumeric characters and ignoring cases.  \n",
    "Note: For the purpose of this problem, we define empty string as valid palindrome.  \n",
    "\n",
    "Example 1:  \n",
    "Input: \"A man, a plan, a canal: Panama\"  \n",
    "Output: true  \n",
    "    \n",
    "Example 2:  \n",
    "Input: \"race a car\"  \n",
    "Output: false \n",
    " \n",
    "Constraints: s consists only of printable ASCII characters."
   ]
  },
  {
   "cell_type": "code",
   "execution_count": 10,
   "metadata": {},
   "outputs": [
    {
     "data": {
      "text/plain": [
       "True"
      ]
     },
     "execution_count": 10,
     "metadata": {},
     "output_type": "execute_result"
    }
   ],
   "source": [
    "def isPalindrome(s: str) -> bool:\n",
    "    i,j = 0, len(s)-1\n",
    "    while i < j:\n",
    "        while i < j and not s[i].isalnum():\n",
    "            i += 1\n",
    "        while i < j and not s[j].isalnum():\n",
    "            j -= 1\n",
    "        if s[i].lower() != s[j].lower():\n",
    "            return False\n",
    "        i += 1\n",
    "        j -= 1\n",
    "    return True\n",
    "\n",
    "s = \"A man, a plan, a canal: Panama\"\n",
    "isPalindrome(s)"
   ]
  },
  {
   "cell_type": "markdown",
   "metadata": {},
   "source": [
    "# 4.Power of Four\n",
    "\n",
    "Given an integer (signed 32 bits), write a function to check whether it is a power of 4.  \n",
    "Example 1:  \n",
    "Input: 16  \n",
    "Output: true  \n",
    "\n",
    "Example 2:  \n",
    "Input: 5  \n",
    "Output: false\n",
    "\n",
    "### Idea:\n",
    "(num & 0x55555555) != 0 : 保证奇数位有1\n",
    "num&(num-1) == 0 4的倍数和其减1 与运算=0\n",
    "\n",
    "0xaaaaaaaa = 10101010101010101010101010101010 (偶数位为1，奇数位为0）\n",
    "0x55555555 = 1010101010101010101010101010101 (偶数位为0，奇数位为1）\n",
    "0x33333333 = 110011001100110011001100110011 (1和0每隔两位交替出现)\n",
    "0xcccccccc = 11001100110011001100110011001100 (0和1每隔两位交替出现)\n",
    "0x0f0f0f0f = 00001111000011110000111100001111 (1和0每隔四位交替出现)\n",
    "0xf0f0f0f0 = 11110000111100001111000011110000 (0和1每隔四位交替出现)"
   ]
  },
  {
   "cell_type": "code",
   "execution_count": 29,
   "metadata": {},
   "outputs": [
    {
     "data": {
      "text/plain": [
       "True"
      ]
     },
     "execution_count": 29,
     "metadata": {},
     "output_type": "execute_result"
    },
    {
     "data": {
      "text/plain": [
       "False"
      ]
     },
     "execution_count": 29,
     "metadata": {},
     "output_type": "execute_result"
    },
    {
     "data": {
      "text/plain": [
       "'0b10000'"
      ]
     },
     "execution_count": 29,
     "metadata": {},
     "output_type": "execute_result"
    },
    {
     "data": {
      "text/plain": [
       "'0b100000'"
      ]
     },
     "execution_count": 29,
     "metadata": {},
     "output_type": "execute_result"
    }
   ],
   "source": [
    "def isPowerOfFour(num: int) -> bool:\n",
    "    return num > 0 and bin(num).count('1') % 2 == 1 and bin(num).count('0') % 2 == 1\n",
    "    # return num > 0 and num&(num-1) == 0 and (num & 0x55555555) != 0 \n",
    "\n",
    "isPowerOfFour(num=16)\n",
    "isPowerOfFour(num=5)\n",
    "bin(16)\n",
    "bin(32)"
   ]
  },
  {
   "cell_type": "markdown",
   "metadata": {},
   "source": [
    "# 5. Add and Search Word - Data structure design\n",
    "\n",
    "Design a data structure that supports the following two operations:  \n",
    "void addWord(word)  \n",
    "bool search(word)  \n",
    "search(word) can search a literal word or a regular expression string containing only letters a-z or .. A . means it can represent any one letter.\n",
    "\n",
    "Example:  \n",
    "addWord(\"bad\")  \n",
    "addWord(\"dad\")  \n",
    "addWord(\"mad\")  \n",
    "search(\"pad\") -> false  \n",
    "search(\"bad\") -> true  \n",
    "search(\".ad\") -> true  \n",
    "search(\"b..\") -> true  \n",
    "Note: You may assume that all words are consist of lowercase letters a-z.\n",
    "\n",
    "### Idea:\n",
    "- addWord:\n",
    "    - go through word, update current node\n",
    "- searchWord:\n",
    "    - if it is the last char of word: return isWord\n",
    "    - if w[i]='.': go through each children, if one of it satisfies the dfs >> True, otherwise >> Flase\n",
    "    - if w[i] not in word >> False\n",
    "    - if w[i] in word >> dfs"
   ]
  },
  {
   "cell_type": "code",
   "execution_count": null,
   "metadata": {},
   "outputs": [],
   "source": [
    "class TrieNode:\n",
    "    def _init_(self):\n",
    "        self.children()\n",
    "        self.isEnd = False\n",
    "    \n",
    "class WordDictionary:\n",
    "    def __init__(self):\n",
    "        \"\"\"\n",
    "        Initialize your data structure here.\n",
    "        \"\"\"\n",
    "        self.root = TrieNode()\n",
    "        \n",
    "\n",
    "    def addWord(self, word: str) -> None:\n",
    "        \"\"\"\n",
    "        Adds a word into the data structure.\n",
    "        \"\"\"\n",
    "        cur = self.root\n",
    "        for w in word:\n",
    "            if w not in cur.children:\n",
    "                cur.children[w] = TrieNode()\n",
    "            cur = cur.children[w]\n",
    "        cur.isWord = True\n",
    "\n",
    "    def search(self, word: str) -> bool:\n",
    "        \"\"\"\n",
    "        Returns if the word is in the data structure. A word could contain the dot character '.' to represent any one letter.\n",
    "        \"\"\"\n",
    "        def dfs(node,i,word):\n",
    "            if i == len(word):\n",
    "                return node.isWord\n",
    "            if word[i] == '.':\n",
    "                for w in node.children:\n",
    "                    if dfs(node.children[w],i+1,word):\n",
    "                        return True\n",
    "                return False\n",
    "            else:\n",
    "                if word[i] not in node.children:\n",
    "                    return False\n",
    "                else:\n",
    "                    return dfs(node.children[word[i]],i+1,word)\n",
    "            \n",
    "        return dfs(self.root,0,word)"
   ]
  },
  {
   "cell_type": "markdown",
   "metadata": {},
   "source": [
    "# 6. Find All Duplicates in an Array\n",
    "\n",
    "Given an array of integers, 1 ≤ a[i] ≤ n (n = size of array), some elements appear twice and others appear once.    \n",
    "Find all the elements that appear twice in this array.  \n",
    "Could you do it without extra space and in O(n) runtime? \n",
    "\n",
    "Example:  \n",
    "Input: [4,3,2,7,8,2,3,1]  \n",
    "Output: [2,3]\n",
    "\n",
    "### My solution:\n",
    "- nums.sort() + nums[i+1]==nums[i] to find all duplicates"
   ]
  },
  {
   "cell_type": "code",
   "execution_count": 25,
   "metadata": {},
   "outputs": [
    {
     "name": "stdout",
     "output_type": "stream",
     "text": [
      "4.33 µs ± 756 ns per loop (mean ± std. dev. of 7 runs, 100000 loops each)\n"
     ]
    }
   ],
   "source": [
    "def findDuplicates(nums):\n",
    "    nums.sort()\n",
    "    res = []\n",
    "    for i in range(len(nums)-1):\n",
    "        if nums[i] == nums[i+1]:\n",
    "            res.append(nums[i])\n",
    "    return res\n",
    "nums = [4,3,2,7,8,2,3,1]\n",
    "%timeit findDuplicates(nums)"
   ]
  },
  {
   "cell_type": "code",
   "execution_count": 26,
   "metadata": {},
   "outputs": [
    {
     "name": "stdout",
     "output_type": "stream",
     "text": [
      "4.26 µs ± 195 ns per loop (mean ± std. dev. of 7 runs, 100000 loops each)\n"
     ]
    }
   ],
   "source": [
    "def findDuplicates(nums):\n",
    "    already_seen = set()\n",
    "    duplicates = set()\n",
    "    for num in nums:\n",
    "        if num in already_seen:\n",
    "            duplicates.add(num)\n",
    "        else:\n",
    "            already_seen.add(num)\n",
    "    return duplicates \n",
    "nums = [4,3,2,7,8,2,3,1]\n",
    "%timeit list(findDuplicates(nums))"
   ]
  },
  {
   "cell_type": "markdown",
   "metadata": {},
   "source": [
    "# 7. Vertical Order Traversal of a Binary Tree\n",
    "\n",
    "Given a binary tree, return the vertical order traversal of its nodes values.  \n",
    "For each node at position (X, Y), its left and right children respectively will be at positions (X-1, Y-1) and (X+1, Y-1).  \n",
    "Running a vertical line from X = -infinity to X = +infinity, whenever the vertical line touches some nodes, we report the values of the nodes in order from top to bottom (decreasing Y coordinates).  \n",
    "If two nodes have the same position, then the value of the node that is reported first is the value that is smaller.  \n",
    "Return an list of non-empty reports in order of X coordinate.  Every report will have a list of values of nodes.\n",
    "\n",
    "Example 1:  \n",
    "Input: [3,9,20,null,null,15,7]  \n",
    "Output: [[9],[3,15],[20],[7]]  \n",
    "Explanation:   \n",
    "Without loss of generality, we can assume the root node is at position (0, 0):  \n",
    "Then, the node with value 9 occurs at position (-1, -1);  \n",
    "The nodes with values 3 and 15 occur at positions (0, 0) and (0, -2);  \n",
    "The node with value 20 occurs at position (1, -1);   \n",
    "The node with value 7 occurs at position (2, -2).  \n",
    "\n",
    "Example 2:  \n",
    "Input: [1,2,3,4,5,6,7]  \n",
    "Output: [[4],[2],[1,5,6],[3],[7]]  \n",
    "Explanation:   \n",
    "The node with value 5 and the node with value 6 have the same position according to the given scheme.  \n",
    "However, in the report \"[1,5,6]\", the node value of 5 comes first since 5 is smaller than 6.  \n",
    " \n",
    "Note:  \n",
    "The tree will have between 1 and 1000 nodes.  \n",
    "Each node's value will be between 0 and 1000."
   ]
  },
  {
   "cell_type": "code",
   "execution_count": null,
   "metadata": {},
   "outputs": [],
   "source": [
    "# Definition for a binary tree node.\n",
    "# class TreeNode:\n",
    "#     def __init__(self, val=0, left=None, right=None):\n",
    "#         self.val = val\n",
    "#         self.left = left\n",
    "#         self.right = right\n",
    "class Solution:\n",
    "    def verticalTraversal(self, root: TreeNode) -> List[List[int]]:\n",
    "        d = collections.defaultdict(list) #d[x] straightly classificate x level \n",
    "        q = [(root,0,0)]\n",
    "        ans = []\n",
    "        while q:\n",
    "            node,x,y = q.pop(0)\n",
    "            d[x].append((y,node.val))\n",
    "            if node.left:\n",
    "                q.append((node.left,x-1,y-1))\n",
    "            if node.right:\n",
    "                q.append((node.right,x+1,y-1))  \n",
    "                    \n",
    "        for x in sorted(d.keys()):\n",
    "            level = [tup[1] for tup in sorted(d[x],key=lambda t:(-t[0].t[1]))] #-t[0] sorting d.values() in y ascending,\n",
    "            ans.append(level)\n",
    "        return ans"
   ]
  },
  {
   "cell_type": "markdown",
   "metadata": {},
   "source": [
    "# 8. Path Sum III\n",
    "\n",
    "You are given a binary tree in which each node contains an integer value.  \n",
    "Find the number of paths that sum to a given value.  \n",
    "The path does not need to start or end at the root or a leaf, but it must go downwards (traveling only from parent nodes to child nodes).  \n",
    "The tree has no more than 1,000 nodes and the values are in the range -1,000,000 to 1,000,000.\n",
    "\n",
    "Example:  \n",
    "root = [10,5,-3,3,2,null,11,3,-2,null,1], sum = 8    \n",
    "Return 3. The paths that sum to 8 are:    \n",
    "1.  5 -> 3  \n",
    "2.  5 -> 2 -> 1  \n",
    "3. -3 -> 11\n",
    "\n",
    "### Idea\n",
    "- DFS + 双重递归. 定义dfs函数, 求在以当前节点能组成的path的个数, 有3种可能,返回计数的个数. 然后在pathSum函数里, 再进行一次递归.\n",
    "    - 当前节点\n",
    "    - 当前节点 + 左子节点的path\n",
    "    - 当前节点 + 右子节点的path"
   ]
  },
  {
   "cell_type": "code",
   "execution_count": null,
   "metadata": {},
   "outputs": [],
   "source": [
    "# Definition for a binary tree node.\n",
    "# class TreeNode:\n",
    "#     def __init__(self, val=0, left=None, right=None):\n",
    "#         self.val = val\n",
    "#         self.left = left\n",
    "#         self.right = right\n",
    "class Solution:\n",
    "    def pathSum(self, root: TreeNode, sum: int) -> int:\n",
    "        if not root:\n",
    "            return 0\n",
    "        return self.dfs(root,sum) + self.pathSum(root.left,sum) + self.pathSum(root.right,sum) \n",
    "    \n",
    "    def dfs(self,root,sum):\n",
    "        ans = 0\n",
    "        if not root:\n",
    "            return ans\n",
    "        if root.val == sum:\n",
    "            ans += 1\n",
    "        ans += self.ans(root.left,sum-root.val)\n",
    "        ans += self.ans(root.right,sum-root.val)\n",
    "        return ans"
   ]
  },
  {
   "cell_type": "code",
   "execution_count": null,
   "metadata": {},
   "outputs": [],
   "source": [
    "# Definition for a binary tree node.\n",
    "# class TreeNode:\n",
    "#     def __init__(self, val=0, left=None, right=None):\n",
    "#         self.val = val\n",
    "#         self.left = left\n",
    "#         self.right = right\n",
    "class Solution:\n",
    "    def pathSum(self, root: TreeNode, sum: int) -> int:\n",
    "        if not root:\n",
    "            return 0\n",
    "        return self.dfs(root,sum) + self.pathSum(root.left,sum)+ self.pathSum(root.right,sum)\n",
    "    \n",
    "    def dfs(self,root,sum):\n",
    "        if not root:\n",
    "            return 0\n",
    "        return (1 if root.val == sum else 0) + self.dfs(root.left,sum-root.val) + self.dfs(root.right,sum-root.val)"
   ]
  },
  {
   "cell_type": "markdown",
   "metadata": {},
   "source": [
    "# 9. Rotting Oranges\n",
    "\n",
    "In a given grid, each cell can have one of three values:  \n",
    "the value 0 representing an empty cell;  \n",
    "the value 1 representing a fresh orange;  \n",
    "the value 2 representing a rotten orange.  \n",
    "Every minute, any fresh orange that is adjacent (4-directionally) to a rotten orange becomes rotten.   \n",
    "Return the minimum number of minutes that must elapse until no cell has a fresh orange.  If this is impossible, return -1 instead.  \n",
    "\n",
    "Example 1:  \n",
    "Input: [[2,1,1],[1,1,0],[0,1,1]]  \n",
    "Output: 4  \n",
    "\n",
    "Example 2:  \n",
    "Input: [[2,1,1],[0,1,1],[1,0,1]]  \n",
    "Output: -1  \n",
    "Explanation:  The orange in the bottom left corner (row 2, column 0) is never rotten, because rotting only happens 4-directionally.  \n",
    "\n",
    "Example 3:  \n",
    "Input: [[0,2]]  \n",
    "Output: 0  \n",
    "Explanation:  Since there are already no fresh oranges at minute 0, the answer is just 0.\n",
    "\n",
    "### Idea: bfs\n",
    "- go through, record nums of fresh, and append rotting into deque\n",
    "- bfs, pop rotting, adjacent>>rooting, fresh-1 until there is no fresh"
   ]
  },
  {
   "cell_type": "code",
   "execution_count": 18,
   "metadata": {},
   "outputs": [
    {
     "data": {
      "text/plain": [
       "-1"
      ]
     },
     "execution_count": 18,
     "metadata": {},
     "output_type": "execute_result"
    },
    {
     "data": {
      "text/plain": [
       "4"
      ]
     },
     "execution_count": 18,
     "metadata": {},
     "output_type": "execute_result"
    }
   ],
   "source": [
    "def orangesRotting(grid) -> int:\n",
    "    row, col = len(grid), len(grid[0])\n",
    "    import collections\n",
    "    d = collections.deque()\n",
    "    fresh = 0\n",
    "    ans = 0\n",
    "    for i in range(row):\n",
    "        for j in range(col):\n",
    "            if grid[i][j] == 1:\n",
    "                fresh += 1\n",
    "            elif grid[i][j] == 2:\n",
    "                d.append((i,j))\n",
    "    \n",
    "    if fresh == 0:\n",
    "        return 0\n",
    "    while d:\n",
    "        for _ in range(len(d)):\n",
    "            x, y = d.popleft()\n",
    "            for dx,dy in [(-1,0),(1,0),(0,-1),(0,1)]:\n",
    "                if 0<=x+dx<row and 0<=y+dy<col and grid[x+dx][y+dy]==1:\n",
    "                    grid[x+dx][y+dy] = 2\n",
    "                    d.append((x+dx,y+dy))\n",
    "                    fresh -= 1\n",
    "        ans += 1\n",
    "    return ans-1 if fresh==0 else -1    \n",
    "\n",
    "grid = [[2,1,1],[0,1,1],[1,0,1]]\n",
    "orangesRotting(grid)\n",
    "grid = [[2,1,1],[1,1,0],[0,1,1]]\n",
    "orangesRotting(grid)"
   ]
  },
  {
   "cell_type": "markdown",
   "metadata": {},
   "source": [
    "# 10. Excel Sheet Column Number\n",
    "\n",
    "Given a column title as appear in an Excel sheet, return its corresponding column number.  \n",
    "For example:   \n",
    "    A -> 1  \n",
    "    B -> 2  \n",
    "    C -> 3  \n",
    "    ...  \n",
    "    Z -> 26  \n",
    "    AA -> 27  \n",
    "    AB -> 28   \n",
    "    ...  \n",
    "Example 1:  \n",
    "Input: \"A\"  \n",
    "Output: 1  \n",
    "\n",
    "Example 2:  \n",
    "Input: \"AB\"  \n",
    "Output: 28\n",
    "\n",
    "Example 3:  \n",
    "Input: \"ZY\"   \n",
    "Output: 701  "
   ]
  },
  {
   "cell_type": "code",
   "execution_count": 21,
   "metadata": {},
   "outputs": [
    {
     "data": {
      "text/plain": [
       "701"
      ]
     },
     "execution_count": 21,
     "metadata": {},
     "output_type": "execute_result"
    }
   ],
   "source": [
    "def titleToNumber(s: str) -> int:\n",
    "    res = 0\n",
    "    for char in s:\n",
    "        res *= 26\n",
    "        res += ord(char)-ord('A')+1\n",
    "    return res\n",
    "titleToNumber(\"ZY\")    "
   ]
  },
  {
   "cell_type": "markdown",
   "metadata": {},
   "source": [
    "# 11. H-Index^\n",
    "\n",
    "Given an array of citations (each citation is a non-negative integer) of a researcher, write a function to compute the researcher's h-index. \n",
    "According to the definition of h-index on Wikipedia: \"A scientist has index h if h of his/her N papers have at least h citations each, and the other N − h papers have no more than h citations each.\"\n",
    "\n",
    "Example:  \n",
    "Input: citations = [3,0,6,1,5]  \n",
    "Output: 3   \n",
    "Explanation: [3,0,6,1,5] means the researcher has 5 papers in total and each of them had received 3, 0, 6, 1, 5 citations respectively. Since the researcher has 3 papers with at least 3 citations each and the remaining two with no more than 3 citations each, her h-index is 3.  \n",
    "Note: If there are several possible values for h, the maximum one is taken as the h-index.\n",
    "\n",
    "### Idea: list.sort() + binary search"
   ]
  },
  {
   "cell_type": "code",
   "execution_count": 25,
   "metadata": {},
   "outputs": [
    {
     "data": {
      "text/plain": [
       "3"
      ]
     },
     "execution_count": 25,
     "metadata": {},
     "output_type": "execute_result"
    }
   ],
   "source": [
    "def hIndex(citations) -> int:\n",
    "    citations.sort()\n",
    "    N = len(citations)\n",
    "    l,r = 0, N-1\n",
    "    H = 0\n",
    "    while l <= r:\n",
    "        mid = l + (r-l)//2\n",
    "        H = max( H, min(citations[mid],N-mid) )\n",
    "        if citations[mid] < N - mid:\n",
    "            l = mid + 1\n",
    "        else:\n",
    "            r = mid - 1\n",
    "    return H \n",
    "            \n",
    "citations = [3,0,6,1,5]\n",
    "hIndex(citations)"
   ]
  },
  {
   "cell_type": "markdown",
   "metadata": {},
   "source": [
    "# 12. Pascal's Triangle II\n",
    "\n",
    "Given a non-negative index k where k ≤ 33, return the kth index row of the Pascal's triangle.  \n",
    "Note that the row index starts from 0.  \n",
    "In Pascal's triangle, each number is the sum of the two numbers directly above it.\n",
    "\n",
    "Example:  \n",
    "Input: 3  \n",
    "Output: [1,3,3,1]  \n",
    "Follow up: Could you optimize your algorithm to use only O(k) extra space?"
   ]
  },
  {
   "cell_type": "code",
   "execution_count": 28,
   "metadata": {},
   "outputs": [
    {
     "name": "stdout",
     "output_type": "stream",
     "text": [
      "0 1 [1, 1, 0, 0]\n",
      "1 2 [1, 1, 1, 0]\n",
      "1 1 [1, 2, 1, 0]\n",
      "2 3 [1, 2, 1, 1]\n",
      "2 2 [1, 2, 3, 1]\n",
      "2 1 [1, 3, 3, 1]\n"
     ]
    },
    {
     "data": {
      "text/plain": [
       "[1, 3, 3, 1]"
      ]
     },
     "execution_count": 28,
     "metadata": {},
     "output_type": "execute_result"
    }
   ],
   "source": [
    "def getRow(rowIndex: int):\n",
    "    result = [1] + [0] * rowIndex\n",
    "    for i in range(rowIndex):\n",
    "        result[0] = 1\n",
    "        for j in range(i+1,0,-1):\n",
    "            result[j] = result[j] + result[j-1]\n",
    "            print(i,j,result)\n",
    "    return result\n",
    "getRow(rowIndex=3)"
   ]
  },
  {
   "cell_type": "markdown",
   "metadata": {},
   "source": [
    "# 13. Iterator for Combination\n",
    "\n",
    "Design an Iterator class, which has:  \n",
    "A constructor that takes a string characters of sorted distinct lowercase English letters and a number combinationLength as arguments.\n",
    "A function next() that returns the next combination of length combinationLength in lexicographical order.\n",
    "A function hasNext() that returns True if and only if there exists a next combination.\n",
    "\n",
    "Example:  \n",
    "CombinationIterator iterator = new CombinationIterator(\"abc\", 2); // creates the iterator.  \n",
    "iterator.next(); // returns \"ab\"  \n",
    "iterator.hasNext(); // returns true  \n",
    "iterator.next(); // returns \"ac\"  \n",
    "iterator.hasNext(); // returns true  \n",
    "iterator.next(); // returns \"bc\"  \n",
    "iterator.hasNext(); // returns false  \n",
    " \n",
    "Constraints:  \n",
    "1 <= combinationLength <= characters.length <= 15  \n",
    "There will be at most 10^4 function calls per test.  \n",
    "It's guaranteed that all calls of the function next are valid."
   ]
  },
  {
   "cell_type": "code",
   "execution_count": null,
   "metadata": {},
   "outputs": [],
   "source": [
    "class CombinationIterator:\n",
    "\n",
    "    def __init__(self, characters: str, combinationLength: int):\n",
    "        self.comb = list(itertools.combinations(characters,combinationLength)) #[('a', 'b'), ('a', 'c'), ('b', 'c')]\n",
    "        self.last = characters[-combinationLength:]\n",
    "        self.res = ''\n",
    "        \n",
    "    def next(self) -> str:\n",
    "        self.res = ''.join(self.comb.pop(0))\n",
    "        return self.res\n",
    "    \n",
    "    def hasNext(self) -> bool:\n",
    "        return self.res != self.last\n",
    "\n",
    "\n",
    "# Your CombinationIterator object will be instantiated and called as such:\n",
    "# obj = CombinationIterator(characters, combinationLength)\n",
    "# param_1 = obj.next()\n",
    "# param_2 = obj.hasNext()"
   ]
  },
  {
   "cell_type": "code",
   "execution_count": null,
   "metadata": {},
   "outputs": [],
   "source": [
    "class CombinationIterator:\n",
    "    def __init__(self, characters: str, combinationLength: int):\n",
    "        self.comb = list(map('',itertools.combinations(characters,combinationLength))) #[('a', 'b'), ('a', 'c'), ('b', 'c')]\n",
    "        \n",
    "    def next(self) -> str:\n",
    "        return self.comb.pop(0)\n",
    "    \n",
    "    def hasNext(self) -> bool:\n",
    "        if self.comb:\n",
    "            return True\n",
    "        return False"
   ]
  },
  {
   "cell_type": "markdown",
   "metadata": {},
   "source": [
    "# 14. Longest Palindrome\n",
    "\n",
    "Given a string which consists of lowercase or uppercase letters, find the length of the longest palindromes that can be built with those letters.  \n",
    "This is case sensitive, for example \"Aa\" is not considered a palindrome here.  \n",
    "Note: Assume the length of given string will not exceed 1,010.  \n",
    "\n",
    "Example:  \n",
    "Input:\"abccccdd\"  \n",
    "Output: 7  \n",
    "Explanation: One longest palindrome that can be built is \"dccaccd\", whose length is 7.\n",
    "\n",
    "### Idea:\n",
    "- collections.Counter(s) 将每个char的数量的偶数部分相加。如果等于s的长度，就是结果。如果不是，结果＋1，可以在中间增加一个中心轴。"
   ]
  },
  {
   "cell_type": "code",
   "execution_count": 30,
   "metadata": {},
   "outputs": [
    {
     "name": "stdout",
     "output_type": "stream",
     "text": [
      "Counter({'b': 2})\n"
     ]
    },
    {
     "data": {
      "text/plain": [
       "2"
      ]
     },
     "execution_count": 30,
     "metadata": {},
     "output_type": "execute_result"
    }
   ],
   "source": [
    "def longestPalindrome(s: str) -> int:\n",
    "    import collections\n",
    "    d = collections.Counter(s)\n",
    "    print(d)\n",
    "    res = 0\n",
    "    for i in d.values():\n",
    "        if i % 2 == 0:\n",
    "            res += i\n",
    "        else:\n",
    "            res += i - 1 \n",
    "        # res += i //2 * 2\n",
    "    return res if res==len(s) else res+1\n",
    "\n",
    "s = \"bb\"\n",
    "longestPalindrome(s)"
   ]
  },
  {
   "cell_type": "markdown",
   "metadata": {},
   "source": [
    "# 15. Non-overlapping Intervals\n",
    "\n",
    "Given a collection of intervals, find the minimum number of intervals you need to remove to make the rest of the intervals non-overlapping.\n",
    "\n",
    "Example 1:  \n",
    "Input: [[1,2],[2,3],[3,4],[1,3]]  \n",
    "Output: 1  \n",
    "Explanation: [1,3] can be removed and the rest of intervals are non-overlapping.\n",
    "\n",
    "Example 2:  \n",
    "Input: [[1,2],[1,2],[1,2]]  \n",
    "Output: 2  \n",
    "Explanation: You need to remove two [1,2] to make the rest of intervals non-overlapping.\n",
    "\n",
    "Example 3:  \n",
    "Input: [[1,2],[2,3]]  \n",
    "Output: 0  \n",
    "Explanation: You don't need to remove any of the intervals since they're already non-overlapping.\n",
    "\n",
    "Note: You may assume the interval's end point is always bigger than its start point.\n",
    "Intervals like [1,2] and [2,3] have borders \"touching\" but they don't overlap each other.\n",
    "\n",
    "### idea:\n",
    "- find overlapping condition \n",
    "    - temp[0] > i[1] \n",
    "        - i[1] < temp[1]: update temp and count\n",
    "    - else: update temp "
   ]
  },
  {
   "cell_type": "code",
   "execution_count": 14,
   "metadata": {},
   "outputs": [
    {
     "data": {
      "text/plain": [
       "1"
      ]
     },
     "execution_count": 14,
     "metadata": {},
     "output_type": "execute_result"
    }
   ],
   "source": [
    "def eraseOverlapIntervals(intervals) -> int:\n",
    "    intervals.sort(key=lambda x:x[0])\n",
    "    temp = 0\n",
    "    res = 0\n",
    "    intervals\n",
    "    for i in range(1,len(intervals)):\n",
    "        if intervals[temp][1] > intervals[i][0]: # 当当前区间右端点>i区间左端点\n",
    "            if intervals[i][1] < intervals[temp][0]: # 当i区间右端点<当前区间右端点，表示i区间被覆盖在当前区间中\n",
    "                temp = i\n",
    "            res += 1\n",
    "        else:\n",
    "            temp = i\n",
    "    return res\n",
    "intervals = [[1,2],[2,3],[3,4],[1,3]]\n",
    "eraseOverlapIntervals(intervals)"
   ]
  },
  {
   "cell_type": "markdown",
   "metadata": {},
   "source": [
    "# 16. Best Time to Buy and Sell Stock III - hard\n",
    "\n",
    "Say you have an array for which the ith element is the price of a given stock on day i.  \n",
    "Design an algorithm to find the maximum profit. You may complete at most two transactions.    \n",
    "Note: You may not engage in multiple transactions at the same time (i.e., you must sell the stock before you buy again).\n",
    "\n",
    "Example 1:  \n",
    "Input: [3,3,5,0,0,3,1,4]  \n",
    "Output: 6  \n",
    "Explanation: Buy on day 4 (price = 0) and sell on day 6 (price = 3), profit = 3-0 = 3. Then buy on day 7 (price = 1) and sell on day 8 (price = 4), profit = 4-1 = 3.\n",
    "\n",
    "Example 2: \n",
    "Input: [1,2,3,4,5]  \n",
    "Output: 4  \n",
    "Explanation: Buy on day 1 (price = 1) and sell on day 5 (price = 5), profit = 5-1 = 4.  Note that you cannot buy on day 1, buy on day 2 and sell them later, as you are engaging multiple transactions at the same time. You must sell before buying again.\n",
    "\n",
    "Example 3:  \n",
    "Input: [7,6,4,3,1]  \n",
    "Output: 0  \n",
    "Explanation: In this case, no transaction is done, i.e. max profit = 0.\n",
    "\n",
    "### Idea:\n",
    "- based on Best Time to Buy and Sell Stock I/II, at most 2 reansactions. >> DP\n",
    "- local/ gobal recursion\n",
    "    - l[i][j] = max(g[i - 1][j - 1] + max(diff, 0), l[i - 1][j] + diff) 局部最优值:max(前一天的少交易一次的全局最优+ diff>0，前一天的局部最优+ diff)\n",
    "    - g[i][j] = max(l[i][j],g[i-1][j]) 全局最优: 比较局部最优和前一天的全局最优"
   ]
  },
  {
   "cell_type": "code",
   "execution_count": 80,
   "metadata": {},
   "outputs": [
    {
     "data": {
      "text/plain": [
       "6"
      ]
     },
     "execution_count": 80,
     "metadata": {},
     "output_type": "execute_result"
    }
   ],
   "source": [
    "def maxProfit(prices):\n",
    "    if not prices:\n",
    "        return 0\n",
    "    N = len(prices)\n",
    "    g = [[0] * 3 for _ in range(N)]\n",
    "    l = [[0] * 3 for _ in range(N)]\n",
    "    \n",
    "    for i in range(1,N):\n",
    "        diff = prices[i] - prices[i-1]\n",
    "        for j in range(1,3):\n",
    "            l[i][j] = max(g[i - 1][j - 1] + max(diff, 0), l[i - 1][j] + diff) # \n",
    "            g[i][j] = max(l[i][j],g[i-1][j])\n",
    "    return g[-1][-1]\n",
    "\n",
    "prices = [3,3,5,0,0,3,1,4] \n",
    "maxProfit(prices)"
   ]
  },
  {
   "cell_type": "markdown",
   "metadata": {},
   "source": [
    "# 17. Distribute Candies to People\n",
    "\n",
    "We distribute some number of candies, to a row of n = num_people people in the following way:  \n",
    "We then give 1 candy to the first person, 2 candies to the second person, and so on until we give n candies to the last person.  \n",
    "Then, we go back to the start of the row, giving n + 1 candies to the first person, n + 2 candies to the second person, and so on until we give 2 * n candies to the last person.  \n",
    "This process repeats (with us giving one more candy each time, and moving to the start of the row after we reach the end) until we run out of candies.  The last person will receive all of our remaining candies (not necessarily one more than the previous gift).  \n",
    "Return an array (of length num_people and sum candies) that represents the final distribution of candies.\n",
    "\n",
    "Example 1:  \n",
    "Input: candies = 7, num_people = 4  \n",
    "Output: [1,2,3,1]  \n",
    "Explanation:  \n",
    "On the first turn, ans[0] += 1, and the array is [1,0,0,0].  \n",
    "On the second turn, ans[1] += 2, and the array is [1,2,0,0].   \n",
    "On the third turn, ans[2] += 3, and the array is [1,2,3,0].  \n",
    "On the fourth turn, ans[3] += 1 (because there is only one candy left), and the final array is [1,2,3,1].  \n",
    "\n",
    "Example 2:  \n",
    "Input: candies = 10, num_people = 3  \n",
    "Output: [5,2,3]  \n",
    "Explanation:   \n",
    "On the first turn, ans[0] += 1, and the array is [1,0,0].  \n",
    "On the second turn, ans[1] += 2, and the array is [1,2,0].  \n",
    "On the third turn, ans[2] += 3, and the array is [1,2,3].  \n",
    "On the fourth turn, ans[0] += 4, and the final array is [5,2,3].\n",
    "\n",
    "### idea\n",
    "- index cyling by **i%num_people**, not for loop.\n",
    "- if candies > distribution candies : res[k] = res[k] + distribution\n",
    "- else res[k] = res[k] + candies left - last time"
   ]
  },
  {
   "cell_type": "code",
   "execution_count": 79,
   "metadata": {},
   "outputs": [
    {
     "data": {
      "text/plain": [
       "[1, 2, 3, 1]"
      ]
     },
     "execution_count": 79,
     "metadata": {},
     "output_type": "execute_result"
    },
    {
     "data": {
      "text/plain": [
       "[5, 2, 3]"
      ]
     },
     "execution_count": 79,
     "metadata": {},
     "output_type": "execute_result"
    }
   ],
   "source": [
    "def distributeCandies(candies: int, num_people: int):\n",
    "    res = [0] * num_people\n",
    "    i = 0\n",
    "    while candies > 0:\n",
    "        k = i % num_people\n",
    "        res[k] = res[k] + i + 1 if candies >= i+1 else res[k] + candies\n",
    "        candies -= i+1\n",
    "        i += 1\n",
    "    return res\n",
    "\n",
    "distributeCandies(candies=7, num_people=4)\n",
    "distributeCandies(candies=10, num_people=3)"
   ]
  },
  {
   "cell_type": "markdown",
   "metadata": {},
   "source": [
    "# 18. Numbers With Same Consecutive Differences\n",
    "\n",
    "Return all non-negative integers of length N such that the absolute difference between every two consecutive digits is K.  \n",
    "Note that every number in the answer must not have leading zeros except for the number 0 itself. For example, 01 has one leading zero and is invalid, but 0 is valid.  \n",
    "You may return the answer in any order.\n",
    "\n",
    "Example 1:  \n",
    "Input: N = 3, K = 7  \n",
    "Output: [181,292,707,818,929]  \n",
    "Explanation: Note that 070 is not a valid number, because it has leading zeroes.\n",
    "\n",
    "Example 2:  \n",
    "Input: N = 2, K = 1  \n",
    "Output: [10,12,21,23,32,34,43,45,54,56,65,67,76,78,87,89,98]\n",
    " \n",
    "Note:  \n",
    "1 <= N <= 9  \n",
    "0 <= K <= 9  \n",
    "\n",
    "### idea - DFS\n",
    "- consider N = 1 condition\n",
    "- dfs\n",
    "    - until N = 0, res.append(curint)\n",
    "    - condition 1. nxt + K <= 9\n",
    "    - condition 2. nxt - K >= 0"
   ]
  },
  {
   "cell_type": "code",
   "execution_count": 10,
   "metadata": {},
   "outputs": [
    {
     "data": {
      "text/plain": [
       "[929, 707, 292, 818, 181]"
      ]
     },
     "execution_count": 10,
     "metadata": {},
     "output_type": "execute_result"
    },
    {
     "data": {
      "text/plain": [
       "[32, 65, 34, 67, 98, 10, 43, 12, 45, 78, 76, 21, 54, 23, 56, 89, 87]"
      ]
     },
     "execution_count": 10,
     "metadata": {},
     "output_type": "execute_result"
    }
   ],
   "source": [
    "def numsSameConsecDiff(N: int, K: int):\n",
    "    if N == 1:\n",
    "        return [1,2,3,4,5,6,7,8,9]\n",
    "    res = []\n",
    "    for i in range(1,10):\n",
    "        dfs(res,i,N-1,K)\n",
    "    return list(set(res))\n",
    "        \n",
    "def dfs(res,curint,N,K):\n",
    "    if N == 0:\n",
    "        res.append(curint)\n",
    "        return \n",
    "    nxt = curint % 10 \n",
    "    if nxt + K <= 9:\n",
    "        dfs(res,curint*10+nxt+K,N-1,K)\n",
    "    if nxt - K >= 0:\n",
    "        dfs(res,curint*10+nxt-K,N-1,K)\n",
    "        \n",
    "\n",
    "numsSameConsecDiff(N=3,K=7)\n",
    "numsSameConsecDiff(N=2,K=1)"
   ]
  },
  {
   "cell_type": "markdown",
   "metadata": {},
   "source": [
    "# 19. Goat Latin\n",
    "\n",
    "A sentence S is given, composed of words separated by spaces. Each word consists of lowercase and uppercase letters only.  \n",
    "We would like to convert the sentence to \"Goat Latin\" (a made-up language similar to Pig Latin.)    \n",
    "The rules of Goat Latin are as follows:    \n",
    "If a word begins with a vowel (a, e, i, o, or u), append \"ma\" to the end of the word.  \n",
    "For example, the word 'apple' becomes 'applema'.    \n",
    "If a word begins with a consonant (i.e. not a vowel), remove the first letter and append it to the end, then add \"ma\".  \n",
    "For example, the word \"goat\" becomes \"oatgma\".    \n",
    "Add one letter 'a' to the end of each word per its word index in the sentence, starting with 1.  \n",
    "For example, the first word gets \"a\" added to the end, the second word gets \"aa\" added to the end and so on.  \n",
    "Return the final sentence representing the conversion from S to Goat Latin.   \n",
    "\n",
    "Example 1:  \n",
    "Input: \"I speak Goat Latin\"  \n",
    "Output: \"Imaa peaksmaaa oatGmaaaa atinLmaaaaa\"\n",
    "\n",
    "Example 2:  \n",
    "Input: \"The quick brown fox jumped over the lazy dog\"  \n",
    "Output: \"heTmaa uickqmaaa rownbmaaaa oxfmaaaaa umpedjmaaaaaa overmaaaaaaa hetmaaaaaaaa azylmaaaaaaaaa ogdmaaaaa"
   ]
  },
  {
   "cell_type": "code",
   "execution_count": 17,
   "metadata": {},
   "outputs": [
    {
     "data": {
      "text/plain": [
       "'Imaa peaksmaaa oatGmaaaa atinLmaaaaa '"
      ]
     },
     "execution_count": 17,
     "metadata": {},
     "output_type": "execute_result"
    }
   ],
   "source": [
    "def toGoatLatin(S: str) -> str:\n",
    "    S = S.split( )\n",
    "    vowel = 'aeiouAEIOU' #+ma\n",
    "    res = ''\n",
    "    for i,word in enumerate(S):\n",
    "        if word[0] in vowel:\n",
    "            res += word + 'ma'+ 'a'*(i+1) + ' '\n",
    "        else:\n",
    "            res += word[1:]+word[0] + 'ma'+ 'a'*(i+1) +' '\n",
    "    return res\n",
    "S = \"I speak Goat Latin\"\n",
    "toGoatLatin(S)"
   ]
  },
  {
   "cell_type": "code",
   "execution_count": 29,
   "metadata": {},
   "outputs": [
    {
     "data": {
      "text/plain": [
       "'Imaa peaksmaaa oatGmaaaa atinLmaaaaa'"
      ]
     },
     "execution_count": 29,
     "metadata": {},
     "output_type": "execute_result"
    }
   ],
   "source": [
    "def toGoatLatin(S: str) -> str:\n",
    "    S = S.split( )\n",
    "    vowel = 'aeiouAEIOU'\n",
    "    for i in range(len(S)):\n",
    "        if S[i][0] in vowel:\n",
    "            S[i] = S[i]+ 'ma'+ 'a'*(i+1)\n",
    "        else:\n",
    "            S[i] = S[i][1:] + S[i][0] + 'ma'+ 'a'*(i+1)\n",
    "    return ' '.join(S)\n",
    "S = \"I speak Goat Latin\"\n",
    "toGoatLatin(S)"
   ]
  },
  {
   "cell_type": "markdown",
   "metadata": {},
   "source": [
    "# 20. Reorder List\n",
    "\n",
    "Given a singly linked list L: L0→L1→…→Ln-1→Ln,  \n",
    "reorder it to: L0→Ln→L1→Ln-1→L2→Ln-2→…    \n",
    "You may not modify the values in the list's nodes, only nodes itself may be changed.  \n",
    "\n",
    "Example 1:  \n",
    "Given 1->2->3->4, reorder it to 1->4->2->3.  \n",
    "\n",
    "Example 2:  \n",
    "Given 1->2->3->4->5, reorder it to 1->5->2->4->3."
   ]
  },
  {
   "cell_type": "code",
   "execution_count": null,
   "metadata": {},
   "outputs": [],
   "source": [
    "# Definition for singly-linked list.\n",
    "# class ListNode:\n",
    "#     def __init__(self, val=0, next=None):\n",
    "#         self.val = val\n",
    "#         self.next = next\n",
    "class Solution:\n",
    "    def reorderList(self, head: ListNode) -> None:\n",
    "        \"\"\"\n",
    "        Do not return anything, modify head in-place instead.\n",
    "        \"\"\"\n",
    "        if head==None or head.next==None or head.next.next==None:\n",
    "            return head\n",
    "        \n",
    "        # find mid by fast + slow 2 pointers\n",
    "        fast = slow = head   #快慢指针技巧\n",
    "        while fast.next and fast.next.next:\n",
    "            fast = fast.next.next\n",
    "            slow = slow.next\n",
    "        head1 = head\n",
    "        head2 = slow.next\n",
    "        slow.next = None\n",
    "        \n",
    "        # reverse head2 \n",
    "        dummy = ListNode(0)  #翻转前加一个头结点\n",
    "        dummy.next = head2 \n",
    "        p = head2.next #将p指向的节点一个一个插入到dummy后面\n",
    "        head2.next = None\n",
    "        while p:\n",
    "            temp = p \n",
    "            p = p.next  \n",
    "            temp.next = dummy.next\n",
    "            dummy.next = temp\n",
    "        head2 = dummy.next\n",
    "        \n",
    "        # merge two linked list head1 and head2\n",
    "        p1 = head1\n",
    "        p2 = head2\n",
    "        while p2:\n",
    "            temp1 = p1.next\n",
    "            temp2 = p2.next\n",
    "            p1.next = p2\n",
    "            p2.next = temp1\n",
    "            p1 = temp1\n",
    "            p2 = temp2      "
   ]
  },
  {
   "cell_type": "markdown",
   "metadata": {},
   "source": [
    "# 21.Sort Array By Parity -- easy\n",
    "\n",
    "Given an array A of non-negative integers, return an array consisting of all the even elements of A, followed by all the odd elements of A.  You may return any answer array that satisfies this condition.  \n",
    "\n",
    "Example 1:  \n",
    "Input: [3,1,2,4]  \n",
    "Output: [2,4,3,1]  \n",
    "The outputs [4,2,3,1], [2,4,1,3], and [4,2,1,3] would also be accepted.  \n",
    " \n",
    "Note:  \n",
    "1 <= A.length <= 5000  \n",
    "0 <= A[i] <= 5000"
   ]
  },
  {
   "cell_type": "code",
   "execution_count": 22,
   "metadata": {},
   "outputs": [
    {
     "data": {
      "text/plain": [
       "[2, 4, 3, 1]"
      ]
     },
     "execution_count": 22,
     "metadata": {},
     "output_type": "execute_result"
    }
   ],
   "source": [
    "def sortArrayByParity(A):\n",
    "    odd = []\n",
    "    even = []\n",
    "    for i in range(len(A)):\n",
    "        if A[i]%2 == 0:\n",
    "            odd.append(A[i])\n",
    "        else:\n",
    "            even.append(A[i])\n",
    "    return odd + even\n",
    "A = [3,1,2,4]\n",
    "sortArrayByParity(A)"
   ]
  },
  {
   "cell_type": "markdown",
   "metadata": {},
   "source": [
    "# 22. Random Point in Non-overlapping Rectangles\n",
    "\n",
    "Given a list of non-overlapping axis-aligned rectangles rects, write a function pick which randomly and uniformily picks an integer point in the space covered by the rectangles.\n",
    "\n",
    "Note:  \n",
    "An integer point is a point that has integer coordinates.   \n",
    "A point on the perimeter of a rectangle is included in the space covered by the rectangles.   \n",
    "ith rectangle = rects[i] = [x1,y1,x2,y2], where [x1, y1] are the integer coordinates of the bottom-left corner, and [x2, y2] are the integer coordinates of the top-right corner.    \n",
    "length and width of each rectangle does not exceed 2000.  \n",
    "1 <= rects.length <= 100  \n",
    "pick return a point as an array of integer coordinates [p_x, p_y]  \n",
    "pick is called at most 10000 times. \n",
    "\n",
    "Example 1:  \n",
    "Input:   \n",
    "[\"Solution\",\"pick\",\"pick\",\"pick\"]  \n",
    "[[[[1,1,5,5]]],[],[],[]]  \n",
    "Output:   \n",
    "[null,[4,1],[4,1],[3,3]]\n",
    "\n",
    "Example 2:  \n",
    "Input:   \n",
    "[\"Solution\",\"pick\",\"pick\",\"pick\",\"pick\",\"pick\"]   \n",
    "[[[[-2,-2,-1,-1],[1,0,3,0]]],[],[],[],[],[]]  \n",
    "Output:   \n",
    "[null,[-1,-2],[2,0],[-2,-1],[3,0],[-2,-2]]  \n",
    "\n",
    "Explanation of Input Syntax:  \n",
    "The input is two lists: the subroutines called and their arguments. Solution's constructor has one argument, the array of rectangles rects. pick has no arguments. Arguments are always wrapped with a list, even if there aren't any.\n",
    "\n",
    "### Idea:\n",
    "- self.weights 权重\n",
    "- (x2-x1+1)*(y2-y1+1) 点的总数，不是距离"
   ]
  },
  {
   "cell_type": "code",
   "execution_count": null,
   "metadata": {},
   "outputs": [],
   "source": [
    "class Solution:\n",
    "    import random\n",
    "    \n",
    "    def __init__(self, rects: List[List[int]]):\n",
    "            self.rects = rects\n",
    "            self.weights = []\n",
    "            for [x1,y1,x2,y2] in self.rects:\n",
    "                self.weights.append((x2-x1+1)*(y2-y1+1))\n",
    "\n",
    "    def pick(self) -> List[int]:\n",
    "        [x1,y1,x2,y2] = random.choices(self.rects,weights=self.weights)[0]\n",
    "        result = [random.randrange(x1,x2+1),random.randrange(y1,y2+1)]\n",
    "        return result\n",
    "\n",
    "\n",
    "# Your Solution object will be instantiated and called as such:\n",
    "# obj = Solution(rects)\n",
    "# param_1 = obj.pick()"
   ]
  },
  {
   "cell_type": "code",
   "execution_count": null,
   "metadata": {},
   "outputs": [],
   "source": [
    "class Solution:\n",
    "    import random\n",
    "    \n",
    "    def __init__(self, rects: List[List[int]]):\n",
    "            self.rects = rects\n",
    "            self.total = 0\n",
    "            self.weights = []\n",
    "            for x1,y1,x2,y2 in self.rects:\n",
    "                c = (x2-x1+1)*(y2-y1+1)\n",
    "                self.total += c\n",
    "                self.weights.append(c)\n",
    "            self.weights = [w/self.total for w in self.weights] \n",
    "\n",
    "    def pick(self) -> List[int]:\n",
    "        index = random.choices(range(len(self.rechts)),weights=self.weights)[0]\n",
    "        x1,y1,x2,y2 = self.rects[index]\n",
    "        x = random.randint(x1,x2)\n",
    "        y = random.randint(y1,y2)\n",
    "        return [x,y]\n",
    "\n",
    "\n",
    "# Your Solution object will be instantiated and called as such:\n",
    "# obj = Solution(rects)\n",
    "# param_1 = obj.pick()"
   ]
  },
  {
   "cell_type": "markdown",
   "metadata": {},
   "source": [
    "# 23. Stream of Characters\n",
    "\n",
    "Implement the StreamChecker class as follows:  \n",
    "StreamChecker(words): Constructor, init the data structure with the given words.   \n",
    "query(letter): returns true if and only if for some k >= 1, the last k characters queried (in order from oldest to newest, including this letter just queried) spell one of the words in the given list.\n",
    "\n",
    "Example:  \n",
    "StreamChecker streamChecker = new StreamChecker([\"cd\",\"f\",\"kl\"]); // init the dictionary.  \n",
    "streamChecker.query('a');          // return false  \n",
    "streamChecker.query('b');          // return false  \n",
    "streamChecker.query('c');          // return false  \n",
    "streamChecker.query('d');          // return true, because 'cd' is in the wordlist  \n",
    "streamChecker.query('e');          // return false  \n",
    "streamChecker.query('f');          // return true, because 'f' is in the wordlist  \n",
    "streamChecker.query('g');          // return false  \n",
    "streamChecker.query('h');          // return false  \n",
    "streamChecker.query('i');          // return false  \n",
    "streamChecker.query('j');          // return false  \n",
    "streamChecker.query('k');          // return false  \n",
    "streamChecker.query('l');          // return true, because 'kl' is in the wordlist  \n",
    " \n",
    "Note:  \n",
    "1 <= words.length <= 2000  \n",
    "1 <= words[i].length <= 2000  \n",
    "Words will only consist of lowercase English letters.  \n",
    "Queries will only consist of lowercase English letters.  \n",
    "The number of queries is at most 40000.    \n",
    "Hide Hint #1: Put the words into a trie, and manage a set of pointers within that trie. \n",
    "\n",
    "### Idea:\n",
    "- create trie\n",
    "- query, behind the letter there is a '#'"
   ]
  },
  {
   "cell_type": "code",
   "execution_count": null,
   "metadata": {},
   "outputs": [],
   "source": [
    "class StreamChecker:\n",
    "\n",
    "    def __init__(self, words: List[str]):\n",
    "        self.trie = {}\n",
    "        for word in words:\n",
    "            cur = self.trie # current pointer pointing to the root\n",
    "            for c in word:\n",
    "                if c not in cur:\n",
    "                    cur[c] = {}\n",
    "                cur = cur[c]\n",
    "            cur['#'] = True\n",
    "        #print(self.trie)\n",
    "        self.stream = deque()\n",
    "\n",
    "    def query(self, letter: str) -> bool:\n",
    "        temp = deque()\n",
    "        self.stream.append(self.trie)\n",
    "        for p in self.stream:\n",
    "            if letter in p:\n",
    "                temp.append(p[letter])\n",
    "        self.stream = temp\n",
    "        for p in self.stream:\n",
    "            if '#' in p:\n",
    "                return True\n",
    "        return False\n",
    "        \n",
    "\n",
    "# Your StreamChecker object will be instantiated and called as such:\n",
    "# obj = StreamChecker(words)\n",
    "# param_1 = obj.query(letter)"
   ]
  },
  {
   "cell_type": "markdown",
   "metadata": {},
   "source": [
    "# 24. Sum of Left Leaves\n",
    "\n",
    "Find the sum of all left leaves in a given binary tree.  \n",
    "Example: [3,9,20,15,7]  \n",
    "There are two left leaves in the binary tree, with values 9 and 15 respectively. Return 24.\n",
    "\n",
    "### Idea - recursion\n",
    "- helper function - isleaf to judge it is leaf\n",
    "- go through the tree, if it is left leaf, sum"
   ]
  },
  {
   "cell_type": "code",
   "execution_count": null,
   "metadata": {},
   "outputs": [],
   "source": [
    "# Definition for a binary tree node.\n",
    "# class TreeNode:\n",
    "#     def __init__(self, val=0, left=None, right=None):\n",
    "#         self.val = val\n",
    "#         self.left = left\n",
    "#         self.right = right\n",
    "class Solution:\n",
    "    def sumOfLeftLeaves(self, root: TreeNode) -> int:\n",
    "        if not root:\n",
    "            return 0\n",
    "        \n",
    "        result = 0\n",
    "        if root.left and self.isleaf(root.left):\n",
    "            result += root.left.val\n",
    "        return result + self.sumOfLeftLeaves(root.left) + self.sumOfLeftLeaves(root.right)    \n",
    "        \n",
    "    \n",
    "    def isleaf(self,root):\n",
    "        if not root.left and not root.right:\n",
    "            return True"
   ]
  },
  {
   "cell_type": "code",
   "execution_count": null,
   "metadata": {},
   "outputs": [],
   "source": [
    "# Definition for a binary tree node.\n",
    "# class TreeNode:\n",
    "#     def __init__(self, val=0, left=None, right=None):\n",
    "#         self.val = val\n",
    "#         self.left = left\n",
    "#         self.right = right\n",
    "class Solution:\n",
    "    def sumOfLeftLeaves(self, root: TreeNode) -> int:\n",
    "        \n",
    "        def helper(root,flag): #flag to judge it is left tree\n",
    "            if not root:\n",
    "                return 0\n",
    "            if not root.left and not root.right and flag == True:\n",
    "                return root.val\n",
    "            else:\n",
    "                return helper(root.left,True) + helper(root.right,False)\n",
    "        \n",
    "        if not root:\n",
    "            return 0\n",
    "        else:\n",
    "            return helper(root.left,True) + helper(root.right,False)"
   ]
  },
  {
   "cell_type": "code",
   "execution_count": null,
   "metadata": {},
   "outputs": [],
   "source": [
    "# Definition for a binary tree node.\n",
    "# class TreeNode:\n",
    "#     def __init__(self, val=0, left=None, right=None):\n",
    "#         self.val = val\n",
    "#         self.left = left\n",
    "#         self.right = right\n",
    "class Solution:\n",
    "    def sumOfLeftLeaves(self, root: TreeNode) -> int:\n",
    "        if not root:\n",
    "            return 0\n",
    "        res = 0\n",
    "        if root.left and not root.left.left and not root.left.right:\n",
    "            res += root.left.val\n",
    "        res += self.sumOfLeftLeaves(root.left) + self.sumOfLeftLeaves(root.right) \n",
    "        return res "
   ]
  },
  {
   "cell_type": "markdown",
   "metadata": {},
   "source": [
    "# 25. Minimum Cost For Tickets\n",
    "\n",
    "In a country popular for train travel, you have planned some train travelling one year in advance.  The days of the year that you will travel is given as an array days.  Each day is an integer from 1 to 365.  \n",
    "\n",
    "Train tickets are sold in 3 different ways:      \n",
    "a 1-day pass is sold for costs[0] dollars;  \n",
    "a 7-day pass is sold for costs[1] dollars;  \n",
    "a 30-day pass is sold for costs[2] dollars.  \n",
    "The passes allow that many days of consecutive travel.  For example, if we get a 7-day pass on day 2, then we can travel for 7 days: day 2, 3, 4, 5, 6, 7, and 8.  \n",
    "Return the minimum number of dollars you need to travel every day in the given list of days. \n",
    "\n",
    "Example 1:    \n",
    "Input: days = [1,4,6,7,8,20], costs = [2,7,15]  \n",
    "Output: 11  \n",
    "Explanation:   \n",
    "For example, here is one way to buy passes that lets you travel your travel plan:  \n",
    "On day 1, you bought a 1-day pass for costs[0] = $2, which covered day 1.  \n",
    "On day 3, you bought a 7-day pass for costs[1] = $7, which covered days 3, 4, ..., 9.  \n",
    "On day 20, you bought a 1-day pass for costs[0] = $2, which covered day 20.  \n",
    "In total you spent $11 and covered all the days of your travel.  \n",
    "\n",
    "Example 2:  \n",
    "Input: days = [1,2,3,4,5,6,7,8,9,10,30,31], costs = [2,7,15]  \n",
    "Output: 17  \n",
    "Explanation:   \n",
    "For example, here is one way to buy passes that lets you travel your travel plan:  \n",
    "On day 1, you bought a 30-day pass for costs[2] = $15 which covered days 1, 2, ..., 30.  \n",
    "On day 31, you bought a 1-day pass for costs[0] = $2 which covered day 31.  \n",
    "In total you spent $17 and covered all the days of your travel.\n",
    "\n",
    "### Idea - DP \n",
    "- if not in days: the price stays with the last day\n",
    "- min cost: dp[i] = min(dp[max(0,i-1)] + costs[0], dp[max(0,i-7)] + costs[1], dp[max(0,i-30)] + costs[2]) 三种做比较，1/7/30天前＋costs[0/1/2]"
   ]
  },
  {
   "cell_type": "code",
   "execution_count": 6,
   "metadata": {},
   "outputs": [
    {
     "name": "stdout",
     "output_type": "stream",
     "text": [
      "[0, 2, 2, 2, 4, 4, 6, 7, 9, 9, 9, 9, 9, 9, 9, 9, 9, 9, 9, 9, 11]\n"
     ]
    },
    {
     "data": {
      "text/plain": [
       "11"
      ]
     },
     "execution_count": 6,
     "metadata": {},
     "output_type": "execute_result"
    }
   ],
   "source": [
    "def mincostTickets(days, costs) -> int:\n",
    "    dp = [0]*(days[-1]+1)\n",
    "    for i in range(1, len(dp)):\n",
    "        if i not in days:\n",
    "            dp[i] = dp[i-1]\n",
    "            continue\n",
    "        dp[i] = min(dp[max(0,i-1)] + costs[0], dp[max(0,i-7)] + costs[1], dp[max(0,i-30)] + costs[2])\n",
    "    print(dp)\n",
    "    return dp[-1]\n",
    "\n",
    "days = [1,4,6,7,8,20]\n",
    "costs = [2,7,15]\n",
    "mincostTickets(days, costs)\n",
    "#    1        4     6  7  8                                   20\n",
    "#[0, 2, 2, 2, 4, 4, 6, 7, 9, 9, 9, 9, 9, 9, 9, 9, 9, 9, 9, 9, 11]"
   ]
  },
  {
   "cell_type": "markdown",
   "metadata": {},
   "source": [
    "# 26. Fizz Buzz\n",
    "\n",
    "Write a program that outputs the string representation of numbers from 1 to n.  \n",
    "But for multiples of three it should output “Fizz” instead of the number and for the multiples of five output “Buzz”. For numbers which are multiples of both three and five output “FizzBuzz”.\n",
    "\n",
    "Example:  \n",
    "n = 15,  \n",
    "Return:  \n",
    "[  \n",
    "    \"1\",  \n",
    "    \"2\",  \n",
    "    \"Fizz\",  \n",
    "    \"4\",  \n",
    "    \"Buzz\",  \n",
    "    \"Fizz\",  \n",
    "    \"7\",  \n",
    "    \"8\",  \n",
    "    \"Fizz\",  \n",
    "    \"Buzz\",  \n",
    "    \"11\",  \n",
    "    \"Fizz\",  \n",
    "    \"13\",  \n",
    "    \"14\",  \n",
    "    \"FizzBuzz\"  \n",
    "]"
   ]
  },
  {
   "cell_type": "code",
   "execution_count": null,
   "metadata": {},
   "outputs": [],
   "source": [
    "def fizzBuzz(n: int):\n",
    "    res = []\n",
    "    for i in range(1,n+1):\n",
    "        if i % 3 == 0 and i % 5 == 0:\n",
    "            res.append(\"FizzBuzz\")\n",
    "        elif i % 3 == 0:\n",
    "            res.append(\"Fizz\")\n",
    "        elif i % 5 == 0:\n",
    "            res.append(\"Buzz\")\n",
    "        else:\n",
    "            res.append(str(i))\n",
    "    return res"
   ]
  },
  {
   "cell_type": "markdown",
   "metadata": {},
   "source": [
    "# 27. Find Right Interval\n",
    "\n",
    "Given a set of intervals, for each of the interval i, check if there exists an interval j whose start point is bigger than or equal to the end point of the interval i, which can be called that j is on the \"right\" of i.  \n",
    "For any interval i, you need to store the minimum interval j's index, which means that the interval j has the minimum start point to build the \"right\" relationship for interval i. If the interval j doesn't exist, store -1 for the interval i. Finally, you need output the stored value of each interval as an array.  \n",
    "Note:  \n",
    "You may assume the interval's end point is always bigger than its start point.  \n",
    "You may assume none of these intervals have the same start point.  \n",
    " \n",
    "Example 1:  \n",
    "Input: [ [1,2] ]    \n",
    "Output: [-1]    \n",
    "Explanation: There is only one interval in the collection, so it outputs -1.\n",
    " \n",
    "Example 2:  \n",
    "Input: [ [3,4], [2,3], [1,2] ]  \n",
    "Output: [-1, 0, 1]    \n",
    "Explanation: There is no satisfied \"right\" interval for [3,4].  \n",
    "For [2,3], the interval [3,4] has minimum-\"right\" start point;  \n",
    "For [1,2], the interval [2,3] has minimum-\"right\" start point.  \n",
    "\n",
    "Example 3:  \n",
    "Input: [ [1,4], [2,3], [3,4] ]  \n",
    "Output: [-1, 2, -1]  \n",
    "Explanation: There is no satisfied \"right\" interval for [1,4] and [3,4].  \n",
    "For [2,3], the interval [3,4] has minimum-\"right\" start point.   \n",
    "NOTE: input types have been changed on April 15, 2019. Please reset to default code definition to get new method signature."
   ]
  },
  {
   "cell_type": "code",
   "execution_count": 73,
   "metadata": {},
   "outputs": [
    {
     "data": {
      "text/plain": [
       "[-1, 0, 1]"
      ]
     },
     "execution_count": 73,
     "metadata": {},
     "output_type": "execute_result"
    },
    {
     "data": {
      "text/plain": [
       "[-1, 2, -1]"
      ]
     },
     "execution_count": 73,
     "metadata": {},
     "output_type": "execute_result"
    }
   ],
   "source": [
    "def findRightInterval(intervals):\n",
    "    n = len(intervals)\n",
    "    start_map = {interval[0] : i for i, interval in enumerate(intervals)}\n",
    "    start_list = [interval[0] for interval in intervals]\n",
    "    res = []\n",
    "    start_list.sort()\n",
    "    for interval in intervals:\n",
    "        pos = higher_find(start_list, interval[1])\n",
    "        res.append(start_map[start_list[pos]] if pos != -1 else -1)\n",
    "    return res\n",
    "\n",
    "def higher_find(array, v):\n",
    "    lo, hi = 0, len(array) - 1\n",
    "    first = -1\n",
    "    while lo <= hi:\n",
    "        mid = lo + (hi - lo) // 2\n",
    "        if array[mid] >= v:\n",
    "            hi = mid - 1\n",
    "            first = mid\n",
    "        else:\n",
    "            lo = mid + 1\n",
    "    return first\n",
    "\n",
    "intervals= [ [3,4], [2,3], [1,2] ]\n",
    "findRightInterval(intervals)\n",
    "intervals = [ [1,4],[2,3],[3,4] ]\n",
    "findRightInterval(intervals)"
   ]
  },
  {
   "cell_type": "code",
   "execution_count": 79,
   "metadata": {},
   "outputs": [
    {
     "data": {
      "text/plain": [
       "'\\nTrick:\\n1. invs: restore (x[0] and i) and sort\\n2. bisect.bisect_right: 在invs中找到以x.end开始的区间 (x[1],)，并返回其在invs右侧的idx\\n'"
      ]
     },
     "execution_count": 79,
     "metadata": {},
     "output_type": "execute_result"
    },
    {
     "name": "stdout",
     "output_type": "stream",
     "text": [
      "[(1, 2), (2, 1), (3, 0)]\n",
      "[3, 4] 4 3\n",
      "[2, 3] 3 2\n",
      "[1, 2] 2 1\n"
     ]
    },
    {
     "data": {
      "text/plain": [
       "[-1, 0, 1]"
      ]
     },
     "execution_count": 79,
     "metadata": {},
     "output_type": "execute_result"
    },
    {
     "name": "stdout",
     "output_type": "stream",
     "text": [
      "[(1, 0), (2, 1), (3, 2)]\n",
      "[1, 4] 4 3\n",
      "[2, 3] 3 2\n",
      "[3, 4] 4 3\n"
     ]
    },
    {
     "data": {
      "text/plain": [
       "[-1, 2, -1]"
      ]
     },
     "execution_count": 79,
     "metadata": {},
     "output_type": "execute_result"
    }
   ],
   "source": [
    "'''\n",
    "Trick:\n",
    "1. invs: restore (x[0] and i) and sort\n",
    "2. bisect.bisect_right: 在invs中找到以x.end开始的区间 (x[1],)，并返回其在invs右侧的idx\n",
    "'''  \n",
    "\n",
    "def findRightInterval(intervals):\n",
    "    import bisect\n",
    "    invs = sorted((x[0],i) for i,x in enumerate(intervals))\n",
    "    print(invs)\n",
    "    res = []\n",
    "    for x in intervals:\n",
    "        idx = bisect.bisect_right(invs,(x[1],)) #在invs中查找x，x存在时返回x的位置右侧idx\n",
    "        print(x,x[1],idx)\n",
    "        res.append(invs[idx][1] if idx<len(invs) else -1)\n",
    "    return res\n",
    "\n",
    "intervals= [ [3,4], [2,3], [1,2] ]\n",
    "findRightInterval(intervals)\n",
    "intervals = [ [1,4],[2,3],[3,4] ]\n",
    "findRightInterval(intervals)"
   ]
  },
  {
   "cell_type": "markdown",
   "metadata": {},
   "source": [
    "# 28. Implement Rand10() Using Rand7()\n",
    "\n",
    "Given the API rand7 which generates a uniform random integer in the range 1 to 7, write a function rand10 which generates a uniform random integer in the range 1 to 10. You can only call the API rand7 and you shouldn't call any other API. Please don't use the system's Math.random().  \n",
    "Notice that Each test case has one argument n, the number of times that your implemented function rand10 will be called while testing.   \n",
    "Follow up: What is the expected value for the number of calls to rand7() function? Could you minimize the number of calls to rand7()?\n",
    " \n",
    "Example 1:  \n",
    "Input: n = 1  \n",
    "Output: [2]  \n",
    "\n",
    "Example 2:  \n",
    "Input: n = 2  \n",
    "Output: [2,8]  \n",
    "\n",
    "Example 3:  \n",
    "Input: n = 3  \n",
    "Output: [3,8,10]  \n",
    " \n",
    "Constraints: 1 <= n <= 10^5\n",
    "\n",
    "### Idea - rand10() by calling API rand7() - find the rule\n",
    "- given API rand2() -> rand4()\n",
    "    - (rand2()-1)*2 + rand2()\n",
    "- given API rand6() -> rand2()\n",
    "    - rand6()%2 + 1\n",
    "- conclusion: \n",
    "    - known randN() -> randN²(): (randN()-1)*N + randN()\n",
    "    - known randN() -> randM(): randN()%M + 1\n",
    "- rand7() > rand49 > rand40 > rand10()"
   ]
  },
  {
   "cell_type": "code",
   "execution_count": null,
   "metadata": {},
   "outputs": [],
   "source": [
    "# The rand7() API is already defined for you.\n",
    "# def rand7():\n",
    "# @return a random integer in the range 1 to 7\n",
    "\n",
    "class Solution:\n",
    "    def rand10(self):\n",
    "        \"\"\"\n",
    "        :rtype: int\n",
    "        \"\"\"\n",
    "        # rand7() -> rand49()\n",
    "        while True:\n",
    "            res = (rand7()-1)*7 + rand7()\n",
    "            # (<40) -> rand10\n",
    "            if res <= 40:\n",
    "                return res%10+1"
   ]
  },
  {
   "cell_type": "markdown",
   "metadata": {},
   "source": [
    "# 29. Pancake Sorting\n",
    "\n",
    "Given an array of integers A, We need to sort the array performing a series of pancake flips.  \n",
    "In one pancake flip we do the following steps:   \n",
    "Choose an integer k where 0 <= k < A.length.  \n",
    "Reverse the sub-array A[0...k].  \n",
    "For example, if A = [3,2,1,4] and we performed a pancake flip choosing k = 2, we reverse the sub-array [3,2,1], so A = [1,2,3,4] after the pancake flip at k = 2.  \n",
    "Return an array of the k-values of the pancake flips that should be performed in order to sort A. Any valid answer that sorts the array within 10 * A.length flips will be judged as correct.\n",
    "\n",
    "Example 1: **not normal pancake sorting**  \n",
    "Input: A = [3,2,4,1]  \n",
    "Output: [4,2,4,3]  \n",
    "Explanation:   \n",
    "We perform 4 pancake flips, with k values 4, 2, 4, and 3.  \n",
    "Starting state: A = [3, 2, 4, 1]  \n",
    "After 1st flip (k = 4): A = [1, 4, 2, 3]  \n",
    "After 2nd flip (k = 2): A = [4, 1, 2, 3]  \n",
    "After 3rd flip (k = 4): A = [3, 2, 1, 4]   \n",
    "After 4th flip (k = 3): A = [1, 2, 3, 4], which is sorted.  \n",
    "Notice that we return an array of the chosen k values of the pancake flips.\n",
    "\n",
    "Example 2:  \n",
    "Input: A = [1,2,3]  \n",
    "Output: []  \n",
    "Explanation: The input is already sorted, so there is no need to flip anything.  \n",
    "Note that other answers, such as [3, 3], would also be accepted.\n",
    "\n",
    "### Idea:\n",
    "- from largest num to samllest, filp the first k (k is index of largest num) so that the largest is at the frist, then flip all to make sure that the larges is at the last. "
   ]
  },
  {
   "cell_type": "code",
   "execution_count": 16,
   "metadata": {},
   "outputs": [
    {
     "name": "stdout",
     "output_type": "stream",
     "text": [
      "[1, 3, 2]\n",
      "[2, 1]\n",
      "[1]\n",
      "[]\n"
     ]
    },
    {
     "data": {
      "text/plain": [
       "[3, 4, 2, 3, 1, 2, 1, 1]"
      ]
     },
     "execution_count": 16,
     "metadata": {},
     "output_type": "execute_result"
    }
   ],
   "source": [
    "def pancakeSort(A):\n",
    "    N = len(A)\n",
    "    res = []\n",
    "    for x in range(N, 0, -1):\n",
    "        i = A.index(x)\n",
    "        res.extend([i + 1, x])\n",
    "        A = A[:i:-1] + A[:i] #A[-1:i:-1] + A[:i]\n",
    "        print(A)\n",
    "    return res\n",
    "A = [3,2,4,1]\n",
    "pancakeSort(A)"
   ]
  },
  {
   "cell_type": "markdown",
   "metadata": {},
   "source": [
    "# 30. Largest Component Size by Common Factor\n",
    "\n",
    "Given a non-empty array of unique positive integers A, consider the following graph:  \n",
    "There are A.length nodes, labelled A[0] to A[A.length - 1];  \n",
    "There is an edge between A[i] and A[j] if and only if A[i] and A[j] share a common factor greater than 1.  \n",
    "Return the size of the largest connected component in the graph.  \n",
    "\n",
    "Example 1:  \n",
    "Input: [4,6,15,35]  \n",
    "Output: 4  \n",
    "\n",
    "Example 2:  \n",
    "Input: [20,50,9,63]  \n",
    "Output: 2  \n",
    "\n",
    "Example 3:  \n",
    "Input: [2,3,6,7,4,12,21,39]  \n",
    "Output: 8\n",
    "\n",
    "Note:  \n",
    "1 <= A.length <= 20000  \n",
    "1 <= A[i] <= 100000\n",
    "\n",
    "### Idea: \n",
    "- 题目大意：给定一个正数列表，如果两个数有公因数，则用线连接，问最大一条链的元素个数。\n",
    "1. find root/common factor (2~sqrt(n) to avoid time exeed ) and union them\n",
    "2. hash table to count #parent, find the largest parent \n"
   ]
  },
  {
   "cell_type": "code",
   "execution_count": 46,
   "metadata": {},
   "outputs": [
    {
     "name": "stdout",
     "output_type": "stream",
     "text": [
      "4 2 [0, 1, 2, 3, 2, 5, 6, 7, 8, 9, 10, 11, 12, 13, 14, 15, 16, 17, 18, 19, 20, 21, 22, 23, 24, 25, 26, 27, 28, 29, 30, 31, 32, 33, 34, 35]\n",
      "6 2 [0, 1, 2, 3, 2, 5, 2, 7, 8, 9, 10, 11, 12, 13, 14, 15, 16, 17, 18, 19, 20, 21, 22, 23, 24, 25, 26, 27, 28, 29, 30, 31, 32, 33, 34, 35]\n",
      "2 3 [0, 1, 3, 3, 2, 5, 2, 7, 8, 9, 10, 11, 12, 13, 14, 15, 16, 17, 18, 19, 20, 21, 22, 23, 24, 25, 26, 27, 28, 29, 30, 31, 32, 33, 34, 35]\n",
      "15 3 [0, 1, 3, 3, 2, 5, 2, 7, 8, 9, 10, 11, 12, 13, 14, 3, 16, 17, 18, 19, 20, 21, 22, 23, 24, 25, 26, 27, 28, 29, 30, 31, 32, 33, 34, 35]\n",
      "3 5 [0, 1, 3, 5, 2, 5, 2, 7, 8, 9, 10, 11, 12, 13, 14, 3, 16, 17, 18, 19, 20, 21, 22, 23, 24, 25, 26, 27, 28, 29, 30, 31, 32, 33, 34, 35]\n",
      "35 5 [0, 1, 3, 5, 2, 5, 2, 7, 8, 9, 10, 11, 12, 13, 14, 3, 16, 17, 18, 19, 20, 21, 22, 23, 24, 25, 26, 27, 28, 29, 30, 31, 32, 33, 34, 5]\n",
      "5 7 [0, 1, 3, 5, 2, 7, 2, 7, 8, 9, 10, 11, 12, 13, 14, 3, 16, 17, 18, 19, 20, 21, 22, 23, 24, 25, 26, 27, 28, 29, 30, 31, 32, 33, 34, 5]\n"
     ]
    },
    {
     "data": {
      "text/plain": [
       "4"
      ]
     },
     "execution_count": 46,
     "metadata": {},
     "output_type": "execute_result"
    }
   ],
   "source": [
    "def largestComponentSize(A) -> int:\n",
    "    import math\n",
    "    import collections\n",
    "    \n",
    "    max_n = max(A)\n",
    "    N = len(A)\n",
    "    m = list(range(max_n+1)) #list[0~max_n]\n",
    "    for a in A:\n",
    "        for k in range(2,int(math.sqrt(a)+1)): #find common factor from 2 to sqrt(a)\n",
    "            if a % k == 0:\n",
    "                union(m,a,k)\n",
    "                union(m,a,a//k)\n",
    "    \n",
    "    count = collections.defaultdict(int)\n",
    "    for a in A:\n",
    "        count[find(m,a)] += 1\n",
    "    return max(count.values())\n",
    "                \n",
    "def find(m,a):\n",
    "    while m[a] != a: #while until find the root, path compression\n",
    "        m[a] = m[m[a]]\n",
    "        a = m[a]\n",
    "    return a \n",
    "    \n",
    "    \n",
    "def union(m,a,b):\n",
    "    if m[a] == m[b]:\n",
    "        return \n",
    "    pa = find(m,a)\n",
    "    pb = find(m,b)\n",
    "    m[pa] = pb\n",
    "    print(pa,pb,m)\n",
    "    \n",
    "A = [4,6,15,35]\n",
    "largestComponentSize(A)"
   ]
  },
  {
   "cell_type": "markdown",
   "metadata": {},
   "source": [
    "# 31. Delete Node in a BST\n",
    "\n",
    "Given a root node reference of a BST and a key, delete the node with the given key in the BST. Return the root node reference (possibly updated) of the BST.  \n",
    "Basically, the deletion can be divided into two stages:    \n",
    "Search for a node to remove.  \n",
    "If the node is found, delete the node.  \n",
    "**Note: Time complexity should be O(height of tree).**\n",
    " \n",
    "Example:  \n",
    "root = [5,3,6,2,4,null,7]  \n",
    "key = 3  \n",
    "Given key to delete is 3. So we find the node with value 3 and delete it.  \n",
    "One valid answer is [5,4,6,2,null,null,7], shown in the following BST.  \n",
    "Another valid answer is [5,2,6,null,4,null,7].\n",
    "\n",
    "### Idea:\n",
    "- if find the node\n",
    "    - there is no node.right, replace the node with node.left\n",
    "    - there is node.right, swap the node and the samllest node of node.right,to make sure the structure of BTS, node.left<node<node.right"
   ]
  },
  {
   "cell_type": "code",
   "execution_count": null,
   "metadata": {},
   "outputs": [],
   "source": [
    "# Definition for a binary tree node.\n",
    "# class TreeNode:\n",
    "#     def __init__(self, val=0, left=None, right=None):\n",
    "#         self.val = val\n",
    "#         self.left = left\n",
    "#         self.right = right\n",
    "class Solution:\n",
    "    def deleteNode(self, root: TreeNode, key: int) -> TreeNode:\n",
    "        if not root:\n",
    "            return \n",
    "        if root.val == key:\n",
    "            if not root.right:\n",
    "                return root.left\n",
    "            else:\n",
    "                right = root.right\n",
    "                while right.left:\n",
    "                    right = right.left #find the smallest node of root.right\n",
    "                root.val,right.val = right.val,root.val\n",
    "        root.left = self.deleteNode(root.left,key) #recursion\n",
    "        root.right = self.deleteNode(root.right,key)\n",
    "        return root"
   ]
  },
  {
   "cell_type": "markdown",
   "metadata": {},
   "source": [
    "- if no root.right\n",
    "- if no root.left\n",
    "- if root.left and root.right:\n",
    "    - find the largest node of root.left or the smallest node of root.right"
   ]
  },
  {
   "cell_type": "code",
   "execution_count": null,
   "metadata": {},
   "outputs": [],
   "source": [
    "# Definition for a binary tree node.\n",
    "# class TreeNode:\n",
    "#     def __init__(self, val=0, left=None, right=None):\n",
    "#         self.val = val\n",
    "#         self.left = left\n",
    "#         self.right = right\n",
    "class Solution:\n",
    "    def deleteNode(self, root: TreeNode, key: int) -> TreeNode:\n",
    "        if not root:\n",
    "            return \n",
    "        if root.val == key:\n",
    "            if not root.left:\n",
    "                return root.right\n",
    "            if not root.right:\n",
    "                return root.left\n",
    "            #root.left and root.right\n",
    "            minNode = TreeNode(None)\n",
    "            minNode = self.getMin(root.right)\n",
    "            root.val = minNode.val # assign the smallest root.right to root\n",
    "            root.right = self.deleteNode(root.right, minNode.val) #recursion to delete minNode in root.right\n",
    "        # key 在左子树\n",
    "        elif root.val > key:\n",
    "            root.left = self.deleteNode(root.left, key)\n",
    "        # key 在右子树\n",
    "        elif root.val < key:\n",
    "            root.right = self.deleteNode(root.right, key)\n",
    "        return root\n",
    "    \n",
    "    def getMin(self,node): #只要node.left不为空，一直遍历取最小值\n",
    "        while node.left != None:\n",
    "            node = node.left\n",
    "        return node"
   ]
  }
 ],
 "metadata": {
  "kernelspec": {
   "display_name": "Python 3",
   "language": "python",
   "name": "python3"
  },
  "language_info": {
   "codemirror_mode": {
    "name": "ipython",
    "version": 3
   },
   "file_extension": ".py",
   "mimetype": "text/x-python",
   "name": "python",
   "nbconvert_exporter": "python",
   "pygments_lexer": "ipython3",
   "version": "3.6.9"
  }
 },
 "nbformat": 4,
 "nbformat_minor": 2
}

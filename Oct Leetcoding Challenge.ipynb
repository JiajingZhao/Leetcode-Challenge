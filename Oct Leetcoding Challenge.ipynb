{
 "cells": [
  {
   "cell_type": "code",
   "execution_count": 1,
   "metadata": {},
   "outputs": [],
   "source": [
    "from IPython.core.interactiveshell import InteractiveShell\n",
    "InteractiveShell.ast_node_interactivity = \"all\""
   ]
  },
  {
   "cell_type": "markdown",
   "metadata": {},
   "source": [
    "# 1. Number of Recent Calls\n",
    "\n",
    "You have a RecentCounter class which counts the number of recent requests within a certain time frame.  \n",
    "Implement the RecentCounter class:    \n",
    "RecentCounter() Initializes the counter with zero recent requests.  \n",
    "int ping(int t) Adds a new request at time t, where t represents some time in milliseconds, and returns the number of requests that has happened in the past 3000 milliseconds (including the new request). Specifically, return the number of requests that have happened in the inclusive range [t - 3000, t].  \n",
    "It is guaranteed that every call to ping uses a strictly larger value of t than the previous call.\n",
    "\n",
    "Example 1:  \n",
    "Input  \n",
    "[\"RecentCounter\", \"ping\", \"ping\", \"ping\", \"ping\"]  \n",
    "[[], [1], [100], [3001], [3002]]  \n",
    "Output  \n",
    "[null, 1, 2, 3, 3]  \n",
    "  \n",
    "Explanation  \n",
    "RecentCounter recentCounter = new RecentCounter();  \n",
    "recentCounter.ping(1);     // requests = [1], range is [-2999,1], return 1  \n",
    "recentCounter.ping(100);   // requests = [1, 100], range is [-2900,100], return 2  \n",
    "recentCounter.ping(3001);  // requests = [1, 100, 3001], range is [1,3001], return 3  \n",
    "recentCounter.ping(3002);  // requests = [1, 100, 3001, 3002], range is [2,3002], return 3  \n",
    "\n",
    "Constraints:  \n",
    "1 <= t <= 104  \n",
    "Each test case will call ping with strictly increasing values of t  \n",
    "At most 104 calls will be made to ping.\n",
    "\n",
    "### Idea:\n",
    "- Solution 1: Binary Search, bisect.bisect.left\n",
    "- Solution 2: deque,deque.popleft(), as append as delete"
   ]
  },
  {
   "cell_type": "code",
   "execution_count": null,
   "metadata": {},
   "outputs": [],
   "source": [
    "class RecentCounter:\n",
    "\n",
    "    def __init__(self):\n",
    "        self.pingList = []\n",
    "\n",
    "    def ping(self, t: int) -> int:\n",
    "        self.pingList.append(t)\n",
    "        cur_pos = len(self.pingList)\n",
    "        prev_pos = bisect.bisect_left(self.pingList,t-3000)\n",
    "        return cur_pos - prev_pos\n",
    "                \n",
    "\n",
    "\n",
    "# Your RecentCounter object will be instantiated and called as such:\n",
    "# obj = RecentCounter()\n",
    "# param_1 = obj.ping(t)"
   ]
  },
  {
   "cell_type": "code",
   "execution_count": null,
   "metadata": {},
   "outputs": [],
   "source": [
    "class RecentCounter:\n",
    "\n",
    "    def __init__(self):\n",
    "        self.que = collections.deque()\n",
    "\n",
    "    def ping(self, t: int) -> int:\n",
    "        self.que.append(t)\n",
    "        while self.que[0] < (t-3000):\n",
    "            self.que.popleft()\n",
    "        return len(self.que)"
   ]
  },
  {
   "cell_type": "markdown",
   "metadata": {},
   "source": [
    "# 2. Combination Sum\n",
    "\n",
    "Given an array of distinct integers candidates and a target integer target, return a list of all unique combinations of candidates where the chosen numbers sum to target. You may return the combinations in any order.\n",
    "\n",
    "The same number may be chosen from candidates an unlimited number of times. Two combinations are unique if the frequency of at least one of the chosen numbers is different.\n",
    "\n",
    "Example 1:  \n",
    "Input: candidates = [2,3,6,7], target = 7  \n",
    "Output: [[2,2,3],[7]]  \n",
    "Explanation:  \n",
    "2 and 3 are candidates, and 2 + 2 + 3 = 7. Note that 2 can be used multiple times.  \n",
    "7 is a candidate, and 7 = 7.  \n",
    "These are the only two combinations.  \n",
    "\n",
    "Example 2:  \n",
    "Input: candidates = [2,3,5], target = 8  \n",
    "Output: [[2,2,2,2],[2,3,3],[3,5]]  \n",
    "\n",
    "Example 3:   \n",
    "Input: candidates = [2], target = 1  \n",
    "Output: []  \n",
    "\n",
    "Example 4:  \n",
    "Input: candidates = [1], target = 1  \n",
    "Output: [[1]] \n",
    "\n",
    "Example 5:  \n",
    "Input: candidates = [1], target = 2  \n",
    "Output: [[1,1]]\n",
    "\n",
    "### Idea\n",
    "- sort in ascending order\n",
    "- dfs\n",
    "    - if target=0, current list is one of the results.\n",
    "    - for loop \n",
    "        - if target < current value, break\n",
    "        - else: recursion"
   ]
  },
  {
   "cell_type": "code",
   "execution_count": 6,
   "metadata": {},
   "outputs": [
    {
     "data": {
      "text/plain": [
       "[[2, 2, 3], [7]]"
      ]
     },
     "execution_count": 6,
     "metadata": {},
     "output_type": "execute_result"
    }
   ],
   "source": [
    "def combinationSum(candidates, target):\n",
    "    candidates.sort()\n",
    "    res = []\n",
    "    n = len(candidates)\n",
    "    \n",
    "    def dfs(target,start,vlist):\n",
    "        if target == 0:\n",
    "            res.append(vlist)\n",
    "        for i in range(start,n):\n",
    "            if target < candidates[i]:\n",
    "                break\n",
    "            else:\n",
    "                dfs(target-candidates[i],i,vlist+[candidates[i]])\n",
    "    dfs(target,0,[])\n",
    "    return res\n",
    "\n",
    "candidates = [2,3,6,7]\n",
    "target = 7   \n",
    "combinationSum(candidates, target)"
   ]
  },
  {
   "cell_type": "markdown",
   "metadata": {},
   "source": [
    "# 3. K-diff Pairs in an Array\n",
    "\n",
    "Given an array of integers nums and an integer k, return the number of unique k-diff pairs in the array.  \n",
    "A k-diff pair is an integer pair (nums[i], nums[j]), where the following are true:  \n",
    "0 <= i, j < nums.length  \n",
    "i != j  \n",
    "a <= b  \n",
    "b - a == k  \n",
    "\n",
    "Example 1:  \n",
    "Input: nums = [3,1,4,1,5], k = 2  \n",
    "Output: 2  \n",
    "Explanation: There are two 2-diff pairs in the array, (1, 3) and (3, 5).  \n",
    "Although we have two 1s in the input, we should only return the number of unique pairs.\n",
    "\n",
    "Example 2:  \n",
    "Input: nums = [1,2,3,4,5], k = 1  \n",
    "Output: 4  \n",
    "Explanation: There are four 1-diff pairs in the array, (1, 2), (2, 3), (3, 4) and (4, 5). \n",
    "\n",
    "Example 3:  \n",
    "Input: nums = [1,3,1,5,4], k = 0  \n",
    "Output: 1  \n",
    "Explanation: There is one 0-diff pair in the array, (1, 1).  \n",
    "\n",
    "Example 4:  \n",
    "Input: nums = [1,2,4,4,3,3,0,9,2,3], k = 3  \n",
    "Output: 2, (1,4),(0,3)\n",
    "\n",
    "Example 5:  \n",
    "Input: nums = [-1,-2,-3], k = 1  \n",
    "Output: 2, (-1,-3)  \n",
    "\n",
    "Constraints:  \n",
    "1 <= nums.length <= 104  \n",
    "-107 <= nums[i] <= 107  \n",
    "0 <= k <= 107\n",
    "\n"
   ]
  },
  {
   "cell_type": "code",
   "execution_count": 18,
   "metadata": {},
   "outputs": [
    {
     "data": {
      "text/plain": [
       "1"
      ]
     },
     "execution_count": 18,
     "metadata": {},
     "output_type": "execute_result"
    },
    {
     "data": {
      "text/plain": [
       "2"
      ]
     },
     "execution_count": 18,
     "metadata": {},
     "output_type": "execute_result"
    },
    {
     "data": {
      "text/plain": [
       "4"
      ]
     },
     "execution_count": 18,
     "metadata": {},
     "output_type": "execute_result"
    },
    {
     "data": {
      "text/plain": [
       "2"
      ]
     },
     "execution_count": 18,
     "metadata": {},
     "output_type": "execute_result"
    },
    {
     "data": {
      "text/plain": [
       "2"
      ]
     },
     "execution_count": 18,
     "metadata": {},
     "output_type": "execute_result"
    }
   ],
   "source": [
    "def findPairs(nums, k: int) -> int:\n",
    "\n",
    "    #set\n",
    "    # k=0,return the number of the num of which number is more than 1\n",
    "    if k == 0:\n",
    "        import collections\n",
    "        return sum(value > 1 for value in collections.Counter(nums).values())\n",
    "    count = 0\n",
    "    nums = list(set(nums))\n",
    "    nums.sort()\n",
    "    for num in nums:\n",
    "        if (num+k) > nums[-1]:\n",
    "            break \n",
    "        if (num+k) in nums:\n",
    "            count += 1\n",
    "    return count"
   ]
  },
  {
   "cell_type": "code",
   "execution_count": 29,
   "metadata": {},
   "outputs": [
    {
     "data": {
      "text/plain": [
       "1"
      ]
     },
     "execution_count": 29,
     "metadata": {},
     "output_type": "execute_result"
    },
    {
     "data": {
      "text/plain": [
       "2"
      ]
     },
     "execution_count": 29,
     "metadata": {},
     "output_type": "execute_result"
    },
    {
     "data": {
      "text/plain": [
       "4"
      ]
     },
     "execution_count": 29,
     "metadata": {},
     "output_type": "execute_result"
    },
    {
     "data": {
      "text/plain": [
       "2"
      ]
     },
     "execution_count": 29,
     "metadata": {},
     "output_type": "execute_result"
    },
    {
     "data": {
      "text/plain": [
       "2"
      ]
     },
     "execution_count": 29,
     "metadata": {},
     "output_type": "execute_result"
    }
   ],
   "source": [
    "def findPairs(nums, k: int) -> int:\n",
    "    if k == 0:\n",
    "        import collections\n",
    "        return sum(value > 1 for value in collections.Counter(nums).values())\n",
    "    return len(set([num+k for num in nums]) & set(nums))\n",
    "\n",
    "    \n",
    "nums = [1,3,1,5,4];k = 0 #1\n",
    "findPairs(nums, k)\n",
    "nums = [3,1,4,1,5]; k = 2 #2\n",
    "findPairs(nums, k)\n",
    "nums = [1,2,3,4,5]; k = 1 #4\n",
    "findPairs(nums, k)\n",
    "nums = [1,2,4,4,3,3,0,9,2,3]; k = 3 #2\n",
    "findPairs(nums, k)\n",
    "nums = [-1,-2,-3]; k = 1 #2\n",
    "findPairs(nums, k)"
   ]
  },
  {
   "cell_type": "markdown",
   "metadata": {},
   "source": [
    "# 3. Remove Covered Intervals\n",
    "Given a list of intervals, remove all intervals that are covered by another interval in the list.  \n",
    "Interval [a,b) is covered by interval [c,d) if and only if c <= a and b <= d.   \n",
    "After doing so, return the number of remaining intervals.  \n",
    "\n",
    "Example 1:  \n",
    "Input: intervals = [[1,4],[3,6],[2,8]]  \n",
    "Output: 2  \n",
    "Explanation: Interval [3,6] is covered by [2,8], therefore it is removed.\n",
    "\n",
    "Example 2:  \n",
    "Input: intervals = [[1,4],[2,3]]  \n",
    "Output: 1  \n",
    "\n",
    "Example 3:  \n",
    "Input: intervals = [[0,10],[5,12]]  \n",
    "Output: 2\n",
    "\n",
    "Example 4:  \n",
    "Input: intervals = [[3,10],[4,10],[5,11]]  \n",
    "Output: 2\n",
    "\n",
    "Example 5:  \n",
    "Input: intervals = [[1,2],[1,4],[3,4]]   \n",
    "Output: 1\n",
    "\n",
    "Constraints:  \n",
    "1 <= intervals.length <= 1000  \n",
    "intervals[i].length == 2  \n",
    "0 <= intervals[i][0] < intervals[i][1] <= 10^5  \n",
    "All the intervals are unique.  \n",
    "\n",
    "Hide Hint #1: How to check if an interval is covered by another?  \n",
    "Hide Hint #2: Compare each interval to all others and check if it is covered by any interval.\n",
    "\n",
    "### Idea:\n",
    "1. sort() to satisfy the left boundary in increasing order.\n",
    "2. compare the right boudary of the next one to the current one\n",
    "    - if satisfying: count+= 1  \n",
    "    - else: update the right boudary"
   ]
  },
  {
   "cell_type": "code",
   "execution_count": 18,
   "metadata": {},
   "outputs": [],
   "source": [
    "def removeCoveredIntervals(intervals) -> int:\n",
    "    #Interval [a,b) is covered by interval [c,d) if and only if c <= a and b <= d.\n",
    "    result = set()\n",
    "    intervals.sort(key=lambda x:(x[0],-x[1]))\n",
    "    print(intervals)\n",
    "    for i in range(len(intervals)):\n",
    "        for j in range(i+1,len(intervals)):\n",
    "            if j not in result and intervals[i][1] >= intervals[j][1]:\n",
    "                result.add(j)\n",
    "    return len(intervals)-len(result)"
   ]
  },
  {
   "cell_type": "code",
   "execution_count": 19,
   "metadata": {},
   "outputs": [
    {
     "name": "stdout",
     "output_type": "stream",
     "text": [
      "[[1, 4], [2, 8], [3, 6]]\n"
     ]
    },
    {
     "data": {
      "text/plain": [
       "2"
      ]
     },
     "execution_count": 19,
     "metadata": {},
     "output_type": "execute_result"
    },
    {
     "name": "stdout",
     "output_type": "stream",
     "text": [
      "[[1, 4], [2, 3]]\n"
     ]
    },
    {
     "data": {
      "text/plain": [
       "1"
      ]
     },
     "execution_count": 19,
     "metadata": {},
     "output_type": "execute_result"
    },
    {
     "name": "stdout",
     "output_type": "stream",
     "text": [
      "[[0, 10], [5, 12]]\n"
     ]
    },
    {
     "data": {
      "text/plain": [
       "2"
      ]
     },
     "execution_count": 19,
     "metadata": {},
     "output_type": "execute_result"
    },
    {
     "name": "stdout",
     "output_type": "stream",
     "text": [
      "[[3, 10], [4, 10], [5, 11]]\n"
     ]
    },
    {
     "data": {
      "text/plain": [
       "2"
      ]
     },
     "execution_count": 19,
     "metadata": {},
     "output_type": "execute_result"
    },
    {
     "name": "stdout",
     "output_type": "stream",
     "text": [
      "[[1, 4], [1, 2], [3, 4]]\n"
     ]
    },
    {
     "data": {
      "text/plain": [
       "1"
      ]
     },
     "execution_count": 19,
     "metadata": {},
     "output_type": "execute_result"
    }
   ],
   "source": [
    "intervals = [[1,4],[3,6],[2,8]]\n",
    "removeCoveredIntervals(intervals)\n",
    "intervals = [[1,4],[2,3]]\n",
    "removeCoveredIntervals(intervals)\n",
    "intervals = [[0,10],[5,12]]\n",
    "removeCoveredIntervals(intervals)\n",
    "intervals = [[3,10],[4,10],[5,11]]\n",
    "removeCoveredIntervals(intervals)\n",
    "intervals = [[1,2],[1,4],[3,4]]\n",
    "removeCoveredIntervals(intervals)"
   ]
  },
  {
   "cell_type": "code",
   "execution_count": 15,
   "metadata": {},
   "outputs": [],
   "source": [
    "def removeCoveredIntervals(intervals) -> int:\n",
    "    if len(intervals) == 0:\n",
    "        return 0\n",
    "\n",
    "    intervals.sort(key=lambda iv: (iv[0], -iv[1]))\n",
    "\n",
    "    numRemoved = 0\n",
    "    currEnd = intervals[0][1]\n",
    "    for i in range(1, len(intervals)):\n",
    "        if intervals[i][1] <= currEnd:\n",
    "            numRemoved += 1\n",
    "        else:\n",
    "            currEnd = intervals[i][1] #update the right boundary of the intervals, one more loop is not necessary\n",
    "\n",
    "    return len(intervals) - numRemoved"
   ]
  },
  {
   "cell_type": "markdown",
   "metadata": {},
   "source": [
    "# 5. Complement of Base 10 Integer\n",
    "\n",
    "Every non-negative integer N has a binary representation.  For example, 5 can be represented as \"101\" in binary, 11 as \"1011\" in binary, and so on.  Note that except for N = 0, there are no leading zeroes in any binary representation.  \n",
    "The complement of a binary representation is the number in binary you get when changing every 1 to a 0 and 0 to a 1.  For example, the complement of \"101\" in binary is \"010\" in binary.  \n",
    "For a given number N in base-10, return the complement of it's binary representation as a base-10 integer.\n",
    "\n",
    "Example 1:  \n",
    "Input: 5  \n",
    "Output: 2  \n",
    "Explanation: 5 is \"101\" in binary, with complement \"010\" in binary, which is 2 in base-10.\n",
    "\n",
    "Example 2:  \n",
    "Input: 7  \n",
    "Output: 0   \n",
    "Explanation: 7 is \"111\" in binary, with complement \"000\" in binary, which is 0 in base-10.  \n",
    "\n",
    "Example 3:  \n",
    "Input: 10  \n",
    "Output: 5  \n",
    "Explanation: 10 is \"1010\" in binary, with complement \"0101\" in binary, which is 5 in base-10.\n",
    " \n",
    "Note:  \n",
    "0 <= N < 10^9  \n",
    "This question is the same as 476: https://leetcode.com/problems/number-complement/  \n",
    "\n",
    "Hint #1: A binary number plus its complement will equal 111....111 in binary. Also, N = 0 is a corner case."
   ]
  },
  {
   "cell_type": "code",
   "execution_count": 20,
   "metadata": {},
   "outputs": [],
   "source": [
    "def bitwiseComplement(N: int) -> int:\n",
    "    if N == 0:\n",
    "        return 0\n",
    "    binString = bin(N)[2:]\n",
    "    newString = ''\n",
    "    for i in range(len(binString)):\n",
    "        newString += str(1 - int(binString[i]))\n",
    "    return int(newString,2)"
   ]
  },
  {
   "cell_type": "code",
   "execution_count": 21,
   "metadata": {},
   "outputs": [
    {
     "data": {
      "text/plain": [
       "2"
      ]
     },
     "execution_count": 21,
     "metadata": {},
     "output_type": "execute_result"
    },
    {
     "data": {
      "text/plain": [
       "0"
      ]
     },
     "execution_count": 21,
     "metadata": {},
     "output_type": "execute_result"
    },
    {
     "data": {
      "text/plain": [
       "5"
      ]
     },
     "execution_count": 21,
     "metadata": {},
     "output_type": "execute_result"
    }
   ],
   "source": [
    "bitwiseComplement(5) #101, 1000 - 101 - 001, 8-5-1 \n",
    "bitwiseComplement(7) # 8-7-1\n",
    "bitwiseComplement(10) # 16-10-1"
   ]
  },
  {
   "cell_type": "code",
   "execution_count": null,
   "metadata": {},
   "outputs": [],
   "source": [
    "def bitwiseComplement(N: int) -> int:\n",
    "    if N == 0:\n",
    "        return 1\n",
    "\n",
    "    maxx = 1\n",
    "    while maxx <= N:\n",
    "        maxx= maxx *2\n",
    "    return(maxx-N-1)"
   ]
  },
  {
   "cell_type": "markdown",
   "metadata": {},
   "source": [
    "# 6. Insert into a Binary Search Tree\n",
    "\n",
    "You are given the root node of a binary search tree (BST) and a value to insert into the tree. Return the root node of the BST after the insertion. It is guaranteed that the new value does not exist in the original BST.  \n",
    "Notice that there may exist multiple valid ways for the insertion, as long as the tree remains a BST after insertion. You can return any of them.  \n",
    "\n",
    "Example 1:  \n",
    "Input: root = [4,2,7,1,3], val = 5  \n",
    "Output: [4,2,7,1,3,5]  \n",
    "Explanation: Another accepted tree is:\n",
    "\n",
    "Example 2:  \n",
    "Input: root = [40,20,60,10,30,50,70], val = 25  \n",
    "Output: [40,20,60,10,30,50,70,null,null,25] \n",
    " \n",
    "Example 3:  \n",
    "Input: root = [4,2,7,1,3,null,null,null,null,null,null], val = 5  \n",
    "Output: [4,2,7,1,3,5]  \n",
    " \n",
    "Constraints:  \n",
    "The number of nodes in the tree will be in the range [0, 104].  \n",
    "-108 <= Node.val <= 108  \n",
    "All the values Node.val are unique.  \n",
    "-108 <= val <= 108  \n",
    "It's guaranteed that val does not exist in the original BST.\n",
    "\n",
    "### Idea - recursion"
   ]
  },
  {
   "cell_type": "code",
   "execution_count": null,
   "metadata": {},
   "outputs": [],
   "source": [
    "# Definition for a binary tree node.\n",
    "# class TreeNode:\n",
    "#     def __init__(self, val=0, left=None, right=None):\n",
    "#         self.val = val\n",
    "#         self.left = left\n",
    "#         self.right = right\n",
    "class Solution:\n",
    "    def insertIntoBST(self, root: TreeNode, val: int) -> TreeNode:\n",
    "        if not root:\n",
    "            node = TreeNode(val)\n",
    "            return node\n",
    "        if val < root.val:\n",
    "            if not root.left:\n",
    "                node = TreeNode(val)\n",
    "                root.left = node\n",
    "            else:\n",
    "                self.insertIntoBST(root.left,val)\n",
    "        else:\n",
    "            if not root.right:\n",
    "                node = TreeNode(val)\n",
    "                root.right = node\n",
    "            else:\n",
    "                self.insertIntoBST(root.right,val)\n",
    "        return root"
   ]
  },
  {
   "cell_type": "code",
   "execution_count": null,
   "metadata": {},
   "outputs": [],
   "source": [
    "# Definition for a binary tree node.\n",
    "# class TreeNode:\n",
    "#     def __init__(self, val=0, left=None, right=None):\n",
    "#         self.val = val\n",
    "#         self.left = left\n",
    "#         self.right = right\n",
    "class Solution:\n",
    "    def insertIntoBST(self, root: TreeNode, val: int) -> TreeNode:\n",
    "        if not root:\n",
    "            return TreeNode(val)\n",
    "        if val < root.val:\n",
    "            root.left = self.insertIntoBST(root.left,val)\n",
    "        else:\n",
    "            root.right = self.insertIntoBST(root.right,val)\n",
    "        return root"
   ]
  },
  {
   "cell_type": "markdown",
   "metadata": {},
   "source": [
    "# 7. Rotate List\n",
    "\n",
    "Given a linked list, rotate the list to the right by k places, where k is non-negative.\n",
    "\n",
    "Example 1:  \n",
    "Input: 1->2->3->4->5->NULL, k = 2  \n",
    "Output: 4->5->1->2->3->NULL  \n",
    "Explanation:  \n",
    "rotate 1 steps to the right: 5->1->2->3->4->NULL  \n",
    "rotate 2 steps to the right: 4->5->1->2->3->NULL  \n",
    "\n",
    "Example 2:  \n",
    "Input: 0->1->2->NULL, k = 4  \n",
    "Output: 2->0->1->NULL  \n",
    "Explanation:  \n",
    "rotate 1 steps to the right: 2->0->1->NULL  \n",
    "rotate 2 steps to the right: 1->2->0->NULL  \n",
    "rotate 3 steps to the right: 0->1->2->NULL  \n",
    "rotate 4 steps to the right: 2->0->1->NULL  "
   ]
  },
  {
   "cell_type": "code",
   "execution_count": null,
   "metadata": {},
   "outputs": [],
   "source": [
    "def rotateRight(self, head: ListNode, k: int) -> ListNode:\n",
    "    # case1: len(linked list) = 0 or 1\n",
    "    if head is None or head.next is None:\n",
    "        return head\n",
    "    \n",
    "    # get the len(linked list)\n",
    "    n = 0\n",
    "    p = head\n",
    "    while p:\n",
    "        n += 1\n",
    "        p = p.next\n",
    "    k = k % n\n",
    "    \n",
    "    # case2: mod of len = 0\n",
    "    if k == 0:\n",
    "        return head\n",
    "    \n",
    "    # case 3:\n",
    "    p1, p2 = head, head\n",
    "    for i in range(k):\n",
    "        p2 = p2.next\n",
    "    while p2 and p2.next:\n",
    "        p1 = p1.next \n",
    "        p2 = p2.next\n",
    "    \n",
    "    output = p1.next\n",
    "    p1.next = None\n",
    "    p2.next = head"
   ]
  },
  {
   "cell_type": "markdown",
   "metadata": {},
   "source": [
    "# 8. Binary Search\n",
    "\n",
    "Given a sorted (in ascending order) integer array nums of n elements and a target value, write a function to search target in nums. If target exists, then return its index, otherwise return -1.\n",
    "\n",
    "Example 1:  \n",
    "Input: nums = [-1,0,3,5,9,12], target = 9  \n",
    "Output: 4  \n",
    "Explanation: 9 exists in nums and its index is 4  \n",
    "\n",
    "Example 2:  \n",
    "Input: nums = [-1,0,3,5,9,12], target = 2  \n",
    "Output: -1  \n",
    "Explanation: 2 does not exist in nums so return -1\n",
    " \n",
    "Note:  \n",
    "You may assume that all elements in nums are unique.  \n",
    "n will be in the range [1, 10000].  \n",
    "The value of each element in nums will be in the range [-9999, 9999]."
   ]
  },
  {
   "cell_type": "code",
   "execution_count": 3,
   "metadata": {},
   "outputs": [],
   "source": [
    "def search(nums, target) -> int:\n",
    "    nums.sort()\n",
    "    l, r = 0, len(nums)-1\n",
    "    if target not in nums:\n",
    "        return -1\n",
    "    while l <= r:\n",
    "        mid = (l+r) // 2\n",
    "        if target == nums[mid]:\n",
    "            return mid\n",
    "        elif target < nums[mid]:\n",
    "            r = mid - 1\n",
    "        else:\n",
    "            l = mid + 1"
   ]
  },
  {
   "cell_type": "code",
   "execution_count": 4,
   "metadata": {},
   "outputs": [
    {
     "data": {
      "text/plain": [
       "4"
      ]
     },
     "execution_count": 4,
     "metadata": {},
     "output_type": "execute_result"
    },
    {
     "data": {
      "text/plain": [
       "-1"
      ]
     },
     "execution_count": 4,
     "metadata": {},
     "output_type": "execute_result"
    }
   ],
   "source": [
    "nums = [-1,0,3,5,9,12] \n",
    "target = 9\n",
    "search(nums, target) #4\n",
    "\n",
    "nums = [-1,0,3,5,9,12]; target = 2\n",
    "search(nums, target) #-1"
   ]
  },
  {
   "cell_type": "markdown",
   "metadata": {},
   "source": [
    "# 9. Serialize and Deserialize BST\n",
    "\n",
    "Serialization is converting a data structure or object into a sequence of bits so that it can be stored in a file or memory buffer, or transmitted across a network connection link to be reconstructed later in the same or another computer environment.\n",
    "\n",
    "Design an algorithm to serialize and deserialize a binary search tree. There is no restriction on how your serialization/deserialization algorithm should work. You need to ensure that a binary search tree can be serialized to a string, and this string can be deserialized to the original tree structure.\n",
    "\n",
    "The encoded string should be as compact as possible.\n",
    "\n",
    "Example 1:  \n",
    "Input: root = [2,1,3]  \n",
    "Output: [2,1,3]  \n",
    "\n",
    "Example 2:  \n",
    "Input: root = []  \n",
    "Output: []\n",
    " \n",
    "Constraints:  \n",
    "The number of nodes in the tree is in the range [0, 104].  \n",
    "0 <= Node.val <= 104  \n",
    "The input tree is guaranteed to be a binary search tree."
   ]
  },
  {
   "cell_type": "code",
   "execution_count": null,
   "metadata": {},
   "outputs": [],
   "source": [
    "# Definition for a binary tree node.\n",
    "# class TreeNode:\n",
    "#     def __init__(self, x):\n",
    "#         self.val = x\n",
    "#         self.left = None\n",
    "#         self.right = None\n",
    "\n",
    "class Codec:\n",
    "\n",
    "    def serialize(self, root: TreeNode) -> str:\n",
    "        \"\"\"Encodes a tree to a single string.\n",
    "        \"\"\"\n",
    "        vals = []\n",
    "        def preOrder(root):\n",
    "            if root:\n",
    "                vals.append(root.val)\n",
    "                preOrder(root.left)\n",
    "                preOrder(root.right)\n",
    "        preOrder(root)\n",
    "        return ' '.join(map(str, vals))\n",
    "\n",
    "    def deserialize(self, data: str) -> TreeNode:\n",
    "        \"\"\"Decodes your encoded data to tree.\n",
    "        \"\"\"\n",
    "        vals = collections.deque([int(val) for val in data.split()])\n",
    "        \n",
    "        def buildTree(vals, minVal, maxVal):\n",
    "            while vals and minVal < vals[0] < maxVal:\n",
    "                val = vals.popleft()\n",
    "                root = TreeNode(val)\n",
    "                root.left = buildTree(vals, minVal, val)\n",
    "                root.right = buildTree(vals, val, maxVal)\n",
    "                return root\n",
    "        return buildTree(vals, float('-inf'), float('inf'))\n",
    "            \n",
    "        \n",
    "\n",
    "# Your Codec object will be instantiated and called as such:\n",
    "# Your Codec object will be instantiated and called as such:\n",
    "# ser = Codec()\n",
    "# deser = Codec()\n",
    "# tree = ser.serialize(root)\n",
    "# ans = deser.deserialize(tree)\n",
    "# return ans"
   ]
  },
  {
   "cell_type": "markdown",
   "metadata": {},
   "source": [
    "# 10. Minimum Number of Arrows to Burst Balloons\n",
    "\n",
    "There are some spherical balloons spread in two-dimensional space. For each balloon, provided input is the start and end coordinates of the horizontal diameter. Since it's horizontal, y-coordinates don't matter, and hence the x-coordinates of start and end of the diameter suffice. The start is always smaller than the end.\n",
    "\n",
    "An arrow can be shot up exactly vertically from different points along the x-axis. A balloon with xstart and xend bursts by an arrow shot at x if xstart ≤ x ≤ xend. There is no limit to the number of arrows that can be shot. An arrow once shot keeps traveling up infinitely.\n",
    "\n",
    "Given an array points where points[i] = [xstart, xend], return the minimum number of arrows that must be shot to burst all balloons.\n",
    "\n",
    "Example 1:  \n",
    "Input: points = [[10,16],[2,8],[1,6],[7,12]]\n",
    "insection set: [2,6],[10,12]\n",
    "Output: 2  \n",
    "Explanation: One way is to shoot one arrow for example at x = 6 (bursting the balloons [2,8] and [1,6]) and another arrow at x = 11 (bursting the other two balloons).\n",
    "\n",
    "Example 2:  \n",
    "Input: points = [[1,2],[3,4],[5,6],[7,8]]  \n",
    "Output: 4\n",
    "\n",
    "Example 3:  \n",
    "Input: points = [[1,2],[2,3],[3,4],[4,5]]  \n",
    "Output: 2\n",
    "\n",
    "Example 4:  \n",
    "Input: points = [[1,2]]  \n",
    "Output: 1\n",
    "\n",
    "Example 5:  \n",
    "Input: points = [[2,3],[2,3]]  \n",
    "Output: 1\n",
    "\n",
    "### Idea: - 贪心算法(区间重叠情况)\n",
    "- sorting of right boundary of intervals in acsending order\n",
    "- compare the right boundary, count, and update the right boudary"
   ]
  },
  {
   "cell_type": "code",
   "execution_count": 8,
   "metadata": {},
   "outputs": [],
   "source": [
    "def findMinArrowShots(points) -> int:\n",
    "    if not points:\n",
    "        return 0\n",
    "    \n",
    "    points.sort(key=lambda x:x[1])\n",
    "    cur_position = points[0][1]\n",
    "    ans = 1\n",
    "    for i in range(1,len(points)):\n",
    "        if cur_position >= points[i][0]:\n",
    "            continue\n",
    "            \n",
    "        cur_position = points[i][1]\n",
    "        ans += 1\n",
    "        \n",
    "    return ans"
   ]
  },
  {
   "cell_type": "code",
   "execution_count": 9,
   "metadata": {},
   "outputs": [
    {
     "data": {
      "text/plain": [
       "2"
      ]
     },
     "execution_count": 9,
     "metadata": {},
     "output_type": "execute_result"
    },
    {
     "data": {
      "text/plain": [
       "4"
      ]
     },
     "execution_count": 9,
     "metadata": {},
     "output_type": "execute_result"
    },
    {
     "data": {
      "text/plain": [
       "2"
      ]
     },
     "execution_count": 9,
     "metadata": {},
     "output_type": "execute_result"
    }
   ],
   "source": [
    "points = [[10,16],[2,8],[1,6],[7,12]]  #2\n",
    "findMinArrowShots(points)\n",
    "points = [[1,2],[3,4],[5,6],[7,8]]  #4\n",
    "findMinArrowShots(points)\n",
    "points = [[1,2],[2,3],[3,4],[4,5]]  #2\n",
    "findMinArrowShots(points)"
   ]
  },
  {
   "cell_type": "markdown",
   "metadata": {},
   "source": [
    "# 11. Remove Duplicate Letters\n",
    "\n",
    "Given a string s, remove duplicate letters so that every letter appears once and only once. You must make sure your result is the smallest in lexicographical order among all possible results.\n",
    "\n",
    "Note: This question is the same as 1081: https://leetcode.com/problems/smallest-subsequence-of-distinct-characters/\n",
    "\n",
    "Example 1:  \n",
    "Input: s = \"bcabc\"  \n",
    "Output: \"abc\"\n",
    "\n",
    "Example 2:  \n",
    "Input: s = \"cbacdcbc\"  \n",
    "Output: \"acdb\"  \n",
    " \n",
    "Constraints:  \n",
    "1 <= s.length <= 104  \n",
    "s consists of lowercase English letters.\n",
    "\n",
    "Hint #1   \n",
    "Greedily try to add one missing character. How to check if adding some character will not cause problems ? Use bit-masks to check whether you will be able to complete the sub-sequence if you add the character at some index i."
   ]
  },
  {
   "cell_type": "code",
   "execution_count": null,
   "metadata": {},
   "outputs": [],
   "source": [
    "def removeDuplicateLetters(s: str) -> str:\n",
    "    "
   ]
  },
  {
   "cell_type": "code",
   "execution_count": 38,
   "metadata": {},
   "outputs": [
    {
     "data": {
      "text/plain": [
       "'abcd'"
      ]
     },
     "execution_count": 38,
     "metadata": {},
     "output_type": "execute_result"
    }
   ],
   "source": [
    "s = \"cbacdcbc\" \n",
    "s = sorted(list(set(s)))\n",
    "''.join(s)"
   ]
  },
  {
   "cell_type": "markdown",
   "metadata": {},
   "source": [
    "# 1081. Smallest Subsequence of Distinct Characters\n",
    "\n",
    "Return the lexicographically smallest subsequence of s that contains all the distinct characters of s exactly once.  \n",
    "Note: This question is the same as 316: https://leetcode.com/problems/remove-duplicate-letters/\n",
    "\n",
    "Example 1:  \n",
    "Input: s = \"bcabc\"  \n",
    "Output: \"abc\" \n",
    "\n",
    "Example 2:  \n",
    "Input: s = \"cbacdcbc\"  \n",
    "Output: \"acdb\"\n",
    "\n",
    "#### Idea:\n",
    "- Counter(): recored # of each char\n",
    "- one judging condition: whether it is the last in the str or not\n",
    "- stack[]\n",
    "\n",
    "1. 如果在栈中，count-1，continue\n",
    "2. 如果不在栈中，只要当前栈不为空 且char比栈顶小，且栈顶在后面还存在，pop()，添加当前char，count-1\n",
    "3. 最后join()输出结果"
   ]
  },
  {
   "cell_type": "code",
   "execution_count": 67,
   "metadata": {},
   "outputs": [
    {
     "name": "stdout",
     "output_type": "stream",
     "text": [
      "['c']\n",
      "['b']\n",
      "['a']\n",
      "['a', 'c']\n",
      "['a', 'c', 'd']\n",
      "['a', 'c', 'd', 'b']\n"
     ]
    },
    {
     "data": {
      "text/plain": [
       "'acdb'"
      ]
     },
     "execution_count": 67,
     "metadata": {},
     "output_type": "execute_result"
    },
    {
     "name": "stdout",
     "output_type": "stream",
     "text": [
      "['b']\n",
      "['b', 'c']\n",
      "['b', 'c', 'a']\n"
     ]
    },
    {
     "data": {
      "text/plain": [
       "'bca'"
      ]
     },
     "execution_count": 67,
     "metadata": {},
     "output_type": "execute_result"
    }
   ],
   "source": [
    "def smallestSubsequence(s: str) -> str:\n",
    "    import collections\n",
    "    d = collections.Counter(s)\n",
    "    stack = []\n",
    "    for char in s:\n",
    "        if char in stack:\n",
    "            d[char] -= 1\n",
    "            continue\n",
    "        else:\n",
    "            while stack and stack[-1] > char and d[stack[-1]] > 0 :\n",
    "                stack.pop()\n",
    "            stack.append(char)\n",
    "            print(stack)\n",
    "            d[char] -= 1\n",
    "    return ''.join(stack)    \n",
    "            \n",
    "\n",
    "s = \"cbacdcbc\"  \n",
    "smallestSubsequence(s)\n",
    "s = \"bcbcbcababa\"\n",
    "smallestSubsequence(s)"
   ]
  },
  {
   "cell_type": "markdown",
   "metadata": {},
   "source": [
    "# 12.Buddy Strings\n",
    "Given two strings A and B of lowercase letters, return true if you can swap two letters in A so the result is equal to B, otherwise, return false.\n",
    "\n",
    "Swapping letters is defined as taking two indices i and j (0-indexed) such that i != j and swapping the characters at A[i] and A[j]. For example, swapping at indices 0 and 2 in \"abcd\" results in \"cbad\".\n",
    "\n",
    "Example 1:  \n",
    "Input: A = \"ab\", B = \"ba\"  \n",
    "Output: true  \n",
    "Explanation: You can swap A[0] = 'a' and A[1] = 'b' to get \"ba\", which is equal to B.\n",
    "\n",
    "Example 2:  \n",
    "Input: A = \"ab\", B = \"ab\"  \n",
    "Output: false  \n",
    "Explanation: The only letters you can swap are A[0] = 'a' and A[1] = 'b', which results in \"ba\" != B.\n",
    "\n",
    "Example 3:  \n",
    "Input: A = \"aa\", B = \"aa\"  \n",
    "Output: true  \n",
    "Explanation: You can swap A[0] = 'a' and A[1] = 'a' to get \"aa\", which is equal to B.\n",
    "\n",
    "Example 4:  \n",
    "Input: A = \"aaaaaaabc\", B = \"aaaaaaacb\"  \n",
    "Output: true  \n",
    "\n",
    "Example 5:  \n",
    "Input: A = \"\", B = \"aa\"  \n",
    "Output: false\n",
    "\n",
    "Constraints:  \n",
    "0 <= A.length <= 20000  \n",
    "0 <= B.length <= 20000  \n",
    "A and B consist of lowercase letters.\n",
    "\n",
    "#### Idea:\n",
    "1. length not euqal --> false\n",
    "2. length equal, # of different char not equal to 0 or 2\n",
    "3. if len(diff) = 0 and there exists duplicate char --> true\n",
    "4. if len(diff) = 2 and swap, if equals --> true"
   ]
  },
  {
   "cell_type": "code",
   "execution_count": 15,
   "metadata": {},
   "outputs": [
    {
     "data": {
      "text/plain": [
       "True"
      ]
     },
     "execution_count": 15,
     "metadata": {},
     "output_type": "execute_result"
    },
    {
     "data": {
      "text/plain": [
       "False"
      ]
     },
     "execution_count": 15,
     "metadata": {},
     "output_type": "execute_result"
    },
    {
     "data": {
      "text/plain": [
       "True"
      ]
     },
     "execution_count": 15,
     "metadata": {},
     "output_type": "execute_result"
    },
    {
     "data": {
      "text/plain": [
       "True"
      ]
     },
     "execution_count": 15,
     "metadata": {},
     "output_type": "execute_result"
    },
    {
     "data": {
      "text/plain": [
       "False"
      ]
     },
     "execution_count": 15,
     "metadata": {},
     "output_type": "execute_result"
    }
   ],
   "source": [
    "def buddyStrings(A: str, B: str) -> bool:\n",
    "    if len(A) != len(B):\n",
    "        return False\n",
    "    \n",
    "    diff = []\n",
    "    for i,char in enumerate(A):\n",
    "        if char != B[i]:\n",
    "            diff.append(i)\n",
    "            \n",
    "    if len(diff) not in [0,2]:\n",
    "        return False\n",
    "    \n",
    "    if len(diff) == 0 and len(set(A)) < len(A):\n",
    "        return True\n",
    "    \n",
    "    if len(diff) == 2:\n",
    "        A_lst = list(A)\n",
    "        A_lst[diff[0]],A_lst[diff[1]] = A_lst[diff[1]],A_lst[diff[0]]\n",
    "        if A_lst == list(B):\n",
    "            return True\n",
    "        else:\n",
    "            return False\n",
    "    return False\n",
    "\n",
    "A = \"ab\"; B = \"ba\" #t\n",
    "buddyStrings(A, B)\n",
    "A = \"ab\"; B = \"ab\" #f\n",
    "buddyStrings(A, B)\n",
    "A = \"aa\"; B = \"aa\" #t\n",
    "buddyStrings(A, B)\n",
    "A = \"aaaaaaabc\"; B = \"aaaaaaacb\" #t\n",
    "buddyStrings(A, B)\n",
    "A = \"\"; B = \"aa\" #f\n",
    "buddyStrings(A, B)"
   ]
  },
  {
   "cell_type": "code",
   "execution_count": null,
   "metadata": {},
   "outputs": [],
   "source": [
    "def buddyStrings(self, A: str, B: str) -> bool:\n",
    "    if len(A) != len(B):\n",
    "        return False\n",
    "\n",
    "    if A == B and len(set(A)) < len(A):\n",
    "        return True\n",
    "\n",
    "    diffs = [(a, b) for a, b in zip(A, B) if a!= b]\n",
    "\n",
    "    return len(diffs) == 2 and diffs[0] == diffs[1][::-1]"
   ]
  },
  {
   "cell_type": "markdown",
   "metadata": {},
   "source": [
    "# 13. Sort List\n",
    "\n",
    "Given the head of a linked list, return the list after sorting it in ascending order.  \n",
    "Follow up: Can you sort the linked list in O(n logn) time and O(1) memory (i.e. constant space)?\n",
    " \n",
    "Example 1:  \n",
    "Input: head = [4,2,1,3]  \n",
    "Output: [1,2,3,4]  \n",
    "\n",
    "Example 2:  \n",
    "Input: head = [-1,5,3,4,0]  \n",
    "Output: [-1,0,3,4,5] \n",
    "\n",
    "Example 3:  \n",
    "Input: head = []  \n",
    "Output: []  \n",
    " \n",
    "Constraints:  \n",
    "The number of nodes in the list is in the range [0, 5 * 104].  \n",
    "-105 <= Node.val <= 105"
   ]
  },
  {
   "cell_type": "code",
   "execution_count": null,
   "metadata": {},
   "outputs": [],
   "source": [
    "# Definition for singly-linked list.\n",
    "# class ListNode:\n",
    "#     def __init__(self, val=0, next=None):\n",
    "#         self.val = val\n",
    "#         self.next = next\n",
    "class Solution:\n",
    "    def sortList(head) -> ListNode:\n",
    "        if not head and not head.next:\n",
    "            return head\n",
    "        # 2 pointers\n",
    "        slow, fast = head, head\n",
    "        while fast.next and fast.next.next:\n",
    "            slow = slow.next\n",
    "            fast = fast.next.next\n",
    "        head1 = head\n",
    "        head2 = slow.next\n",
    "        slow.next = None\n",
    "        head1 = sortList(head1)\n",
    "        head2 = sortList(head2)\n",
    "        head = merge(head1,head2)\n",
    "        return head\n",
    "        \n",
    "    def merge(head1,head2):\n",
    "        if head1 == None:\n",
    "            return head2\n",
    "        if head2 == None:\n",
    "            return head1\n",
    "        #归并时，新建一个链表头结点\n",
    "        dummy = listNode(0)\n",
    "        p = dummy\n",
    "        while head1 and head2:\n",
    "            if head1.val <= head2.val:\n",
    "                p.next = head1\n",
    "                head1 = head1.next\n",
    "                p = p.next\n",
    "            if head1.val > head2.val:\n",
    "                p.next = head2\n",
    "                head2 = head2.next\n",
    "                p = p.next\n",
    "        if head1 == None:\n",
    "            p.next = head2\n",
    "        if head2 == None:\n",
    "            p.next == head1\n",
    "        return dummy.next"
   ]
  },
  {
   "cell_type": "code",
   "execution_count": null,
   "metadata": {},
   "outputs": [],
   "source": [
    "# LinkedList>>List>>sort>>LinkedList\n",
    "def sortList(self, head: ListNode) -> ListNode:\n",
    "    if not head or not head.next:\n",
    "        return head\n",
    "\n",
    "    p = head\n",
    "    node_list = []\n",
    "    while head:\n",
    "        node_list.append(head.val)\n",
    "        head = head.next\n",
    "\n",
    "    node_list.sort()\n",
    "    head = p\n",
    "    for i in node_list:\n",
    "        head.val = i\n",
    "        head = head.next\n",
    "\n",
    "    return p"
   ]
  },
  {
   "cell_type": "markdown",
   "metadata": {},
   "source": [
    "# 14. House Robber II\n",
    "\n",
    "You are a professional robber planning to rob houses along a street. Each house has a certain amount of money stashed. All houses at this place are arranged in a circle. That means the first house is the neighbor of the last one. Meanwhile, adjacent houses have a security system connected, and it will automatically contact the police if two adjacent houses were broken into on the same night.\n",
    "\n",
    "Given a list of non-negative integers nums representing the amount of money of each house, return the maximum amount of money you can rob tonight without alerting the police.\n",
    "\n",
    "Example 1:  \n",
    "Input: nums = [2,3,2]  \n",
    "Output: 3  \n",
    "Explanation: You cannot rob house 1 (money = 2) and then rob house 3 (money = 2), because they are adjacent houses. \n",
    "\n",
    "Example 2:  \n",
    "Input: nums = [1,2,3,1]  \n",
    "Output: 4  \n",
    "Explanation: Rob house 1 (money = 1) and then rob house 3 (money = 3).  \n",
    "Total amount you can rob = 1 + 3 = 4.  \n",
    "\n",
    "Example 3:  \n",
    "Input: nums = [0]  \n",
    "Output: 0  \n",
    "\n",
    "Constraints:   \n",
    "1 <= nums.length <= 100    \n",
    "0 <= nums[i] <= 1000  \n",
    "\n",
    "Hint #1    \n",
    "Since House[1] and House[n] are adjacent, they cannot be robbed together. Therefore, the problem becomes to rob either House[1]-House[n-1] or House[2]-House[n], depending on which choice offers more money. Now the problem has degenerated to the House Robber, which is already been solved.\n",
    "\n",
    "#### Idea:\n",
    "- basic DP problem, see House Robber\n",
    "- compare House[1]-House[n-1] to House[2]-House[n]"
   ]
  },
  {
   "cell_type": "code",
   "execution_count": 17,
   "metadata": {},
   "outputs": [
    {
     "data": {
      "text/plain": [
       "4"
      ]
     },
     "execution_count": 17,
     "metadata": {},
     "output_type": "execute_result"
    }
   ],
   "source": [
    "def rob(nums) -> int:\n",
    "    if len(nums) <= 3:\n",
    "        return max(nums)\n",
    "    return max(dp(nums[:-1]),dp(nums[1:]))\n",
    "\n",
    "def dp(nums):\n",
    "    dp = [0]*len(nums)\n",
    "    dp[0],dp[1] = nums[0],max(nums[0],nums[1])\n",
    "    for i in range(2,len(nums)):\n",
    "        dp[i] = max(dp[i-1],dp[i-2]+nums[i])\n",
    "    return dp[-1]\n",
    "\n",
    "nums = [1,2,3,1]\n",
    "rob(nums)"
   ]
  }
 ],
 "metadata": {
  "kernelspec": {
   "display_name": "Python 3",
   "language": "python",
   "name": "python3"
  },
  "language_info": {
   "codemirror_mode": {
    "name": "ipython",
    "version": 3
   },
   "file_extension": ".py",
   "mimetype": "text/x-python",
   "name": "python",
   "nbconvert_exporter": "python",
   "pygments_lexer": "ipython3",
   "version": "3.6.9"
  }
 },
 "nbformat": 4,
 "nbformat_minor": 2
}
